{
 "cells": [
  {
   "cell_type": "code",
   "execution_count": null,
   "id": "c3d297ae",
   "metadata": {},
   "outputs": [],
   "source": [
    "import os\n",
    "import graphistry\n",
    "import pandas as pd\n",
    "import torch.nn.functional as F\n",
    "\n",
    "from ml.dgl_utils import *\n",
    "from ml.utils import *"
   ]
  },
  {
   "cell_type": "code",
   "execution_count": null,
   "id": "0cd80288",
   "metadata": {
    "scrolled": true
   },
   "outputs": [],
   "source": [
    "import umap\n",
    "import umap.plot"
   ]
  },
  {
   "cell_type": "code",
   "execution_count": null,
   "id": "d9f0512a",
   "metadata": {},
   "outputs": [],
   "source": [
    "import logging\n",
    "logging.basicConfig()\n",
    "logger = logging.getLogger('demo')\n",
    "logger.setLevel(logging.DEBUG)"
   ]
  },
  {
   "cell_type": "code",
   "execution_count": null,
   "id": "18d0de0c",
   "metadata": {},
   "outputs": [],
   "source": [
    "def scatterplot(ux, color_labels=None):\n",
    "    #small helper viz\n",
    "    import matplotlib.pyplot as plt\n",
    "\n",
    "    plt.figure(figsize=(10, 8))\n",
    "    plt.scatter(ux.T[0], ux.T[1], c=color_labels, s=100, alpha=0.4)"
   ]
  },
  {
   "cell_type": "code",
   "execution_count": null,
   "id": "8aca0b0c",
   "metadata": {},
   "outputs": [],
   "source": []
  },
  {
   "cell_type": "code",
   "execution_count": null,
   "id": "47a958be",
   "metadata": {},
   "outputs": [],
   "source": [
    "#graphistry.register(api=3, protocol=\"https\", server=\"hub.graphistry.com\", username=\"..\", password=\"..\")\n",
    "graphistry.register(api=3, protocol=\"https\", server=\"hub.graphistry.com\", username=os.environ['USERNAME'], password=os.environ['GRAPHISTRY_PASSWORD']) "
   ]
  },
  {
   "cell_type": "markdown",
   "id": "dd1c9ead",
   "metadata": {},
   "source": [
    "# We import a subgraph from the LittleSis dataset centered around BlackRock, Inc"
   ]
  },
  {
   "cell_type": "code",
   "execution_count": null,
   "id": "9508ce68",
   "metadata": {},
   "outputs": [],
   "source": [
    "edf = pd.read_csv('data/edges_blackrock.csv', index_col=0)\n",
    "ndf = pd.read_csv('data/nodes_blackrock.csv', index_col=0)"
   ]
  },
  {
   "cell_type": "code",
   "execution_count": null,
   "id": "8f040b7e",
   "metadata": {},
   "outputs": [],
   "source": [
    "edf = edf.astype(str)\n",
    "edf = edf.drop(columns=['src', 'dst'])\n",
    "edf = edf.reset_index()\n",
    "\n",
    "ndf = ndf.astype(str)"
   ]
  },
  {
   "cell_type": "code",
   "execution_count": null,
   "id": "46cf0ded",
   "metadata": {},
   "outputs": [],
   "source": [
    "edf.index.is_unique, ndf.index.is_unique"
   ]
  },
  {
   "cell_type": "markdown",
   "id": "413261e3",
   "metadata": {},
   "source": [
    "# Explore subgraphs\n",
    "`get_graphistry_from_search` is a useful way to do fuzzy search over the dataframes to retrieve useful information"
   ]
  },
  {
   "cell_type": "code",
   "execution_count": null,
   "id": "8ee3e5fb",
   "metadata": {},
   "outputs": [],
   "source": [
    "%%timeit\n",
    "search_to_df('Bank', 'to_node', edf)"
   ]
  },
  {
   "cell_type": "code",
   "execution_count": null,
   "id": "b8ba9141",
   "metadata": {},
   "outputs": [],
   "source": [
    "# g = get_graphistry_from_search('Bank', 'to_node', 'from_node', 'Node', edf, ndf)\n",
    "# g.plot()"
   ]
  },
  {
   "cell_type": "code",
   "execution_count": null,
   "id": "0cfa09f5",
   "metadata": {},
   "outputs": [],
   "source": [
    "# g = get_graphistry_from_search('climate', 'to_node', 'from_node', 'Node', edf, ndf)\n",
    "# g.plot()"
   ]
  },
  {
   "cell_type": "markdown",
   "id": "9cf06abb",
   "metadata": {},
   "source": [
    "# Explore Milieu\n",
    "`get_graphistry_from_milieu_search` is a useful way to do fuzzy search over the dataframes to retrieve useful information over 1 and 2 connections from `search_term`"
   ]
  },
  {
   "cell_type": "code",
   "execution_count": null,
   "id": "420ef7c6",
   "metadata": {},
   "outputs": [],
   "source": [
    "# # this works much better on full LittleSis data, than just the small BlackRock sample above...\n",
    "# g = get_graphistry_from_milieu_search('meta', 'to_node', 'from_node', 'Node', edf, ndf, both=True)\n",
    "# g.plot()"
   ]
  },
  {
   "cell_type": "markdown",
   "id": "d6355d46",
   "metadata": {},
   "source": [
    "# Let's encode the graph as a DGL graph for use in Machine Learning"
   ]
  },
  {
   "cell_type": "code",
   "execution_count": null,
   "id": "c37d4f8f",
   "metadata": {},
   "outputs": [],
   "source": [
    "\n",
    "simple_target = False\n",
    "\n",
    "if simple_target:\n",
    "    # Let's explicitly make a node level target (simplified to two classes)\n",
    "    node_target = ndf.Types.apply(lambda x: x.split(',')[0])\n",
    "    node_target = pd.DataFrame({'Types': node_target.values}, index=node_target.index)\n",
    "else:\n",
    "    node_target = pd.DataFrame({'Types': ndf.Types.values}, index=ndf.index)"
   ]
  },
  {
   "cell_type": "code",
   "execution_count": null,
   "id": "4906ed97",
   "metadata": {},
   "outputs": [],
   "source": [
    "node_target"
   ]
  },
  {
   "cell_type": "code",
   "execution_count": null,
   "id": "fb3dbaa1",
   "metadata": {},
   "outputs": [],
   "source": [
    "Counter(node_target.Types)  # we have a complex/simple target defined here"
   ]
  },
  {
   "cell_type": "code",
   "execution_count": null,
   "id": "a0c9ce2a",
   "metadata": {},
   "outputs": [],
   "source": [
    "ndf.columns # not all of these are useful for building a model"
   ]
  },
  {
   "cell_type": "code",
   "execution_count": null,
   "id": "c63bf816",
   "metadata": {},
   "outputs": [],
   "source": [
    "good_node_columns = ['Node', 'link', 'Blurb', 'Summary', 'Types', 'Start date', 'Revenue',\n",
    "       'Website', 'Aliases', 'Gender', 'Birthday', 'Region',\n",
    "       'End date'] # just removed Date of Death"
   ]
  },
  {
   "cell_type": "code",
   "execution_count": null,
   "id": "9789f110",
   "metadata": {
    "scrolled": true
   },
   "outputs": [],
   "source": [
    "src, dst = 'from_node', 'to_node' #backwards due to the way we scraped the data\n",
    "node_column = 'Node'\n",
    "\n",
    "graph = BaseDGLGraphMixin()"
   ]
  },
  {
   "cell_type": "code",
   "execution_count": null,
   "id": "f276b4a6",
   "metadata": {},
   "outputs": [],
   "source": [
    "g = graph.edges(edf, src, dst).nodes(ndf, node_column)"
   ]
  },
  {
   "cell_type": "code",
   "execution_count": null,
   "id": "3a86bfdb",
   "metadata": {
    "scrolled": true
   },
   "outputs": [],
   "source": [
    "#g._convert_edgeDF_to_DGL(node_column, None) # works\n",
    "y_nodes=pd.DataFrame({'Types': ndf.Types.values}, index=ndf.index)\n",
    "y_edges=pd.DataFrame({'relationship_type': edf.relationship_type.values}, index=edf.index)"
   ]
  },
  {
   "cell_type": "code",
   "execution_count": null,
   "id": "12d9a632",
   "metadata": {
    "scrolled": false
   },
   "outputs": [],
   "source": [
    "g.build_dgl_graph(node_column, y_nodes=y_nodes, y_edges=y_edges, use_node_columns=good_node_columns)#runs entire pipeline"
   ]
  },
  {
   "cell_type": "code",
   "execution_count": null,
   "id": "8b6a316f",
   "metadata": {},
   "outputs": [],
   "source": [
    "g._MASK"
   ]
  },
  {
   "cell_type": "code",
   "execution_count": null,
   "id": "1962e9e7",
   "metadata": {},
   "outputs": [],
   "source": [
    "# now we have a DGL graph with ndata and edata built via our featurization tools\n",
    "g.DGL_graph"
   ]
  },
  {
   "cell_type": "code",
   "execution_count": null,
   "id": "a79f2ff1",
   "metadata": {},
   "outputs": [],
   "source": [
    "g2 = g.umap(kind='nodes', y=g.node_target.values.argmax(1))"
   ]
  },
  {
   "cell_type": "code",
   "execution_count": null,
   "id": "bd4789a2",
   "metadata": {},
   "outputs": [],
   "source": [
    "g.node_target"
   ]
  },
  {
   "cell_type": "code",
   "execution_count": null,
   "id": "2e5d76f5",
   "metadata": {},
   "outputs": [],
   "source": [
    "umap.plot.points(g, theme='fire', labels=g.node_target.values.argmax(1))"
   ]
  },
  {
   "cell_type": "code",
   "execution_count": null,
   "id": "f3df9bc0",
   "metadata": {},
   "outputs": [],
   "source": [
    "edf.relationship_type[g._MASK]"
   ]
  },
  {
   "cell_type": "code",
   "execution_count": null,
   "id": "8e75bc16",
   "metadata": {},
   "outputs": [],
   "source": [
    "g3 = g.umap(kind='edges', y = g.edge_target.values.argmax(1))"
   ]
  },
  {
   "cell_type": "code",
   "execution_count": null,
   "id": "f02136f4",
   "metadata": {},
   "outputs": [],
   "source": [
    "umap.plot.points(g3, theme='fire', labels=g.edge_target.values.argmax(1))#, labels=edf.relationship_type[g._MASK])"
   ]
  },
  {
   "cell_type": "code",
   "execution_count": null,
   "id": "e8b3ef96",
   "metadata": {},
   "outputs": [],
   "source": [
    "g[0] # slicing works on __getter__ method"
   ]
  },
  {
   "cell_type": "code",
   "execution_count": null,
   "id": "31c0806b",
   "metadata": {},
   "outputs": [],
   "source": [
    "wdf = g.weighted_edges_df_from_nodes"
   ]
  },
  {
   "cell_type": "code",
   "execution_count": null,
   "id": "7ffa567f",
   "metadata": {},
   "outputs": [],
   "source": [
    "# now we have two adjacency matrices, one from standard edgelist, and another from UMAP\n",
    "fig, ax = plt.subplots(2, 1, figsize=(15,30))\n",
    "\n",
    "ax[0].imshow(g.weighted_adjacency_nodes.toarray(), aspect='auto') # super pretty\n",
    "ax[1].imshow(g._adjacency.toarray(), aspect='auto')"
   ]
  },
  {
   "cell_type": "code",
   "execution_count": null,
   "id": "66ef0c36",
   "metadata": {},
   "outputs": [],
   "source": [
    "# let's try to add the graphistry plottable with the umap coords and edgelist from umap\n",
    "e2i = g.entity_to_index\n",
    "ndf['n'] = ndf.Node.apply(lambda x: e2i[x])"
   ]
  },
  {
   "cell_type": "code",
   "execution_count": null,
   "id": "9e574acd",
   "metadata": {},
   "outputs": [],
   "source": [
    "wdf"
   ]
  },
  {
   "cell_type": "code",
   "execution_count": null,
   "id": "d7bcdc6d",
   "metadata": {},
   "outputs": [],
   "source": [
    "gg = graphistry.nodes(ndf, 'n').edges(wdf, '_src', '_dst')"
   ]
  },
  {
   "cell_type": "code",
   "execution_count": null,
   "id": "d34c013a",
   "metadata": {
    "scrolled": false
   },
   "outputs": [],
   "source": [
    "gg.plot()"
   ]
  },
  {
   "cell_type": "markdown",
   "id": "6668c464",
   "metadata": {},
   "source": [
    "# Now we with this in hand, we can train a model"
   ]
  },
  {
   "cell_type": "code",
   "execution_count": null,
   "id": "ef8726cf",
   "metadata": {},
   "outputs": [],
   "source": [
    "from ml.networks import GCN  # this under the hood, only works for ndata\n",
    "# this `logits = model(g, features)` breaks it if we switch to edata in training call. \n",
    "# TODO: understand why GCN is breaking this"
   ]
  },
  {
   "cell_type": "code",
   "execution_count": null,
   "id": "f95ccfa7",
   "metadata": {},
   "outputs": [],
   "source": [
    "# get the DGL graph object\n",
    "G = g.DGL_graph"
   ]
  },
  {
   "cell_type": "code",
   "execution_count": null,
   "id": "c94db9eb",
   "metadata": {},
   "outputs": [],
   "source": [
    "G.node_attr_schemes()\n",
    "G.edge_attr_schemes()"
   ]
  },
  {
   "cell_type": "code",
   "execution_count": null,
   "id": "9e9738bf",
   "metadata": {},
   "outputs": [],
   "source": [
    "G.ndata['train_mask'][:10]"
   ]
  },
  {
   "cell_type": "code",
   "execution_count": null,
   "id": "972bf4b6",
   "metadata": {},
   "outputs": [],
   "source": [
    "def train_node_model(g, model, n_epochs=100):\n",
    "    optimizer = torch.optim.Adam(model.parameters(), lr=0.01)\n",
    "    best_val_acc = 0\n",
    "    best_test_acc = 0\n",
    "\n",
    "    features = g.ndata['feature']\n",
    "    targets = g.ndata['target']\n",
    "    labels = targets.argmax(1) # a bit of a hack\n",
    "    train_mask = g.ndata['train_mask']\n",
    "    test_mask = g.ndata['test_mask']\n",
    "    for e in range(n_epochs):\n",
    "        # Forward\n",
    "        logits = model(g, features.float())\n",
    "\n",
    "        # Compute prediction\n",
    "        pred = logits.argmax(1)\n",
    "\n",
    "        # Compute loss\n",
    "        # Note that you should only compute the losses of the nodes in the training set.\n",
    "        loss = F.cross_entropy(logits[train_mask], labels[train_mask])\n",
    "\n",
    "        # Compute accuracy on training/validation/test\n",
    "        train_acc = (pred[train_mask] == labels[train_mask]).float().mean()\n",
    "        test_acc = (pred[test_mask] == labels[test_mask]).float().mean()\n",
    "\n",
    "        # Save the best validation accuracy and the corresponding test accuracy.\n",
    "        if best_test_acc < test_acc:\n",
    "            best_test_acc = test_acc\n",
    "\n",
    "        # Backward\n",
    "        optimizer.zero_grad()\n",
    "        loss.backward()\n",
    "        optimizer.step()\n",
    "\n",
    "        if e % 20 == 0:\n",
    "            print('In epoch {}, loss: {:.3f}, test acc: {:.3f} (best {:.3f})'.format(\n",
    "                e, loss, test_acc, best_test_acc))\n",
    "\n"
   ]
  },
  {
   "cell_type": "code",
   "execution_count": null,
   "id": "06952fc2",
   "metadata": {},
   "outputs": [],
   "source": [
    "G.ndata"
   ]
  },
  {
   "cell_type": "code",
   "execution_count": null,
   "id": "e1bda129",
   "metadata": {},
   "outputs": [],
   "source": [
    "# to get a sense of the different parts in training loop above\n",
    "features = G.ndata['feature']\n",
    "labels = G.ndata['target']\n",
    "train_mask = G.ndata['train_mask']\n",
    "test_mask = G.ndata['test_mask']\n",
    "targets = labels.argmax(1)"
   ]
  },
  {
   "cell_type": "code",
   "execution_count": null,
   "id": "d68f32bc",
   "metadata": {},
   "outputs": [],
   "source": [
    "features.shape, labels.shape, targets.shape"
   ]
  },
  {
   "cell_type": "markdown",
   "id": "d2331848",
   "metadata": {},
   "source": [
    "# Define the Model "
   ]
  },
  {
   "cell_type": "code",
   "execution_count": null,
   "id": "0b324c4f",
   "metadata": {},
   "outputs": [],
   "source": [
    "num_features = G.ndata['feature'].shape[1]\n",
    "latent_dim = 32\n",
    "num_classes = G.ndata['target'].shape[1]\n",
    "\n",
    "# here is the model\n",
    "model = GCN(num_features, latent_dim, num_classes)\n",
    "model"
   ]
  },
  {
   "cell_type": "code",
   "execution_count": null,
   "id": "e98fd8b6",
   "metadata": {},
   "outputs": [],
   "source": [
    "logits = model(G, features.float()) # have to call .float, or it gives a type(DOUBLE) error.\n",
    "logits.shape"
   ]
  },
  {
   "cell_type": "code",
   "execution_count": null,
   "id": "8e16781c",
   "metadata": {},
   "outputs": [],
   "source": [
    "# untrained comparison\n",
    "pred = logits.argmax(1)\n",
    "sum(pred == targets)/len(pred)"
   ]
  },
  {
   "cell_type": "markdown",
   "id": "345087b7",
   "metadata": {},
   "source": [
    "## Train the Model"
   ]
  },
  {
   "cell_type": "code",
   "execution_count": null,
   "id": "2463507e",
   "metadata": {},
   "outputs": [],
   "source": [
    "train_node_model(G, model, 621)"
   ]
  },
  {
   "cell_type": "code",
   "execution_count": null,
   "id": "83947b46",
   "metadata": {},
   "outputs": [],
   "source": [
    "# trained comparison\n",
    "logits = model(G, features.float())\n",
    "pred = logits.argmax(1)\n",
    "\n",
    "sum(pred == targets)/len(pred) #"
   ]
  },
  {
   "cell_type": "code",
   "execution_count": null,
   "id": "1f21b3b1",
   "metadata": {},
   "outputs": [],
   "source": [
    "# To get forward activations \n",
    "activation = {}\n",
    "def get_activation(name):\n",
    "    def hook(model, input, output):\n",
    "        activation[name] = output.detach()\n",
    "    return hook"
   ]
  },
  {
   "cell_type": "code",
   "execution_count": null,
   "id": "37399d11",
   "metadata": {},
   "outputs": [],
   "source": [
    "model.conv1.register_forward_hook(get_activation('conv1'))\n",
    "model.conv2.register_forward_hook(get_activation('conv2'))\n",
    "# now call model to do forward  \n",
    "logits = model(G, features.float())\n",
    "# this will load the dictionary\n",
    "print(activation['conv1'])\n",
    "print(activation['conv2'])"
   ]
  },
  {
   "cell_type": "code",
   "execution_count": null,
   "id": "3bcb8506",
   "metadata": {},
   "outputs": [],
   "source": [
    "# just a pretty graph\n",
    "plt.figure(); plt.imshow(np.cov(activation['conv1']>0), aspect='auto',  cmap=plt.get_cmap('plasma'))"
   ]
  },
  {
   "cell_type": "markdown",
   "id": "276cd873",
   "metadata": {},
   "source": [
    "# Let's UMAP it"
   ]
  },
  {
   "cell_type": "code",
   "execution_count": null,
   "id": "8c925c51",
   "metadata": {},
   "outputs": [],
   "source": [
    "ux = g.xy_nodes"
   ]
  },
  {
   "cell_type": "code",
   "execution_count": null,
   "id": "ac8cc871",
   "metadata": {
    "scrolled": false
   },
   "outputs": [],
   "source": [
    "ndf['x'] = ux.T[0]*100\n",
    "ndf['y'] = ux.T[1]*100\n",
    "\n",
    "scatterplot(ux, activation['conv2'].argmax(1))"
   ]
  },
  {
   "cell_type": "code",
   "execution_count": null,
   "id": "d7d610c6",
   "metadata": {},
   "outputs": [],
   "source": [
    "# let's just make some targets, then we can use it in umap\n",
    "from sklearn.preprocessing import OneHotEncoder"
   ]
  },
  {
   "cell_type": "code",
   "execution_count": null,
   "id": "86155f72",
   "metadata": {},
   "outputs": [],
   "source": [
    "one_hot = OneHotEncoder(handle_unknown='ignore', sparse=False) # get a clean target"
   ]
  },
  {
   "cell_type": "code",
   "execution_count": null,
   "id": "e4a5d66f",
   "metadata": {},
   "outputs": [],
   "source": [
    "N = one_hot.fit_transform(ndf.Types.values.reshape(-1,1))"
   ]
  },
  {
   "cell_type": "code",
   "execution_count": null,
   "id": "85271438",
   "metadata": {},
   "outputs": [],
   "source": [
    "scatterplot(ux, N.argmax(1))"
   ]
  },
  {
   "cell_type": "code",
   "execution_count": null,
   "id": "57b5b0b3",
   "metadata": {},
   "outputs": [],
   "source": [
    "res = g.fit_transform(g.DGL_graph.ndata['feature'], N.argmax(1).reshape(-1,1))"
   ]
  },
  {
   "cell_type": "code",
   "execution_count": null,
   "id": "21090b9c",
   "metadata": {},
   "outputs": [],
   "source": [
    "scatterplot(res, N.argmax(1))"
   ]
  },
  {
   "cell_type": "markdown",
   "id": "87c558cf",
   "metadata": {},
   "source": [
    "## Lets reduce using Louvain Embedding"
   ]
  },
  {
   "cell_type": "code",
   "execution_count": null,
   "id": "c532b92e",
   "metadata": {},
   "outputs": [],
   "source": [
    "from sknetwork.embedding import LouvainEmbedding\n",
    "louvain = LouvainEmbedding()"
   ]
  },
  {
   "cell_type": "code",
   "execution_count": null,
   "id": "641b5fdb",
   "metadata": {},
   "outputs": [],
   "source": [
    "embedding = louvain.fit_transform(g._adjacency.tocsr())\n",
    "embedding.shape"
   ]
  },
  {
   "cell_type": "code",
   "execution_count": null,
   "id": "07d457c6",
   "metadata": {},
   "outputs": [],
   "source": [
    "emb = g.fit_transform(embedding, N.argmax(1).reshape(-1,1))"
   ]
  },
  {
   "cell_type": "code",
   "execution_count": null,
   "id": "9c066a2c",
   "metadata": {},
   "outputs": [],
   "source": [
    "emb.shape, N.shape"
   ]
  },
  {
   "cell_type": "code",
   "execution_count": null,
   "id": "feb4ca19",
   "metadata": {},
   "outputs": [],
   "source": [
    "scatterplot(emb, N.argmax(1)) #meh but cool that it sorts by Type"
   ]
  },
  {
   "cell_type": "markdown",
   "id": "aac9e86b",
   "metadata": {},
   "source": [
    "# Let's reduce the edata"
   ]
  },
  {
   "cell_type": "code",
   "execution_count": null,
   "id": "7b34de1a",
   "metadata": {},
   "outputs": [],
   "source": [
    "X = np.array(g.DGL_graph.edata['feature']) # bring it out of torch\n",
    "t = np.array(g.DGL_graph.edata['target'])"
   ]
  },
  {
   "cell_type": "code",
   "execution_count": null,
   "id": "3ced16be",
   "metadata": {},
   "outputs": [],
   "source": [
    "X.shape, t.shape"
   ]
  },
  {
   "cell_type": "code",
   "execution_count": null,
   "id": "1086a48d",
   "metadata": {},
   "outputs": [],
   "source": [
    "res = g.fit_transform(X, t.argmax(1).reshape(-1, 1))"
   ]
  },
  {
   "cell_type": "code",
   "execution_count": null,
   "id": "adc9c7e1",
   "metadata": {},
   "outputs": [],
   "source": [
    "scatterplot(res, color_labels=t.argmax(1))"
   ]
  },
  {
   "cell_type": "code",
   "execution_count": null,
   "id": "ac65eb54",
   "metadata": {},
   "outputs": [],
   "source": [
    "## sums the feature along 0 axis\n",
    "dgl.readout_nodes(G, 'feature').shape"
   ]
  },
  {
   "cell_type": "code",
   "execution_count": null,
   "id": "5476ed7d",
   "metadata": {},
   "outputs": [],
   "source": [
    "dgl.mean_nodes(G, 'feature')"
   ]
  },
  {
   "cell_type": "code",
   "execution_count": null,
   "id": "6b21b215",
   "metadata": {},
   "outputs": [],
   "source": [
    "G['_E']"
   ]
  },
  {
   "cell_type": "code",
   "execution_count": null,
   "id": "8f9d70df",
   "metadata": {},
   "outputs": [],
   "source": []
  },
  {
   "cell_type": "code",
   "execution_count": null,
   "id": "e6c07942",
   "metadata": {},
   "outputs": [],
   "source": [
    "lg = G.line_graph()"
   ]
  },
  {
   "cell_type": "code",
   "execution_count": null,
   "id": "fec17737",
   "metadata": {},
   "outputs": [],
   "source": [
    "lg"
   ]
  },
  {
   "cell_type": "code",
   "execution_count": null,
   "id": "6f2166d6",
   "metadata": {},
   "outputs": [],
   "source": [
    "lg.adjacency_matrix()"
   ]
  },
  {
   "cell_type": "code",
   "execution_count": null,
   "id": "c30536a9",
   "metadata": {},
   "outputs": [],
   "source": []
  }
 ],
 "metadata": {
  "kernelspec": {
   "display_name": "Python 3 (ipykernel)",
   "language": "python",
   "name": "python3"
  },
  "language_info": {
   "codemirror_mode": {
    "name": "ipython",
    "version": 3
   },
   "file_extension": ".py",
   "mimetype": "text/x-python",
   "name": "python",
   "nbconvert_exporter": "python",
   "pygments_lexer": "ipython3",
   "version": "3.8.9"
  }
 },
 "nbformat": 4,
 "nbformat_minor": 5
}
