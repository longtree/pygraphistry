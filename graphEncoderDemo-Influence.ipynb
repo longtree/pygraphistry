{
 "cells": [
  {
   "cell_type": "code",
   "execution_count": null,
   "id": "c3d297ae",
   "metadata": {},
   "outputs": [],
   "source": [
    "import graphistry\n",
    "import pandas as pd\n",
    "import torch.nn.functional as F\n",
    "\n",
    "from ml.dgl_utils import *\n",
    "from ml.utils import *"
   ]
  },
  {
   "cell_type": "code",
   "execution_count": null,
   "id": "d9f0512a",
   "metadata": {},
   "outputs": [],
   "source": [
    "import logging\n",
    "logging.basicConfig()\n",
    "logger = logging.getLogger('demo')\n",
    "logger.setLevel(logging.DEBUG)"
   ]
  },
  {
   "cell_type": "code",
   "execution_count": null,
   "id": "2284f18f",
   "metadata": {},
   "outputs": [],
   "source": [
    "def scatterplot(ux, color_labels=None):\n",
    "    #small helper viz\n",
    "    import matplotlib.pyplot as plt\n",
    "\n",
    "    plt.figure(figsize=(10, 8))\n",
    "    plt.scatter(ux.T[0], ux.T[1], c=color_labels, s=100, alpha=0.4)"
   ]
  },
  {
   "cell_type": "code",
   "execution_count": null,
   "id": "47a958be",
   "metadata": {},
   "outputs": [],
   "source": [
    "#graphistry.register(api=3, protocol=\"https\", server=\"hub.graphistry.com\", username=\"..\", password=\"..\") "
   ]
  },
  {
   "cell_type": "markdown",
   "id": "dd1c9ead",
   "metadata": {},
   "source": [
    "# We import a subgraph from the LittleSis dataset centered around BlackRock, Inc"
   ]
  },
  {
   "cell_type": "code",
   "execution_count": null,
   "id": "9508ce68",
   "metadata": {},
   "outputs": [],
   "source": [
    "edf = pd.read_csv('data/edges_blackrock.csv', index_col=0)\n",
    "ndf = pd.read_csv('data/nodes_blackrock.csv', index_col=0)"
   ]
  },
  {
   "cell_type": "code",
   "execution_count": null,
   "id": "8f040b7e",
   "metadata": {},
   "outputs": [],
   "source": [
    "edf"
   ]
  },
  {
   "cell_type": "markdown",
   "id": "413261e3",
   "metadata": {},
   "source": [
    "# Explore subgraphs\n",
    "`get_graphistry_from_search` is a useful way to do fuzzy search over the dataframes to retrieve useful information"
   ]
  },
  {
   "cell_type": "code",
   "execution_count": null,
   "id": "8a8ebd98",
   "metadata": {},
   "outputs": [],
   "source": [
    "%%timeit\n",
    "search_to_df('Bank', 'to_node', edf)"
   ]
  },
  {
   "cell_type": "code",
   "execution_count": null,
   "id": "b8ba9141",
   "metadata": {},
   "outputs": [],
   "source": [
    "# g = get_graphistry_from_search('Bank', 'to_node', 'from_node', 'Node', edf, ndf)\n",
    "# g.plot()"
   ]
  },
  {
   "cell_type": "code",
   "execution_count": null,
   "id": "0cfa09f5",
   "metadata": {},
   "outputs": [],
   "source": [
    "# g = get_graphistry_from_search('climate', 'to_node', 'from_node', 'Node', edf, ndf)\n",
    "# g.plot()"
   ]
  },
  {
   "cell_type": "markdown",
   "id": "9cf06abb",
   "metadata": {},
   "source": [
    "# Explore Milieu\n",
    "`get_graphistry_from_milieu_search` is a useful way to do fuzzy search over the dataframes to retrieve useful information over 1 and 2 connections from `search_term`"
   ]
  },
  {
   "cell_type": "code",
   "execution_count": null,
   "id": "420ef7c6",
   "metadata": {},
   "outputs": [],
   "source": [
    "# this works much better on full LittleSis data, than just the small BlackRock sample above...\n",
    "# g = get_graphistry_from_milieu_search('meta', 'to_node', 'from_node', 'Node', edf, ndf, both=True)\n",
    "# g.plot()"
   ]
  },
  {
   "cell_type": "markdown",
   "id": "d6355d46",
   "metadata": {},
   "source": [
    "# Let's encode the graph as a DGL graph for use in Machine Learning"
   ]
  },
  {
   "cell_type": "code",
   "execution_count": null,
   "id": "c37d4f8f",
   "metadata": {},
   "outputs": [],
   "source": [
    "# Let's explicitly make a node level target (simplified to two classes)\n",
    "node_target = ndf.Types.apply(lambda x: x.split(',')[0])\n",
    "node_target = pd.DataFrame({'Types': node_target.values}, index=node_target.index)"
   ]
  },
  {
   "cell_type": "code",
   "execution_count": null,
   "id": "fb3dbaa1",
   "metadata": {},
   "outputs": [],
   "source": [
    "Counter(node_target.Types)  # we have a simple target defined here"
   ]
  },
  {
   "cell_type": "code",
   "execution_count": null,
   "id": "a0c9ce2a",
   "metadata": {},
   "outputs": [],
   "source": [
    "ndf.columns # not all of these are useful for building a model"
   ]
  },
  {
   "cell_type": "code",
   "execution_count": null,
   "id": "ab07e60e",
   "metadata": {},
   "outputs": [],
   "source": [
    "ndf.info() # and we can see that few are present past the 5th entry below"
   ]
  },
  {
   "cell_type": "code",
   "execution_count": null,
   "id": "9789f110",
   "metadata": {
    "scrolled": true
   },
   "outputs": [],
   "source": [
    "src, dst = 'from_node', 'to_node' #backwards due to the way we scraped the data\n",
    "node_column = 'Node'\n",
    "node_target = 'Types' # uncomment to build node_target above\n",
    "edge_target = 'relationship_type' # can be column label or, as in previous cell, the df itself.\n",
    "\n",
    "# can use ndf instead of nndf here, no problem, doesn't really change analysis\n",
    "graph = BaseDGLGraphFromPandas(ndf, edf, src, dst, node_column, node_target=node_target, edge_target=edge_target)\n"
   ]
  },
  {
   "cell_type": "code",
   "execution_count": null,
   "id": "f276b4a6",
   "metadata": {},
   "outputs": [],
   "source": [
    "# graph.build_simple_graph()"
   ]
  },
  {
   "cell_type": "code",
   "execution_count": null,
   "id": "12d9a632",
   "metadata": {
    "scrolled": false
   },
   "outputs": [],
   "source": [
    "graph.embeddings()"
   ]
  },
  {
   "cell_type": "code",
   "execution_count": null,
   "id": "1962e9e7",
   "metadata": {},
   "outputs": [],
   "source": [
    "# now we have a DGL graph with ndata and edata built via dirty_cat\n",
    "graph.graph"
   ]
  },
  {
   "cell_type": "code",
   "execution_count": null,
   "id": "e58b366d",
   "metadata": {},
   "outputs": [],
   "source": [
    "graph.weighted_edges_df"
   ]
  },
  {
   "cell_type": "code",
   "execution_count": null,
   "id": "4710e73c",
   "metadata": {},
   "outputs": [],
   "source": [
    "# now we have two adjacency matrices, one from standard edgelist, and another from UMAP\n",
    "fig, ax = plt.subplots(2, 1, figsize=(15,15))\n",
    "\n",
    "ax[0].imshow(graph.weighted_adjacency.toarray(), aspect='auto')\n",
    "ax[1].imshow(graph.adjacency.toarray(), aspect='auto')"
   ]
  },
  {
   "cell_type": "code",
   "execution_count": null,
   "id": "f264447d",
   "metadata": {},
   "outputs": [],
   "source": [
    "# let's try to add the graphistry plottable with the umap coords and edgelist from umap\n",
    "e2i = graph.entity_to_index\n",
    "ndf['n'] = ndf.Node.apply(lambda x: e2i[x])"
   ]
  },
  {
   "cell_type": "code",
   "execution_count": null,
   "id": "e7ae8220",
   "metadata": {},
   "outputs": [],
   "source": [
    "g = (\n",
    "    graphistry\n",
    "    .nodes(ndf, 'n')\n",
    "    .edges(graph.weighted_edges_df, '_src', '_dst')\n",
    "    .bind(point_x='x', point_y='y', edge_weight='_weight')\n",
    "    .settings(url_params={'play': 0, 'edgeInfluence': 5})\n",
    "    .encode_edge_color('_weight', ['maroon', 'pink', 'white'], as_continuous=True)\n",
    "    .encode_point_size('count')\n",
    ")"
   ]
  },
  {
   "cell_type": "code",
   "execution_count": null,
   "id": "a784bb09",
   "metadata": {},
   "outputs": [],
   "source": [
    "# still doesn't work....\n",
    "# g.plot()"
   ]
  },
  {
   "cell_type": "markdown",
   "id": "6668c464",
   "metadata": {},
   "source": [
    "# Now we with this in hand, we can train a model"
   ]
  },
  {
   "cell_type": "code",
   "execution_count": null,
   "id": "ef8726cf",
   "metadata": {},
   "outputs": [],
   "source": [
    "from ml.networks import GCN  # this under the hood, only works for ndata\n",
    "# this `logits = model(g, features)` breaks it if we switch to edata in training call. \n",
    "# TODO: understand why GCN is breaking this"
   ]
  },
  {
   "cell_type": "code",
   "execution_count": null,
   "id": "f95ccfa7",
   "metadata": {},
   "outputs": [],
   "source": [
    "# get the DGL graph object\n",
    "g = graph.graph"
   ]
  },
  {
   "cell_type": "code",
   "execution_count": null,
   "id": "1e060ff7",
   "metadata": {},
   "outputs": [],
   "source": [
    "# we have to add masks (i know these are not exclusive, but this is fast and torchie, for demonstration only)\n",
    "g.ndata['train_mask'] = torch.zeros(g.ndata['feature'].shape[0], dtype=torch.bool).bernoulli(0.8)\n",
    "g.ndata['test_mask'] = torch.zeros(g.ndata['feature'].shape[0], dtype=torch.bool).bernoulli(0.1)\n",
    "g.ndata['val_mask'] = torch.zeros(g.ndata['feature'].shape[0], dtype=torch.bool).bernoulli(0.1)"
   ]
  },
  {
   "cell_type": "code",
   "execution_count": null,
   "id": "9e9738bf",
   "metadata": {},
   "outputs": [],
   "source": [
    "g.ndata['train_mask'][:10]"
   ]
  },
  {
   "cell_type": "code",
   "execution_count": null,
   "id": "972bf4b6",
   "metadata": {},
   "outputs": [],
   "source": [
    "def train_node_model(g, model, n_epochs=100):\n",
    "    optimizer = torch.optim.Adam(model.parameters(), lr=0.01)\n",
    "    best_val_acc = 0\n",
    "    best_test_acc = 0\n",
    "\n",
    "    features = g.ndata['feature']\n",
    "    labels = g.ndata['target']\n",
    "    targets = labels.argmax(1) # a bit of a hack\n",
    "    train_mask = g.ndata['train_mask']\n",
    "    val_mask = g.ndata['val_mask']\n",
    "    test_mask = g.ndata['test_mask']\n",
    "    for e in range(n_epochs):\n",
    "        # Forward\n",
    "        logits = model(g, features.float())\n",
    "\n",
    "        # Compute prediction\n",
    "        pred = logits.argmax(1)\n",
    "\n",
    "        # Compute loss\n",
    "        # Note that you should only compute the losses of the nodes in the training set.\n",
    "        loss = F.cross_entropy(logits[train_mask], labels[train_mask])\n",
    "\n",
    "        # Compute accuracy on training/validation/test\n",
    "        train_acc = (pred[train_mask] == targets[train_mask]).float().mean()\n",
    "        val_acc = (pred[val_mask] == targets[val_mask]).float().mean()\n",
    "        test_acc = (pred[test_mask] == targets[test_mask]).float().mean()\n",
    "\n",
    "        # Save the best validation accuracy and the corresponding test accuracy.\n",
    "        if best_val_acc < val_acc:\n",
    "            best_val_acc = val_acc\n",
    "            best_test_acc = test_acc\n",
    "\n",
    "        # Backward\n",
    "        optimizer.zero_grad()\n",
    "        loss.backward()\n",
    "        optimizer.step()\n",
    "\n",
    "        if e % 20 == 0:\n",
    "            print('In epoch {}, loss: {:.3f}, val acc: {:.3f} (best {:.3f}), test acc: {:.3f} (best {:.3f})'.format(\n",
    "                e, loss, val_acc, best_val_acc, test_acc, best_test_acc))\n",
    "\n"
   ]
  },
  {
   "cell_type": "code",
   "execution_count": null,
   "id": "e1bda129",
   "metadata": {},
   "outputs": [],
   "source": [
    "# to get a sense of the different parts in training loop above\n",
    "features = g.ndata['feature']\n",
    "labels = g.ndata['target']\n",
    "train_mask = g.ndata['train_mask']\n",
    "val_mask = g.ndata['val_mask']\n",
    "test_mask = g.ndata['test_mask']\n",
    "targets = labels.argmax(1)"
   ]
  },
  {
   "cell_type": "code",
   "execution_count": null,
   "id": "d68f32bc",
   "metadata": {},
   "outputs": [],
   "source": [
    "features.shape, labels.shape, targets.shape"
   ]
  },
  {
   "cell_type": "markdown",
   "id": "d2331848",
   "metadata": {},
   "source": [
    "# Define the Model "
   ]
  },
  {
   "cell_type": "code",
   "execution_count": null,
   "id": "0b324c4f",
   "metadata": {},
   "outputs": [],
   "source": [
    "num_features = g.ndata['feature'].shape[1]\n",
    "latent_dim = 32\n",
    "num_classes = g.ndata['target'].shape[1]\n",
    "\n",
    "# here is the model\n",
    "model = GCN(num_features, latent_dim, num_classes)\n",
    "model"
   ]
  },
  {
   "cell_type": "code",
   "execution_count": null,
   "id": "e98fd8b6",
   "metadata": {},
   "outputs": [],
   "source": [
    "logits = model(g, features.float()) # have to call .float, or it gives a type(DOUBLE) error.\n",
    "logits.shape"
   ]
  },
  {
   "cell_type": "code",
   "execution_count": null,
   "id": "8e16781c",
   "metadata": {},
   "outputs": [],
   "source": [
    "# untrained comparison\n",
    "pred = logits.argmax(1)\n",
    "sum(pred == targets)/len(pred)"
   ]
  },
  {
   "cell_type": "markdown",
   "id": "345087b7",
   "metadata": {},
   "source": [
    "## Train the Model"
   ]
  },
  {
   "cell_type": "code",
   "execution_count": null,
   "id": "2463507e",
   "metadata": {},
   "outputs": [],
   "source": [
    "train_node_model(g, model, 621)"
   ]
  },
  {
   "cell_type": "code",
   "execution_count": null,
   "id": "83947b46",
   "metadata": {},
   "outputs": [],
   "source": [
    "# trained comparison\n",
    "logits = model(g, features.float())\n",
    "pred = logits.argmax(1)\n",
    "\n",
    "sum(pred == targets)/len(pred) # only 8% better than random"
   ]
  },
  {
   "cell_type": "code",
   "execution_count": null,
   "id": "1f21b3b1",
   "metadata": {},
   "outputs": [],
   "source": [
    "# To get forward activations \n",
    "activation = {}\n",
    "def get_activation(name):\n",
    "    def hook(model, input, output):\n",
    "        activation[name] = output.detach()\n",
    "    return hook"
   ]
  },
  {
   "cell_type": "code",
   "execution_count": null,
   "id": "37399d11",
   "metadata": {},
   "outputs": [],
   "source": [
    "model.conv1.register_forward_hook(get_activation('conv1'))\n",
    "model.conv2.register_forward_hook(get_activation('conv2'))\n",
    "# now call model to do forward  \n",
    "logits = model(g, features.float())\n",
    "# this will load the dictionary\n",
    "print(activation['conv1'])\n",
    "print(activation['conv2'])"
   ]
  },
  {
   "cell_type": "code",
   "execution_count": null,
   "id": "3bcb8506",
   "metadata": {},
   "outputs": [],
   "source": [
    "# just a pretty graph\n",
    "plt.figure(); plt.imshow(np.cov(activation['conv1']>0), aspect='auto',  cmap=plt.get_cmap('plasma'))"
   ]
  },
  {
   "cell_type": "markdown",
   "id": "276cd873",
   "metadata": {},
   "source": [
    "# Let's UMAP it"
   ]
  },
  {
   "cell_type": "code",
   "execution_count": null,
   "id": "ff93ec26",
   "metadata": {},
   "outputs": [],
   "source": [
    "graph.umap()"
   ]
  },
  {
   "cell_type": "code",
   "execution_count": null,
   "id": "8c925c51",
   "metadata": {},
   "outputs": [],
   "source": [
    "ux = graph.embedding_"
   ]
  },
  {
   "cell_type": "code",
   "execution_count": null,
   "id": "ac8cc871",
   "metadata": {
    "scrolled": false
   },
   "outputs": [],
   "source": [
    "ndf['x'] = ux.T[0]*100\n",
    "ndf['y'] = ux.T[1]*100\n",
    "\n",
    "scatterplot(ux, activation['conv2'].argmax(1))"
   ]
  },
  {
   "cell_type": "code",
   "execution_count": null,
   "id": "12705ee5",
   "metadata": {},
   "outputs": [],
   "source": [
    "from sklearn.preprocessing import OneHotEncoder"
   ]
  },
  {
   "cell_type": "code",
   "execution_count": null,
   "id": "c03bd140",
   "metadata": {},
   "outputs": [],
   "source": [
    "one_hot = OneHotEncoder(handle_unknown='ignore', sparse=False) # get a clean target"
   ]
  },
  {
   "cell_type": "code",
   "execution_count": null,
   "id": "b547ef78",
   "metadata": {},
   "outputs": [],
   "source": [
    "T = one_hot.fit_transform(ndf.Types.values.reshape(-1,1))"
   ]
  },
  {
   "cell_type": "code",
   "execution_count": null,
   "id": "9136cd03",
   "metadata": {},
   "outputs": [],
   "source": [
    "adj = graph.adjacency"
   ]
  },
  {
   "cell_type": "code",
   "execution_count": null,
   "id": "7a0692ce",
   "metadata": {},
   "outputs": [],
   "source": [
    "res = graph.fit_transform(adj) # let's reduce the adj matrix"
   ]
  },
  {
   "cell_type": "code",
   "execution_count": null,
   "id": "33728ac4",
   "metadata": {},
   "outputs": [],
   "source": [
    "scatterplot(res, T.argmax(1))"
   ]
  },
  {
   "cell_type": "code",
   "execution_count": null,
   "id": "32f84b6e",
   "metadata": {},
   "outputs": [],
   "source": [
    "# umap coords seems to pull entities together according to Type from ndf\n",
    "scatterplot(graph.embedding_, T.argmax(1))"
   ]
  },
  {
   "cell_type": "code",
   "execution_count": null,
   "id": "8e052f6d",
   "metadata": {},
   "outputs": [],
   "source": [
    "# lets compare to weighted adj from UMAP (umaping the umap)\n",
    "res = graph.fit_transform(graph.weighted_adjacency) # \n",
    "scatterplot(res, T.argmax(1))  # meh"
   ]
  },
  {
   "cell_type": "code",
   "execution_count": null,
   "id": "de215595",
   "metadata": {},
   "outputs": [],
   "source": [
    "from sknetwork.embedding import LouvainEmbedding\n",
    "louvain = LouvainEmbedding()"
   ]
  },
  {
   "cell_type": "code",
   "execution_count": null,
   "id": "98a607d4",
   "metadata": {},
   "outputs": [],
   "source": [
    "embedding = louvain.fit_transform(adj.tocsr())\n",
    "embedding.shape"
   ]
  },
  {
   "cell_type": "code",
   "execution_count": null,
   "id": "2023b15b",
   "metadata": {},
   "outputs": [],
   "source": [
    "emb = graph.fit_transform(embedding)"
   ]
  },
  {
   "cell_type": "code",
   "execution_count": null,
   "id": "1ba86153",
   "metadata": {},
   "outputs": [],
   "source": [
    "scatterplot(emb, T.argmax(1))"
   ]
  },
  {
   "cell_type": "code",
   "execution_count": null,
   "id": "bfda00b2",
   "metadata": {},
   "outputs": [],
   "source": [
    "# hmmm not working...\n",
    "gr = graphistry.edges(edf, 'to_node', 'from_node').nodes(ndf, 'Node').bind(point_x='x', point_y='y')\n",
    "# gr.plot()"
   ]
  },
  {
   "cell_type": "code",
   "execution_count": null,
   "id": "0f5c6f6c",
   "metadata": {},
   "outputs": [],
   "source": [
    "#TODO add autoencoder as well as EDATA model"
   ]
  },
  {
   "cell_type": "code",
   "execution_count": null,
   "id": "309000ad",
   "metadata": {},
   "outputs": [],
   "source": []
  }
 ],
 "metadata": {
  "kernelspec": {
   "display_name": "Python 3 (ipykernel)",
   "language": "python",
   "name": "python3"
  },
  "language_info": {
   "codemirror_mode": {
    "name": "ipython",
    "version": 3
   },
   "file_extension": ".py",
   "mimetype": "text/x-python",
   "name": "python",
   "nbconvert_exporter": "python",
   "pygments_lexer": "ipython3",
   "version": "3.8.9"
  }
 },
 "nbformat": 4,
 "nbformat_minor": 5
}
