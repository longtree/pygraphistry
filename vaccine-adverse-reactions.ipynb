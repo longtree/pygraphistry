{
 "cells": [
  {
   "cell_type": "code",
   "execution_count": 1,
   "id": "9f2eb3e0",
   "metadata": {},
   "outputs": [],
   "source": [
    "#! pip install openpyxl  # might need this to load xlsx file"
   ]
  },
  {
   "cell_type": "code",
   "execution_count": 2,
   "id": "c4078bc9",
   "metadata": {},
   "outputs": [],
   "source": [
    "import os\n",
    "import pandas as pd\n",
    "import numpy as np\n",
    "import matplotlib as mpl\n",
    "import matplotlib.pyplot as plt\n",
    "from collections import Counter\n",
    "\n",
    "import graphistry\n",
    "from graphistry.feature_utils import group_columns_by_dtypes, get_dataframe_by_column_dtype\n",
    "\n",
    "import warnings\n",
    "warnings.filterwarnings('ignore')"
   ]
  },
  {
   "cell_type": "code",
   "execution_count": 3,
   "id": "32e6d8d4",
   "metadata": {},
   "outputs": [],
   "source": [
    "graphistry.register(api=3, protocol=\"https\", server=\"hub.graphistry.com\", username=\"...\", password=\"...\") "
   ]
  },
  {
   "cell_type": "code",
   "execution_count": 4,
   "id": "59ccec90",
   "metadata": {},
   "outputs": [],
   "source": [
    "g = graphistry.bind()"
   ]
  },
  {
   "cell_type": "code",
   "execution_count": 5,
   "id": "6b0179c9",
   "metadata": {},
   "outputs": [],
   "source": [
    "res = os.path.expanduser('~/')"
   ]
  },
  {
   "cell_type": "code",
   "execution_count": 6,
   "id": "4487daa3",
   "metadata": {},
   "outputs": [],
   "source": [
    "df = pd.read_excel(res+'/Downloads/mass-vax-dataset.xlsx')"
   ]
  },
  {
   "cell_type": "code",
   "execution_count": 7,
   "id": "76333b8f",
   "metadata": {},
   "outputs": [],
   "source": [
    "df['n'] = range(len(df)) # add a node identifier that lines up with emergent edges dataframe"
   ]
  },
  {
   "cell_type": "code",
   "execution_count": 8,
   "id": "5f437c7f",
   "metadata": {},
   "outputs": [
    {
     "data": {
      "text/plain": [
       "Index(['Date', 'Time of event', 'Day of Week', 'SYMPTOMS',\n",
       "       'Patient observation site', 'Dispottion to', 'Gender',\n",
       "       'Observation length of stay min', 'Age', 'Intervention', 'Notes',\n",
       "       'Unnamed: 11', 'Unnamed: 12', 'Unnamed: 13', 'n'],\n",
       "      dtype='object')"
      ]
     },
     "execution_count": 8,
     "metadata": {},
     "output_type": "execute_result"
    }
   ],
   "source": [
    "df.columns"
   ]
  },
  {
   "cell_type": "code",
   "execution_count": 9,
   "id": "bc670885",
   "metadata": {},
   "outputs": [
    {
     "name": "stderr",
     "output_type": "stream",
     "text": [
      "[feature_utils.py:323 - group_columns_by_dtypes() ] datetime64[ns] has 1 members\n",
      "[feature_utils.py:323 - group_columns_by_dtypes() ] int64 has 1 members\n",
      "[feature_utils.py:323 - group_columns_by_dtypes() ] float64 has 2 members\n",
      "[feature_utils.py:323 - group_columns_by_dtypes() ] object has 6 members\n"
     ]
    }
   ],
   "source": [
    "# remove columns that are NaN or uninteresting (expect to be uniformly distributed and not correlative)\n",
    "df = df.drop(columns = ['Unnamed: 12', 'Unnamed: 13', 'Unnamed: 11', 'Time of event', 'Day of Week'])\n",
    "gtypes = group_columns_by_dtypes(df)"
   ]
  },
  {
   "cell_type": "code",
   "execution_count": 10,
   "id": "e39c4084",
   "metadata": {},
   "outputs": [],
   "source": [
    "# some data cleaning (coerce to correct type)\n",
    "df[gtypes['float64']] = df[gtypes['float64']].fillna(-1.0)"
   ]
  },
  {
   "cell_type": "code",
   "execution_count": 11,
   "id": "011a760e",
   "metadata": {},
   "outputs": [],
   "source": [
    "df[gtypes['object']] = df[gtypes['object']].fillna('')"
   ]
  },
  {
   "cell_type": "code",
   "execution_count": 12,
   "id": "6d456a9e",
   "metadata": {},
   "outputs": [],
   "source": [
    "df['Date'] = df['Date'].fillna(pd.Timestamp('20210206')) # date is not very interesting, but we fillna here"
   ]
  },
  {
   "cell_type": "markdown",
   "id": "49699326",
   "metadata": {},
   "source": [
    "# Let's see the abundance of difference aspects"
   ]
  },
  {
   "cell_type": "code",
   "execution_count": 13,
   "id": "e72cc80f",
   "metadata": {},
   "outputs": [
    {
     "data": {
      "text/plain": [
       "[('dizzy', 815),\n",
       " ('Syncope', 243),\n",
       " (\"throat sx's\", 159),\n",
       " ('Allergy - Skin', 121),\n",
       " ('cardiac', 100),\n",
       " ('anxiety', 80),\n",
       " ('N / V', 73),\n",
       " ('Other', 67),\n",
       " ('Local', 37),\n",
       " ('SOB', 29),\n",
       " ('Falls', 11),\n",
       " ('Allergy', 2)]"
      ]
     },
     "execution_count": 13,
     "metadata": {},
     "output_type": "execute_result"
    }
   ],
   "source": [
    "Counter(df.SYMPTOMS).most_common()"
   ]
  },
  {
   "cell_type": "code",
   "execution_count": 14,
   "id": "78455770",
   "metadata": {},
   "outputs": [
    {
     "data": {
      "text/plain": [
       "[('Rn Obs Only', 799),\n",
       " ('MD Exam & Reassurance', 526),\n",
       " ('PO Challenge', 260),\n",
       " ('OTC meds', 82),\n",
       " ('Prescription meds', 54),\n",
       " ('', 9),\n",
       " ('Wound Care', 7)]"
      ]
     },
     "execution_count": 14,
     "metadata": {},
     "output_type": "execute_result"
    }
   ],
   "source": [
    "Counter(df.Intervention).most_common()"
   ]
  },
  {
   "cell_type": "code",
   "execution_count": 15,
   "id": "d12174c1",
   "metadata": {},
   "outputs": [
    {
     "data": {
      "text/plain": [
       "[('home with monitoring', 903),\n",
       " ('DC home alone', 531),\n",
       " ('Urgent PMD follow up', 259),\n",
       " ('Ambulance (AMR)', 31),\n",
       " ('Private car to ER', 8),\n",
       " ('AMA', 3),\n",
       " ('', 2)]"
      ]
     },
     "execution_count": 15,
     "metadata": {},
     "output_type": "execute_result"
    }
   ],
   "source": [
    "Counter(df['Dispottion to']).most_common()"
   ]
  },
  {
   "cell_type": "code",
   "execution_count": 16,
   "id": "dc1f97ba",
   "metadata": {
    "scrolled": true
   },
   "outputs": [
    {
     "data": {
      "text/plain": [
       "[('', 1064),\n",
       " ('juice', 143),\n",
       " ('zyrtec', 55),\n",
       " ('water', 53),\n",
       " ('Juice', 27),\n",
       " ('diaphoretic', 20),\n",
       " ('zofran', 13),\n",
       " ('Zyrtec', 12),\n",
       " ('headache', 9),\n",
       " ('hx of syncope', 6),\n",
       " ('hx of fainting', 5),\n",
       " ('palpitations', 5),\n",
       " ('employee', 4),\n",
       " ('ambulance', 4),\n",
       " ('JUICE', 4),\n",
       " ('Zofran', 3),\n",
       " ('po challenge', 3),\n",
       " ('juice, diaphoretic', 3),\n",
       " ('JANSSEN', 3),\n",
       " ('Water', 3),\n",
       " ('afib with first vaccination dose', 2),\n",
       " ('vaccine declined', 2),\n",
       " ('blurred vision', 2),\n",
       " ('zytrec', 2),\n",
       " ('15 yo accidently vaccinated', 2),\n",
       " ('syringe malfunction, Re-vaccinated, needle retacted immediately, vaccine leaked on skin',\n",
       "  2),\n",
       " ('juice and crackers  ', 2),\n",
       " ('juice and crackers', 2),\n",
       " ('tingling', 2),\n",
       " ('lip tingling', 2),\n",
       " ('venishing point, Medical device failure, second full dose administered', 2),\n",
       " ('WATER', 2),\n",
       " ('JANSSEN?', 2),\n",
       " ('ZYRTEC', 2),\n",
       " ('crackers', 2),\n",
       " ('diaphoretic, juice', 2),\n",
       " ('juice/crackers', 2),\n",
       " ('anticoag, anaphylaxis', 1),\n",
       " ('Went home, then ED next day', 1),\n",
       " ('hand laceration, fell outside', 1),\n",
       " ('66 female, near syncope', 1),\n",
       " ('COPD', 1),\n",
       " ('62 female near syncope', 1),\n",
       " ('chair broke/pt fell in observation rea', 1),\n",
       " ('vertigo', 1),\n",
       " ('tongue swelling, rash on face', 1),\n",
       " ('saline, vaccine concern', 1),\n",
       " ('hx fainting', 1),\n",
       " ('hx anaphyalactic shock', 1),\n",
       " ('hypotension 72/35', 1),\n",
       " ('pain at site', 1),\n",
       " ('pressure in throat', 1),\n",
       " ('transferred to car by wheelchair, not used to walking so much', 1),\n",
       " ('abdominal cramping -not vaccine related per pt.', 1),\n",
       " ('bad taste, lips tingly', 1),\n",
       " ('itching', 1),\n",
       " ('htn, ', 1),\n",
       " ('metallic taste, tongue felt swollen', 1),\n",
       " ('greiving recent family member death', 1),\n",
       " ('coughing fit', 1),\n",
       " ('Zyrtec 20mg', 1),\n",
       " ('chills', 1),\n",
       " ('back itching', 1),\n",
       " ('HR 101', 1),\n",
       " ('some kind of buzz', 1),\n",
       " ('hx of dementia, mild agitation', 1),\n",
       " ('headache/neck pain', 1),\n",
       " ('rash on arms', 1),\n",
       " ('BP 205/106, body shakes, blurry vision', 1),\n",
       " ('c/o feeling weird', 1),\n",
       " ('pressure on jaw/neck', 1),\n",
       " ('hypoglycemia, turned off Insulin pump', 1),\n",
       " ('headache, hands red/swelling', 1),\n",
       " ('EPI', 1),\n",
       " ('staff miscarriage', 1),\n",
       " ('feels something ;cannot verbalize what', 1),\n",
       " ('neck pain, hot sensation', 1),\n",
       " ('lip twitching', 1),\n",
       " ('throat tightness', 1),\n",
       " ('metallic taste/ cotton mouth', 1),\n",
       " ('zyrtec, throat felt swollen', 1),\n",
       " ('cough', 1),\n",
       " ('16 yo male vaccinated', 1),\n",
       " ('40 yo male bruising left arm', 1),\n",
       " ('redness of face', 1),\n",
       " ('EKG', 1),\n",
       " ('nausea, htn', 1),\n",
       " ('wheelchair', 1),\n",
       " ('13 yo vaccination accidental', 1),\n",
       " ('hx anaphylaxis, takes benadryl, zyretc, claritin', 1),\n",
       " ('diaphoretic, hx syncope, ', 1),\n",
       " (\"complete syncope - hopefully there's an MD note\", 1),\n",
       " ('breastfeeding risks of vaccination', 1),\n",
       " ('pt flushed, diaphoretic and crying', 1),\n",
       " (\"diaphoretic and couldn't stand up, not answering questions\", 1),\n",
       " ('hx of allergies, home meds cetirizine given , BP 203/100', 1),\n",
       " ('Epipen', 1),\n",
       " ('BP 200/137, etoh', 1),\n",
       " ('diaphoretic, hx of syncope, vasovagal, depression, hypthyroid,', 1),\n",
       " ('hx of nut allergy', 1),\n",
       " (\"pt's pmd requested 60 min obs\", 1),\n",
       " ('dm, chol, ', 1),\n",
       " ('asthma, bipolar', 1),\n",
       " ('left face numbness', 1),\n",
       " ('BP 224/118 MD cleared', 1),\n",
       " ('self administered insulin, Glucose 227', 1),\n",
       " ('albuterol', 1),\n",
       " ('right hip fracture, door closed on pt when exiting (to St. Francis)', 1),\n",
       " ('EPI pen, steroids, prescription', 1),\n",
       " ('diaphoretic, position changes', 1),\n",
       " ('BP 238/140, P=138', 1),\n",
       " ('dm, esrd, htn, bp 205/100, palpitations', 1),\n",
       " ('thigh vaccine', 1),\n",
       " ('right arm vaccination', 1),\n",
       " ('hx of dizziness to vaccine', 1),\n",
       " ('diaphoretic, AICD, AF in triage', 1),\n",
       " ('hematoma, bleeding, direct pressure', 1),\n",
       " ('tachy and throat', 1),\n",
       " ('needle phobia', 1),\n",
       " ('hx adverse event with medications', 1),\n",
       " ('human error, vaccine administered prior to needle entering skin', 1),\n",
       " ('no 2nd vax given 2/2 face rash', 1),\n",
       " ('syringe malfunction Pod B vs C.  Pt \"injected\" but no med administered.  2nd dose likely given',\n",
       "  1),\n",
       " ('fell getting out of char', 1),\n",
       " ('? Review - why VAERs w/o Note', 1),\n",
       " ('zyrtec given, hx of anaphylaxis', 1),\n",
       " ('pregnant', 1),\n",
       " ('hypotension BP 91/57', 1),\n",
       " ('throat lump, benadryl IM', 1),\n",
       " ('IM Benadryl', 1),\n",
       " ('Ambulance', 1),\n",
       " ('syringe malfunction', 1),\n",
       " ('?2nd dose administered', 1),\n",
       " ('epi-pen x2, zyrtec, albuterol', 1),\n",
       " ('syringe malfunction, repeat dose administered', 1),\n",
       " ('hypotension BP 82/60', 1),\n",
       " ('hypotension 80/38', 1),\n",
       " ('syringe malfunction, repeat vaccination', 1),\n",
       " ('hematoma, blood splash, with small needle', 1),\n",
       " ('breast feeding, dizzy', 1),\n",
       " ('syringe malfunction, 2nd dose administered', 1),\n",
       " ('hypoglycemia 41', 1),\n",
       " ('thigh', 1),\n",
       " ('hypotension', 1),\n",
       " ('po water', 1),\n",
       " ('BP 192/105', 1),\n",
       " ('htn 181/101', 1),\n",
       " ('ringing of the ears', 1),\n",
       " (\"obesity, can't sit in chair - vax in triage\", 1),\n",
       " ('assitance on/off bed', 1),\n",
       " ('double vision', 1),\n",
       " ('BP 98/56', 1),\n",
       " ('left arm numbness', 1),\n",
       " ('juice and crackers (syncope w/ head injury).  Found on floor.', 1),\n",
       " ('headache, took aspirin 81mg', 1),\n",
       " ('meds declined', 1),\n",
       " ('hypotension BP 83/48', 1),\n",
       " ('hypotension BP 91/50', 1),\n",
       " ('hypotension BP 92/51', 1),\n",
       " ('Hypotension BP 88/51', 1),\n",
       " ('??????', 1),\n",
       " ('hx allergy', 1),\n",
       " ('hx anxiety', 1),\n",
       " ('Zofran, Zertec', 1),\n",
       " ('declined vaccine ', 1),\n",
       " (\"pt states he's a doctor, declines 15 min obs\", 1),\n",
       " ('syringe malfunction, revaccinated', 1),\n",
       " ('zofran, prolonged hypotension 93/61', 1),\n",
       " ('home ativan 0.5mg, here zyrtec, likley anxiety', 1),\n",
       " ('93/61', 1),\n",
       " ('HR=121', 1),\n",
       " ('HR 104', 1),\n",
       " ('hr 106', 1),\n",
       " ('100/p', 1),\n",
       " ('diaphoretic, PO challenge', 1),\n",
       " ('juice crackers', 1),\n",
       " ('101/57', 1),\n",
       " ('syringe malfunction (liekly user error), blue syringe, vaccine splashed, no blood. Likely no vaccine administered. So Vaccine was readministered. ',\n",
       "  1),\n",
       " ('100/57', 1),\n",
       " ('TINGLING', 1),\n",
       " ('Albuterol (pt took their own for asthma exacerbation)', 1),\n",
       " ('189/101', 1),\n",
       " ('91/48', 1),\n",
       " ('EMS contact, Pt Declines Transport', 1),\n",
       " ('88/64 for 5 min LOC, ', 1),\n",
       " ('Tx: IV x 0.5L NS, zofran, foundo nside shaking, unresponsive x 52 seconds, ',\n",
       "  1),\n",
       " ('HR 120, water', 1),\n",
       " ('chest tightness', 1),\n",
       " ('65/22, ', 1),\n",
       " ('diaphoretic, hx of syncope', 1),\n",
       " ('172/104', 1),\n",
       " ('hx syncope', 1),\n",
       " ('100/70, diaphoretic, juice crackers', 1),\n",
       " ('Left knee pain', 1),\n",
       " ('juice, water', 1),\n",
       " ('re-vaccination, employee splash to eye (this is the pt chart)', 1),\n",
       " ('92/palp', 1),\n",
       " ('empolyee, received eye splash', 1),\n",
       " ('79/58, Juice crackers', 1),\n",
       " ('200/111', 1),\n",
       " ('68/34', 1),\n",
       " ('migraines, tingling', 1),\n",
       " ('juice, numbness', 1),\n",
       " ('needle manfunction, 2nd dose readministered', 1),\n",
       " ('Zyrtec,h/o anaphylax', 1),\n",
       " ('employee needlestick', 1),\n",
       " ('Left CP x 20min, EMS', 1),\n",
       " ('?CVA, left leg weakness BP 159/99', 1),\n",
       " ('dizzy, diarrhea', 1),\n",
       " ('water, diaphoretic', 1),\n",
       " ('HEADACHE', 1),\n",
       " ('zyrtec, lip swelling', 1),\n",
       " ('99/55', 1),\n",
       " ('juice, crackers', 1),\n",
       " ('Zofran, Oxygen, ', 1),\n",
       " ('BP= 82/42', 1),\n",
       " ('diaphoretic; juice', 1),\n",
       " ('received 2 doses within 7 days', 1),\n",
       " ('assualts; police @ moscone', 1),\n",
       " ('BP 97/56, juice', 1),\n",
       " ('zyrtec 20 mL', 1),\n",
       " ('Heart raising', 1),\n",
       " ('derm appt tomorrow', 1),\n",
       " ('?ACS, EMS called, Zyrtec, Albuterol, EKG, but refused transport', 1),\n",
       " ('wants BP taken', 1),\n",
       " ('15 yo not vaccinated @ second appt., accidently vaccinated previously here',\n",
       "  1),\n",
       " ('rate 150 iPhone watch', 1),\n",
       " ('2nd dose withheld by md 2/2 throat', 1),\n",
       " ('re-vaccination 2/2 leakage', 1),\n",
       " ('AMBULANCE TO ED, syncope face plant', 1),\n",
       " ('palpitations, declined MD consult', 1),\n",
       " ('vaccination for privacy (modest, muslim)', 1),\n",
       " ('zyrtec? For dizziness?', 1),\n",
       " (\"zofran, seizure, AMR evaluated, pt ama'd went home after moscone\", 1),\n",
       " ('benadryl IM', 1),\n",
       " ('mechanical heart valve, warfarin', 1),\n",
       " ('zyrtec. (no MD?)', 1),\n",
       " ('water, diaphoretic, vomiting, anxiety with needles and crowds', 1),\n",
       " ('juice, pregnant', 1),\n",
       " (\"zyrtec, albuterol, dc'd w/ Epi-pen, itchythroat, tongue swelling\", 1),\n",
       " ('ice pack, water', 1),\n",
       " ('hx of developmental delay', 1),\n",
       " ('zofran,vomiting x 5', 1),\n",
       " ('JANSSEN, syncope w/ Head Laceration', 1),\n",
       " ('zyrtec (no MD?)', 1),\n",
       " ('JANSSEN, scalp hematoma', 1),\n",
       " ('JANSSEN? 89/45', 1),\n",
       " ('National Quality Issue', 1),\n",
       " ('zyrtec & zofran', 1),\n",
       " ('heavy etoh, nausea', 1),\n",
       " ('syncope with face laceration, Diaphoretic, face plant', 1),\n",
       " ('student, employee, needlestick', 1),\n",
       " ('zyrtec, employee, but reaction was 2/2 creamer, not vaccine related.', 1),\n",
       " ('blood exposure, source pt', 1),\n",
       " ('employee, HTN urgency, left work', 1),\n",
       " ('re-vaccination 2/2 user error, vax-splash', 1),\n",
       " ('employee splash, ', 1),\n",
       " ('aspirin', 1),\n",
       " ('Albuterol, JUICE', 1),\n",
       " ('METALLIC TASTE', 1),\n",
       " ('Employee, needle stick', 1),\n",
       " ('zyrtec premedication', 1),\n",
       " ('ZOFRAN', 1),\n",
       " ('zofran, x2 doses', 1),\n",
       " ('albuterol, 2L 02 x 10min ', 1),\n",
       " ('Syncope, juice', 1),\n",
       " ('HR 120', 1),\n",
       " ('revaccinated', 1),\n",
       " ('feeding tube', 1),\n",
       " ('zyrtec declined', 1),\n",
       " ('orthostatic hypotension, and local reaction', 1),\n",
       " ('FULL SYNCOPE', 1),\n",
       " ('Lip tiggling', 1),\n",
       " ('laceration', 1),\n",
       " ('Juice, water', 1),\n",
       " ('Heart pounding, dizzy', 1),\n",
       " ('syncope, fall', 1),\n",
       " ('employee, CVA', 1),\n",
       " ('Syncope x2, fall, ? Seizure x10, HR 37, juice', 1),\n",
       " ('took home Xanax @ Moscone', 1),\n",
       " ('Syncope', 1),\n",
       " ('Took home Xanax @ Moscone', 1),\n",
       " ('Water, diaphoretic', 1),\n",
       " ('Juice, syncope, head injury, fall', 1),\n",
       " ('Zofran x2, 88/46, HR 52', 1),\n",
       " (\"urticaria tx'd with Zyrtec, then SOB, treated with  EPI 0.3mg IM\", 1),\n",
       " ('Lip swelling', 1),\n",
       " ('witnessed syncope, diaphoretic', 1),\n",
       " ('re-vaccination, syringe malfunction ', 1),\n",
       " ('syncope, seizure, Head injury', 1),\n",
       " ('juice, hx of valve replacement, on eliquis, GI bleed, transfusion', 1),\n",
       " ('second dose declined by MD, given pt had significant allergic reactions to first dose, requiring ER transport. ',\n",
       "  1),\n",
       " ('dizzy, chest pain, transport to ER', 1),\n",
       " ('Syncope, fell out of chair', 1),\n",
       " ('AMA before Obs ended', 1),\n",
       " ('Had urticaria after 1st dose.  Took her own zyrtec after current, 2nd dose',\n",
       "  1),\n",
       " ('syringe malfunction, leur lock, user error, vaccine leakage, re-vaccination',\n",
       "  1),\n",
       " ('headche, ?ealy migraine, Imitrex', 1),\n",
       " ('juice, 27 wk pregnant, nausea post vaccine', 1),\n",
       " ('zyrtec, HR=40s, EMS contact, AMA/no transport, ', 1),\n",
       " ('zyrtec 10mg', 1)]"
      ]
     },
     "execution_count": 16,
     "metadata": {},
     "output_type": "execute_result"
    }
   ],
   "source": [
    "Counter(df['Notes']).most_common()"
   ]
  },
  {
   "cell_type": "code",
   "execution_count": 18,
   "id": "bfcdfe56",
   "metadata": {},
   "outputs": [
    {
     "data": {
      "text/plain": [
       "Index(['Date', 'SYMPTOMS', 'Patient observation site', 'Dispottion to',\n",
       "       'Gender', 'Observation length of stay min', 'Age', 'Intervention',\n",
       "       'Notes', 'n'],\n",
       "      dtype='object')"
      ]
     },
     "execution_count": 18,
     "metadata": {},
     "output_type": "execute_result"
    }
   ],
   "source": [
    "df.columns"
   ]
  },
  {
   "cell_type": "code",
   "execution_count": 29,
   "id": "a3d006ed",
   "metadata": {
    "scrolled": true
   },
   "outputs": [
    {
     "name": "stderr",
     "output_type": "stream",
     "text": [
      "[feature_utils.py:164 - remove_node_column_from_ndf_and_return_ndf_from_res() ] removing node column `n` so we do not featurize it\n",
      "[feature_utils.py:802 - get_dataframe_columns() ] returning DataFrame with columns `['SYMPTOMS', 'Dispottion to', 'Gender', 'Intervention', 'Notes']`\n",
      "[feature_utils.py:434 - check_if_textual_column() ] \n",
      "\tColumn `Dispottion to` looks textual with mean number of words 3.13\n",
      "[feature_utils.py:434 - check_if_textual_column() ] \n",
      "\tColumn `Intervention` looks textual with mean number of words 3.06\n",
      "[feature_utils.py:484 -       encode_textual() ] -Calculating Embeddings for column `Dispottion to`\n",
      "[feature_utils.py:484 -       encode_textual() ] -Calculating Embeddings for column `Intervention`\n",
      "[feature_utils.py:487 -       encode_textual() ] Encoded Textual data at 3989.94 rows per column minute\n",
      "[feature_utils.py:611 - process_dirty_dataframes() ] Encoding DataFrame might take a few minutes --------\n",
      "[feature_utils.py:616 - process_dirty_dataframes() ] -Shape of data (1737, 57)\n",
      "\n",
      "[feature_utils.py:617 - process_dirty_dataframes() ] -Transformers: [('low_card_cat', OneHotEncoder(), ['SYMPTOMS', 'Gender']), ('high_card_cat', GapEncoder(n_components=42), ['Notes'])]\n",
      "\n",
      "[feature_utils.py:618 - process_dirty_dataframes() ] -Transformed Columns: ['SYMPTOMS_Allergy', 'SYMPTOMS_Allergy - Skin', 'SYMPTOMS_Falls', 'SYMPTOMS_Local', 'SYMPTOMS_N / V', 'SYMPTOMS_Other', 'SYMPTOMS_SOB', 'SYMPTOMS_Syncope', 'SYMPTOMS_anxiety', 'SYMPTOMS_cardiac', 'SYMPTOMS_dizzy', \"SYMPTOMS_throat sx's\", 'Gender_', 'Gender_Female', 'Gender_Male', 'Notes: doctor, requested, modest', 'Notes: diaphoretic, phobia, iphone', 'Notes: vaccine, liekly, error', 'Notes: readministered, administered, syringe', 'Notes: bipolar, quality, asthma']...\n",
      "\n",
      "[feature_utils.py:619 - process_dirty_dataframes() ] --Fitting on Data took 0.03 minutes\n",
      "\n",
      "[feature_utils.py:559 - process_textual_or_other_dataframes() ] --The entire Textual and/or other encoding process took 0.24 minutes\n"
     ]
    }
   ],
   "source": [
    "# whats nice about .featurize is we don't need to do any data munging (JUICE -> juice etc), \n",
    "# the textual AI will understand that\n",
    "# We featurize the following columns (do not add Date, unless coerced to string)\n",
    "# the following produces interesting visual journey of the data:\n",
    "\n",
    "g2 = g.nodes(df, 'n').featurize(use_columns=['SYMPTOMS',\n",
    " 'Dispottion to',\n",
    " 'Gender',\n",
    " 'Intervention',\n",
    " #'Patient observation site', # not interesting\n",
    " #'Observation length of stay min', # not that interesting\n",
    " #'Age',                            # interesting but for outside analysis               \n",
    " 'Notes'])"
   ]
  },
  {
   "cell_type": "code",
   "execution_count": 30,
   "id": "e805bfe4",
   "metadata": {},
   "outputs": [
    {
     "name": "stderr",
     "output_type": "stream",
     "text": [
      "[feature_utils.py:1045 -                 umap() ] There are repeat entities in node table, we will not relabel nodes\n",
      "[feature_utils.py:920 - _featurize_or_get_nodes_data_if_X_is_None() ] Found Node features in `res`\n",
      "[feature_utils.py:932 - _featurize_or_get_nodes_data_if_X_is_None() ] Fetching `node_target` in `res`. Target is type <class 'NoneType'>\n",
      "[umap_utils.py:92 -                  fit() ] Starting UMAP-ing data of shape (1737, 825)\n",
      "[umap_utils.py:105 -      _edge_influence() ] Calculating weighted adjacency (edge) DataFrame\n",
      "[umap_utils.py:96 -                  fit() ] -UMAP-ing took 0.18 minutes total\n",
      "[umap_utils.py:97 -                  fit() ]  - or 9752.97 rows per minute\n",
      "[feature_utils.py:778 - prune_weighted_edges_df() ] Pruning weighted edge DataFrame from 31356 to 24978 edges\n"
     ]
    }
   ],
   "source": [
    "g3 = g2.umap(scale=0.3) # needs low scale as edge weights are highly non-gaussian (box-cox would help)"
   ]
  },
  {
   "cell_type": "code",
   "execution_count": 22,
   "id": "8d29835a",
   "metadata": {},
   "outputs": [
    {
     "data": {
      "text/html": [
       "<div>\n",
       "<style scoped>\n",
       "    .dataframe tbody tr th:only-of-type {\n",
       "        vertical-align: middle;\n",
       "    }\n",
       "\n",
       "    .dataframe tbody tr th {\n",
       "        vertical-align: top;\n",
       "    }\n",
       "\n",
       "    .dataframe thead th {\n",
       "        text-align: right;\n",
       "    }\n",
       "</style>\n",
       "<table border=\"1\" class=\"dataframe\">\n",
       "  <thead>\n",
       "    <tr style=\"text-align: right;\">\n",
       "      <th></th>\n",
       "      <th>_src</th>\n",
       "      <th>_dst</th>\n",
       "      <th>weight</th>\n",
       "    </tr>\n",
       "  </thead>\n",
       "  <tbody>\n",
       "    <tr>\n",
       "      <th>6</th>\n",
       "      <td>0</td>\n",
       "      <td>998</td>\n",
       "      <td>1.000000</td>\n",
       "    </tr>\n",
       "    <tr>\n",
       "      <th>13</th>\n",
       "      <td>1</td>\n",
       "      <td>25</td>\n",
       "      <td>1.000000</td>\n",
       "    </tr>\n",
       "    <tr>\n",
       "      <th>29</th>\n",
       "      <td>2</td>\n",
       "      <td>173</td>\n",
       "      <td>1.000000</td>\n",
       "    </tr>\n",
       "    <tr>\n",
       "      <th>35</th>\n",
       "      <td>2</td>\n",
       "      <td>1527</td>\n",
       "      <td>0.932380</td>\n",
       "    </tr>\n",
       "    <tr>\n",
       "      <th>36</th>\n",
       "      <td>3</td>\n",
       "      <td>11</td>\n",
       "      <td>0.637480</td>\n",
       "    </tr>\n",
       "    <tr>\n",
       "      <th>...</th>\n",
       "      <td>...</td>\n",
       "      <td>...</td>\n",
       "      <td>...</td>\n",
       "    </tr>\n",
       "    <tr>\n",
       "      <th>25801</th>\n",
       "      <td>1735</td>\n",
       "      <td>1298</td>\n",
       "      <td>0.686397</td>\n",
       "    </tr>\n",
       "    <tr>\n",
       "      <th>25805</th>\n",
       "      <td>1735</td>\n",
       "      <td>1619</td>\n",
       "      <td>0.754393</td>\n",
       "    </tr>\n",
       "    <tr>\n",
       "      <th>25817</th>\n",
       "      <td>1736</td>\n",
       "      <td>568</td>\n",
       "      <td>1.000000</td>\n",
       "    </tr>\n",
       "    <tr>\n",
       "      <th>25818</th>\n",
       "      <td>1736</td>\n",
       "      <td>608</td>\n",
       "      <td>1.000000</td>\n",
       "    </tr>\n",
       "    <tr>\n",
       "      <th>25822</th>\n",
       "      <td>1736</td>\n",
       "      <td>1528</td>\n",
       "      <td>0.615196</td>\n",
       "    </tr>\n",
       "  </tbody>\n",
       "</table>\n",
       "<p>7242 rows × 3 columns</p>\n",
       "</div>"
      ],
      "text/plain": [
       "       _src  _dst    weight\n",
       "6         0   998  1.000000\n",
       "13        1    25  1.000000\n",
       "29        2   173  1.000000\n",
       "35        2  1527  0.932380\n",
       "36        3    11  0.637480\n",
       "...     ...   ...       ...\n",
       "25801  1735  1298  0.686397\n",
       "25805  1735  1619  0.754393\n",
       "25817  1736   568  1.000000\n",
       "25818  1736   608  1.000000\n",
       "25822  1736  1528  0.615196\n",
       "\n",
       "[7242 rows x 3 columns]"
      ]
     },
     "execution_count": 22,
     "metadata": {},
     "output_type": "execute_result"
    }
   ],
   "source": [
    "g3.weighted_edges_df_from_nodes  # implicit edges from featurization and umap"
   ]
  },
  {
   "cell_type": "code",
   "execution_count": 31,
   "id": "2374d95b",
   "metadata": {
    "scrolled": false
   },
   "outputs": [
    {
     "data": {
      "text/html": [
       "\n",
       "            <iframe id=\"57f0b37b-982d-480c-a433-81028babc139\" src=\"https://hub.graphistry.com/graph/graph.html?dataset=16e733dc216e4a80bdc8039e417aaf8f&type=arrow&viztoken=775a68b4-39db-441f-ad6a-47a3b9464009&usertag=f680a57a-pygraphistry-0.20.5+80.g6e2308b92.dirty&splashAfter=1645037075&info=true&play=0\"\n",
       "                    allowfullscreen=\"true\" webkitallowfullscreen=\"true\" mozallowfullscreen=\"true\"\n",
       "                    oallowfullscreen=\"true\" msallowfullscreen=\"true\"\n",
       "                    style=\"width:100%; height:500px; border: 1px solid #DDD; overflow: hidden\"\n",
       "                    \n",
       "            >\n",
       "            </iframe>\n",
       "        \n",
       "            <script>\n",
       "                try {\n",
       "                  $(\"#57f0b37b-982d-480c-a433-81028babc139\").bind('mousewheel', function(e) { e.preventDefault(); });\n",
       "                } catch (e) { console.error('exn catching scroll', e); }\n",
       "            </script>\n",
       "        "
      ],
      "text/plain": [
       "<IPython.core.display.HTML object>"
      ]
     },
     "execution_count": 31,
     "metadata": {},
     "output_type": "execute_result"
    }
   ],
   "source": [
    "g3.bind(point_title='Notes').plot()"
   ]
  },
  {
   "cell_type": "code",
   "execution_count": 32,
   "id": "5cf46f73",
   "metadata": {
    "scrolled": false
   },
   "outputs": [
    {
     "data": {
      "text/html": [
       "\n",
       "            <iframe id=\"3fa62e9a-4519-488c-811e-1ca79792dab5\" src=\"https://hub.graphistry.com/graph/graph.html?dataset=7d5073feee28478c9261279a973d749d&type=arrow&viztoken=57bd1ee2-dd2e-4554-ba71-4ee6a725dc2d&usertag=f680a57a-pygraphistry-0.20.5+80.g6e2308b92.dirty&splashAfter=1645037077&info=true&play=0\"\n",
       "                    allowfullscreen=\"true\" webkitallowfullscreen=\"true\" mozallowfullscreen=\"true\"\n",
       "                    oallowfullscreen=\"true\" msallowfullscreen=\"true\"\n",
       "                    style=\"width:100%; height:500px; border: 1px solid #DDD; overflow: hidden\"\n",
       "                    \n",
       "            >\n",
       "            </iframe>\n",
       "        \n",
       "            <script>\n",
       "                try {\n",
       "                  $(\"#3fa62e9a-4519-488c-811e-1ca79792dab5\").bind('mousewheel', function(e) { e.preventDefault(); });\n",
       "                } catch (e) { console.error('exn catching scroll', e); }\n",
       "            </script>\n",
       "        "
      ],
      "text/plain": [
       "<IPython.core.display.HTML object>"
      ]
     },
     "execution_count": 32,
     "metadata": {},
     "output_type": "execute_result"
    }
   ],
   "source": [
    "g3.bind(point_title='SYMPTOMS').plot()"
   ]
  },
  {
   "cell_type": "code",
   "execution_count": null,
   "id": "a208b137",
   "metadata": {},
   "outputs": [],
   "source": []
  },
  {
   "cell_type": "code",
   "execution_count": null,
   "id": "640a1a8d",
   "metadata": {},
   "outputs": [],
   "source": []
  }
 ],
 "metadata": {
  "kernelspec": {
   "display_name": "Python 3 (ipykernel)",
   "language": "python",
   "name": "python3"
  },
  "language_info": {
   "codemirror_mode": {
    "name": "ipython",
    "version": 3
   },
   "file_extension": ".py",
   "mimetype": "text/x-python",
   "name": "python",
   "nbconvert_exporter": "python",
   "pygments_lexer": "ipython3",
   "version": "3.8.9"
  }
 },
 "nbformat": 4,
 "nbformat_minor": 5
}
