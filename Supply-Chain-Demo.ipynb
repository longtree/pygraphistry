{
 "cells": [
  {
   "cell_type": "code",
   "execution_count": 1,
   "id": "c6d29924",
   "metadata": {},
   "outputs": [],
   "source": [
    "import graphistry\n",
    "import pandas as pd\n",
    "import os\n",
    "from collections import Counter\n",
    "from importlib import reload\n",
    "\n",
    "import warnings\n",
    "warnings.filterwarnings('ignore')"
   ]
  },
  {
   "cell_type": "code",
   "execution_count": 2,
   "id": "34c6b2b0",
   "metadata": {},
   "outputs": [],
   "source": [
    "graphistry.register(api=3, protocol=\"https\", server=\"hub.graphistry.com\", username=\"silkspace\", password=\"yqQg02&N\") "
   ]
  },
  {
   "cell_type": "code",
   "execution_count": 3,
   "id": "c2e4c6ac",
   "metadata": {},
   "outputs": [],
   "source": [
    "from graphistry.ai_utils import *\n",
    "from graphistry.feature_utils import *\n",
    "\n",
    "from data import get_amazon_dataframe\n",
    "\n",
    "import umap.plot"
   ]
  },
  {
   "cell_type": "code",
   "execution_count": 4,
   "id": "0211f96a",
   "metadata": {},
   "outputs": [
    {
     "name": "stderr",
     "output_type": "stream",
     "text": [
      "[__init__.py:18 - get_amazon_dataframe() ] Loading Amazon Data\n"
     ]
    }
   ],
   "source": [
    "ndf, edf = get_amazon_dataframe()"
   ]
  },
  {
   "cell_type": "code",
   "execution_count": 5,
   "id": "2cbb8b97",
   "metadata": {},
   "outputs": [],
   "source": [
    "ndf = ndf.fillna('').astype(str)"
   ]
  },
  {
   "cell_type": "code",
   "execution_count": 6,
   "id": "a4fbdb6c",
   "metadata": {},
   "outputs": [],
   "source": [
    "edf = edf.fillna('').astype(str)"
   ]
  },
  {
   "cell_type": "code",
   "execution_count": 7,
   "id": "3e29c09c",
   "metadata": {},
   "outputs": [],
   "source": [
    "rev_edf = edf[edf.revenue_pct!=''] # only a few of these"
   ]
  },
  {
   "cell_type": "code",
   "execution_count": 8,
   "id": "a4880f31",
   "metadata": {},
   "outputs": [
    {
     "data": {
      "text/html": [
       "<div>\n",
       "<style scoped>\n",
       "    .dataframe tbody tr th:only-of-type {\n",
       "        vertical-align: middle;\n",
       "    }\n",
       "\n",
       "    .dataframe tbody tr th {\n",
       "        vertical-align: top;\n",
       "    }\n",
       "\n",
       "    .dataframe thead th {\n",
       "        text-align: right;\n",
       "    }\n",
       "</style>\n",
       "<table border=\"1\" class=\"dataframe\">\n",
       "  <thead>\n",
       "    <tr style=\"text-align: right;\">\n",
       "      <th></th>\n",
       "      <th>to</th>\n",
       "      <th>reln</th>\n",
       "      <th>rel_type_desc</th>\n",
       "      <th>revenue_pct</th>\n",
       "      <th>scr_tier</th>\n",
       "      <th>title</th>\n",
       "      <th>full_name</th>\n",
       "      <th>entity_proper_name</th>\n",
       "      <th>entity_type</th>\n",
       "      <th>address_id</th>\n",
       "      <th>longitude</th>\n",
       "      <th>latitude</th>\n",
       "      <th>from</th>\n",
       "    </tr>\n",
       "  </thead>\n",
       "  <tbody>\n",
       "    <tr>\n",
       "      <th>115</th>\n",
       "      <td>05HF3F-E</td>\n",
       "      <td>Customer</td>\n",
       "      <td>Customer</td>\n",
       "      <td>1.9</td>\n",
       "      <td>2.0</td>\n",
       "      <td></td>\n",
       "      <td></td>\n",
       "      <td></td>\n",
       "      <td></td>\n",
       "      <td></td>\n",
       "      <td></td>\n",
       "      <td></td>\n",
       "      <td>05HRGQ-E</td>\n",
       "    </tr>\n",
       "    <tr>\n",
       "      <th>144</th>\n",
       "      <td>007SJT-E</td>\n",
       "      <td>Customer</td>\n",
       "      <td>Customer</td>\n",
       "      <td>0.6</td>\n",
       "      <td>2.0</td>\n",
       "      <td></td>\n",
       "      <td></td>\n",
       "      <td></td>\n",
       "      <td></td>\n",
       "      <td></td>\n",
       "      <td></td>\n",
       "      <td></td>\n",
       "      <td>001Q08-E</td>\n",
       "    </tr>\n",
       "    <tr>\n",
       "      <th>176</th>\n",
       "      <td>0FPWZZ-E</td>\n",
       "      <td>Customer</td>\n",
       "      <td>Customer</td>\n",
       "      <td>1.6</td>\n",
       "      <td>2.0</td>\n",
       "      <td></td>\n",
       "      <td></td>\n",
       "      <td></td>\n",
       "      <td></td>\n",
       "      <td></td>\n",
       "      <td></td>\n",
       "      <td></td>\n",
       "      <td>00D81S-E</td>\n",
       "    </tr>\n",
       "    <tr>\n",
       "      <th>193</th>\n",
       "      <td>000YMS-E</td>\n",
       "      <td>Customer</td>\n",
       "      <td>Customer</td>\n",
       "      <td>4.5</td>\n",
       "      <td>2.0</td>\n",
       "      <td></td>\n",
       "      <td></td>\n",
       "      <td></td>\n",
       "      <td></td>\n",
       "      <td></td>\n",
       "      <td></td>\n",
       "      <td></td>\n",
       "      <td>000BPP-E</td>\n",
       "    </tr>\n",
       "    <tr>\n",
       "      <th>206</th>\n",
       "      <td>05LL2F-E</td>\n",
       "      <td>Customer</td>\n",
       "      <td>Customer</td>\n",
       "      <td>29.0</td>\n",
       "      <td>2.0</td>\n",
       "      <td></td>\n",
       "      <td></td>\n",
       "      <td></td>\n",
       "      <td></td>\n",
       "      <td></td>\n",
       "      <td></td>\n",
       "      <td></td>\n",
       "      <td>00FBM5-E</td>\n",
       "    </tr>\n",
       "    <tr>\n",
       "      <th>...</th>\n",
       "      <td>...</td>\n",
       "      <td>...</td>\n",
       "      <td>...</td>\n",
       "      <td>...</td>\n",
       "      <td>...</td>\n",
       "      <td>...</td>\n",
       "      <td>...</td>\n",
       "      <td>...</td>\n",
       "      <td>...</td>\n",
       "      <td>...</td>\n",
       "      <td>...</td>\n",
       "      <td>...</td>\n",
       "      <td>...</td>\n",
       "    </tr>\n",
       "    <tr>\n",
       "      <th>9691</th>\n",
       "      <td>000LNN-E</td>\n",
       "      <td>Customer</td>\n",
       "      <td>Customer</td>\n",
       "      <td>10.0</td>\n",
       "      <td>2.0</td>\n",
       "      <td></td>\n",
       "      <td></td>\n",
       "      <td></td>\n",
       "      <td></td>\n",
       "      <td></td>\n",
       "      <td></td>\n",
       "      <td></td>\n",
       "      <td>000N01-E</td>\n",
       "    </tr>\n",
       "    <tr>\n",
       "      <th>9704</th>\n",
       "      <td>000DS6-E</td>\n",
       "      <td>Customer</td>\n",
       "      <td>Customer</td>\n",
       "      <td>12.0</td>\n",
       "      <td>2.0</td>\n",
       "      <td></td>\n",
       "      <td></td>\n",
       "      <td></td>\n",
       "      <td></td>\n",
       "      <td></td>\n",
       "      <td></td>\n",
       "      <td></td>\n",
       "      <td>005V34-E</td>\n",
       "    </tr>\n",
       "    <tr>\n",
       "      <th>9711</th>\n",
       "      <td>0B999H-E</td>\n",
       "      <td>Customer</td>\n",
       "      <td>Customer</td>\n",
       "      <td>100.0</td>\n",
       "      <td>2.0</td>\n",
       "      <td></td>\n",
       "      <td></td>\n",
       "      <td></td>\n",
       "      <td></td>\n",
       "      <td></td>\n",
       "      <td></td>\n",
       "      <td></td>\n",
       "      <td>0CY7JS-E</td>\n",
       "    </tr>\n",
       "    <tr>\n",
       "      <th>9713</th>\n",
       "      <td>069J8N-E</td>\n",
       "      <td>Customer</td>\n",
       "      <td>Customer</td>\n",
       "      <td>16.0</td>\n",
       "      <td>2.0</td>\n",
       "      <td></td>\n",
       "      <td></td>\n",
       "      <td></td>\n",
       "      <td></td>\n",
       "      <td></td>\n",
       "      <td></td>\n",
       "      <td></td>\n",
       "      <td>001FR9-E</td>\n",
       "    </tr>\n",
       "    <tr>\n",
       "      <th>9758</th>\n",
       "      <td>000YMS-E</td>\n",
       "      <td>Customer</td>\n",
       "      <td>Customer</td>\n",
       "      <td>12.0</td>\n",
       "      <td>2.0</td>\n",
       "      <td></td>\n",
       "      <td></td>\n",
       "      <td></td>\n",
       "      <td></td>\n",
       "      <td></td>\n",
       "      <td></td>\n",
       "      <td></td>\n",
       "      <td>0FMC5G-E</td>\n",
       "    </tr>\n",
       "  </tbody>\n",
       "</table>\n",
       "<p>267 rows × 13 columns</p>\n",
       "</div>"
      ],
      "text/plain": [
       "            to      reln rel_type_desc revenue_pct scr_tier title full_name  \\\n",
       "115   05HF3F-E  Customer      Customer         1.9      2.0                   \n",
       "144   007SJT-E  Customer      Customer         0.6      2.0                   \n",
       "176   0FPWZZ-E  Customer      Customer         1.6      2.0                   \n",
       "193   000YMS-E  Customer      Customer         4.5      2.0                   \n",
       "206   05LL2F-E  Customer      Customer        29.0      2.0                   \n",
       "...        ...       ...           ...         ...      ...   ...       ...   \n",
       "9691  000LNN-E  Customer      Customer        10.0      2.0                   \n",
       "9704  000DS6-E  Customer      Customer        12.0      2.0                   \n",
       "9711  0B999H-E  Customer      Customer       100.0      2.0                   \n",
       "9713  069J8N-E  Customer      Customer        16.0      2.0                   \n",
       "9758  000YMS-E  Customer      Customer        12.0      2.0                   \n",
       "\n",
       "     entity_proper_name entity_type address_id longitude latitude      from  \n",
       "115                                                                05HRGQ-E  \n",
       "144                                                                001Q08-E  \n",
       "176                                                                00D81S-E  \n",
       "193                                                                000BPP-E  \n",
       "206                                                                00FBM5-E  \n",
       "...                 ...         ...        ...       ...      ...       ...  \n",
       "9691                                                               000N01-E  \n",
       "9704                                                               005V34-E  \n",
       "9711                                                               0CY7JS-E  \n",
       "9713                                                               001FR9-E  \n",
       "9758                                                               0FMC5G-E  \n",
       "\n",
       "[267 rows x 13 columns]"
      ]
     },
     "execution_count": 8,
     "metadata": {},
     "output_type": "execute_result"
    }
   ],
   "source": [
    "rev_edf"
   ]
  },
  {
   "cell_type": "code",
   "execution_count": 9,
   "id": "53407324",
   "metadata": {},
   "outputs": [],
   "source": [
    "src, dst = 'to', 'from'\n",
    "good_edge_cols = ['to', 'from', 'reln', 'entity_type']"
   ]
  },
  {
   "cell_type": "code",
   "execution_count": 10,
   "id": "a0d1cc86",
   "metadata": {},
   "outputs": [],
   "source": [
    "edf = edf[edf.reln!='location']#[good_edge_cols]"
   ]
  },
  {
   "cell_type": "code",
   "execution_count": 11,
   "id": "6cd8fc9e",
   "metadata": {},
   "outputs": [
    {
     "data": {
      "text/html": [
       "<div>\n",
       "<style scoped>\n",
       "    .dataframe tbody tr th:only-of-type {\n",
       "        vertical-align: middle;\n",
       "    }\n",
       "\n",
       "    .dataframe tbody tr th {\n",
       "        vertical-align: top;\n",
       "    }\n",
       "\n",
       "    .dataframe thead th {\n",
       "        text-align: right;\n",
       "    }\n",
       "</style>\n",
       "<table border=\"1\" class=\"dataframe\">\n",
       "  <thead>\n",
       "    <tr style=\"text-align: right;\">\n",
       "      <th></th>\n",
       "      <th>to</th>\n",
       "      <th>reln</th>\n",
       "      <th>rel_type_desc</th>\n",
       "      <th>revenue_pct</th>\n",
       "      <th>scr_tier</th>\n",
       "      <th>title</th>\n",
       "      <th>full_name</th>\n",
       "      <th>entity_proper_name</th>\n",
       "      <th>entity_type</th>\n",
       "      <th>address_id</th>\n",
       "      <th>longitude</th>\n",
       "      <th>latitude</th>\n",
       "      <th>from</th>\n",
       "    </tr>\n",
       "  </thead>\n",
       "  <tbody>\n",
       "    <tr>\n",
       "      <th>0</th>\n",
       "      <td>000YWC-E</td>\n",
       "      <td>parent</td>\n",
       "      <td></td>\n",
       "      <td></td>\n",
       "      <td></td>\n",
       "      <td></td>\n",
       "      <td></td>\n",
       "      <td></td>\n",
       "      <td></td>\n",
       "      <td></td>\n",
       "      <td></td>\n",
       "      <td></td>\n",
       "      <td>0C9SR9-E</td>\n",
       "    </tr>\n",
       "    <tr>\n",
       "      <th>1</th>\n",
       "      <td>001MF1-E</td>\n",
       "      <td>parent</td>\n",
       "      <td></td>\n",
       "      <td></td>\n",
       "      <td></td>\n",
       "      <td></td>\n",
       "      <td></td>\n",
       "      <td></td>\n",
       "      <td></td>\n",
       "      <td></td>\n",
       "      <td></td>\n",
       "      <td></td>\n",
       "      <td>0FQKC6-E</td>\n",
       "    </tr>\n",
       "    <tr>\n",
       "      <th>2</th>\n",
       "      <td>001MF1-E</td>\n",
       "      <td>parent</td>\n",
       "      <td></td>\n",
       "      <td></td>\n",
       "      <td></td>\n",
       "      <td></td>\n",
       "      <td></td>\n",
       "      <td></td>\n",
       "      <td></td>\n",
       "      <td></td>\n",
       "      <td></td>\n",
       "      <td></td>\n",
       "      <td>09B2DQ-E</td>\n",
       "    </tr>\n",
       "    <tr>\n",
       "      <th>3</th>\n",
       "      <td>000YWC-E</td>\n",
       "      <td>parent</td>\n",
       "      <td></td>\n",
       "      <td></td>\n",
       "      <td></td>\n",
       "      <td></td>\n",
       "      <td></td>\n",
       "      <td></td>\n",
       "      <td></td>\n",
       "      <td></td>\n",
       "      <td></td>\n",
       "      <td></td>\n",
       "      <td>0C9VBD-E</td>\n",
       "    </tr>\n",
       "    <tr>\n",
       "      <th>4</th>\n",
       "      <td>001MF1-E</td>\n",
       "      <td>parent</td>\n",
       "      <td></td>\n",
       "      <td></td>\n",
       "      <td></td>\n",
       "      <td></td>\n",
       "      <td></td>\n",
       "      <td></td>\n",
       "      <td></td>\n",
       "      <td></td>\n",
       "      <td></td>\n",
       "      <td></td>\n",
       "      <td>000YWC-E</td>\n",
       "    </tr>\n",
       "    <tr>\n",
       "      <th>...</th>\n",
       "      <td>...</td>\n",
       "      <td>...</td>\n",
       "      <td>...</td>\n",
       "      <td>...</td>\n",
       "      <td>...</td>\n",
       "      <td>...</td>\n",
       "      <td>...</td>\n",
       "      <td>...</td>\n",
       "      <td>...</td>\n",
       "      <td>...</td>\n",
       "      <td>...</td>\n",
       "      <td>...</td>\n",
       "      <td>...</td>\n",
       "    </tr>\n",
       "    <tr>\n",
       "      <th>17853</th>\n",
       "      <td>07F21Z-E</td>\n",
       "      <td>employee</td>\n",
       "      <td></td>\n",
       "      <td></td>\n",
       "      <td></td>\n",
       "      <td>Chairman, President &amp; Chief Executive Officer</td>\n",
       "      <td>Xiao Long Li</td>\n",
       "      <td></td>\n",
       "      <td></td>\n",
       "      <td></td>\n",
       "      <td></td>\n",
       "      <td></td>\n",
       "      <td>0B70TD-E</td>\n",
       "    </tr>\n",
       "    <tr>\n",
       "      <th>17854</th>\n",
       "      <td>05V18Q-E</td>\n",
       "      <td>employee</td>\n",
       "      <td></td>\n",
       "      <td></td>\n",
       "      <td></td>\n",
       "      <td>Chief Executive &amp; Financial Officer</td>\n",
       "      <td>Stefan A. Baustert</td>\n",
       "      <td></td>\n",
       "      <td></td>\n",
       "      <td></td>\n",
       "      <td></td>\n",
       "      <td></td>\n",
       "      <td>05J4QL-E</td>\n",
       "    </tr>\n",
       "    <tr>\n",
       "      <th>17855</th>\n",
       "      <td>07KHRS-E</td>\n",
       "      <td>employee</td>\n",
       "      <td></td>\n",
       "      <td></td>\n",
       "      <td></td>\n",
       "      <td>Executive Director</td>\n",
       "      <td>Stephen Lloyd</td>\n",
       "      <td></td>\n",
       "      <td></td>\n",
       "      <td></td>\n",
       "      <td></td>\n",
       "      <td></td>\n",
       "      <td>006LH5-E</td>\n",
       "    </tr>\n",
       "    <tr>\n",
       "      <th>17856</th>\n",
       "      <td>05YWL7-E</td>\n",
       "      <td>employee</td>\n",
       "      <td></td>\n",
       "      <td></td>\n",
       "      <td></td>\n",
       "      <td>General Partner</td>\n",
       "      <td>Peter H. Fenton</td>\n",
       "      <td></td>\n",
       "      <td></td>\n",
       "      <td></td>\n",
       "      <td></td>\n",
       "      <td></td>\n",
       "      <td>076WRN-E</td>\n",
       "    </tr>\n",
       "    <tr>\n",
       "      <th>17857</th>\n",
       "      <td>05DZXV-E</td>\n",
       "      <td>employee</td>\n",
       "      <td></td>\n",
       "      <td></td>\n",
       "      <td></td>\n",
       "      <td>Managing Director</td>\n",
       "      <td>Nancy B. Peretsman</td>\n",
       "      <td></td>\n",
       "      <td></td>\n",
       "      <td></td>\n",
       "      <td></td>\n",
       "      <td></td>\n",
       "      <td>0029GL-E</td>\n",
       "    </tr>\n",
       "  </tbody>\n",
       "</table>\n",
       "<p>17858 rows × 13 columns</p>\n",
       "</div>"
      ],
      "text/plain": [
       "             to      reln rel_type_desc revenue_pct scr_tier  \\\n",
       "0      000YWC-E    parent                                      \n",
       "1      001MF1-E    parent                                      \n",
       "2      001MF1-E    parent                                      \n",
       "3      000YWC-E    parent                                      \n",
       "4      001MF1-E    parent                                      \n",
       "...         ...       ...           ...         ...      ...   \n",
       "17853  07F21Z-E  employee                                      \n",
       "17854  05V18Q-E  employee                                      \n",
       "17855  07KHRS-E  employee                                      \n",
       "17856  05YWL7-E  employee                                      \n",
       "17857  05DZXV-E  employee                                      \n",
       "\n",
       "                                               title           full_name  \\\n",
       "0                                                                          \n",
       "1                                                                          \n",
       "2                                                                          \n",
       "3                                                                          \n",
       "4                                                                          \n",
       "...                                              ...                 ...   \n",
       "17853  Chairman, President & Chief Executive Officer        Xiao Long Li   \n",
       "17854            Chief Executive & Financial Officer  Stefan A. Baustert   \n",
       "17855                             Executive Director       Stephen Lloyd   \n",
       "17856                                General Partner     Peter H. Fenton   \n",
       "17857                              Managing Director  Nancy B. Peretsman   \n",
       "\n",
       "      entity_proper_name entity_type address_id longitude latitude      from  \n",
       "0                                                                   0C9SR9-E  \n",
       "1                                                                   0FQKC6-E  \n",
       "2                                                                   09B2DQ-E  \n",
       "3                                                                   0C9VBD-E  \n",
       "4                                                                   000YWC-E  \n",
       "...                  ...         ...        ...       ...      ...       ...  \n",
       "17853                                                               0B70TD-E  \n",
       "17854                                                               05J4QL-E  \n",
       "17855                                                               006LH5-E  \n",
       "17856                                                               076WRN-E  \n",
       "17857                                                               0029GL-E  \n",
       "\n",
       "[17858 rows x 13 columns]"
      ]
     },
     "execution_count": 11,
     "metadata": {},
     "output_type": "execute_result"
    }
   ],
   "source": [
    "edf"
   ]
  },
  {
   "cell_type": "code",
   "execution_count": 12,
   "id": "ed1e3b48",
   "metadata": {},
   "outputs": [],
   "source": [
    "node = 'node'\n",
    "\n",
    "good_node_cols = ['title', 'entity_type', 'iso_country', 'kind']\n",
    "\n",
    "good_node_cols_lat_long = good_node_cols + ['latitude', 'longitude']"
   ]
  },
  {
   "cell_type": "code",
   "execution_count": 13,
   "id": "27acf769",
   "metadata": {},
   "outputs": [],
   "source": [
    "# remove countries\n",
    "ndf = ndf[ndf.kind!='iso_country']"
   ]
  },
  {
   "cell_type": "code",
   "execution_count": 14,
   "id": "81dda3f2",
   "metadata": {},
   "outputs": [],
   "source": [
    "g = FeatureMixin()"
   ]
  },
  {
   "cell_type": "code",
   "execution_count": 15,
   "id": "f63f4d39",
   "metadata": {},
   "outputs": [],
   "source": [
    "g2 = g.nodes(ndf, node).edges(edf, src, dst)"
   ]
  },
  {
   "cell_type": "code",
   "execution_count": 16,
   "id": "64f10ba6",
   "metadata": {
    "scrolled": false
   },
   "outputs": [
    {
     "data": {
      "text/html": [
       "\n",
       "            <iframe id=\"ab40c30c-b6a3-4313-b511-d62d83d0c285\" src=\"https://hub.graphistry.com/graph/graph.html?dataset=4b3951ef5dbd4693819e134d216fd4d2&type=arrow&viztoken=30320b28-954d-48fd-829a-ce8daf4c9ee8&usertag=f680a57a-pygraphistry-0.20.5+64.g20bf57e51.dirty&splashAfter=1644471073&info=true\"\n",
       "                    allowfullscreen=\"true\" webkitallowfullscreen=\"true\" mozallowfullscreen=\"true\"\n",
       "                    oallowfullscreen=\"true\" msallowfullscreen=\"true\"\n",
       "                    style=\"width:100%; height:500px; border: 1px solid #DDD; overflow: hidden\"\n",
       "                    \n",
       "            >\n",
       "            </iframe>\n",
       "        \n",
       "            <script>\n",
       "                try {\n",
       "                  $(\"#ab40c30c-b6a3-4313-b511-d62d83d0c285\").bind('mousewheel', function(e) { e.preventDefault(); });\n",
       "                } catch (e) { console.error('exn catching scroll', e); }\n",
       "            </script>\n",
       "        "
      ],
      "text/plain": [
       "<IPython.core.display.HTML object>"
      ]
     },
     "execution_count": 16,
     "metadata": {},
     "output_type": "execute_result"
    }
   ],
   "source": [
    "g2.plot()"
   ]
  },
  {
   "cell_type": "code",
   "execution_count": 43,
   "id": "f33eac86",
   "metadata": {},
   "outputs": [
    {
     "name": "stderr",
     "output_type": "stream",
     "text": [
      "[feature_utils.py:93 - remove_node_column_from_ndf_and_return_ndf_from_res() ] removing node column `node` so we do not featurize it\n",
      "[feature_utils.py:414 - get_dataframe_columns() ] returning DataFrame with columns `['title', 'entity_type', 'iso_country', 'kind']`\n",
      "[feature_utils.py:187 -  get_textual_columns() ] No Textual Columns were found\n",
      "[feature_utils.py:274 - process_dirty_dataframes() ] Encoding might take a few minutes --------\n",
      "[feature_utils.py:281 - process_dirty_dataframes() ] -Fitting SuperVectorizer on DATA took 1.89 minutes\n",
      "\n",
      "[feature_utils.py:288 - process_dirty_dataframes() ] -Shape of data (23679, 109)\n",
      "\n",
      "[feature_utils.py:289 - process_dirty_dataframes() ] -Transformers: [('low_card_cat', OneHotEncoder(), ['entity_type', 'kind']), ('high_card_cat', GapEncoder(n_components=42), ['title', 'iso_country'])]\n",
      "\n",
      "[feature_utils.py:290 - process_dirty_dataframes() ] -Transformed Columns: ['entity_type_', 'entity_type_COL', 'entity_type_COR', 'entity_type_ESP', 'entity_type_EXT', 'entity_type_FND', 'entity_type_GOV', 'entity_type_HOL', 'entity_type_JVT', 'entity_type_MUC', 'entity_type_MUT', 'entity_type_NPO', 'entity_type_OPD', 'entity_type_PEF', 'entity_type_PRT', 'entity_type_PUB', 'entity_type_PVF', 'entity_type_PVT', 'entity_type_SHP', 'entity_type_SOV']...\n",
      "\n",
      "[feature_utils.py:242 - process_textual_or_other_dataframes() ] --The entire Textual or Other encoding process took 2.28 minutes\n"
     ]
    }
   ],
   "source": [
    "g3 = g2.featurize(kind='nodes', use_columns=good_node_cols)"
   ]
  },
  {
   "cell_type": "code",
   "execution_count": null,
   "id": "4d7d6eb6",
   "metadata": {},
   "outputs": [],
   "source": [
    "# Now we can UMAP it"
   ]
  },
  {
   "cell_type": "code",
   "execution_count": 44,
   "id": "255c1a16",
   "metadata": {},
   "outputs": [
    {
     "name": "stderr",
     "output_type": "stream",
     "text": [
      "[feature_utils.py:526 - _featurize_or_get_nodes_data_if_X_is_None() ] Found Node features in `res`\n",
      "[feature_utils.py:538 - _featurize_or_get_nodes_data_if_X_is_None() ] Fetching `node_target` in `res`. Target is type <class 'NoneType'>\n",
      "[umap_utils.py:53 -                  fit() ] Starting UMAP-ing data of shape (23679, 109)\n",
      "[umap_utils.py:68 -      _edge_influence() ] Calculating weighted adjacency (edge) DataFrame\n",
      "[umap_utils.py:58 -                  fit() ] -UMAP-ing took 0.30 minutes total\n",
      "[umap_utils.py:59 -                  fit() ]  - or 79258.45 rows per minute\n",
      "[feature_utils.py:390 - prune_weighted_edges_df() ] Pruning weighted edge DataFrame from 425780 to 46932 edges\n"
     ]
    }
   ],
   "source": [
    "g4 = g3.umap(kind='nodes', scale = 1.9)"
   ]
  },
  {
   "cell_type": "code",
   "execution_count": 45,
   "id": "828dac99",
   "metadata": {
    "scrolled": true
   },
   "outputs": [
    {
     "data": {
      "text/html": [
       "\n",
       "            <iframe id=\"0f3c93aa-2ad3-4472-9690-64e50eb65c2f\" src=\"https://hub.graphistry.com/graph/graph.html?dataset=77880b850ea849e7957e93654346ff41&type=arrow&viztoken=08dd819e-b86f-4496-a648-d06a0c0305a3&usertag=f680a57a-pygraphistry-0.20.5+64.g20bf57e51.dirty&splashAfter=1644518643&info=true&play=0\"\n",
       "                    allowfullscreen=\"true\" webkitallowfullscreen=\"true\" mozallowfullscreen=\"true\"\n",
       "                    oallowfullscreen=\"true\" msallowfullscreen=\"true\"\n",
       "                    style=\"width:100%; height:500px; border: 1px solid #DDD; overflow: hidden\"\n",
       "                    \n",
       "            >\n",
       "            </iframe>\n",
       "        \n",
       "            <script>\n",
       "                try {\n",
       "                  $(\"#0f3c93aa-2ad3-4472-9690-64e50eb65c2f\").bind('mousewheel', function(e) { e.preventDefault(); });\n",
       "                } catch (e) { console.error('exn catching scroll', e); }\n",
       "            </script>\n",
       "        "
      ],
      "text/plain": [
       "<IPython.core.display.HTML object>"
      ]
     },
     "execution_count": 45,
     "metadata": {},
     "output_type": "execute_result"
    }
   ],
   "source": [
    "g4.plot()"
   ]
  },
  {
   "cell_type": "code",
   "execution_count": 20,
   "id": "d8abb879",
   "metadata": {},
   "outputs": [
    {
     "name": "stderr",
     "output_type": "stream",
     "text": [
      "[feature_utils.py:333 - process_edge_dataframes() ] Encoding Edges using MultiLabelBinarizer\n",
      "[feature_utils.py:336 - process_edge_dataframes() ] -Shape of Edge encoder (17858, 10518)\n",
      "[feature_utils.py:339 - process_edge_dataframes() ] -Rest of DataFrame has columns: Index(['reln', 'rel_type_desc', 'revenue_pct', 'scr_tier', 'title',\n",
      "       'full_name', 'entity_proper_name', 'entity_type', 'address_id',\n",
      "       'longitude', 'latitude'],\n",
      "      dtype='object') and is empty: False\n",
      "[feature_utils.py:187 -  get_textual_columns() ] No Textual Columns were found\n",
      "[feature_utils.py:274 - process_dirty_dataframes() ] Encoding might take a few minutes --------\n",
      "[feature_utils.py:281 - process_dirty_dataframes() ] -Fitting SuperVectorizer on DATA took 1.02 minutes\n",
      "\n",
      "[feature_utils.py:288 - process_dirty_dataframes() ] -Shape of data (17858, 164)\n",
      "\n",
      "[feature_utils.py:289 - process_dirty_dataframes() ] -Transformers: [('low_card_cat', OneHotEncoder(), ['reln', 'rel_type_desc', 'scr_tier', 'entity_proper_name', 'entity_type', 'address_id', 'longitude', 'latitude']), ('high_card_cat', GapEncoder(n_components=42), ['revenue_pct', 'title', 'full_name'])]\n",
      "\n",
      "[feature_utils.py:290 - process_dirty_dataframes() ] -Transformed Columns: ['reln_Competitor', 'reln_Customer', 'reln_Partner - Distribution', 'reln_Partner - Equity Investment', 'reln_Partner - In-licensing', 'reln_Partner - Integrated Product Offering', 'reln_Partner - Investors', 'reln_Partner - Joint Venture', 'reln_Partner - Manufacturing', 'reln_Partner - Marketing', 'reln_Partner - Out-licensing', 'reln_Partner - Research Collaboration', 'reln_Supplier', 'reln_employee', 'reln_parent', 'reln_ultimate', 'rel_type_desc_', 'rel_type_desc_Competitor', 'rel_type_desc_Customer', 'rel_type_desc_Partner - Distribution']...\n",
      "\n",
      "[feature_utils.py:242 - process_textual_or_other_dataframes() ] --The entire Textual or Other encoding process took 1.24 minutes\n",
      "[feature_utils.py:360 - process_edge_dataframes() ] --Created an Edge feature matrix of size (17858, 10682)\n",
      "[feature_utils.py:361 - process_edge_dataframes() ] **The entire Edge encoding process took 1.41 minutes\n"
     ]
    }
   ],
   "source": [
    "g5 = g2.featurize(kind='edges')"
   ]
  },
  {
   "cell_type": "code",
   "execution_count": 21,
   "id": "1496f2b0",
   "metadata": {},
   "outputs": [
    {
     "data": {
      "text/plain": [
       "000BG2-E                                          0.014968\n",
       "000BGZ-E                                          0.007483\n",
       "000BHL-E                                          0.034312\n",
       "000BJ4-E                                          0.010583\n",
       "000BJT-E                                          0.055582\n",
       "                                                    ...   \n",
       "full_name: masayoshi, washington, ramachandran    1.033725\n",
       "full_name: masayoshi, washington, ramachandran    1.033725\n",
       "full_name: masayoshi, washington, ramachandran    1.033725\n",
       "full_name: maffei, gregory, gregor                1.033725\n",
       "full_name: maffei, gregory, gregor                1.033725\n",
       "Length: 10682, dtype: float64"
      ]
     },
     "execution_count": 21,
     "metadata": {},
     "output_type": "execute_result"
    }
   ],
   "source": [
    "g5.edge_features.mean(0)"
   ]
  },
  {
   "cell_type": "code",
   "execution_count": 22,
   "id": "f30e405c",
   "metadata": {},
   "outputs": [
    {
     "data": {
      "text/html": [
       "\n",
       "            <iframe id=\"1ea0aa6f-5567-4f24-81e6-3ef8793f0170\" src=\"https://hub.graphistry.com/graph/graph.html?dataset=275dadbd5e3b42118452306758cac373&type=arrow&viztoken=7702bd2b-235d-4250-964f-95a2c67d90e5&usertag=f680a57a-pygraphistry-0.20.5+64.g20bf57e51.dirty&splashAfter=1644471163&info=true\"\n",
       "                    allowfullscreen=\"true\" webkitallowfullscreen=\"true\" mozallowfullscreen=\"true\"\n",
       "                    oallowfullscreen=\"true\" msallowfullscreen=\"true\"\n",
       "                    style=\"width:100%; height:500px; border: 1px solid #DDD; overflow: hidden\"\n",
       "                    \n",
       "            >\n",
       "            </iframe>\n",
       "        \n",
       "            <script>\n",
       "                try {\n",
       "                  $(\"#1ea0aa6f-5567-4f24-81e6-3ef8793f0170\").bind('mousewheel', function(e) { e.preventDefault(); });\n",
       "                } catch (e) { console.error('exn catching scroll', e); }\n",
       "            </script>\n",
       "        "
      ],
      "text/plain": [
       "<IPython.core.display.HTML object>"
      ]
     },
     "execution_count": 22,
     "metadata": {},
     "output_type": "execute_result"
    }
   ],
   "source": [
    "g5.plot()"
   ]
  },
  {
   "cell_type": "code",
   "execution_count": 23,
   "id": "420bcd70",
   "metadata": {},
   "outputs": [
    {
     "name": "stderr",
     "output_type": "stream",
     "text": [
      "[umap_utils.py:53 -                  fit() ] Starting UMAP-ing data of shape (17858, 10682)\n",
      "OMP: Info #273: omp_set_nested routine deprecated, please use omp_set_max_active_levels instead.\n",
      "[umap_utils.py:68 -      _edge_influence() ] Calculating weighted adjacency (edge) DataFrame\n",
      "[umap_utils.py:58 -                  fit() ] -UMAP-ing took 4.78 minutes total\n",
      "[umap_utils.py:59 -                  fit() ]  - or 3738.21 rows per minute\n",
      "[feature_utils.py:390 - prune_weighted_edges_df() ] Pruning weighted edge DataFrame from 716608 to 46492 edges\n"
     ]
    }
   ],
   "source": [
    "g6 = g5.umap(kind='edges', scale=2.2, n_neighbors=22)"
   ]
  },
  {
   "cell_type": "code",
   "execution_count": 24,
   "id": "e9846c8f",
   "metadata": {},
   "outputs": [
    {
     "data": {
      "text/plain": [
       "(17858, 2)"
      ]
     },
     "execution_count": 24,
     "metadata": {},
     "output_type": "execute_result"
    }
   ],
   "source": [
    "g6.edge_embedding.shape"
   ]
  },
  {
   "cell_type": "code",
   "execution_count": 37,
   "id": "c12d7e9d",
   "metadata": {},
   "outputs": [],
   "source": [
    "edf['n'] = range(len(edf))\n",
    "edf = edf.astype(str)"
   ]
  },
  {
   "cell_type": "code",
   "execution_count": 38,
   "id": "866dbc9d",
   "metadata": {},
   "outputs": [
    {
     "name": "stderr",
     "output_type": "stream",
     "text": [
      "[feature_utils.py:93 - remove_node_column_from_ndf_and_return_ndf_from_res() ] removing node column `n` so we do not featurize it\n",
      "[feature_utils.py:414 - get_dataframe_columns() ] returning DataFrame with columns `['to', 'from', 'reln', 'entity_proper_name', 'entity_type']`\n",
      "[feature_utils.py:187 -  get_textual_columns() ] No Textual Columns were found\n",
      "[feature_utils.py:274 - process_dirty_dataframes() ] Encoding might take a few minutes --------\n",
      "[feature_utils.py:281 - process_dirty_dataframes() ] -Fitting SuperVectorizer on DATA took 1.42 minutes\n",
      "\n",
      "[feature_utils.py:288 - process_dirty_dataframes() ] -Shape of data (17858, 102)\n",
      "\n",
      "[feature_utils.py:289 - process_dirty_dataframes() ] -Transformers: [('low_card_cat', OneHotEncoder(), ['reln', 'entity_proper_name', 'entity_type']), ('high_card_cat', GapEncoder(n_components=42), ['to', 'from'])]\n",
      "\n",
      "[feature_utils.py:290 - process_dirty_dataframes() ] -Transformed Columns: ['reln_Competitor', 'reln_Customer', 'reln_Partner - Distribution', 'reln_Partner - Equity Investment', 'reln_Partner - In-licensing', 'reln_Partner - Integrated Product Offering', 'reln_Partner - Investors', 'reln_Partner - Joint Venture', 'reln_Partner - Manufacturing', 'reln_Partner - Marketing', 'reln_Partner - Out-licensing', 'reln_Partner - Research Collaboration', 'reln_Supplier', 'reln_employee', 'reln_parent', 'reln_ultimate', 'entity_proper_name_', 'entity_type_', 'to: 001tr0, 002fr0, 05tr03', 'to: 077gm4, 077mxq, 07g784']...\n",
      "\n",
      "[feature_utils.py:242 - process_textual_or_other_dataframes() ] --The entire Textual or Other encoding process took 1.62 minutes\n"
     ]
    }
   ],
   "source": [
    "g7 = g.nodes(edf, 'n').featurize(use_columns=good_edge_cols)"
   ]
  },
  {
   "cell_type": "code",
   "execution_count": 41,
   "id": "d0405d52",
   "metadata": {},
   "outputs": [
    {
     "name": "stderr",
     "output_type": "stream",
     "text": [
      "[feature_utils.py:526 - _featurize_or_get_nodes_data_if_X_is_None() ] Found Node features in `res`\n",
      "[feature_utils.py:538 - _featurize_or_get_nodes_data_if_X_is_None() ] Fetching `node_target` in `res`. Target is type <class 'NoneType'>\n",
      "[umap_utils.py:53 -                  fit() ] Starting UMAP-ing data of shape (17858, 102)\n",
      "[umap_utils.py:68 -      _edge_influence() ] Calculating weighted adjacency (edge) DataFrame\n",
      "[umap_utils.py:58 -                  fit() ] -UMAP-ing took 0.23 minutes total\n",
      "[umap_utils.py:59 -                  fit() ]  - or 77555.90 rows per minute\n",
      "[feature_utils.py:390 - prune_weighted_edges_df() ] Pruning weighted edge DataFrame from 244880 to 0 edges\n"
     ]
    }
   ],
   "source": [
    "g8=g7.umap()"
   ]
  },
  {
   "cell_type": "code",
   "execution_count": 42,
   "id": "cfeb30f5",
   "metadata": {},
   "outputs": [
    {
     "data": {
      "text/html": [
       "\n",
       "            <iframe id=\"7589e5e8-0d9a-4e0e-850f-d9017bee4304\" src=\"https://hub.graphistry.com/graph/graph.html?dataset=66ada61985f342e7aa36703dc194a940&type=arrow&viztoken=32f3b01b-9ffb-45ba-8418-5bf936d77865&usertag=f680a57a-pygraphistry-0.20.5+64.g20bf57e51.dirty&splashAfter=1644517122&info=true&play=0\"\n",
       "                    allowfullscreen=\"true\" webkitallowfullscreen=\"true\" mozallowfullscreen=\"true\"\n",
       "                    oallowfullscreen=\"true\" msallowfullscreen=\"true\"\n",
       "                    style=\"width:100%; height:500px; border: 1px solid #DDD; overflow: hidden\"\n",
       "                    \n",
       "            >\n",
       "            </iframe>\n",
       "        \n",
       "            <script>\n",
       "                try {\n",
       "                  $(\"#7589e5e8-0d9a-4e0e-850f-d9017bee4304\").bind('mousewheel', function(e) { e.preventDefault(); });\n",
       "                } catch (e) { console.error('exn catching scroll', e); }\n",
       "            </script>\n",
       "        "
      ],
      "text/plain": [
       "<IPython.core.display.HTML object>"
      ]
     },
     "execution_count": 42,
     "metadata": {},
     "output_type": "execute_result"
    }
   ],
   "source": [
    "g8.plot()"
   ]
  },
  {
   "cell_type": "code",
   "execution_count": 25,
   "id": "23d3f32d",
   "metadata": {},
   "outputs": [
    {
     "data": {
      "text/plain": [
       "<AxesSubplot:>"
      ]
     },
     "execution_count": 25,
     "metadata": {},
     "output_type": "execute_result"
    },
    {
     "data": {
      "image/png": "[encoded data removed]",
      "text/plain": [
       "<Figure size 800x800 with 1 Axes>"
      ]
     },
     "metadata": {},
     "output_type": "display_data"
    }
   ],
   "source": [
    "umap.plot.points(g6, theme='fire', labels=edf.reln)"
   ]
  },
  {
   "cell_type": "code",
   "execution_count": 26,
   "id": "935a3d10",
   "metadata": {},
   "outputs": [],
   "source": [
    "p = umap.plot.interactive(g6, labels=edf.reln, hover_data=ndf[good_node_cols], point_size=20, theme='fire')\n",
    "umap.plot.show(p)  "
   ]
  },
  {
   "cell_type": "code",
   "execution_count": 27,
   "id": "187014eb",
   "metadata": {},
   "outputs": [
    {
     "data": {
      "text/plain": [
       "(17858, 10682)"
      ]
     },
     "execution_count": 27,
     "metadata": {},
     "output_type": "execute_result"
    }
   ],
   "source": [
    "g6.edge_features.shape\n"
   ]
  },
  {
   "cell_type": "code",
   "execution_count": 28,
   "id": "170c6a73",
   "metadata": {},
   "outputs": [],
   "source": [
    "wedf = g6.weighted_edges_df_from_edges"
   ]
  },
  {
   "cell_type": "code",
   "execution_count": 29,
   "id": "fe07c189",
   "metadata": {},
   "outputs": [
    {
     "data": {
      "text/html": [
       "<div>\n",
       "<style scoped>\n",
       "    .dataframe tbody tr th:only-of-type {\n",
       "        vertical-align: middle;\n",
       "    }\n",
       "\n",
       "    .dataframe tbody tr th {\n",
       "        vertical-align: top;\n",
       "    }\n",
       "\n",
       "    .dataframe thead th {\n",
       "        text-align: right;\n",
       "    }\n",
       "</style>\n",
       "<table border=\"1\" class=\"dataframe\">\n",
       "  <thead>\n",
       "    <tr style=\"text-align: right;\">\n",
       "      <th></th>\n",
       "      <th>_src</th>\n",
       "      <th>_dst</th>\n",
       "      <th>weight</th>\n",
       "    </tr>\n",
       "  </thead>\n",
       "  <tbody>\n",
       "    <tr>\n",
       "      <th>0</th>\n",
       "      <td>0</td>\n",
       "      <td>4</td>\n",
       "      <td>1.000000</td>\n",
       "    </tr>\n",
       "    <tr>\n",
       "      <th>30</th>\n",
       "      <td>1</td>\n",
       "      <td>3593</td>\n",
       "      <td>0.941621</td>\n",
       "    </tr>\n",
       "    <tr>\n",
       "      <th>31</th>\n",
       "      <td>1</td>\n",
       "      <td>4148</td>\n",
       "      <td>1.000000</td>\n",
       "    </tr>\n",
       "    <tr>\n",
       "      <th>49</th>\n",
       "      <td>2</td>\n",
       "      <td>3593</td>\n",
       "      <td>0.943784</td>\n",
       "    </tr>\n",
       "    <tr>\n",
       "      <th>51</th>\n",
       "      <td>2</td>\n",
       "      <td>4148</td>\n",
       "      <td>1.000000</td>\n",
       "    </tr>\n",
       "    <tr>\n",
       "      <th>...</th>\n",
       "      <td>...</td>\n",
       "      <td>...</td>\n",
       "      <td>...</td>\n",
       "    </tr>\n",
       "    <tr>\n",
       "      <th>716525</th>\n",
       "      <td>17854</td>\n",
       "      <td>970</td>\n",
       "      <td>1.000000</td>\n",
       "    </tr>\n",
       "    <tr>\n",
       "      <th>716554</th>\n",
       "      <td>17855</td>\n",
       "      <td>4148</td>\n",
       "      <td>1.000000</td>\n",
       "    </tr>\n",
       "    <tr>\n",
       "      <th>716585</th>\n",
       "      <td>17856</td>\n",
       "      <td>10424</td>\n",
       "      <td>1.000000</td>\n",
       "    </tr>\n",
       "    <tr>\n",
       "      <th>716586</th>\n",
       "      <td>17856</td>\n",
       "      <td>15799</td>\n",
       "      <td>0.998644</td>\n",
       "    </tr>\n",
       "    <tr>\n",
       "      <th>716607</th>\n",
       "      <td>17857</td>\n",
       "      <td>13510</td>\n",
       "      <td>1.000000</td>\n",
       "    </tr>\n",
       "  </tbody>\n",
       "</table>\n",
       "<p>46492 rows × 3 columns</p>\n",
       "</div>"
      ],
      "text/plain": [
       "         _src   _dst    weight\n",
       "0           0      4  1.000000\n",
       "30          1   3593  0.941621\n",
       "31          1   4148  1.000000\n",
       "49          2   3593  0.943784\n",
       "51          2   4148  1.000000\n",
       "...       ...    ...       ...\n",
       "716525  17854    970  1.000000\n",
       "716554  17855   4148  1.000000\n",
       "716585  17856  10424  1.000000\n",
       "716586  17856  15799  0.998644\n",
       "716607  17857  13510  1.000000\n",
       "\n",
       "[46492 rows x 3 columns]"
      ]
     },
     "execution_count": 29,
     "metadata": {},
     "output_type": "execute_result"
    }
   ],
   "source": [
    "wedf"
   ]
  }
 ],
 "metadata": {
  "kernelspec": {
   "display_name": "Python 3 (ipykernel)",
   "language": "python",
   "name": "python3"
  },
  "language_info": {
   "codemirror_mode": {
    "name": "ipython",
    "version": 3
   },
   "file_extension": ".py",
   "mimetype": "text/x-python",
   "name": "python",
   "nbconvert_exporter": "python",
   "pygments_lexer": "ipython3",
   "version": "3.8.9"
  }
 },
 "nbformat": 4,
 "nbformat_minor": 5
}
