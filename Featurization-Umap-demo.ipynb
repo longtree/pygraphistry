{
 "cells": [
  {
   "cell_type": "code",
   "execution_count": null,
   "id": "70896526",
   "metadata": {},
   "outputs": [],
   "source": [
    "#!pip install umap-learn[plot]"
   ]
  },
  {
   "cell_type": "code",
   "execution_count": null,
   "id": "c25f6a63",
   "metadata": {},
   "outputs": [],
   "source": [
    "import os\n",
    "import graphistry\n",
    "import pandas as pd\n",
    "#import torch.nn.functional as F\n",
    "\n",
    "#from ml.dgl_utils import *\n",
    "from ml.utils import *\n",
    "from ml.feature_utils import *\n",
    "from ml.umap_utils import *\n",
    "\n",
    "import umap.plot\n",
    "\n",
    "import warnings\n",
    "warnings.filterwarnings('ignore')"
   ]
  },
  {
   "cell_type": "code",
   "execution_count": null,
   "id": "96f967aa",
   "metadata": {},
   "outputs": [],
   "source": [
    "os.environ['USERNAME']='silkspace'\n",
    "os.environ['GRAPHISTRY_PASSWORD']=\"yqQg02&N\""
   ]
  },
  {
   "cell_type": "code",
   "execution_count": null,
   "id": "4b4c953f",
   "metadata": {},
   "outputs": [],
   "source": [
    "#graphistry.register(api=3, protocol=\"https\", server=\"hub.graphistry.com\", username=\"..\", password=\"..\")\n",
    "graphistry.register(api=3, protocol=\"https\", server=\"hub.graphistry.com\", username=os.environ['USERNAME'], password=os.environ['GRAPHISTRY_PASSWORD']) "
   ]
  },
  {
   "cell_type": "code",
   "execution_count": null,
   "id": "cbe63654",
   "metadata": {},
   "outputs": [],
   "source": [
    "src, dst = 'to_node', 'from_node'"
   ]
  },
  {
   "cell_type": "code",
   "execution_count": null,
   "id": "b5b917c8",
   "metadata": {},
   "outputs": [],
   "source": [
    "edf = pd.read_csv('data/edges_blackrock.csv', index_col=0)\n",
    "ndf = pd.read_csv('data/nodes_blackrock.csv', index_col=0)\n",
    "ndf = ndf.fillna('').astype(str)"
   ]
  },
  {
   "cell_type": "code",
   "execution_count": null,
   "id": "efe6b8b1",
   "metadata": {},
   "outputs": [],
   "source": [
    "ndf.columns"
   ]
  },
  {
   "cell_type": "code",
   "execution_count": null,
   "id": "aea2e5ec",
   "metadata": {},
   "outputs": [],
   "source": [
    "edf = edf.drop(columns=['src', 'dst'])"
   ]
  },
  {
   "cell_type": "code",
   "execution_count": null,
   "id": "b55a5650",
   "metadata": {},
   "outputs": [],
   "source": [
    "ndf"
   ]
  },
  {
   "cell_type": "markdown",
   "id": "f692b552",
   "metadata": {},
   "source": [
    "# Featurize"
   ]
  },
  {
   "cell_type": "code",
   "execution_count": null,
   "id": "800ddae5",
   "metadata": {},
   "outputs": [],
   "source": [
    "fc = FeatureMixin(**umap_kwargs_probs)"
   ]
  },
  {
   "cell_type": "code",
   "execution_count": null,
   "id": "2f7c95e3",
   "metadata": {},
   "outputs": [],
   "source": [
    "g = fc.edges(edf, 'to_node', 'from_node').nodes(ndf, 'Node')"
   ]
  },
  {
   "cell_type": "code",
   "execution_count": null,
   "id": "2631fe23",
   "metadata": {
    "scrolled": true
   },
   "outputs": [],
   "source": [
    "g2 = g.featurize(kind='edges', y = pd.DataFrame({'relationship_type': edf.relationship_type.values}))"
   ]
  },
  {
   "cell_type": "code",
   "execution_count": null,
   "id": "f99b7956",
   "metadata": {},
   "outputs": [],
   "source": [
    "g2 = g.featurize(kind='nodes', y = pd.DataFrame({'Types': ndf.Types.values}))"
   ]
  },
  {
   "cell_type": "code",
   "execution_count": null,
   "id": "fc2dace4",
   "metadata": {},
   "outputs": [],
   "source": [
    "N = g.node_target.values.argmax(1) # can make an effective label target for Nodes"
   ]
  },
  {
   "cell_type": "code",
   "execution_count": null,
   "id": "3bf1fa80",
   "metadata": {},
   "outputs": [],
   "source": [
    "g.node_features"
   ]
  },
  {
   "cell_type": "code",
   "execution_count": null,
   "id": "e7089fae",
   "metadata": {},
   "outputs": [],
   "source": [
    "g.edge_features"
   ]
  },
  {
   "cell_type": "code",
   "execution_count": null,
   "id": "f7a9ba07",
   "metadata": {},
   "outputs": [],
   "source": [
    "E=g2.edge_target.values.argmax(1) # effective edge target"
   ]
  },
  {
   "cell_type": "code",
   "execution_count": null,
   "id": "6d80cae2",
   "metadata": {},
   "outputs": [],
   "source": [
    "g3 = g2.umap()"
   ]
  },
  {
   "cell_type": "code",
   "execution_count": null,
   "id": "c0f8f892",
   "metadata": {},
   "outputs": [],
   "source": [
    "g3.xy_nodes"
   ]
  },
  {
   "cell_type": "code",
   "execution_count": null,
   "id": "f5a68404",
   "metadata": {},
   "outputs": [],
   "source": [
    "plt.figure(figsize=(10,10)); plt.scatter(g.xy_nodes.T[0], g.xy_nodes.T[1], c=N, s=80, alpha=0.4)"
   ]
  },
  {
   "cell_type": "code",
   "execution_count": null,
   "id": "3ea4de33",
   "metadata": {},
   "outputs": [],
   "source": [
    "g4 = g.umap(kind='edges', scale=1)"
   ]
  },
  {
   "cell_type": "code",
   "execution_count": null,
   "id": "72dc564d",
   "metadata": {},
   "outputs": [],
   "source": [
    "plt.figure(figsize=(10,10)); plt.scatter(g.xy_edges.T[0], g.xy_edges.T[1], c=E, s=80, alpha=0.4)"
   ]
  },
  {
   "cell_type": "code",
   "execution_count": null,
   "id": "c0fa7292",
   "metadata": {},
   "outputs": [],
   "source": [
    "g.weighted_adjacency_edges"
   ]
  },
  {
   "cell_type": "code",
   "execution_count": null,
   "id": "cbee9bb4",
   "metadata": {},
   "outputs": [],
   "source": [
    "g4.weighted_edges_df_from_edges "
   ]
  },
  {
   "cell_type": "code",
   "execution_count": null,
   "id": "4c63ea1e",
   "metadata": {},
   "outputs": [],
   "source": [
    "g.weighted_edges_df_from_nodes"
   ]
  },
  {
   "cell_type": "code",
   "execution_count": null,
   "id": "0ee30087",
   "metadata": {},
   "outputs": [],
   "source": [
    "g.weighted_adjacency_edges"
   ]
  },
  {
   "cell_type": "code",
   "execution_count": null,
   "id": "47c8c66d",
   "metadata": {},
   "outputs": [],
   "source": [
    "X=g.node_features"
   ]
  },
  {
   "cell_type": "code",
   "execution_count": null,
   "id": "6e0122f9",
   "metadata": {},
   "outputs": [],
   "source": [
    "g4 = g.umap(kind='nodes', X=g.node_features, y = N)"
   ]
  },
  {
   "cell_type": "code",
   "execution_count": null,
   "id": "1b29c19a",
   "metadata": {},
   "outputs": [],
   "source": [
    "g4 = g.umap(kind='nodes', X=g.node_features, y = N.reshape(-1, 1))"
   ]
  },
  {
   "cell_type": "code",
   "execution_count": null,
   "id": "be4aa18e",
   "metadata": {},
   "outputs": [],
   "source": [
    "umap.plot.points(g, labels=N, theme='fire')"
   ]
  },
  {
   "cell_type": "code",
   "execution_count": null,
   "id": "00900fb8",
   "metadata": {},
   "outputs": [],
   "source": [
    "g4 = g.umap(kind='nodes', X=g.node_features, y = None) # without the target influencing the UMAP"
   ]
  },
  {
   "cell_type": "code",
   "execution_count": null,
   "id": "398fe821",
   "metadata": {},
   "outputs": [],
   "source": [
    "umap.plot.points(g, labels=N, theme='fire')"
   ]
  },
  {
   "cell_type": "code",
   "execution_count": null,
   "id": "97a79c69",
   "metadata": {},
   "outputs": [],
   "source": [
    "umap.plot.output_notebook()"
   ]
  },
  {
   "cell_type": "code",
   "execution_count": null,
   "id": "5079f642",
   "metadata": {},
   "outputs": [],
   "source": [
    "# need to reindex to get contiguous index  \n",
    "hover_data = pd.DataFrame(g._nodes.values, index=range(len(g._nodes)), columns=g._nodes.columns)"
   ]
  },
  {
   "cell_type": "code",
   "execution_count": null,
   "id": "37ec0bd9",
   "metadata": {},
   "outputs": [],
   "source": [
    "hover_data = hover_data.fillna('')"
   ]
  },
  {
   "cell_type": "code",
   "execution_count": null,
   "id": "9040928f",
   "metadata": {},
   "outputs": [],
   "source": [
    "hover_data = hover_data[['Node', 'Blurb', 'Summary','Types']]"
   ]
  },
  {
   "cell_type": "code",
   "execution_count": null,
   "id": "b01567af",
   "metadata": {},
   "outputs": [],
   "source": [
    "hover_data"
   ]
  },
  {
   "cell_type": "code",
   "execution_count": null,
   "id": "0242c8b4",
   "metadata": {
    "scrolled": false
   },
   "outputs": [],
   "source": [
    "p = umap.plot.interactive(g, labels=N, hover_data=hover_data, point_size=20, theme='fire')\n",
    "umap.plot.show(p)"
   ]
  },
  {
   "cell_type": "markdown",
   "id": "4a6c352a",
   "metadata": {},
   "source": [
    "# Now we can do the same for Edges"
   ]
  },
  {
   "cell_type": "code",
   "execution_count": null,
   "id": "ce810b68",
   "metadata": {},
   "outputs": [],
   "source": [
    "hover_data2 = pd.DataFrame(g._edges.values, index=range(len(g._edges)), columns=g._edges.columns)"
   ]
  },
  {
   "cell_type": "code",
   "execution_count": null,
   "id": "e40bbf45",
   "metadata": {},
   "outputs": [],
   "source": [
    "g2=g.umap(kind='edges')"
   ]
  },
  {
   "cell_type": "code",
   "execution_count": null,
   "id": "822e5101",
   "metadata": {},
   "outputs": [],
   "source": [
    "p = umap.plot.interactive(g, labels=E, hover_data=hover_data2, point_size=20, theme='fire')\n",
    "umap.plot.show(p)"
   ]
  },
  {
   "cell_type": "code",
   "execution_count": null,
   "id": "91af2ab9",
   "metadata": {},
   "outputs": [],
   "source": [
    "g.plot()"
   ]
  },
  {
   "cell_type": "code",
   "execution_count": null,
   "id": "1734da39",
   "metadata": {},
   "outputs": [],
   "source": [
    "#umap.plot.connectivity(g, edge_bundling='hammer')"
   ]
  },
  {
   "cell_type": "code",
   "execution_count": null,
   "id": "bd8623dd",
   "metadata": {
    "scrolled": true
   },
   "outputs": [],
   "source": [
    "for mindist in np.linspace(0,1,5):\n",
    "    g.umap(kind='nodes', **{'min_dist':mindist})\n",
    "    p = umap.plot.interactive(g, labels=N, hover_data=hover_data, point_size=20, theme='fire')\n",
    "    umap.plot.show(p)\n",
    "    "
   ]
  },
  {
   "cell_type": "code",
   "execution_count": null,
   "id": "760add82",
   "metadata": {},
   "outputs": [],
   "source": [
    "for k in range(2,62,10):\n",
    "    g.umap(kind='nodes', **{'n_neighbors':k})\n",
    "    print(k)\n",
    "    p = umap.plot.interactive(g, labels=N, hover_data=hover_data, point_size=20, theme='fire')\n",
    "    umap.plot.show(p)\n",
    "    "
   ]
  },
  {
   "cell_type": "code",
   "execution_count": null,
   "id": "33f06b1a",
   "metadata": {},
   "outputs": [],
   "source": [
    "g.xy_nodes\n",
    "# g2 = g.edges(edf, 'to_node', 'from_node').nodes(ndf, 'Node').bind(point_x='x', point_y='y')\n",
    "# g2.plot()"
   ]
  },
  {
   "cell_type": "code",
   "execution_count": null,
   "id": "5832eb95",
   "metadata": {},
   "outputs": [],
   "source": [
    "wdf = g.weighted_edges_df_from_nodes"
   ]
  },
  {
   "cell_type": "code",
   "execution_count": null,
   "id": "4a0c964b",
   "metadata": {},
   "outputs": [],
   "source": [
    "coldict = dict(zip(range(len(g._nodes)), g._nodes['Node'].values))"
   ]
  },
  {
   "cell_type": "code",
   "execution_count": null,
   "id": "74f32484",
   "metadata": {},
   "outputs": [],
   "source": [
    "wdf['src'] = wdf['_src'].apply(lambda x: coldict[x])\n",
    "wdf['dst'] = wdf['_dst'].apply(lambda x: coldict[x])"
   ]
  },
  {
   "cell_type": "code",
   "execution_count": null,
   "id": "46942780",
   "metadata": {},
   "outputs": [],
   "source": [
    "wdf"
   ]
  },
  {
   "cell_type": "code",
   "execution_count": null,
   "id": "8e898130",
   "metadata": {},
   "outputs": [],
   "source": [
    "hover_data['_x'] = 10*g.xy_nodes.T[0]\n",
    "hover_data['_y'] = 10*g.xy_nodes.T[1]"
   ]
  },
  {
   "cell_type": "code",
   "execution_count": null,
   "id": "40840c95",
   "metadata": {},
   "outputs": [],
   "source": [
    "hover_data"
   ]
  },
  {
   "cell_type": "code",
   "execution_count": null,
   "id": "e34d2134",
   "metadata": {},
   "outputs": [],
   "source": [
    "g2 = graphistry.edges(wdf, '_src', '_dst').nodes(hover_data, 'Node').bind(point_x='_x', point_y='_y')\n",
    "g2.plot()"
   ]
  },
  {
   "cell_type": "code",
   "execution_count": null,
   "id": "fdb0e224",
   "metadata": {},
   "outputs": [],
   "source": [
    "g2 = graphistry.edges(edf, 'to_node', 'from_node').nodes(hover_data, 'Node').bind(point_x='_x', point_y='_y')\n",
    "g2.plot()"
   ]
  },
  {
   "cell_type": "code",
   "execution_count": null,
   "id": "29886d38",
   "metadata": {},
   "outputs": [],
   "source": []
  }
 ],
 "metadata": {
  "kernelspec": {
   "display_name": "Python 3 (ipykernel)",
   "language": "python",
   "name": "python3"
  },
  "language_info": {
   "codemirror_mode": {
    "name": "ipython",
    "version": 3
   },
   "file_extension": ".py",
   "mimetype": "text/x-python",
   "name": "python",
   "nbconvert_exporter": "python",
   "pygments_lexer": "ipython3",
   "version": "3.8.9"
  }
 },
 "nbformat": 4,
 "nbformat_minor": 5
}
