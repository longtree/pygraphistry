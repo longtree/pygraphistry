{
 "cells": [
  {
   "cell_type": "code",
   "execution_count": null,
   "id": "253acbab",
   "metadata": {},
   "outputs": [],
   "source": [
    "#!pip install umap-learn[plot]"
   ]
  },
  {
   "cell_type": "code",
   "execution_count": null,
   "id": "d09fd175",
   "metadata": {},
   "outputs": [],
   "source": [
    "import os\n",
    "import graphistry\n",
    "import pandas as pd\n",
    "#import torch.nn.functional as F\n",
    "\n",
    "#from ml.dgl_utils import *\n",
    "from ml.utils import *\n",
    "from ml.feature_utils import *\n",
    "from ml.umap_utils import *\n",
    "\n",
    "import umap.plot\n",
    "\n",
    "import warnings\n",
    "warnings.filterwarnings('ignore')"
   ]
  },
  {
   "cell_type": "code",
   "execution_count": null,
   "id": "19196efe",
   "metadata": {},
   "outputs": [],
   "source": []
  },
  {
   "cell_type": "code",
   "execution_count": null,
   "id": "83afdd9c",
   "metadata": {},
   "outputs": [],
   "source": [
    "#graphistry.register(api=3, protocol=\"https\", server=\"hub.graphistry.com\", username=\"..\", password=\"..\")\n",
    "graphistry.register(api=3, protocol=\"https\", server=\"hub.graphistry.com\", username=os.environ['USERNAME'], password=os.environ['GRAPHISTRY_PASSWORD']) "
   ]
  },
  {
   "cell_type": "code",
   "execution_count": null,
   "id": "d8566fde",
   "metadata": {},
   "outputs": [],
   "source": [
    "src, dst = 'to_node', 'from_node'"
   ]
  },
  {
   "cell_type": "code",
   "execution_count": null,
   "id": "c11c3cb3",
   "metadata": {},
   "outputs": [],
   "source": [
    "edf = pd.read_csv('data/edges_blackrock.csv', index_col=0)\n",
    "ndf = pd.read_csv('data/nodes_blackrock.csv', index_col=0)\n",
    "ndf = ndf.fillna('').astype(str)\n",
    "edf = edf.drop(columns=['src', 'dst']).astype(str)"
   ]
  },
  {
   "cell_type": "code",
   "execution_count": null,
   "id": "bd8c8325",
   "metadata": {},
   "outputs": [],
   "source": [
    "edf"
   ]
  },
  {
   "cell_type": "code",
   "execution_count": null,
   "id": "9395bb48",
   "metadata": {},
   "outputs": [],
   "source": [
    "ndf"
   ]
  },
  {
   "cell_type": "markdown",
   "id": "13546cac",
   "metadata": {},
   "source": [
    "# Featurize"
   ]
  },
  {
   "cell_type": "code",
   "execution_count": null,
   "id": "dab38b31",
   "metadata": {},
   "outputs": [],
   "source": [
    "fc = FeatureMixin(**umap_kwargs_probs)"
   ]
  },
  {
   "cell_type": "code",
   "execution_count": null,
   "id": "2fdda023",
   "metadata": {},
   "outputs": [],
   "source": [
    "g = fc.edges(edf, 'to_node', 'from_node').nodes(ndf, 'Node')"
   ]
  },
  {
   "cell_type": "code",
   "execution_count": null,
   "id": "c0ca7bcb",
   "metadata": {
    "scrolled": true
   },
   "outputs": [],
   "source": [
    "g2 = g.featurize(kind='edges', y = pd.DataFrame({'relationship_type': edf.relationship_type.values}))"
   ]
  },
  {
   "cell_type": "code",
   "execution_count": null,
   "id": "5400402a",
   "metadata": {},
   "outputs": [],
   "source": [
    "g2 = g.featurize(kind='nodes', y = pd.DataFrame({'Types': ndf.Types.values}))"
   ]
  },
  {
   "cell_type": "code",
   "execution_count": null,
   "id": "e30f2a29",
   "metadata": {},
   "outputs": [],
   "source": [
    "N = g.node_target.values.argmax(1) # can make an effective label target for Nodes"
   ]
  },
  {
   "cell_type": "code",
   "execution_count": null,
   "id": "25605323",
   "metadata": {},
   "outputs": [],
   "source": [
    "g.node_features"
   ]
  },
  {
   "cell_type": "code",
   "execution_count": null,
   "id": "912eee5f",
   "metadata": {},
   "outputs": [],
   "source": [
    "g.edge_features"
   ]
  },
  {
   "cell_type": "code",
   "execution_count": null,
   "id": "0de6e4d5",
   "metadata": {},
   "outputs": [],
   "source": [
    "E=g2.edge_target.values.argmax(1) # effective edge target"
   ]
  },
  {
   "cell_type": "code",
   "execution_count": null,
   "id": "c57408fb",
   "metadata": {},
   "outputs": [],
   "source": [
    "g3 = g2.umap()"
   ]
  },
  {
   "cell_type": "code",
   "execution_count": null,
   "id": "5e17126c",
   "metadata": {},
   "outputs": [],
   "source": [
    "g3.xy_nodes"
   ]
  },
  {
   "cell_type": "code",
   "execution_count": null,
   "id": "4b8522ce",
   "metadata": {},
   "outputs": [],
   "source": [
    "plt.figure(figsize=(10,10)); plt.scatter(g.xy_nodes.T[0], g.xy_nodes.T[1], c=N, s=80, alpha=0.4)"
   ]
  },
  {
   "cell_type": "code",
   "execution_count": null,
   "id": "06428135",
   "metadata": {},
   "outputs": [],
   "source": [
    "g4 = g.umap(kind='edges', scale=1)"
   ]
  },
  {
   "cell_type": "code",
   "execution_count": null,
   "id": "18efc620",
   "metadata": {},
   "outputs": [],
   "source": [
    "plt.figure(figsize=(10,10)); plt.scatter(g.xy_edges.T[0], g.xy_edges.T[1], c=E, s=80, alpha=0.4)"
   ]
  },
  {
   "cell_type": "code",
   "execution_count": null,
   "id": "d63b9316",
   "metadata": {},
   "outputs": [],
   "source": [
    "g.weighted_adjacency_edges"
   ]
  },
  {
   "cell_type": "code",
   "execution_count": null,
   "id": "17683fed",
   "metadata": {},
   "outputs": [],
   "source": [
    "g4.weighted_edges_df_from_edges "
   ]
  },
  {
   "cell_type": "code",
   "execution_count": null,
   "id": "fbcfacf0",
   "metadata": {},
   "outputs": [],
   "source": [
    "g.weighted_edges_df_from_nodes"
   ]
  },
  {
   "cell_type": "code",
   "execution_count": null,
   "id": "3e7954b1",
   "metadata": {},
   "outputs": [],
   "source": [
    "g.weighted_adjacency_edges"
   ]
  },
  {
   "cell_type": "code",
   "execution_count": null,
   "id": "e0efb377",
   "metadata": {},
   "outputs": [],
   "source": [
    "X=g.node_features"
   ]
  },
  {
   "cell_type": "code",
   "execution_count": null,
   "id": "49eedbc7",
   "metadata": {},
   "outputs": [],
   "source": [
    "g4 = g.umap(kind='nodes', X=g.node_features, y = N)"
   ]
  },
  {
   "cell_type": "code",
   "execution_count": null,
   "id": "793e2596",
   "metadata": {},
   "outputs": [],
   "source": [
    "g4 = g.umap(kind='nodes', X=g.node_features, y = N.reshape(-1, 1))"
   ]
  },
  {
   "cell_type": "code",
   "execution_count": null,
   "id": "51c149b2",
   "metadata": {},
   "outputs": [],
   "source": [
    "umap.plot.points(g, labels=N, theme='fire')"
   ]
  },
  {
   "cell_type": "code",
   "execution_count": null,
   "id": "940860f8",
   "metadata": {},
   "outputs": [],
   "source": [
    "g4 = g.umap(kind='nodes', X=g.node_features, y = None) # without the target influencing the UMAP"
   ]
  },
  {
   "cell_type": "code",
   "execution_count": null,
   "id": "51128c44",
   "metadata": {},
   "outputs": [],
   "source": [
    "umap.plot.points(g, labels=N, theme='fire')"
   ]
  },
  {
   "cell_type": "code",
   "execution_count": null,
   "id": "b4fbda59",
   "metadata": {},
   "outputs": [],
   "source": [
    "umap.plot.output_notebook()"
   ]
  },
  {
   "cell_type": "code",
   "execution_count": null,
   "id": "828103d6",
   "metadata": {},
   "outputs": [],
   "source": [
    "# need to reindex to get contiguous index  \n",
    "hover_data = pd.DataFrame(g._nodes.values, index=range(len(g._nodes)), columns=g._nodes.columns)"
   ]
  },
  {
   "cell_type": "code",
   "execution_count": null,
   "id": "9baa7fa5",
   "metadata": {},
   "outputs": [],
   "source": [
    "hover_data = hover_data.fillna('')"
   ]
  },
  {
   "cell_type": "code",
   "execution_count": null,
   "id": "4cccaedd",
   "metadata": {},
   "outputs": [],
   "source": [
    "hover_data = hover_data[['Node', 'Blurb', 'Summary','Types']]"
   ]
  },
  {
   "cell_type": "code",
   "execution_count": null,
   "id": "3f32560b",
   "metadata": {},
   "outputs": [],
   "source": [
    "hover_data"
   ]
  },
  {
   "cell_type": "code",
   "execution_count": null,
   "id": "35a971ba",
   "metadata": {
    "scrolled": false
   },
   "outputs": [],
   "source": [
    "p = umap.plot.interactive(g, labels=N, hover_data=hover_data, point_size=20, theme='fire')\n",
    "umap.plot.show(p)"
   ]
  },
  {
   "cell_type": "markdown",
   "id": "5bd595b7",
   "metadata": {},
   "source": [
    "# Now we can do the same for Edges"
   ]
  },
  {
   "cell_type": "code",
   "execution_count": null,
   "id": "5ce0d204",
   "metadata": {},
   "outputs": [],
   "source": [
    "hover_data2 = pd.DataFrame(g._edges.values, index=range(len(g._edges)), columns=g._edges.columns)"
   ]
  },
  {
   "cell_type": "code",
   "execution_count": null,
   "id": "92ef6136",
   "metadata": {},
   "outputs": [],
   "source": [
    "g2=g.umap(kind='edges')"
   ]
  },
  {
   "cell_type": "code",
   "execution_count": null,
   "id": "921100d2",
   "metadata": {},
   "outputs": [],
   "source": [
    "p = umap.plot.interactive(g, labels=E, hover_data=hover_data2, point_size=20, theme='fire')\n",
    "umap.plot.show(p)"
   ]
  },
  {
   "cell_type": "code",
   "execution_count": null,
   "id": "a39631a7",
   "metadata": {},
   "outputs": [],
   "source": [
    "g.plot()"
   ]
  },
  {
   "cell_type": "code",
   "execution_count": null,
   "id": "f25d7a10",
   "metadata": {},
   "outputs": [],
   "source": [
    "#umap.plot.connectivity(g, edge_bundling='hammer')"
   ]
  },
  {
   "cell_type": "code",
   "execution_count": null,
   "id": "1cc54e91",
   "metadata": {
    "scrolled": true
   },
   "outputs": [],
   "source": [
    "for mindist in np.linspace(0,1,5):\n",
    "    g.umap(kind='nodes', **{'min_dist':mindist})\n",
    "    p = umap.plot.interactive(g, labels=N, hover_data=hover_data, point_size=20, theme='fire')\n",
    "    umap.plot.show(p)\n",
    "    "
   ]
  },
  {
   "cell_type": "code",
   "execution_count": null,
   "id": "c7cb761f",
   "metadata": {},
   "outputs": [],
   "source": [
    "for k in range(2,62,10):\n",
    "    g.umap(kind='nodes', **{'n_neighbors':k})\n",
    "    print(k)\n",
    "    p = umap.plot.interactive(g, labels=N, hover_data=hover_data, point_size=20, theme='fire')\n",
    "    umap.plot.show(p)\n",
    "    "
   ]
  },
  {
   "cell_type": "code",
   "execution_count": null,
   "id": "3343bf13",
   "metadata": {},
   "outputs": [],
   "source": [
    "g.xy_nodes\n",
    "# g2 = g.edges(edf, 'to_node', 'from_node').nodes(ndf, 'Node').bind(point_x='x', point_y='y')\n",
    "# g2.plot()"
   ]
  },
  {
   "cell_type": "code",
   "execution_count": null,
   "id": "2ec9c86e",
   "metadata": {},
   "outputs": [],
   "source": [
    "wdf = g.weighted_edges_df_from_nodes"
   ]
  },
  {
   "cell_type": "code",
   "execution_count": null,
   "id": "d981e680",
   "metadata": {},
   "outputs": [],
   "source": [
    "coldict = dict(zip(range(len(g._nodes)), g._nodes['Node'].values))"
   ]
  },
  {
   "cell_type": "code",
   "execution_count": null,
   "id": "efd30242",
   "metadata": {},
   "outputs": [],
   "source": [
    "wdf['src'] = wdf['_src'].apply(lambda x: coldict[x])\n",
    "wdf['dst'] = wdf['_dst'].apply(lambda x: coldict[x])"
   ]
  },
  {
   "cell_type": "code",
   "execution_count": null,
   "id": "29b819ec",
   "metadata": {},
   "outputs": [],
   "source": [
    "wdf"
   ]
  },
  {
   "cell_type": "code",
   "execution_count": null,
   "id": "fa101853",
   "metadata": {},
   "outputs": [],
   "source": [
    "hover_data['_x'] = 10*g.xy_nodes.T[0]\n",
    "hover_data['_y'] = 10*g.xy_nodes.T[1]"
   ]
  },
  {
   "cell_type": "code",
   "execution_count": null,
   "id": "4b3fbc5c",
   "metadata": {},
   "outputs": [],
   "source": [
    "hover_data"
   ]
  },
  {
   "cell_type": "code",
   "execution_count": null,
   "id": "211d2627",
   "metadata": {},
   "outputs": [],
   "source": [
    "g2 = graphistry.edges(wdf, '_src', '_dst').nodes(hover_data, 'Node').bind(point_x='_x', point_y='_y')\n",
    "g2.plot()"
   ]
  },
  {
   "cell_type": "code",
   "execution_count": null,
   "id": "8f79afee",
   "metadata": {},
   "outputs": [],
   "source": [
    "g2 = graphistry.edges(edf, 'to_node', 'from_node').nodes(hover_data, 'Node').bind(point_x='_x', point_y='_y')\n",
    "g2.plot()"
   ]
  },
  {
   "cell_type": "code",
   "execution_count": null,
   "id": "17fec43b",
   "metadata": {},
   "outputs": [],
   "source": []
  }
 ],
 "metadata": {
  "kernelspec": {
   "display_name": "Python 3 (ipykernel)",
   "language": "python",
   "name": "python3"
  },
  "language_info": {
   "codemirror_mode": {
    "name": "ipython",
    "version": 3
   },
   "file_extension": ".py",
   "mimetype": "text/x-python",
   "name": "python",
   "nbconvert_exporter": "python",
   "pygments_lexer": "ipython3",
   "version": "3.8.9"
  }
 },
 "nbformat": 4,
 "nbformat_minor": 5
}
