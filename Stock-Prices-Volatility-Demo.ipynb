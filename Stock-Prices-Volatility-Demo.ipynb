{
 "cells": [
  {
   "cell_type": "code",
   "execution_count": 1,
   "id": "e2f634c7",
   "metadata": {
    "scrolled": true
   },
   "outputs": [
    {
     "name": "stdout",
     "output_type": "stream",
     "text": [
      "Defaulting to user installation because normal site-packages is not writeable\n",
      "Requirement already satisfied: yfinance in /Users/alexmorisse/Library/Python/3.8/lib/python/site-packages (0.1.70)\n",
      "Requirement already satisfied: requests>=2.26 in /Users/alexmorisse/Library/Python/3.8/lib/python/site-packages (from yfinance) (2.27.1)\n",
      "Requirement already satisfied: lxml>=4.5.1 in /Users/alexmorisse/Library/Python/3.8/lib/python/site-packages (from yfinance) (4.6.3)\n",
      "Requirement already satisfied: pandas>=0.24.0 in /Users/alexmorisse/Library/Python/3.8/lib/python/site-packages (from yfinance) (1.3.0)\n",
      "Requirement already satisfied: numpy>=1.15 in /Users/alexmorisse/Library/Python/3.8/lib/python/site-packages (from yfinance) (1.19.5)\n",
      "Requirement already satisfied: multitasking>=0.0.7 in /Users/alexmorisse/Library/Python/3.8/lib/python/site-packages (from yfinance) (0.0.10)\n",
      "Requirement already satisfied: pytz>=2017.3 in /Users/alexmorisse/Library/Python/3.8/lib/python/site-packages (from pandas>=0.24.0->yfinance) (2021.1)\n",
      "Requirement already satisfied: python-dateutil>=2.7.3 in /Users/alexmorisse/Library/Python/3.8/lib/python/site-packages (from pandas>=0.24.0->yfinance) (2.8.1)\n",
      "Requirement already satisfied: idna<4,>=2.5 in /Users/alexmorisse/Library/Python/3.8/lib/python/site-packages (from requests>=2.26->yfinance) (2.10)\n",
      "Requirement already satisfied: certifi>=2017.4.17 in /Users/alexmorisse/Library/Python/3.8/lib/python/site-packages (from requests>=2.26->yfinance) (2021.5.30)\n",
      "Requirement already satisfied: urllib3<1.27,>=1.21.1 in /Users/alexmorisse/Library/Python/3.8/lib/python/site-packages (from requests>=2.26->yfinance) (1.26.6)\n",
      "Requirement already satisfied: charset-normalizer~=2.0.0 in /Users/alexmorisse/Library/Python/3.8/lib/python/site-packages (from requests>=2.26->yfinance) (2.0.10)\n",
      "Requirement already satisfied: six>=1.5 in /Users/alexmorisse/Library/Python/3.8/lib/python/site-packages (from python-dateutil>=2.7.3->pandas>=0.24.0->yfinance) (1.15.0)\n"
     ]
    }
   ],
   "source": [
    "!pip install yfinance"
   ]
  },
  {
   "cell_type": "code",
   "execution_count": 2,
   "id": "96ab3909",
   "metadata": {},
   "outputs": [],
   "source": [
    "from collections import Counter\n",
    "import yfinance as yf\n",
    "import glob\n",
    "import pandas as pd\n",
    "import numpy as np\n",
    "import matplotlib as mpl\n",
    "import matplotlib.pyplot as plt\n",
    "\n",
    "import graphistry\n",
    "#from graphistry.feature_utils import FeatureMixin, get_dtypes_for_dataframe\n",
    "import warnings\n",
    "warnings.filterwarnings('ignore')"
   ]
  },
  {
   "cell_type": "code",
   "execution_count": 3,
   "id": "046ea382",
   "metadata": {},
   "outputs": [],
   "source": [
    "# from importlib import reload\n",
    "# from graphistry import feature_utils\n",
    "# reload(feature_utils)\n",
    "# reload(graphistry)\n",
    "# from graphistry.feature_utils import get_dtypes_for_dataframe"
   ]
  },
  {
   "cell_type": "code",
   "execution_count": 4,
   "id": "90b91d00",
   "metadata": {},
   "outputs": [],
   "source": [
    "graphistry.register(api=3, protocol=\"https\", server=\"hub.graphistry.com\", username=\"\", password=\"\") "
   ]
  },
  {
   "cell_type": "code",
   "execution_count": 5,
   "id": "797ce313",
   "metadata": {},
   "outputs": [],
   "source": [
    "g = graphistry.bind() # create base graphistry instance that we can reuse below"
   ]
  },
  {
   "cell_type": "markdown",
   "id": "3e49c69e",
   "metadata": {},
   "source": [
    "# Load in 100 leading industry Tickers"
   ]
  },
  {
   "cell_type": "code",
   "execution_count": 6,
   "id": "807f7890",
   "metadata": {},
   "outputs": [],
   "source": [
    "res = pd.read_html('https://en.wikipedia.org/wiki/S%26P_100')\n",
    "ndf = res[2]"
   ]
  },
  {
   "cell_type": "code",
   "execution_count": 7,
   "id": "366c9d51",
   "metadata": {
    "scrolled": true
   },
   "outputs": [
    {
     "data": {
      "text/html": [
       "<div>\n",
       "<style scoped>\n",
       "    .dataframe tbody tr th:only-of-type {\n",
       "        vertical-align: middle;\n",
       "    }\n",
       "\n",
       "    .dataframe tbody tr th {\n",
       "        vertical-align: top;\n",
       "    }\n",
       "\n",
       "    .dataframe thead th {\n",
       "        text-align: right;\n",
       "    }\n",
       "</style>\n",
       "<table border=\"1\" class=\"dataframe\">\n",
       "  <thead>\n",
       "    <tr style=\"text-align: right;\">\n",
       "      <th></th>\n",
       "      <th>Symbol</th>\n",
       "      <th>Name</th>\n",
       "      <th>Sector</th>\n",
       "    </tr>\n",
       "  </thead>\n",
       "  <tbody>\n",
       "    <tr>\n",
       "      <th>0</th>\n",
       "      <td>AAPL</td>\n",
       "      <td>Apple</td>\n",
       "      <td>Information Technology</td>\n",
       "    </tr>\n",
       "    <tr>\n",
       "      <th>1</th>\n",
       "      <td>ABBV</td>\n",
       "      <td>AbbVie</td>\n",
       "      <td>Health Care</td>\n",
       "    </tr>\n",
       "    <tr>\n",
       "      <th>2</th>\n",
       "      <td>ABT</td>\n",
       "      <td>Abbott</td>\n",
       "      <td>Health Care</td>\n",
       "    </tr>\n",
       "    <tr>\n",
       "      <th>3</th>\n",
       "      <td>ACN</td>\n",
       "      <td>Accenture</td>\n",
       "      <td>Information Technology</td>\n",
       "    </tr>\n",
       "    <tr>\n",
       "      <th>4</th>\n",
       "      <td>ADBE</td>\n",
       "      <td>Adobe</td>\n",
       "      <td>Information Technology</td>\n",
       "    </tr>\n",
       "    <tr>\n",
       "      <th>...</th>\n",
       "      <td>...</td>\n",
       "      <td>...</td>\n",
       "      <td>...</td>\n",
       "    </tr>\n",
       "    <tr>\n",
       "      <th>96</th>\n",
       "      <td>VZ</td>\n",
       "      <td>Verizon</td>\n",
       "      <td>Communication Services</td>\n",
       "    </tr>\n",
       "    <tr>\n",
       "      <th>97</th>\n",
       "      <td>WBA</td>\n",
       "      <td>Walgreens Boots Alliance</td>\n",
       "      <td>Consumer Staples</td>\n",
       "    </tr>\n",
       "    <tr>\n",
       "      <th>98</th>\n",
       "      <td>WFC</td>\n",
       "      <td>Wells Fargo</td>\n",
       "      <td>Financials</td>\n",
       "    </tr>\n",
       "    <tr>\n",
       "      <th>99</th>\n",
       "      <td>WMT</td>\n",
       "      <td>Walmart</td>\n",
       "      <td>Consumer Staples</td>\n",
       "    </tr>\n",
       "    <tr>\n",
       "      <th>100</th>\n",
       "      <td>XOM</td>\n",
       "      <td>ExxonMobil</td>\n",
       "      <td>Energy</td>\n",
       "    </tr>\n",
       "  </tbody>\n",
       "</table>\n",
       "<p>101 rows × 3 columns</p>\n",
       "</div>"
      ],
      "text/plain": [
       "    Symbol                      Name                  Sector\n",
       "0     AAPL                     Apple  Information Technology\n",
       "1     ABBV                    AbbVie             Health Care\n",
       "2      ABT                    Abbott             Health Care\n",
       "3      ACN                 Accenture  Information Technology\n",
       "4     ADBE                     Adobe  Information Technology\n",
       "..     ...                       ...                     ...\n",
       "96      VZ                   Verizon  Communication Services\n",
       "97     WBA  Walgreens Boots Alliance        Consumer Staples\n",
       "98     WFC               Wells Fargo              Financials\n",
       "99     WMT                   Walmart        Consumer Staples\n",
       "100    XOM                ExxonMobil                  Energy\n",
       "\n",
       "[101 rows x 3 columns]"
      ]
     },
     "execution_count": 7,
     "metadata": {},
     "output_type": "execute_result"
    }
   ],
   "source": [
    "# load bulk\n",
    "ndf"
   ]
  },
  {
   "cell_type": "code",
   "execution_count": 8,
   "id": "040320fa",
   "metadata": {},
   "outputs": [],
   "source": [
    "tickers = ndf[ndf.Symbol != 'BRK.B'].Symbol # since BRK.B is delisted."
   ]
  },
  {
   "cell_type": "markdown",
   "id": "73016c00",
   "metadata": {},
   "source": [
    "# We add in 33 Electric Car Stocks from different parts of the supply chain \n",
    "## -- Manufacturers, Battery Systems, Material Stocks, Charging Stations and Equipement"
   ]
  },
  {
   "cell_type": "code",
   "execution_count": 9,
   "id": "25e014a6",
   "metadata": {},
   "outputs": [],
   "source": [
    "# get Electric Car Stocks + supply chain heuristics\n",
    "ev_tickers = ['GM', 'F', 'XPEV', 'LI', 'NIO', 'TSLA', 'NKLA', 'RIVN', 'RIDE', 'TM',\n",
    "              'GOEV', 'FSR', 'APTV', 'FUV', 'BLNK', 'LCID', 'CHPT', 'GELYF', 'MGA', 'DDAIF',\n",
    "             'PCRFY', 'VWAGY', 'BMWYY', 'ZEV', 'SLDP', 'RMO', 'PCAR', 'LAC', #battery systems\n",
    "             'NNDM', 'BWA', 'MP', 'FCX', 'ALSN', 'ALB',     #Materials Stocks\n",
    "             'BEEM', 'BLNK', 'VLTA' # Charging stations + equipment\n",
    "             ] # add your own here"
   ]
  },
  {
   "cell_type": "code",
   "execution_count": 10,
   "id": "44c4db68",
   "metadata": {},
   "outputs": [],
   "source": [
    "all_tickers = tickers.to_list()+ev_tickers"
   ]
  },
  {
   "cell_type": "code",
   "execution_count": 11,
   "id": "01b4ff47",
   "metadata": {},
   "outputs": [],
   "source": [
    "if fetch:\n",
    "    # download their price data\n",
    "    df_prices_all = yf.download(all_tickers, start='2021-01-01', interval='1h')\n",
    "    df_prices_all.to_csv('data/stock_prices_all.csv')\n",
    "else:\n",
    "    df_prices_all = pd.read_csv('data/stock_prices_all.csv', index_col=0)"
   ]
  },
  {
   "cell_type": "code",
   "execution_count": 12,
   "id": "052f9a95",
   "metadata": {},
   "outputs": [
    {
     "data": {
      "text/html": [
       "<div>\n",
       "<style scoped>\n",
       "    .dataframe tbody tr th:only-of-type {\n",
       "        vertical-align: middle;\n",
       "    }\n",
       "\n",
       "    .dataframe tbody tr th {\n",
       "        vertical-align: top;\n",
       "    }\n",
       "\n",
       "    .dataframe thead th {\n",
       "        text-align: right;\n",
       "    }\n",
       "</style>\n",
       "<table border=\"1\" class=\"dataframe\">\n",
       "  <thead>\n",
       "    <tr style=\"text-align: right;\">\n",
       "      <th></th>\n",
       "      <th>Adj Close</th>\n",
       "      <th>Adj Close.1</th>\n",
       "      <th>Adj Close.2</th>\n",
       "      <th>Adj Close.3</th>\n",
       "      <th>Adj Close.4</th>\n",
       "      <th>Adj Close.5</th>\n",
       "      <th>Adj Close.6</th>\n",
       "      <th>Adj Close.7</th>\n",
       "      <th>Adj Close.8</th>\n",
       "      <th>Adj Close.9</th>\n",
       "      <th>...</th>\n",
       "      <th>Volume.124</th>\n",
       "      <th>Volume.125</th>\n",
       "      <th>Volume.126</th>\n",
       "      <th>Volume.127</th>\n",
       "      <th>Volume.128</th>\n",
       "      <th>Volume.129</th>\n",
       "      <th>Volume.130</th>\n",
       "      <th>Volume.131</th>\n",
       "      <th>Volume.132</th>\n",
       "      <th>Volume.133</th>\n",
       "    </tr>\n",
       "  </thead>\n",
       "  <tbody>\n",
       "    <tr>\n",
       "      <th>NaN</th>\n",
       "      <td>AAPL</td>\n",
       "      <td>ABBV</td>\n",
       "      <td>ABT</td>\n",
       "      <td>ACN</td>\n",
       "      <td>ADBE</td>\n",
       "      <td>AIG</td>\n",
       "      <td>ALB</td>\n",
       "      <td>ALSN</td>\n",
       "      <td>AMGN</td>\n",
       "      <td>AMT</td>\n",
       "      <td>...</td>\n",
       "      <td>V</td>\n",
       "      <td>VLTA</td>\n",
       "      <td>VWAGY</td>\n",
       "      <td>VZ</td>\n",
       "      <td>WBA</td>\n",
       "      <td>WFC</td>\n",
       "      <td>WMT</td>\n",
       "      <td>XOM</td>\n",
       "      <td>XPEV</td>\n",
       "      <td>ZEV</td>\n",
       "    </tr>\n",
       "    <tr>\n",
       "      <th>2021-01-04 09:30:00-05:00</th>\n",
       "      <td>131.05360412597656</td>\n",
       "      <td>105.5</td>\n",
       "      <td>110.0</td>\n",
       "      <td>259.5150146484375</td>\n",
       "      <td>495.8599853515625</td>\n",
       "      <td>37.310001373291016</td>\n",
       "      <td>156.38999938964844</td>\n",
       "      <td>42.95000076293945</td>\n",
       "      <td>227.74000549316406</td>\n",
       "      <td>222.77000427246094</td>\n",
       "      <td>...</td>\n",
       "      <td>1747168.0</td>\n",
       "      <td>NaN</td>\n",
       "      <td>0.0</td>\n",
       "      <td>3788598.0</td>\n",
       "      <td>1792064.0</td>\n",
       "      <td>5918562.0</td>\n",
       "      <td>1901810.0</td>\n",
       "      <td>5976778.0</td>\n",
       "      <td>15792766.0</td>\n",
       "      <td>NaN</td>\n",
       "    </tr>\n",
       "    <tr>\n",
       "      <th>2021-01-04 10:30:00-05:00</th>\n",
       "      <td>129.89500427246094</td>\n",
       "      <td>105.01000213623047</td>\n",
       "      <td>108.63999938964844</td>\n",
       "      <td>257.3800048828125</td>\n",
       "      <td>487.9100036621094</td>\n",
       "      <td>37.125</td>\n",
       "      <td>152.80999755859375</td>\n",
       "      <td>42.58000183105469</td>\n",
       "      <td>226.22999572753906</td>\n",
       "      <td>221.10279846191406</td>\n",
       "      <td>...</td>\n",
       "      <td>1111551.0</td>\n",
       "      <td>NaN</td>\n",
       "      <td>63313.0</td>\n",
       "      <td>2124665.0</td>\n",
       "      <td>1095913.0</td>\n",
       "      <td>4288131.0</td>\n",
       "      <td>1867244.0</td>\n",
       "      <td>3916462.0</td>\n",
       "      <td>7798650.0</td>\n",
       "      <td>NaN</td>\n",
       "    </tr>\n",
       "    <tr>\n",
       "      <th>2021-01-04 11:30:00-05:00</th>\n",
       "      <td>128.25</td>\n",
       "      <td>104.30999755859375</td>\n",
       "      <td>107.62000274658203</td>\n",
       "      <td>255.51499938964844</td>\n",
       "      <td>480.93499755859375</td>\n",
       "      <td>36.97990036010742</td>\n",
       "      <td>151.36000061035156</td>\n",
       "      <td>42.19499969482422</td>\n",
       "      <td>224.19500732421875</td>\n",
       "      <td>220.75</td>\n",
       "      <td>...</td>\n",
       "      <td>801329.0</td>\n",
       "      <td>NaN</td>\n",
       "      <td>27120.0</td>\n",
       "      <td>1834059.0</td>\n",
       "      <td>1189900.0</td>\n",
       "      <td>3087889.0</td>\n",
       "      <td>1240230.0</td>\n",
       "      <td>2592867.0</td>\n",
       "      <td>5037955.0</td>\n",
       "      <td>NaN</td>\n",
       "    </tr>\n",
       "    <tr>\n",
       "      <th>2021-01-04 12:30:00-05:00</th>\n",
       "      <td>129.039794921875</td>\n",
       "      <td>104.48500061035156</td>\n",
       "      <td>108.05000305175781</td>\n",
       "      <td>256.20001220703125</td>\n",
       "      <td>481.29998779296875</td>\n",
       "      <td>37.244998931884766</td>\n",
       "      <td>153.0028076171875</td>\n",
       "      <td>42.189998626708984</td>\n",
       "      <td>224.27999877929688</td>\n",
       "      <td>220.6999969482422</td>\n",
       "      <td>...</td>\n",
       "      <td>623943.0</td>\n",
       "      <td>NaN</td>\n",
       "      <td>15402.0</td>\n",
       "      <td>1269165.0</td>\n",
       "      <td>848710.0</td>\n",
       "      <td>3498474.0</td>\n",
       "      <td>883040.0</td>\n",
       "      <td>1883976.0</td>\n",
       "      <td>2833051.0</td>\n",
       "      <td>NaN</td>\n",
       "    </tr>\n",
       "    <tr>\n",
       "      <th>...</th>\n",
       "      <td>...</td>\n",
       "      <td>...</td>\n",
       "      <td>...</td>\n",
       "      <td>...</td>\n",
       "      <td>...</td>\n",
       "      <td>...</td>\n",
       "      <td>...</td>\n",
       "      <td>...</td>\n",
       "      <td>...</td>\n",
       "      <td>...</td>\n",
       "      <td>...</td>\n",
       "      <td>...</td>\n",
       "      <td>...</td>\n",
       "      <td>...</td>\n",
       "      <td>...</td>\n",
       "      <td>...</td>\n",
       "      <td>...</td>\n",
       "      <td>...</td>\n",
       "      <td>...</td>\n",
       "      <td>...</td>\n",
       "      <td>...</td>\n",
       "    </tr>\n",
       "    <tr>\n",
       "      <th>2022-02-11 11:30:00-05:00</th>\n",
       "      <td>171.809998</td>\n",
       "      <td>142.389999</td>\n",
       "      <td>126.629997</td>\n",
       "      <td>334.980011</td>\n",
       "      <td>487.630005</td>\n",
       "      <td>62.505001</td>\n",
       "      <td>236.539993</td>\n",
       "      <td>39.648998</td>\n",
       "      <td>230.404999</td>\n",
       "      <td>239.659607</td>\n",
       "      <td>...</td>\n",
       "      <td>531596.0</td>\n",
       "      <td>349817.0</td>\n",
       "      <td>12168.0</td>\n",
       "      <td>1217919.0</td>\n",
       "      <td>385208.0</td>\n",
       "      <td>2729233.0</td>\n",
       "      <td>618576.0</td>\n",
       "      <td>2414785.0</td>\n",
       "      <td>704315.0</td>\n",
       "      <td>90251.0</td>\n",
       "    </tr>\n",
       "    <tr>\n",
       "      <th>2022-02-11 12:30:00-05:00</th>\n",
       "      <td>171.024994</td>\n",
       "      <td>142.460007</td>\n",
       "      <td>126.400002</td>\n",
       "      <td>333.410004</td>\n",
       "      <td>484.220001</td>\n",
       "      <td>61.970001</td>\n",
       "      <td>234.520004</td>\n",
       "      <td>39.490002</td>\n",
       "      <td>230.464996</td>\n",
       "      <td>237.669098</td>\n",
       "      <td>...</td>\n",
       "      <td>705767.0</td>\n",
       "      <td>234469.0</td>\n",
       "      <td>13995.0</td>\n",
       "      <td>1011522.0</td>\n",
       "      <td>424719.0</td>\n",
       "      <td>2439767.0</td>\n",
       "      <td>520580.0</td>\n",
       "      <td>2041832.0</td>\n",
       "      <td>611541.0</td>\n",
       "      <td>60601.0</td>\n",
       "    </tr>\n",
       "    <tr>\n",
       "      <th>2022-02-11 13:30:00-05:00</th>\n",
       "      <td>168.979996</td>\n",
       "      <td>142.417999</td>\n",
       "      <td>125.57</td>\n",
       "      <td>329.494995</td>\n",
       "      <td>477.920013</td>\n",
       "      <td>60.759998</td>\n",
       "      <td>230.0</td>\n",
       "      <td>39.080002</td>\n",
       "      <td>229.770004</td>\n",
       "      <td>236.850006</td>\n",
       "      <td>...</td>\n",
       "      <td>1141915.0</td>\n",
       "      <td>400399.0</td>\n",
       "      <td>58298.0</td>\n",
       "      <td>2733935.0</td>\n",
       "      <td>651283.0</td>\n",
       "      <td>5324156.0</td>\n",
       "      <td>1530366.0</td>\n",
       "      <td>7946362.0</td>\n",
       "      <td>1042922.0</td>\n",
       "      <td>132490.0</td>\n",
       "    </tr>\n",
       "    <tr>\n",
       "      <th>2022-02-11 14:30:00-05:00</th>\n",
       "      <td>168.835007</td>\n",
       "      <td>142.139999</td>\n",
       "      <td>125.709999</td>\n",
       "      <td>328.924988</td>\n",
       "      <td>477.075012</td>\n",
       "      <td>60.389999</td>\n",
       "      <td>230.889999</td>\n",
       "      <td>39.169998</td>\n",
       "      <td>229.630005</td>\n",
       "      <td>236.610001</td>\n",
       "      <td>...</td>\n",
       "      <td>1058408.0</td>\n",
       "      <td>383183.0</td>\n",
       "      <td>73009.0</td>\n",
       "      <td>3603134.0</td>\n",
       "      <td>1442547.0</td>\n",
       "      <td>4909250.0</td>\n",
       "      <td>1040113.0</td>\n",
       "      <td>4824359.0</td>\n",
       "      <td>1129879.0</td>\n",
       "      <td>177413.0</td>\n",
       "    </tr>\n",
       "    <tr>\n",
       "      <th>2022-02-11 15:30:00-05:00</th>\n",
       "      <td>168.440002</td>\n",
       "      <td>142.0</td>\n",
       "      <td>125.480003</td>\n",
       "      <td>329.179993</td>\n",
       "      <td>473.809998</td>\n",
       "      <td>60.720001</td>\n",
       "      <td>230.679993</td>\n",
       "      <td>39.27</td>\n",
       "      <td>228.160004</td>\n",
       "      <td>236.869995</td>\n",
       "      <td>...</td>\n",
       "      <td>1165723.0</td>\n",
       "      <td>717117.0</td>\n",
       "      <td>33856.0</td>\n",
       "      <td>3717853.0</td>\n",
       "      <td>1485041.0</td>\n",
       "      <td>4768184.0</td>\n",
       "      <td>1305013.0</td>\n",
       "      <td>5687861.0</td>\n",
       "      <td>807060.0</td>\n",
       "      <td>85840.0</td>\n",
       "    </tr>\n",
       "  </tbody>\n",
       "</table>\n",
       "<p>1966 rows × 804 columns</p>\n",
       "</div>"
      ],
      "text/plain": [
       "                                    Adj Close         Adj Close.1  \\\n",
       "NaN                                      AAPL                ABBV   \n",
       "2021-01-04 09:30:00-05:00  131.05360412597656               105.5   \n",
       "2021-01-04 10:30:00-05:00  129.89500427246094  105.01000213623047   \n",
       "2021-01-04 11:30:00-05:00              128.25  104.30999755859375   \n",
       "2021-01-04 12:30:00-05:00    129.039794921875  104.48500061035156   \n",
       "...                                       ...                 ...   \n",
       "2022-02-11 11:30:00-05:00          171.809998          142.389999   \n",
       "2022-02-11 12:30:00-05:00          171.024994          142.460007   \n",
       "2022-02-11 13:30:00-05:00          168.979996          142.417999   \n",
       "2022-02-11 14:30:00-05:00          168.835007          142.139999   \n",
       "2022-02-11 15:30:00-05:00          168.440002               142.0   \n",
       "\n",
       "                                  Adj Close.2         Adj Close.3  \\\n",
       "NaN                                       ABT                 ACN   \n",
       "2021-01-04 09:30:00-05:00               110.0   259.5150146484375   \n",
       "2021-01-04 10:30:00-05:00  108.63999938964844   257.3800048828125   \n",
       "2021-01-04 11:30:00-05:00  107.62000274658203  255.51499938964844   \n",
       "2021-01-04 12:30:00-05:00  108.05000305175781  256.20001220703125   \n",
       "...                                       ...                 ...   \n",
       "2022-02-11 11:30:00-05:00          126.629997          334.980011   \n",
       "2022-02-11 12:30:00-05:00          126.400002          333.410004   \n",
       "2022-02-11 13:30:00-05:00              125.57          329.494995   \n",
       "2022-02-11 14:30:00-05:00          125.709999          328.924988   \n",
       "2022-02-11 15:30:00-05:00          125.480003          329.179993   \n",
       "\n",
       "                                  Adj Close.4         Adj Close.5  \\\n",
       "NaN                                      ADBE                 AIG   \n",
       "2021-01-04 09:30:00-05:00   495.8599853515625  37.310001373291016   \n",
       "2021-01-04 10:30:00-05:00   487.9100036621094              37.125   \n",
       "2021-01-04 11:30:00-05:00  480.93499755859375   36.97990036010742   \n",
       "2021-01-04 12:30:00-05:00  481.29998779296875  37.244998931884766   \n",
       "...                                       ...                 ...   \n",
       "2022-02-11 11:30:00-05:00          487.630005           62.505001   \n",
       "2022-02-11 12:30:00-05:00          484.220001           61.970001   \n",
       "2022-02-11 13:30:00-05:00          477.920013           60.759998   \n",
       "2022-02-11 14:30:00-05:00          477.075012           60.389999   \n",
       "2022-02-11 15:30:00-05:00          473.809998           60.720001   \n",
       "\n",
       "                                  Adj Close.6         Adj Close.7  \\\n",
       "NaN                                       ALB                ALSN   \n",
       "2021-01-04 09:30:00-05:00  156.38999938964844   42.95000076293945   \n",
       "2021-01-04 10:30:00-05:00  152.80999755859375   42.58000183105469   \n",
       "2021-01-04 11:30:00-05:00  151.36000061035156   42.19499969482422   \n",
       "2021-01-04 12:30:00-05:00   153.0028076171875  42.189998626708984   \n",
       "...                                       ...                 ...   \n",
       "2022-02-11 11:30:00-05:00          236.539993           39.648998   \n",
       "2022-02-11 12:30:00-05:00          234.520004           39.490002   \n",
       "2022-02-11 13:30:00-05:00               230.0           39.080002   \n",
       "2022-02-11 14:30:00-05:00          230.889999           39.169998   \n",
       "2022-02-11 15:30:00-05:00          230.679993               39.27   \n",
       "\n",
       "                                  Adj Close.8         Adj Close.9  ...  \\\n",
       "NaN                                      AMGN                 AMT  ...   \n",
       "2021-01-04 09:30:00-05:00  227.74000549316406  222.77000427246094  ...   \n",
       "2021-01-04 10:30:00-05:00  226.22999572753906  221.10279846191406  ...   \n",
       "2021-01-04 11:30:00-05:00  224.19500732421875              220.75  ...   \n",
       "2021-01-04 12:30:00-05:00  224.27999877929688   220.6999969482422  ...   \n",
       "...                                       ...                 ...  ...   \n",
       "2022-02-11 11:30:00-05:00          230.404999          239.659607  ...   \n",
       "2022-02-11 12:30:00-05:00          230.464996          237.669098  ...   \n",
       "2022-02-11 13:30:00-05:00          229.770004          236.850006  ...   \n",
       "2022-02-11 14:30:00-05:00          229.630005          236.610001  ...   \n",
       "2022-02-11 15:30:00-05:00          228.160004          236.869995  ...   \n",
       "\n",
       "                          Volume.124 Volume.125 Volume.126 Volume.127  \\\n",
       "NaN                                V       VLTA      VWAGY         VZ   \n",
       "2021-01-04 09:30:00-05:00  1747168.0        NaN        0.0  3788598.0   \n",
       "2021-01-04 10:30:00-05:00  1111551.0        NaN    63313.0  2124665.0   \n",
       "2021-01-04 11:30:00-05:00   801329.0        NaN    27120.0  1834059.0   \n",
       "2021-01-04 12:30:00-05:00   623943.0        NaN    15402.0  1269165.0   \n",
       "...                              ...        ...        ...        ...   \n",
       "2022-02-11 11:30:00-05:00   531596.0   349817.0    12168.0  1217919.0   \n",
       "2022-02-11 12:30:00-05:00   705767.0   234469.0    13995.0  1011522.0   \n",
       "2022-02-11 13:30:00-05:00  1141915.0   400399.0    58298.0  2733935.0   \n",
       "2022-02-11 14:30:00-05:00  1058408.0   383183.0    73009.0  3603134.0   \n",
       "2022-02-11 15:30:00-05:00  1165723.0   717117.0    33856.0  3717853.0   \n",
       "\n",
       "                          Volume.128 Volume.129 Volume.130 Volume.131  \\\n",
       "NaN                              WBA        WFC        WMT        XOM   \n",
       "2021-01-04 09:30:00-05:00  1792064.0  5918562.0  1901810.0  5976778.0   \n",
       "2021-01-04 10:30:00-05:00  1095913.0  4288131.0  1867244.0  3916462.0   \n",
       "2021-01-04 11:30:00-05:00  1189900.0  3087889.0  1240230.0  2592867.0   \n",
       "2021-01-04 12:30:00-05:00   848710.0  3498474.0   883040.0  1883976.0   \n",
       "...                              ...        ...        ...        ...   \n",
       "2022-02-11 11:30:00-05:00   385208.0  2729233.0   618576.0  2414785.0   \n",
       "2022-02-11 12:30:00-05:00   424719.0  2439767.0   520580.0  2041832.0   \n",
       "2022-02-11 13:30:00-05:00   651283.0  5324156.0  1530366.0  7946362.0   \n",
       "2022-02-11 14:30:00-05:00  1442547.0  4909250.0  1040113.0  4824359.0   \n",
       "2022-02-11 15:30:00-05:00  1485041.0  4768184.0  1305013.0  5687861.0   \n",
       "\n",
       "                           Volume.132 Volume.133  \n",
       "NaN                              XPEV        ZEV  \n",
       "2021-01-04 09:30:00-05:00  15792766.0        NaN  \n",
       "2021-01-04 10:30:00-05:00   7798650.0        NaN  \n",
       "2021-01-04 11:30:00-05:00   5037955.0        NaN  \n",
       "2021-01-04 12:30:00-05:00   2833051.0        NaN  \n",
       "...                               ...        ...  \n",
       "2022-02-11 11:30:00-05:00    704315.0    90251.0  \n",
       "2022-02-11 12:30:00-05:00    611541.0    60601.0  \n",
       "2022-02-11 13:30:00-05:00   1042922.0   132490.0  \n",
       "2022-02-11 14:30:00-05:00   1129879.0   177413.0  \n",
       "2022-02-11 15:30:00-05:00    807060.0    85840.0  \n",
       "\n",
       "[1966 rows x 804 columns]"
      ]
     },
     "execution_count": 12,
     "metadata": {},
     "output_type": "execute_result"
    }
   ],
   "source": [
    "df_prices_all"
   ]
  },
  {
   "cell_type": "markdown",
   "id": "24ad3475",
   "metadata": {},
   "source": [
    " This is a multi-Index DataFrame"
   ]
  },
  {
   "cell_type": "code",
   "execution_count": 13,
   "id": "a0505259",
   "metadata": {},
   "outputs": [
    {
     "data": {
      "text/plain": [
       "Index(['Adj Close', 'Adj Close.1', 'Adj Close.2', 'Adj Close.3', 'Adj Close.4',\n",
       "       'Adj Close.5', 'Adj Close.6', 'Adj Close.7', 'Adj Close.8',\n",
       "       'Adj Close.9',\n",
       "       ...\n",
       "       'Volume.124', 'Volume.125', 'Volume.126', 'Volume.127', 'Volume.128',\n",
       "       'Volume.129', 'Volume.130', 'Volume.131', 'Volume.132', 'Volume.133'],\n",
       "      dtype='object', length=804)"
      ]
     },
     "execution_count": 13,
     "metadata": {},
     "output_type": "execute_result"
    }
   ],
   "source": [
    "df_prices_all.columns"
   ]
  },
  {
   "cell_type": "code",
   "execution_count": 14,
   "id": "b655d706",
   "metadata": {},
   "outputs": [],
   "source": [
    "def enrich_from_tickers(tickers):\n",
    "    \"\"\"\n",
    "        Get's enrichment data per ticker\n",
    "    \"\"\"\n",
    "    data = []\n",
    "    for tick in tickers:\n",
    "        print(f'Downloading info for {tick}')\n",
    "        res = yf.Ticker(tick)\n",
    "        datum = res.info\n",
    "        data.append(datum)\n",
    "    return data"
   ]
  },
  {
   "cell_type": "code",
   "execution_count": 15,
   "id": "b2a5c855",
   "metadata": {},
   "outputs": [],
   "source": [
    "if fetch:\n",
    "    data = enrich_from_tickers(all_tic)\n",
    "    df  = pd.DataFrame(data)\n",
    "    df.to_csv('data/stocks_metadata.csv')\n",
    "else:\n",
    "    df = pd.read_csv('data/stocks_metadata.csv', index_col=0)\n",
    "    df['n'] = range(len(df))"
   ]
  },
  {
   "cell_type": "code",
   "execution_count": 16,
   "id": "e8a08562",
   "metadata": {},
   "outputs": [
    {
     "data": {
      "text/plain": [
       "([('Consumer Cyclical', 31),\n",
       "  ('Technology', 16),\n",
       "  ('Healthcare', 16),\n",
       "  ('Industrials', 16),\n",
       "  ('Financial Services', 15),\n",
       "  ('Consumer Defensive', 11),\n",
       "  ('Communication Services', 10),\n",
       "  ('Basic Materials', 7),\n",
       "  ('Utilities', 4),\n",
       "  ('Energy', 3),\n",
       "  ('Real Estate', 2),\n",
       "  (nan, 2)],\n",
       " (133, 159))"
      ]
     },
     "execution_count": 16,
     "metadata": {},
     "output_type": "execute_result"
    }
   ],
   "source": [
    "# we have many examples of sector\n",
    "Counter(df.sector).most_common(), df.shape"
   ]
  },
  {
   "cell_type": "code",
   "execution_count": 17,
   "id": "e0a1c34a",
   "metadata": {},
   "outputs": [
    {
     "data": {
      "text/html": [
       "<div>\n",
       "<style scoped>\n",
       "    .dataframe tbody tr th:only-of-type {\n",
       "        vertical-align: middle;\n",
       "    }\n",
       "\n",
       "    .dataframe tbody tr th {\n",
       "        vertical-align: top;\n",
       "    }\n",
       "\n",
       "    .dataframe thead th {\n",
       "        text-align: right;\n",
       "    }\n",
       "</style>\n",
       "<table border=\"1\" class=\"dataframe\">\n",
       "  <thead>\n",
       "    <tr style=\"text-align: right;\">\n",
       "      <th></th>\n",
       "      <th>zip</th>\n",
       "      <th>sector</th>\n",
       "      <th>fullTimeEmployees</th>\n",
       "      <th>longBusinessSummary</th>\n",
       "      <th>city</th>\n",
       "      <th>phone</th>\n",
       "      <th>state</th>\n",
       "      <th>country</th>\n",
       "      <th>website</th>\n",
       "      <th>maxAge</th>\n",
       "      <th>...</th>\n",
       "      <th>preMarketPrice</th>\n",
       "      <th>logo_url</th>\n",
       "      <th>trailingPegRatio</th>\n",
       "      <th>address2</th>\n",
       "      <th>fax</th>\n",
       "      <th>underlyingSymbol</th>\n",
       "      <th>underlyingExchangeSymbol</th>\n",
       "      <th>headSymbol</th>\n",
       "      <th>uuid</th>\n",
       "      <th>n</th>\n",
       "    </tr>\n",
       "  </thead>\n",
       "  <tbody>\n",
       "    <tr>\n",
       "      <th>0</th>\n",
       "      <td>95014</td>\n",
       "      <td>Technology</td>\n",
       "      <td>100000.0</td>\n",
       "      <td>Apple Inc. designs, manufactures, and markets ...</td>\n",
       "      <td>Cupertino</td>\n",
       "      <td>408 996 1010</td>\n",
       "      <td>CA</td>\n",
       "      <td>United States</td>\n",
       "      <td>https://www.apple.com</td>\n",
       "      <td>1</td>\n",
       "      <td>...</td>\n",
       "      <td>174.00</td>\n",
       "      <td>https://logo.clearbit.com/apple.com</td>\n",
       "      <td>3.3581</td>\n",
       "      <td>NaN</td>\n",
       "      <td>NaN</td>\n",
       "      <td>NaN</td>\n",
       "      <td>NaN</td>\n",
       "      <td>NaN</td>\n",
       "      <td>NaN</td>\n",
       "      <td>0</td>\n",
       "    </tr>\n",
       "    <tr>\n",
       "      <th>1</th>\n",
       "      <td>60064-6400</td>\n",
       "      <td>Healthcare</td>\n",
       "      <td>NaN</td>\n",
       "      <td>AbbVie Inc. discovers, develops, manufactures,...</td>\n",
       "      <td>North Chicago</td>\n",
       "      <td>847 932 7900</td>\n",
       "      <td>IL</td>\n",
       "      <td>United States</td>\n",
       "      <td>https://www.abbvie.com</td>\n",
       "      <td>1</td>\n",
       "      <td>...</td>\n",
       "      <td>143.33</td>\n",
       "      <td>https://logo.clearbit.com/abbvie.com</td>\n",
       "      <td>NaN</td>\n",
       "      <td>NaN</td>\n",
       "      <td>NaN</td>\n",
       "      <td>NaN</td>\n",
       "      <td>NaN</td>\n",
       "      <td>NaN</td>\n",
       "      <td>NaN</td>\n",
       "      <td>1</td>\n",
       "    </tr>\n",
       "    <tr>\n",
       "      <th>2</th>\n",
       "      <td>60064-6400</td>\n",
       "      <td>Healthcare</td>\n",
       "      <td>113000.0</td>\n",
       "      <td>Abbott Laboratories discovers, develops, manuf...</td>\n",
       "      <td>North Chicago</td>\n",
       "      <td>224 667 6100</td>\n",
       "      <td>IL</td>\n",
       "      <td>United States</td>\n",
       "      <td>https://www.abbott.com</td>\n",
       "      <td>1</td>\n",
       "      <td>...</td>\n",
       "      <td>128.94</td>\n",
       "      <td>https://logo.clearbit.com/abbott.com</td>\n",
       "      <td>2.4397</td>\n",
       "      <td>Abbott Park</td>\n",
       "      <td>NaN</td>\n",
       "      <td>NaN</td>\n",
       "      <td>NaN</td>\n",
       "      <td>NaN</td>\n",
       "      <td>NaN</td>\n",
       "      <td>2</td>\n",
       "    </tr>\n",
       "    <tr>\n",
       "      <th>3</th>\n",
       "      <td>2</td>\n",
       "      <td>Technology</td>\n",
       "      <td>624000.0</td>\n",
       "      <td>Accenture plc, a professional services company...</td>\n",
       "      <td>Dublin</td>\n",
       "      <td>353 1 646 2000</td>\n",
       "      <td>NaN</td>\n",
       "      <td>Ireland</td>\n",
       "      <td>https://www.accenture.com</td>\n",
       "      <td>1</td>\n",
       "      <td>...</td>\n",
       "      <td>346.97</td>\n",
       "      <td>https://logo.clearbit.com/accenture.com</td>\n",
       "      <td>2.7366</td>\n",
       "      <td>Grand Canal Harbour</td>\n",
       "      <td>353 1 646 2020</td>\n",
       "      <td>NaN</td>\n",
       "      <td>NaN</td>\n",
       "      <td>NaN</td>\n",
       "      <td>NaN</td>\n",
       "      <td>3</td>\n",
       "    </tr>\n",
       "    <tr>\n",
       "      <th>4</th>\n",
       "      <td>95110-2704</td>\n",
       "      <td>Technology</td>\n",
       "      <td>25988.0</td>\n",
       "      <td>Adobe Inc. operates as a diversified software ...</td>\n",
       "      <td>San Jose</td>\n",
       "      <td>408 536 6000</td>\n",
       "      <td>CA</td>\n",
       "      <td>United States</td>\n",
       "      <td>https://www.adobe.com</td>\n",
       "      <td>1</td>\n",
       "      <td>...</td>\n",
       "      <td>509.14</td>\n",
       "      <td>https://logo.clearbit.com/adobe.com</td>\n",
       "      <td>1.9890</td>\n",
       "      <td>NaN</td>\n",
       "      <td>408 537 6000</td>\n",
       "      <td>NaN</td>\n",
       "      <td>NaN</td>\n",
       "      <td>NaN</td>\n",
       "      <td>NaN</td>\n",
       "      <td>4</td>\n",
       "    </tr>\n",
       "    <tr>\n",
       "      <th>...</th>\n",
       "      <td>...</td>\n",
       "      <td>...</td>\n",
       "      <td>...</td>\n",
       "      <td>...</td>\n",
       "      <td>...</td>\n",
       "      <td>...</td>\n",
       "      <td>...</td>\n",
       "      <td>...</td>\n",
       "      <td>...</td>\n",
       "      <td>...</td>\n",
       "      <td>...</td>\n",
       "      <td>...</td>\n",
       "      <td>...</td>\n",
       "      <td>...</td>\n",
       "      <td>...</td>\n",
       "      <td>...</td>\n",
       "      <td>...</td>\n",
       "      <td>...</td>\n",
       "      <td>...</td>\n",
       "      <td>...</td>\n",
       "      <td>...</td>\n",
       "    </tr>\n",
       "    <tr>\n",
       "      <th>132</th>\n",
       "      <td>85004-2189</td>\n",
       "      <td>Basic Materials</td>\n",
       "      <td>NaN</td>\n",
       "      <td>Freeport-McMoRan Inc. engages in the mining of...</td>\n",
       "      <td>Phoenix</td>\n",
       "      <td>602-366-8100</td>\n",
       "      <td>AZ</td>\n",
       "      <td>United States</td>\n",
       "      <td>https://fcx.com</td>\n",
       "      <td>1</td>\n",
       "      <td>...</td>\n",
       "      <td>42.79</td>\n",
       "      <td>https://logo.clearbit.com/fcx.com</td>\n",
       "      <td>NaN</td>\n",
       "      <td>NaN</td>\n",
       "      <td>NaN</td>\n",
       "      <td>NaN</td>\n",
       "      <td>NaN</td>\n",
       "      <td>NaN</td>\n",
       "      <td>NaN</td>\n",
       "      <td>128</td>\n",
       "    </tr>\n",
       "    <tr>\n",
       "      <th>133</th>\n",
       "      <td>46222-3271</td>\n",
       "      <td>Consumer Cyclical</td>\n",
       "      <td>3300.0</td>\n",
       "      <td>Allison Transmission Holdings, Inc., together ...</td>\n",
       "      <td>Indianapolis</td>\n",
       "      <td>317 242 5000</td>\n",
       "      <td>IN</td>\n",
       "      <td>United States</td>\n",
       "      <td>https://www.allisontransmission.com</td>\n",
       "      <td>1</td>\n",
       "      <td>...</td>\n",
       "      <td>39.00</td>\n",
       "      <td>https://logo.clearbit.com/allisontransmission.com</td>\n",
       "      <td>16.6584</td>\n",
       "      <td>NaN</td>\n",
       "      <td>NaN</td>\n",
       "      <td>NaN</td>\n",
       "      <td>NaN</td>\n",
       "      <td>NaN</td>\n",
       "      <td>NaN</td>\n",
       "      <td>129</td>\n",
       "    </tr>\n",
       "    <tr>\n",
       "      <th>134</th>\n",
       "      <td>28209</td>\n",
       "      <td>Basic Materials</td>\n",
       "      <td>5900.0</td>\n",
       "      <td>Albemarle Corporation develops, manufactures, ...</td>\n",
       "      <td>Charlotte</td>\n",
       "      <td>980-299-5700</td>\n",
       "      <td>NC</td>\n",
       "      <td>United States</td>\n",
       "      <td>https://www.albemarle.com</td>\n",
       "      <td>1</td>\n",
       "      <td>...</td>\n",
       "      <td>234.44</td>\n",
       "      <td>https://logo.clearbit.com/albemarle.com</td>\n",
       "      <td>2.0313</td>\n",
       "      <td>Suite 900</td>\n",
       "      <td>980-299-5512</td>\n",
       "      <td>NaN</td>\n",
       "      <td>NaN</td>\n",
       "      <td>NaN</td>\n",
       "      <td>NaN</td>\n",
       "      <td>130</td>\n",
       "    </tr>\n",
       "    <tr>\n",
       "      <th>135</th>\n",
       "      <td>92121</td>\n",
       "      <td>Technology</td>\n",
       "      <td>29.0</td>\n",
       "      <td>Beam Global, a cleantech company, designs, dev...</td>\n",
       "      <td>San Diego</td>\n",
       "      <td>858 799 4583</td>\n",
       "      <td>CA</td>\n",
       "      <td>United States</td>\n",
       "      <td>https://www.beamforall.com</td>\n",
       "      <td>1</td>\n",
       "      <td>...</td>\n",
       "      <td>14.16</td>\n",
       "      <td>https://logo.clearbit.com/beamforall.com</td>\n",
       "      <td>NaN</td>\n",
       "      <td>NaN</td>\n",
       "      <td>858 799 4592</td>\n",
       "      <td>NaN</td>\n",
       "      <td>NaN</td>\n",
       "      <td>NaN</td>\n",
       "      <td>NaN</td>\n",
       "      <td>131</td>\n",
       "    </tr>\n",
       "    <tr>\n",
       "      <th>137</th>\n",
       "      <td>94103</td>\n",
       "      <td>Consumer Cyclical</td>\n",
       "      <td>253.0</td>\n",
       "      <td>Volta Inc. operates a network of smart media-e...</td>\n",
       "      <td>San Francisco</td>\n",
       "      <td>415 583 3805</td>\n",
       "      <td>CA</td>\n",
       "      <td>United States</td>\n",
       "      <td>https://voltacharging.com</td>\n",
       "      <td>1</td>\n",
       "      <td>...</td>\n",
       "      <td>5.60</td>\n",
       "      <td>https://logo.clearbit.com/voltacharging.com</td>\n",
       "      <td>NaN</td>\n",
       "      <td>NaN</td>\n",
       "      <td>NaN</td>\n",
       "      <td>NaN</td>\n",
       "      <td>NaN</td>\n",
       "      <td>NaN</td>\n",
       "      <td>NaN</td>\n",
       "      <td>132</td>\n",
       "    </tr>\n",
       "  </tbody>\n",
       "</table>\n",
       "<p>133 rows × 159 columns</p>\n",
       "</div>"
      ],
      "text/plain": [
       "            zip             sector  fullTimeEmployees  \\\n",
       "0         95014         Technology           100000.0   \n",
       "1    60064-6400         Healthcare                NaN   \n",
       "2    60064-6400         Healthcare           113000.0   \n",
       "3             2         Technology           624000.0   \n",
       "4    95110-2704         Technology            25988.0   \n",
       "..          ...                ...                ...   \n",
       "132  85004-2189    Basic Materials                NaN   \n",
       "133  46222-3271  Consumer Cyclical             3300.0   \n",
       "134       28209    Basic Materials             5900.0   \n",
       "135       92121         Technology               29.0   \n",
       "137       94103  Consumer Cyclical              253.0   \n",
       "\n",
       "                                   longBusinessSummary           city  \\\n",
       "0    Apple Inc. designs, manufactures, and markets ...      Cupertino   \n",
       "1    AbbVie Inc. discovers, develops, manufactures,...  North Chicago   \n",
       "2    Abbott Laboratories discovers, develops, manuf...  North Chicago   \n",
       "3    Accenture plc, a professional services company...         Dublin   \n",
       "4    Adobe Inc. operates as a diversified software ...       San Jose   \n",
       "..                                                 ...            ...   \n",
       "132  Freeport-McMoRan Inc. engages in the mining of...        Phoenix   \n",
       "133  Allison Transmission Holdings, Inc., together ...   Indianapolis   \n",
       "134  Albemarle Corporation develops, manufactures, ...      Charlotte   \n",
       "135  Beam Global, a cleantech company, designs, dev...      San Diego   \n",
       "137  Volta Inc. operates a network of smart media-e...  San Francisco   \n",
       "\n",
       "              phone state        country                              website  \\\n",
       "0      408 996 1010    CA  United States                https://www.apple.com   \n",
       "1      847 932 7900    IL  United States               https://www.abbvie.com   \n",
       "2      224 667 6100    IL  United States               https://www.abbott.com   \n",
       "3    353 1 646 2000   NaN        Ireland            https://www.accenture.com   \n",
       "4      408 536 6000    CA  United States                https://www.adobe.com   \n",
       "..              ...   ...            ...                                  ...   \n",
       "132    602-366-8100    AZ  United States                      https://fcx.com   \n",
       "133    317 242 5000    IN  United States  https://www.allisontransmission.com   \n",
       "134    980-299-5700    NC  United States            https://www.albemarle.com   \n",
       "135    858 799 4583    CA  United States           https://www.beamforall.com   \n",
       "137    415 583 3805    CA  United States            https://voltacharging.com   \n",
       "\n",
       "     maxAge  ... preMarketPrice  \\\n",
       "0         1  ...         174.00   \n",
       "1         1  ...         143.33   \n",
       "2         1  ...         128.94   \n",
       "3         1  ...         346.97   \n",
       "4         1  ...         509.14   \n",
       "..      ...  ...            ...   \n",
       "132       1  ...          42.79   \n",
       "133       1  ...          39.00   \n",
       "134       1  ...         234.44   \n",
       "135       1  ...          14.16   \n",
       "137       1  ...           5.60   \n",
       "\n",
       "                                              logo_url  trailingPegRatio  \\\n",
       "0                  https://logo.clearbit.com/apple.com            3.3581   \n",
       "1                 https://logo.clearbit.com/abbvie.com               NaN   \n",
       "2                 https://logo.clearbit.com/abbott.com            2.4397   \n",
       "3              https://logo.clearbit.com/accenture.com            2.7366   \n",
       "4                  https://logo.clearbit.com/adobe.com            1.9890   \n",
       "..                                                 ...               ...   \n",
       "132                  https://logo.clearbit.com/fcx.com               NaN   \n",
       "133  https://logo.clearbit.com/allisontransmission.com           16.6584   \n",
       "134            https://logo.clearbit.com/albemarle.com            2.0313   \n",
       "135           https://logo.clearbit.com/beamforall.com               NaN   \n",
       "137        https://logo.clearbit.com/voltacharging.com               NaN   \n",
       "\n",
       "                address2             fax  underlyingSymbol  \\\n",
       "0                    NaN             NaN               NaN   \n",
       "1                    NaN             NaN               NaN   \n",
       "2            Abbott Park             NaN               NaN   \n",
       "3    Grand Canal Harbour  353 1 646 2020               NaN   \n",
       "4                    NaN    408 537 6000               NaN   \n",
       "..                   ...             ...               ...   \n",
       "132                  NaN             NaN               NaN   \n",
       "133                  NaN             NaN               NaN   \n",
       "134            Suite 900    980-299-5512               NaN   \n",
       "135                  NaN    858 799 4592               NaN   \n",
       "137                  NaN             NaN               NaN   \n",
       "\n",
       "     underlyingExchangeSymbol  headSymbol  uuid    n  \n",
       "0                         NaN         NaN   NaN    0  \n",
       "1                         NaN         NaN   NaN    1  \n",
       "2                         NaN         NaN   NaN    2  \n",
       "3                         NaN         NaN   NaN    3  \n",
       "4                         NaN         NaN   NaN    4  \n",
       "..                        ...         ...   ...  ...  \n",
       "132                       NaN         NaN   NaN  128  \n",
       "133                       NaN         NaN   NaN  129  \n",
       "134                       NaN         NaN   NaN  130  \n",
       "135                       NaN         NaN   NaN  131  \n",
       "137                       NaN         NaN   NaN  132  \n",
       "\n",
       "[133 rows x 159 columns]"
      ]
     },
     "execution_count": 17,
     "metadata": {},
     "output_type": "execute_result"
    }
   ],
   "source": [
    "df"
   ]
  },
  {
   "cell_type": "code",
   "execution_count": 18,
   "id": "834c4602",
   "metadata": {},
   "outputs": [
    {
     "ename": "TypeError",
     "evalue": "unsupported operand type(s) for /: 'str' and 'str'",
     "output_type": "error",
     "traceback": [
      "\u001b[0;31m---------------------------------------------------------------------------\u001b[0m",
      "\u001b[0;31mTypeError\u001b[0m                                 Traceback (most recent call last)",
      "\u001b[0;32m~/Library/Python/3.8/lib/python/site-packages/pandas/core/ops/array_ops.py\u001b[0m in \u001b[0;36m_na_arithmetic_op\u001b[0;34m(left, right, op, is_cmp)\u001b[0m\n\u001b[1;32m    165\u001b[0m     \u001b[0;32mtry\u001b[0m\u001b[0;34m:\u001b[0m\u001b[0;34m\u001b[0m\u001b[0;34m\u001b[0m\u001b[0m\n\u001b[0;32m--> 166\u001b[0;31m         \u001b[0mresult\u001b[0m \u001b[0;34m=\u001b[0m \u001b[0mfunc\u001b[0m\u001b[0;34m(\u001b[0m\u001b[0mleft\u001b[0m\u001b[0;34m,\u001b[0m \u001b[0mright\u001b[0m\u001b[0;34m)\u001b[0m\u001b[0;34m\u001b[0m\u001b[0;34m\u001b[0m\u001b[0m\n\u001b[0m\u001b[1;32m    167\u001b[0m     \u001b[0;32mexcept\u001b[0m \u001b[0mTypeError\u001b[0m\u001b[0;34m:\u001b[0m\u001b[0;34m\u001b[0m\u001b[0;34m\u001b[0m\u001b[0m\n",
      "\u001b[0;32m~/Library/Python/3.8/lib/python/site-packages/pandas/core/computation/expressions.py\u001b[0m in \u001b[0;36mevaluate\u001b[0;34m(op, a, b, use_numexpr)\u001b[0m\n\u001b[1;32m    238\u001b[0m             \u001b[0;31m# error: \"None\" not callable\u001b[0m\u001b[0;34m\u001b[0m\u001b[0;34m\u001b[0m\u001b[0;34m\u001b[0m\u001b[0m\n\u001b[0;32m--> 239\u001b[0;31m             \u001b[0;32mreturn\u001b[0m \u001b[0m_evaluate\u001b[0m\u001b[0;34m(\u001b[0m\u001b[0mop\u001b[0m\u001b[0;34m,\u001b[0m \u001b[0mop_str\u001b[0m\u001b[0;34m,\u001b[0m \u001b[0ma\u001b[0m\u001b[0;34m,\u001b[0m \u001b[0mb\u001b[0m\u001b[0;34m)\u001b[0m  \u001b[0;31m# type: ignore[misc]\u001b[0m\u001b[0;34m\u001b[0m\u001b[0;34m\u001b[0m\u001b[0m\n\u001b[0m\u001b[1;32m    240\u001b[0m     \u001b[0;32mreturn\u001b[0m \u001b[0m_evaluate_standard\u001b[0m\u001b[0;34m(\u001b[0m\u001b[0mop\u001b[0m\u001b[0;34m,\u001b[0m \u001b[0mop_str\u001b[0m\u001b[0;34m,\u001b[0m \u001b[0ma\u001b[0m\u001b[0;34m,\u001b[0m \u001b[0mb\u001b[0m\u001b[0;34m)\u001b[0m\u001b[0;34m\u001b[0m\u001b[0;34m\u001b[0m\u001b[0m\n",
      "\u001b[0;32m~/Library/Python/3.8/lib/python/site-packages/pandas/core/computation/expressions.py\u001b[0m in \u001b[0;36m_evaluate_standard\u001b[0;34m(op, op_str, a, b)\u001b[0m\n\u001b[1;32m     68\u001b[0m         \u001b[0m_store_test_result\u001b[0m\u001b[0;34m(\u001b[0m\u001b[0;32mFalse\u001b[0m\u001b[0;34m)\u001b[0m\u001b[0;34m\u001b[0m\u001b[0;34m\u001b[0m\u001b[0m\n\u001b[0;32m---> 69\u001b[0;31m     \u001b[0;32mreturn\u001b[0m \u001b[0mop\u001b[0m\u001b[0;34m(\u001b[0m\u001b[0ma\u001b[0m\u001b[0;34m,\u001b[0m \u001b[0mb\u001b[0m\u001b[0;34m)\u001b[0m\u001b[0;34m\u001b[0m\u001b[0;34m\u001b[0m\u001b[0m\n\u001b[0m\u001b[1;32m     70\u001b[0m \u001b[0;34m\u001b[0m\u001b[0m\n",
      "\u001b[0;31mTypeError\u001b[0m: unsupported operand type(s) for /: 'str' and 'str'",
      "\nDuring handling of the above exception, another exception occurred:\n",
      "\u001b[0;31mTypeError\u001b[0m                                 Traceback (most recent call last)",
      "\u001b[0;32m/var/folders/08/xrbks_5n7nb6y1fffw7_vk980000gp/T/ipykernel_48872/3647700730.py\u001b[0m in \u001b[0;36m<module>\u001b[0;34m\u001b[0m\n\u001b[1;32m      5\u001b[0m \u001b[0;34m\u001b[0m\u001b[0m\n\u001b[1;32m      6\u001b[0m \u001b[0;31m# square of GARMAN-KLASS rv estimator from OLHC data\u001b[0m\u001b[0;34m\u001b[0m\u001b[0;34m\u001b[0m\u001b[0;34m\u001b[0m\u001b[0m\n\u001b[0;32m----> 7\u001b[0;31m \u001b[0mvol\u001b[0m \u001b[0;34m=\u001b[0m \u001b[0;36m1\u001b[0m\u001b[0;34m/\u001b[0m\u001b[0;36m2\u001b[0m \u001b[0;34m*\u001b[0m \u001b[0mnp\u001b[0m\u001b[0;34m.\u001b[0m\u001b[0msquare\u001b[0m\u001b[0;34m(\u001b[0m\u001b[0mnp\u001b[0m\u001b[0;34m.\u001b[0m\u001b[0mlog\u001b[0m\u001b[0;34m(\u001b[0m\u001b[0mh\u001b[0m\u001b[0;34m/\u001b[0m\u001b[0ml\u001b[0m\u001b[0;34m)\u001b[0m\u001b[0;34m)\u001b[0m \u001b[0;34m-\u001b[0m \u001b[0;34m(\u001b[0m\u001b[0;36m2\u001b[0m\u001b[0;34m*\u001b[0m\u001b[0mnp\u001b[0m\u001b[0;34m.\u001b[0m\u001b[0mlog\u001b[0m\u001b[0;34m(\u001b[0m\u001b[0;36m2\u001b[0m\u001b[0;34m)\u001b[0m\u001b[0;34m-\u001b[0m\u001b[0;36m1\u001b[0m\u001b[0;34m)\u001b[0m\u001b[0;34m*\u001b[0m\u001b[0mnp\u001b[0m\u001b[0;34m.\u001b[0m\u001b[0msquare\u001b[0m\u001b[0;34m(\u001b[0m\u001b[0mnp\u001b[0m\u001b[0;34m.\u001b[0m\u001b[0mlog\u001b[0m\u001b[0;34m(\u001b[0m\u001b[0mc\u001b[0m\u001b[0;34m/\u001b[0m\u001b[0mo\u001b[0m\u001b[0;34m)\u001b[0m\u001b[0;34m)\u001b[0m\u001b[0;34m\u001b[0m\u001b[0;34m\u001b[0m\u001b[0m\n\u001b[0m\u001b[1;32m      8\u001b[0m \u001b[0mvol\u001b[0m \u001b[0;34m=\u001b[0m \u001b[0mvol\u001b[0m\u001b[0;34m.\u001b[0m\u001b[0mreplace\u001b[0m\u001b[0;34m(\u001b[0m\u001b[0;34m[\u001b[0m\u001b[0mnp\u001b[0m\u001b[0;34m.\u001b[0m\u001b[0minf\u001b[0m\u001b[0;34m,\u001b[0m \u001b[0mnp\u001b[0m\u001b[0;34m.\u001b[0m\u001b[0mnan\u001b[0m\u001b[0;34m]\u001b[0m\u001b[0;34m,\u001b[0m \u001b[0;36m0\u001b[0m\u001b[0;34m)\u001b[0m\u001b[0;34m\u001b[0m\u001b[0;34m\u001b[0m\u001b[0m\n\u001b[1;32m      9\u001b[0m \u001b[0;34m\u001b[0m\u001b[0m\n",
      "\u001b[0;32m~/Library/Python/3.8/lib/python/site-packages/pandas/core/ops/common.py\u001b[0m in \u001b[0;36mnew_method\u001b[0;34m(self, other)\u001b[0m\n\u001b[1;32m     67\u001b[0m         \u001b[0mother\u001b[0m \u001b[0;34m=\u001b[0m \u001b[0mitem_from_zerodim\u001b[0m\u001b[0;34m(\u001b[0m\u001b[0mother\u001b[0m\u001b[0;34m)\u001b[0m\u001b[0;34m\u001b[0m\u001b[0;34m\u001b[0m\u001b[0m\n\u001b[1;32m     68\u001b[0m \u001b[0;34m\u001b[0m\u001b[0m\n\u001b[0;32m---> 69\u001b[0;31m         \u001b[0;32mreturn\u001b[0m \u001b[0mmethod\u001b[0m\u001b[0;34m(\u001b[0m\u001b[0mself\u001b[0m\u001b[0;34m,\u001b[0m \u001b[0mother\u001b[0m\u001b[0;34m)\u001b[0m\u001b[0;34m\u001b[0m\u001b[0;34m\u001b[0m\u001b[0m\n\u001b[0m\u001b[1;32m     70\u001b[0m \u001b[0;34m\u001b[0m\u001b[0m\n\u001b[1;32m     71\u001b[0m     \u001b[0;32mreturn\u001b[0m \u001b[0mnew_method\u001b[0m\u001b[0;34m\u001b[0m\u001b[0;34m\u001b[0m\u001b[0m\n",
      "\u001b[0;32m~/Library/Python/3.8/lib/python/site-packages/pandas/core/arraylike.py\u001b[0m in \u001b[0;36m__truediv__\u001b[0;34m(self, other)\u001b[0m\n\u001b[1;32m    114\u001b[0m     \u001b[0;34m@\u001b[0m\u001b[0munpack_zerodim_and_defer\u001b[0m\u001b[0;34m(\u001b[0m\u001b[0;34m\"__truediv__\"\u001b[0m\u001b[0;34m)\u001b[0m\u001b[0;34m\u001b[0m\u001b[0;34m\u001b[0m\u001b[0m\n\u001b[1;32m    115\u001b[0m     \u001b[0;32mdef\u001b[0m \u001b[0m__truediv__\u001b[0m\u001b[0;34m(\u001b[0m\u001b[0mself\u001b[0m\u001b[0;34m,\u001b[0m \u001b[0mother\u001b[0m\u001b[0;34m)\u001b[0m\u001b[0;34m:\u001b[0m\u001b[0;34m\u001b[0m\u001b[0;34m\u001b[0m\u001b[0m\n\u001b[0;32m--> 116\u001b[0;31m         \u001b[0;32mreturn\u001b[0m \u001b[0mself\u001b[0m\u001b[0;34m.\u001b[0m\u001b[0m_arith_method\u001b[0m\u001b[0;34m(\u001b[0m\u001b[0mother\u001b[0m\u001b[0;34m,\u001b[0m \u001b[0moperator\u001b[0m\u001b[0;34m.\u001b[0m\u001b[0mtruediv\u001b[0m\u001b[0;34m)\u001b[0m\u001b[0;34m\u001b[0m\u001b[0;34m\u001b[0m\u001b[0m\n\u001b[0m\u001b[1;32m    117\u001b[0m \u001b[0;34m\u001b[0m\u001b[0m\n\u001b[1;32m    118\u001b[0m     \u001b[0;34m@\u001b[0m\u001b[0munpack_zerodim_and_defer\u001b[0m\u001b[0;34m(\u001b[0m\u001b[0;34m\"__rtruediv__\"\u001b[0m\u001b[0;34m)\u001b[0m\u001b[0;34m\u001b[0m\u001b[0;34m\u001b[0m\u001b[0m\n",
      "\u001b[0;32m~/Library/Python/3.8/lib/python/site-packages/pandas/core/series.py\u001b[0m in \u001b[0;36m_arith_method\u001b[0;34m(self, other, op)\u001b[0m\n\u001b[1;32m   5523\u001b[0m \u001b[0;34m\u001b[0m\u001b[0m\n\u001b[1;32m   5524\u001b[0m         \u001b[0;32mwith\u001b[0m \u001b[0mnp\u001b[0m\u001b[0;34m.\u001b[0m\u001b[0merrstate\u001b[0m\u001b[0;34m(\u001b[0m\u001b[0mall\u001b[0m\u001b[0;34m=\u001b[0m\u001b[0;34m\"ignore\"\u001b[0m\u001b[0;34m)\u001b[0m\u001b[0;34m:\u001b[0m\u001b[0;34m\u001b[0m\u001b[0;34m\u001b[0m\u001b[0m\n\u001b[0;32m-> 5525\u001b[0;31m             \u001b[0mresult\u001b[0m \u001b[0;34m=\u001b[0m \u001b[0mops\u001b[0m\u001b[0;34m.\u001b[0m\u001b[0marithmetic_op\u001b[0m\u001b[0;34m(\u001b[0m\u001b[0mlvalues\u001b[0m\u001b[0;34m,\u001b[0m \u001b[0mrvalues\u001b[0m\u001b[0;34m,\u001b[0m \u001b[0mop\u001b[0m\u001b[0;34m)\u001b[0m\u001b[0;34m\u001b[0m\u001b[0;34m\u001b[0m\u001b[0m\n\u001b[0m\u001b[1;32m   5526\u001b[0m \u001b[0;34m\u001b[0m\u001b[0m\n\u001b[1;32m   5527\u001b[0m         \u001b[0;32mreturn\u001b[0m \u001b[0mself\u001b[0m\u001b[0;34m.\u001b[0m\u001b[0m_construct_result\u001b[0m\u001b[0;34m(\u001b[0m\u001b[0mresult\u001b[0m\u001b[0;34m,\u001b[0m \u001b[0mname\u001b[0m\u001b[0;34m=\u001b[0m\u001b[0mres_name\u001b[0m\u001b[0;34m)\u001b[0m\u001b[0;34m\u001b[0m\u001b[0;34m\u001b[0m\u001b[0m\n",
      "\u001b[0;32m~/Library/Python/3.8/lib/python/site-packages/pandas/core/ops/array_ops.py\u001b[0m in \u001b[0;36marithmetic_op\u001b[0;34m(left, right, op)\u001b[0m\n\u001b[1;32m    222\u001b[0m         \u001b[0m_bool_arith_check\u001b[0m\u001b[0;34m(\u001b[0m\u001b[0mop\u001b[0m\u001b[0;34m,\u001b[0m \u001b[0mleft\u001b[0m\u001b[0;34m,\u001b[0m \u001b[0mright\u001b[0m\u001b[0;34m)\u001b[0m\u001b[0;34m\u001b[0m\u001b[0;34m\u001b[0m\u001b[0m\n\u001b[1;32m    223\u001b[0m \u001b[0;34m\u001b[0m\u001b[0m\n\u001b[0;32m--> 224\u001b[0;31m         \u001b[0mres_values\u001b[0m \u001b[0;34m=\u001b[0m \u001b[0m_na_arithmetic_op\u001b[0m\u001b[0;34m(\u001b[0m\u001b[0mleft\u001b[0m\u001b[0;34m,\u001b[0m \u001b[0mright\u001b[0m\u001b[0;34m,\u001b[0m \u001b[0mop\u001b[0m\u001b[0;34m)\u001b[0m\u001b[0;34m\u001b[0m\u001b[0;34m\u001b[0m\u001b[0m\n\u001b[0m\u001b[1;32m    225\u001b[0m \u001b[0;34m\u001b[0m\u001b[0m\n\u001b[1;32m    226\u001b[0m     \u001b[0;32mreturn\u001b[0m \u001b[0mres_values\u001b[0m\u001b[0;34m\u001b[0m\u001b[0;34m\u001b[0m\u001b[0m\n",
      "\u001b[0;32m~/Library/Python/3.8/lib/python/site-packages/pandas/core/ops/array_ops.py\u001b[0m in \u001b[0;36m_na_arithmetic_op\u001b[0;34m(left, right, op, is_cmp)\u001b[0m\n\u001b[1;32m    171\u001b[0m             \u001b[0;31m# Don't do this for comparisons, as that will handle complex numbers\u001b[0m\u001b[0;34m\u001b[0m\u001b[0;34m\u001b[0m\u001b[0;34m\u001b[0m\u001b[0m\n\u001b[1;32m    172\u001b[0m             \u001b[0;31m#  incorrectly, see GH#32047\u001b[0m\u001b[0;34m\u001b[0m\u001b[0;34m\u001b[0m\u001b[0;34m\u001b[0m\u001b[0m\n\u001b[0;32m--> 173\u001b[0;31m             \u001b[0mresult\u001b[0m \u001b[0;34m=\u001b[0m \u001b[0m_masked_arith_op\u001b[0m\u001b[0;34m(\u001b[0m\u001b[0mleft\u001b[0m\u001b[0;34m,\u001b[0m \u001b[0mright\u001b[0m\u001b[0;34m,\u001b[0m \u001b[0mop\u001b[0m\u001b[0;34m)\u001b[0m\u001b[0;34m\u001b[0m\u001b[0;34m\u001b[0m\u001b[0m\n\u001b[0m\u001b[1;32m    174\u001b[0m         \u001b[0;32melse\u001b[0m\u001b[0;34m:\u001b[0m\u001b[0;34m\u001b[0m\u001b[0;34m\u001b[0m\u001b[0m\n\u001b[1;32m    175\u001b[0m             \u001b[0;32mraise\u001b[0m\u001b[0;34m\u001b[0m\u001b[0;34m\u001b[0m\u001b[0m\n",
      "\u001b[0;32m~/Library/Python/3.8/lib/python/site-packages/pandas/core/ops/array_ops.py\u001b[0m in \u001b[0;36m_masked_arith_op\u001b[0;34m(x, y, op)\u001b[0m\n\u001b[1;32m    110\u001b[0m         \u001b[0;31m# See GH#5284, GH#5035, GH#19448 for historical reference\u001b[0m\u001b[0;34m\u001b[0m\u001b[0;34m\u001b[0m\u001b[0;34m\u001b[0m\u001b[0m\n\u001b[1;32m    111\u001b[0m         \u001b[0;32mif\u001b[0m \u001b[0mmask\u001b[0m\u001b[0;34m.\u001b[0m\u001b[0many\u001b[0m\u001b[0;34m(\u001b[0m\u001b[0;34m)\u001b[0m\u001b[0;34m:\u001b[0m\u001b[0;34m\u001b[0m\u001b[0;34m\u001b[0m\u001b[0m\n\u001b[0;32m--> 112\u001b[0;31m             \u001b[0mresult\u001b[0m\u001b[0;34m[\u001b[0m\u001b[0mmask\u001b[0m\u001b[0;34m]\u001b[0m \u001b[0;34m=\u001b[0m \u001b[0mop\u001b[0m\u001b[0;34m(\u001b[0m\u001b[0mxrav\u001b[0m\u001b[0;34m[\u001b[0m\u001b[0mmask\u001b[0m\u001b[0;34m]\u001b[0m\u001b[0;34m,\u001b[0m \u001b[0myrav\u001b[0m\u001b[0;34m[\u001b[0m\u001b[0mmask\u001b[0m\u001b[0;34m]\u001b[0m\u001b[0;34m)\u001b[0m\u001b[0;34m\u001b[0m\u001b[0;34m\u001b[0m\u001b[0m\n\u001b[0m\u001b[1;32m    113\u001b[0m \u001b[0;34m\u001b[0m\u001b[0m\n\u001b[1;32m    114\u001b[0m     \u001b[0;32melse\u001b[0m\u001b[0;34m:\u001b[0m\u001b[0;34m\u001b[0m\u001b[0;34m\u001b[0m\u001b[0m\n",
      "\u001b[0;31mTypeError\u001b[0m: unsupported operand type(s) for /: 'str' and 'str'"
     ]
    }
   ],
   "source": [
    "o = df_prices_all.Open\n",
    "h = df_prices_all.High\n",
    "l = df_prices_all.Low\n",
    "c = df_prices_all.Close\n",
    "\n",
    "# square of GARMAN-KLASS rv estimator from OLHC data\n",
    "vol = 1/2 * np.square(np.log(h/l)) - (2*np.log(2)-1)*np.square(np.log(c/o))\n",
    "vol = vol.replace([np.inf, np.nan], 0)\n",
    "\n",
    "# square of Rogers-Satchell Volatility \n",
    "vol2 = np.log(h/c)*np.log(h/o)+ np.log(l/c)*np.log(l/o)\n",
    "vol2 = vol2.replace([np.inf, np.nan], 0)"
   ]
  },
  {
   "cell_type": "code",
   "execution_count": null,
   "id": "9fb78a09",
   "metadata": {},
   "outputs": [],
   "source": [
    "good_tickers = vol.columns[vol.columns!='BRK.B']"
   ]
  },
  {
   "cell_type": "code",
   "execution_count": null,
   "id": "145ef2e1",
   "metadata": {},
   "outputs": [],
   "source": [
    "vol = vol[good_tickers]\n",
    "vol2 = vol2[good_tickers]"
   ]
  },
  {
   "cell_type": "code",
   "execution_count": null,
   "id": "5f93c64c",
   "metadata": {},
   "outputs": [],
   "source": [
    "# have to add in a node identifier, so we use add\n",
    "vol.T['n'] = range(len(vol.T)) # FIXME this breaks featurizer, why?"
   ]
  },
  {
   "cell_type": "markdown",
   "id": "6d87246b",
   "metadata": {},
   "source": [
    "# Now we can UMAP Volitility Data"
   ]
  },
  {
   "cell_type": "code",
   "execution_count": null,
   "id": "5c1d1c24",
   "metadata": {},
   "outputs": [],
   "source": [
    "# Rogers-Satchell Volatility \n",
    "g2 = g.nodes(vol2.T)\n",
    "g3 = g2.umap(scale = 2, n_neighbors=15)"
   ]
  },
  {
   "cell_type": "code",
   "execution_count": null,
   "id": "cc188812",
   "metadata": {},
   "outputs": [],
   "source": [
    "# g2 = g.nodes(vol.T, 'n').featurize()\n",
    "# g3 = g2.umap(scale = 2, n_neighbors=15)"
   ]
  },
  {
   "cell_type": "code",
   "execution_count": null,
   "id": "8585ea43",
   "metadata": {},
   "outputs": [],
   "source": [
    "# UMAP has created an implicit Edge DataFrame\n",
    "g3.weighted_edges_df_from_nodes"
   ]
  },
  {
   "cell_type": "code",
   "execution_count": null,
   "id": "d7fa9b50",
   "metadata": {},
   "outputs": [],
   "source": [
    "## this will cluster groups according to Rogers-Satchell Volatility\n",
    "# Story here is a bit confusing, since I don't understand this transform\n",
    "# But it shows how easy it is to cluster by a given metric of interest!\n",
    "g4 = g.nodes(df, 'n').edges(g3._edges, '_src', '_dst')\n",
    "g4.plot()"
   ]
  },
  {
   "cell_type": "code",
   "execution_count": null,
   "id": "9c790eb1",
   "metadata": {
    "scrolled": true
   },
   "outputs": [],
   "source": [
    "#vol.plot()"
   ]
  },
  {
   "cell_type": "code",
   "execution_count": null,
   "id": "d553fdd5",
   "metadata": {
    "scrolled": true
   },
   "outputs": [],
   "source": [
    "#vol2.plot()"
   ]
  },
  {
   "cell_type": "code",
   "execution_count": null,
   "id": "a7e8dba9",
   "metadata": {},
   "outputs": [],
   "source": []
  },
  {
   "cell_type": "markdown",
   "id": "fb16b362",
   "metadata": {},
   "source": [
    "# Let's see if we can cluster by  Adj Close value over time. We will see that this naturally clusters by industry category in a semantically useful way. "
   ]
  },
  {
   "cell_type": "code",
   "execution_count": null,
   "id": "fda08685",
   "metadata": {},
   "outputs": [],
   "source": [
    "df_prices = df_prices_all['Adj Close']\n",
    "df_prices = df_prices[good_tickers]"
   ]
  },
  {
   "cell_type": "code",
   "execution_count": null,
   "id": "07e69bff",
   "metadata": {},
   "outputs": [],
   "source": [
    "df_prices"
   ]
  },
  {
   "cell_type": "code",
   "execution_count": null,
   "id": "5637087f",
   "metadata": {},
   "outputs": [],
   "source": [
    "# we have to run some cleanup on NaN values, so we use Imputer and MinMax Scaling\n",
    "from sklearn.impute import SimpleImputer\n",
    "from sklearn.preprocessing import MinMaxScaler\n",
    "\n",
    "colnames = df_prices.columns\n",
    "dates = df_prices.index\n",
    "\n",
    "# impute values \n",
    "imputer = SimpleImputer(missing_values=np.nan, strategy='mean')\n",
    "imputer = imputer.fit(df_prices)\n",
    "res = imputer.transform(df_prices)\n",
    "df_prices = pd.DataFrame(res, index=df_prices.index, columns = df_prices.columns)\n",
    "\n",
    "# scale the resulting values\n",
    "scaler = MinMaxScaler()\n",
    "\n",
    "df_prices = pd.DataFrame(scaler.fit_transform(df_prices), index=dates, columns=colnames)\n",
    "df_prices\n"
   ]
  },
  {
   "cell_type": "code",
   "execution_count": null,
   "id": "bdae18a0",
   "metadata": {},
   "outputs": [],
   "source": [
    "df_adj = df_prices.T\n",
    "df_adj['n'] = range(len(df_adj))"
   ]
  },
  {
   "cell_type": "code",
   "execution_count": null,
   "id": "0acaceaa",
   "metadata": {},
   "outputs": [],
   "source": [
    "df_adj"
   ]
  },
  {
   "cell_type": "code",
   "execution_count": null,
   "id": "55548f3d",
   "metadata": {},
   "outputs": [],
   "source": [
    "g2 = g.nodes(df_adj, 'n').featurize()\n",
    "g3 = g3.umap(scale=2)"
   ]
  },
  {
   "cell_type": "code",
   "execution_count": null,
   "id": "3eafde38",
   "metadata": {},
   "outputs": [],
   "source": [
    "g3.plot()  # LEO why is this happening???"
   ]
  },
  {
   "cell_type": "code",
   "execution_count": null,
   "id": "cbbc41d4",
   "metadata": {
    "scrolled": false
   },
   "outputs": [],
   "source": [
    "g4 = g.nodes(df, 'n').edges(g3._edges, '_src', '_dst')\n",
    "g4.plot()"
   ]
  },
  {
   "cell_type": "code",
   "execution_count": null,
   "id": "7e6b4f3d",
   "metadata": {},
   "outputs": [],
   "source": []
  },
  {
   "cell_type": "markdown",
   "id": "e8c3d4bb",
   "metadata": {},
   "source": [
    "# Can we use the data from DF (rather than price flows) to cluster by sector? We will see that this does a great job."
   ]
  },
  {
   "cell_type": "code",
   "execution_count": null,
   "id": "1b262b9b",
   "metadata": {
    "scrolled": true
   },
   "outputs": [],
   "source": [
    "# we want to separate data into Numeric and not, \n",
    "gtypes = get_dtypes_for_dataframe(df, verbose=True)"
   ]
  },
  {
   "cell_type": "code",
   "execution_count": null,
   "id": "58c08644",
   "metadata": {},
   "outputs": [],
   "source": [
    "numeric_df = df[gtypes['float64'] + gtypes['int64']]\n",
    "numeric_df = numeric_df.replace([np.inf, np.nan], 0)"
   ]
  },
  {
   "cell_type": "code",
   "execution_count": null,
   "id": "7e4552a3",
   "metadata": {},
   "outputs": [],
   "source": [
    "numeric_df"
   ]
  },
  {
   "cell_type": "code",
   "execution_count": null,
   "id": "65de01b8",
   "metadata": {},
   "outputs": [],
   "source": [
    "g2 = g.nodes(numeric_df, 'n').featurize()"
   ]
  },
  {
   "cell_type": "code",
   "execution_count": null,
   "id": "c8228ef3",
   "metadata": {},
   "outputs": [],
   "source": [
    "#g2 = g.nodes(numeric_df, 'symbol').featurize()\n",
    "g3 = g2.umap(scale=.5, n_neighbors=10)"
   ]
  },
  {
   "cell_type": "code",
   "execution_count": null,
   "id": "072c8442",
   "metadata": {
    "scrolled": false
   },
   "outputs": [],
   "source": [
    "g3.plot() "
   ]
  },
  {
   "cell_type": "code",
   "execution_count": null,
   "id": "f8de158e",
   "metadata": {},
   "outputs": [],
   "source": [
    "# or seeing it with the better label (company name)\n",
    "g4 = graphistry.nodes(df, 'n').edges(g3.weighted_edges_df_from_nodes, '_src','_dst')\n",
    "g4.plot()"
   ]
  },
  {
   "cell_type": "markdown",
   "id": "3e681691",
   "metadata": {},
   "source": [
    "# A few amazing observations -- It has clustered, just from financial data, the EV companies by sector. \n",
    "\n",
    "It finds all the major EV categories we started with, and even some suprising relationships between correlated stock data. "
   ]
  },
  {
   "cell_type": "code",
   "execution_count": null,
   "id": "081106b6",
   "metadata": {},
   "outputs": [],
   "source": []
  },
  {
   "cell_type": "markdown",
   "id": "88359575",
   "metadata": {},
   "source": [
    "## Next we use Textual and Category data and see how well it clusters (sans finance data)"
   ]
  },
  {
   "cell_type": "code",
   "execution_count": null,
   "id": "bd68ba70",
   "metadata": {},
   "outputs": [],
   "source": [
    "summary_cols = ['n','longBusinessSummary', 'industry', 'sector', 'financialCurrency', 'longName']"
   ]
  },
  {
   "cell_type": "code",
   "execution_count": null,
   "id": "a2fd44e8",
   "metadata": {},
   "outputs": [],
   "source": [
    "meta = df[summary_cols]\n",
    "meta = meta.fillna('')"
   ]
  },
  {
   "cell_type": "code",
   "execution_count": null,
   "id": "b81d4a4c",
   "metadata": {},
   "outputs": [],
   "source": [
    "g2 = g.nodes(meta, 'n').featurize()"
   ]
  },
  {
   "cell_type": "code",
   "execution_count": null,
   "id": "f6e3aa09",
   "metadata": {},
   "outputs": [],
   "source": [
    "g3 = g2.umap(scale=0.5, n_neighbors=10)"
   ]
  },
  {
   "cell_type": "markdown",
   "id": "3aa7989c",
   "metadata": {},
   "source": [
    "## We see the similarity from textual and other categorical metadata, and it does quite well"
   ]
  },
  {
   "cell_type": "code",
   "execution_count": null,
   "id": "2a0ca800",
   "metadata": {},
   "outputs": [],
   "source": [
    "g3.plot()"
   ]
  },
  {
   "cell_type": "code",
   "execution_count": null,
   "id": "dac8a8c4",
   "metadata": {},
   "outputs": [],
   "source": []
  },
  {
   "cell_type": "markdown",
   "id": "03e9e315",
   "metadata": {},
   "source": [
    "# Some stats"
   ]
  },
  {
   "cell_type": "code",
   "execution_count": null,
   "id": "6da3d72f",
   "metadata": {},
   "outputs": [],
   "source": [
    "weekly_std = df_prices.resample('W', on='timestamp').std() #.agg(['mean', 'min', 'max', 'std', 'skew'])"
   ]
  },
  {
   "cell_type": "code",
   "execution_count": null,
   "id": "933f5a7b",
   "metadata": {
    "scrolled": true
   },
   "outputs": [],
   "source": [
    "weekly_std.plot(figsize=(17,10))"
   ]
  },
  {
   "cell_type": "markdown",
   "id": "01dced80",
   "metadata": {},
   "source": [
    "# Can we run on the volitility data again using a trick to make new features"
   ]
  },
  {
   "cell_type": "code",
   "execution_count": null,
   "id": "92cbd75f",
   "metadata": {},
   "outputs": [],
   "source": [
    "df_target = vol"
   ]
  },
  {
   "cell_type": "code",
   "execution_count": null,
   "id": "2dd2f81b",
   "metadata": {},
   "outputs": [],
   "source": [
    "mdf = df_target.resample('W').agg(['mean', 'min', 'max', 'std', 'skew']).T\n",
    "mdf"
   ]
  },
  {
   "cell_type": "code",
   "execution_count": null,
   "id": "d30a6e9e",
   "metadata": {},
   "outputs": [],
   "source": [
    "g2 = g.nodes(mdf)"
   ]
  },
  {
   "cell_type": "code",
   "execution_count": null,
   "id": "887e18a1",
   "metadata": {},
   "outputs": [],
   "source": [
    "g3 = g2.umap()"
   ]
  },
  {
   "cell_type": "code",
   "execution_count": null,
   "id": "f8c644d2",
   "metadata": {},
   "outputs": [],
   "source": [
    "g3.weighted_edges_df_from_nodes"
   ]
  },
  {
   "cell_type": "code",
   "execution_count": null,
   "id": "5fcd31e2",
   "metadata": {},
   "outputs": [],
   "source": [
    "mdf_node_name = np.array(list(df.symbol.values)*5).reshape(5, len(df)).T.flatten()"
   ]
  },
  {
   "cell_type": "code",
   "execution_count": null,
   "id": "c71ea1d9",
   "metadata": {},
   "outputs": [],
   "source": [
    "hdf = pd.DataFrame({'symbol': list(mdf_node_name)})\n",
    "hdf['n'] = range(len(mdf))"
   ]
  },
  {
   "cell_type": "code",
   "execution_count": null,
   "id": "38b0c9e4",
   "metadata": {
    "scrolled": true
   },
   "outputs": [],
   "source": [
    "g4 = graphistry.nodes(hdf, 'n').edges(g3.weighted_edges_df_from_nodes, '_src','_dst')\n",
    "g4.plot()"
   ]
  },
  {
   "cell_type": "markdown",
   "id": "d886d051",
   "metadata": {},
   "source": [
    "# Lastly Let's compare clustering to a useful PLSR.B regressor, called CCA (Canonical Correlation Analyis)\n",
    "## We will see that it doesn't do as well as Featurization + UMAP"
   ]
  },
  {
   "cell_type": "code",
   "execution_count": null,
   "id": "ed06342b",
   "metadata": {},
   "outputs": [],
   "source": [
    "from sklearn.cross_decomposition import CCA\n",
    "clf = CCA(n_components=2)\n",
    "res=clf.fit_transform(df_prices, df_target)"
   ]
  },
  {
   "cell_type": "code",
   "execution_count": null,
   "id": "27147d09",
   "metadata": {},
   "outputs": [],
   "source": [
    "res[1].shape"
   ]
  },
  {
   "cell_type": "code",
   "execution_count": null,
   "id": "227a15b2",
   "metadata": {},
   "outputs": [],
   "source": [
    "# two sets of components plotted over time\n",
    "lf = pd.DataFrame({'comp1_a':res[0].T[0], \n",
    "                   'comp2_a':res[0].T[1], \n",
    "                   'comp1_b':res[1].T[0], 'comp2_b':res[1].T[1]}, index=df_target.index)\n",
    "lf.plot(figsize=(15, 10))"
   ]
  },
  {
   "cell_type": "code",
   "execution_count": null,
   "id": "2ac2ef68",
   "metadata": {
    "scrolled": true
   },
   "outputs": [],
   "source": [
    "plt.imshow(clf.coef_)"
   ]
  },
  {
   "cell_type": "code",
   "execution_count": null,
   "id": "5976bd37",
   "metadata": {},
   "outputs": [],
   "source": [
    "# we can use the coef_ of clf to make an edge dataframe\n",
    "a, b = clf.coef_.nonzero()"
   ]
  },
  {
   "cell_type": "code",
   "execution_count": null,
   "id": "b450d504",
   "metadata": {},
   "outputs": [],
   "source": [
    "CCA_edges = pd.DataFrame({'_src':a, '_dst':b, 'weight': clf.coef_[a,b]})"
   ]
  },
  {
   "cell_type": "code",
   "execution_count": null,
   "id": "e4a3fd56",
   "metadata": {},
   "outputs": [],
   "source": [
    "from graphistry.feature_utils import prune_weighted_edges_df"
   ]
  },
  {
   "cell_type": "code",
   "execution_count": null,
   "id": "cba9fe1f",
   "metadata": {},
   "outputs": [],
   "source": [
    "wdf = prune_weighted_edges_df(CCA_edges, scale=3)"
   ]
  },
  {
   "cell_type": "code",
   "execution_count": null,
   "id": "e728cbcb",
   "metadata": {},
   "outputs": [],
   "source": [
    "g2 = g.nodes(meta, 'n').edges(wdf, '_src', '_dst')   \n",
    "g2.plot()  # lots of standalone nodes..."
   ]
  },
  {
   "cell_type": "code",
   "execution_count": null,
   "id": "3ce3f6ac",
   "metadata": {},
   "outputs": [],
   "source": []
  }
 ],
 "metadata": {
  "kernelspec": {
   "display_name": "Python 3 (ipykernel)",
   "language": "python",
   "name": "python3"
  },
  "language_info": {
   "codemirror_mode": {
    "name": "ipython",
    "version": 3
   },
   "file_extension": ".py",
   "mimetype": "text/x-python",
   "name": "python",
   "nbconvert_exporter": "python",
   "pygments_lexer": "ipython3",
   "version": "3.8.9"
  }
 },
 "nbformat": 4,
 "nbformat_minor": 5
}
