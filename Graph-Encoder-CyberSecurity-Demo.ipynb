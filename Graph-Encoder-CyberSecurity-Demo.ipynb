{
 "cells": [
  {
   "cell_type": "code",
   "execution_count": 28,
   "id": "769f109b",
   "metadata": {},
   "outputs": [],
   "source": [
    "import graphistry\n",
    "import graphistry.constants as config\n",
    "import pandas as pd\n",
    "import umap.plot\n",
    "\n",
    "import os\n",
    "from collections import Counter\n",
    "from importlib import reload\n",
    "import matplotlib.pylab as plt\n",
    "import numpy as np\n",
    "\n",
    "from data import get_botnet_dataframe\n",
    "\n",
    "import warnings\n",
    "warnings.filterwarnings('ignore')"
   ]
  },
  {
   "cell_type": "code",
   "execution_count": 2,
   "id": "b901fe79",
   "metadata": {},
   "outputs": [],
   "source": [
    "graphistry.register(api=3, protocol=\"https\", server=\"hub.graphistry.com\", username=\"...\", password=\"...\") "
   ]
  },
  {
   "cell_type": "markdown",
   "id": "8a5cb289",
   "metadata": {},
   "source": [
    "# We import malware dataset\n"
   ]
  },
  {
   "cell_type": "code",
   "execution_count": 3,
   "id": "cb600f02",
   "metadata": {},
   "outputs": [
    {
     "name": "stderr",
     "output_type": "stream",
     "text": [
      "[__init__.py:40 - get_botnet_dataframe() ]\n",
      "   Loading Botnet Capture Data with Targets\n",
      "\n"
     ]
    }
   ],
   "source": [
    "edf = get_botnet_dataframe(150000)\n",
    "edf = edf.sample(1500)"
   ]
  },
  {
   "cell_type": "code",
   "execution_count": 4,
   "id": "b814c32f",
   "metadata": {},
   "outputs": [],
   "source": [
    "edf = edf.drop_duplicates()"
   ]
  },
  {
   "cell_type": "code",
   "execution_count": 5,
   "id": "73bd73a6",
   "metadata": {},
   "outputs": [
    {
     "name": "stdout",
     "output_type": "stream",
     "text": [
      "<class 'pandas.core.frame.DataFrame'>\n",
      "Int64Index: 1500 entries, 80056 to 54118\n",
      "Data columns (total 15 columns):\n",
      " #   Column     Non-Null Count  Dtype  \n",
      "---  ------     --------------  -----  \n",
      " 0   StartTime  1500 non-null   object \n",
      " 1   Dur        1500 non-null   float64\n",
      " 2   Proto      1500 non-null   object \n",
      " 3   SrcAddr    1500 non-null   object \n",
      " 4   Sport      1500 non-null   object \n",
      " 5   Dir        1500 non-null   object \n",
      " 6   DstAddr    1500 non-null   object \n",
      " 7   Dport      1500 non-null   object \n",
      " 8   State      1500 non-null   object \n",
      " 9   sTos       1491 non-null   float64\n",
      " 10  dTos       1423 non-null   float64\n",
      " 11  TotPkts    1500 non-null   float64\n",
      " 12  TotBytes   1500 non-null   float64\n",
      " 13  SrcBytes   1500 non-null   float64\n",
      " 14  Label      1500 non-null   object \n",
      "dtypes: float64(6), object(9)\n",
      "memory usage: 187.5+ KB\n"
     ]
    }
   ],
   "source": [
    "edf.info()"
   ]
  },
  {
   "cell_type": "code",
   "execution_count": 6,
   "id": "58164c7e",
   "metadata": {},
   "outputs": [],
   "source": [
    "src, dst = 'to_node', 'from_node'"
   ]
  },
  {
   "cell_type": "code",
   "execution_count": 7,
   "id": "549c70ae",
   "metadata": {},
   "outputs": [],
   "source": [
    "edf['to_node'] = edf.SrcAddr\n",
    "edf['from_node'] = edf.DstAddr\n",
    "edf['Node'] = range(len(edf))"
   ]
  },
  {
   "cell_type": "code",
   "execution_count": 8,
   "id": "2f8a0b7f",
   "metadata": {},
   "outputs": [
    {
     "data": {
      "text/html": [
       "<div>\n",
       "<style scoped>\n",
       "    .dataframe tbody tr th:only-of-type {\n",
       "        vertical-align: middle;\n",
       "    }\n",
       "\n",
       "    .dataframe tbody tr th {\n",
       "        vertical-align: top;\n",
       "    }\n",
       "\n",
       "    .dataframe thead th {\n",
       "        text-align: right;\n",
       "    }\n",
       "</style>\n",
       "<table border=\"1\" class=\"dataframe\">\n",
       "  <thead>\n",
       "    <tr style=\"text-align: right;\">\n",
       "      <th></th>\n",
       "      <th>StartTime</th>\n",
       "      <th>Dur</th>\n",
       "      <th>Proto</th>\n",
       "      <th>SrcAddr</th>\n",
       "      <th>Sport</th>\n",
       "      <th>Dir</th>\n",
       "      <th>DstAddr</th>\n",
       "      <th>Dport</th>\n",
       "      <th>State</th>\n",
       "      <th>sTos</th>\n",
       "      <th>dTos</th>\n",
       "      <th>TotPkts</th>\n",
       "      <th>TotBytes</th>\n",
       "      <th>SrcBytes</th>\n",
       "      <th>Label</th>\n",
       "      <th>to_node</th>\n",
       "      <th>from_node</th>\n",
       "      <th>Node</th>\n",
       "    </tr>\n",
       "  </thead>\n",
       "  <tbody>\n",
       "    <tr>\n",
       "      <th>80056</th>\n",
       "      <td>2011-08-15 17:01:05.514132</td>\n",
       "      <td>0.000798</td>\n",
       "      <td>udp</td>\n",
       "      <td>111.255.28.147</td>\n",
       "      <td>54172</td>\n",
       "      <td>&lt;-&gt;</td>\n",
       "      <td>147.32.84.229</td>\n",
       "      <td>13363</td>\n",
       "      <td>CON</td>\n",
       "      <td>0.0</td>\n",
       "      <td>0.0</td>\n",
       "      <td>2.0</td>\n",
       "      <td>313.0</td>\n",
       "      <td>64.0</td>\n",
       "      <td>flow=Background-UDP-Established</td>\n",
       "      <td>111.255.28.147</td>\n",
       "      <td>147.32.84.229</td>\n",
       "      <td>0</td>\n",
       "    </tr>\n",
       "    <tr>\n",
       "      <th>11048</th>\n",
       "      <td>2011-08-15 16:45:09.512155</td>\n",
       "      <td>0.000481</td>\n",
       "      <td>udp</td>\n",
       "      <td>87.240.219.1</td>\n",
       "      <td>25614</td>\n",
       "      <td>&lt;-&gt;</td>\n",
       "      <td>147.32.84.229</td>\n",
       "      <td>13363</td>\n",
       "      <td>CON</td>\n",
       "      <td>0.0</td>\n",
       "      <td>0.0</td>\n",
       "      <td>2.0</td>\n",
       "      <td>242.0</td>\n",
       "      <td>180.0</td>\n",
       "      <td>flow=Background-UDP-Established</td>\n",
       "      <td>87.240.219.1</td>\n",
       "      <td>147.32.84.229</td>\n",
       "      <td>1</td>\n",
       "    </tr>\n",
       "    <tr>\n",
       "      <th>129236</th>\n",
       "      <td>2011-08-15 17:13:16.392492</td>\n",
       "      <td>0.001632</td>\n",
       "      <td>udp</td>\n",
       "      <td>147.32.86.50</td>\n",
       "      <td>60876</td>\n",
       "      <td>&lt;-&gt;</td>\n",
       "      <td>147.32.80.9</td>\n",
       "      <td>53</td>\n",
       "      <td>CON</td>\n",
       "      <td>0.0</td>\n",
       "      <td>0.0</td>\n",
       "      <td>2.0</td>\n",
       "      <td>475.0</td>\n",
       "      <td>81.0</td>\n",
       "      <td>flow=To-Background-UDP-CVUT-DNS-Server</td>\n",
       "      <td>147.32.86.50</td>\n",
       "      <td>147.32.80.9</td>\n",
       "      <td>2</td>\n",
       "    </tr>\n",
       "    <tr>\n",
       "      <th>67971</th>\n",
       "      <td>2011-08-15 16:58:10.530850</td>\n",
       "      <td>2.488998</td>\n",
       "      <td>tcp</td>\n",
       "      <td>211.101.37.115</td>\n",
       "      <td>51607</td>\n",
       "      <td>-&gt;</td>\n",
       "      <td>147.32.84.2</td>\n",
       "      <td>21</td>\n",
       "      <td>SRPA_SPA</td>\n",
       "      <td>0.0</td>\n",
       "      <td>0.0</td>\n",
       "      <td>14.0</td>\n",
       "      <td>1311.0</td>\n",
       "      <td>511.0</td>\n",
       "      <td>flow=Background-TCP-Established</td>\n",
       "      <td>211.101.37.115</td>\n",
       "      <td>147.32.84.2</td>\n",
       "      <td>3</td>\n",
       "    </tr>\n",
       "    <tr>\n",
       "      <th>28386</th>\n",
       "      <td>2011-08-15 16:48:54.499351</td>\n",
       "      <td>0.000514</td>\n",
       "      <td>udp</td>\n",
       "      <td>216.185.73.130</td>\n",
       "      <td>62119</td>\n",
       "      <td>&lt;-&gt;</td>\n",
       "      <td>147.32.84.229</td>\n",
       "      <td>13363</td>\n",
       "      <td>CON</td>\n",
       "      <td>0.0</td>\n",
       "      <td>0.0</td>\n",
       "      <td>2.0</td>\n",
       "      <td>133.0</td>\n",
       "      <td>73.0</td>\n",
       "      <td>flow=Background-UDP-Established</td>\n",
       "      <td>216.185.73.130</td>\n",
       "      <td>147.32.84.229</td>\n",
       "      <td>4</td>\n",
       "    </tr>\n",
       "    <tr>\n",
       "      <th>...</th>\n",
       "      <td>...</td>\n",
       "      <td>...</td>\n",
       "      <td>...</td>\n",
       "      <td>...</td>\n",
       "      <td>...</td>\n",
       "      <td>...</td>\n",
       "      <td>...</td>\n",
       "      <td>...</td>\n",
       "      <td>...</td>\n",
       "      <td>...</td>\n",
       "      <td>...</td>\n",
       "      <td>...</td>\n",
       "      <td>...</td>\n",
       "      <td>...</td>\n",
       "      <td>...</td>\n",
       "      <td>...</td>\n",
       "      <td>...</td>\n",
       "      <td>...</td>\n",
       "    </tr>\n",
       "    <tr>\n",
       "      <th>123621</th>\n",
       "      <td>2011-08-15 17:11:42.141884</td>\n",
       "      <td>0.159994</td>\n",
       "      <td>udp</td>\n",
       "      <td>81.90.162.3</td>\n",
       "      <td>14329</td>\n",
       "      <td>&lt;-&gt;</td>\n",
       "      <td>147.32.84.229</td>\n",
       "      <td>13363</td>\n",
       "      <td>CON</td>\n",
       "      <td>0.0</td>\n",
       "      <td>0.0</td>\n",
       "      <td>2.0</td>\n",
       "      <td>244.0</td>\n",
       "      <td>171.0</td>\n",
       "      <td>flow=Background-UDP-Established</td>\n",
       "      <td>81.90.162.3</td>\n",
       "      <td>147.32.84.229</td>\n",
       "      <td>1495</td>\n",
       "    </tr>\n",
       "    <tr>\n",
       "      <th>91688</th>\n",
       "      <td>2011-08-15 17:03:55.605044</td>\n",
       "      <td>0.001758</td>\n",
       "      <td>udp</td>\n",
       "      <td>74.104.118.124</td>\n",
       "      <td>13272</td>\n",
       "      <td>&lt;-&gt;</td>\n",
       "      <td>147.32.84.229</td>\n",
       "      <td>13363</td>\n",
       "      <td>CON</td>\n",
       "      <td>0.0</td>\n",
       "      <td>0.0</td>\n",
       "      <td>2.0</td>\n",
       "      <td>525.0</td>\n",
       "      <td>465.0</td>\n",
       "      <td>flow=Background-UDP-Established</td>\n",
       "      <td>74.104.118.124</td>\n",
       "      <td>147.32.84.229</td>\n",
       "      <td>1496</td>\n",
       "    </tr>\n",
       "    <tr>\n",
       "      <th>105890</th>\n",
       "      <td>2011-08-15 17:07:13.356378</td>\n",
       "      <td>0.000236</td>\n",
       "      <td>udp</td>\n",
       "      <td>147.32.84.138</td>\n",
       "      <td>43256</td>\n",
       "      <td>&lt;-&gt;</td>\n",
       "      <td>147.32.80.9</td>\n",
       "      <td>53</td>\n",
       "      <td>CON</td>\n",
       "      <td>0.0</td>\n",
       "      <td>0.0</td>\n",
       "      <td>2.0</td>\n",
       "      <td>214.0</td>\n",
       "      <td>81.0</td>\n",
       "      <td>flow=To-Background-UDP-CVUT-DNS-Server</td>\n",
       "      <td>147.32.84.138</td>\n",
       "      <td>147.32.80.9</td>\n",
       "      <td>1497</td>\n",
       "    </tr>\n",
       "    <tr>\n",
       "      <th>3868</th>\n",
       "      <td>2011-08-15 16:43:52.057938</td>\n",
       "      <td>43.145054</td>\n",
       "      <td>udp</td>\n",
       "      <td>41.230.241.2</td>\n",
       "      <td>16459</td>\n",
       "      <td>&lt;-&gt;</td>\n",
       "      <td>147.32.84.229</td>\n",
       "      <td>13363</td>\n",
       "      <td>CON</td>\n",
       "      <td>0.0</td>\n",
       "      <td>0.0</td>\n",
       "      <td>6.0</td>\n",
       "      <td>1569.0</td>\n",
       "      <td>1389.0</td>\n",
       "      <td>flow=Background-UDP-Established</td>\n",
       "      <td>41.230.241.2</td>\n",
       "      <td>147.32.84.229</td>\n",
       "      <td>1498</td>\n",
       "    </tr>\n",
       "    <tr>\n",
       "      <th>54118</th>\n",
       "      <td>2011-08-15 16:54:58.943987</td>\n",
       "      <td>0.000208</td>\n",
       "      <td>udp</td>\n",
       "      <td>147.32.84.170</td>\n",
       "      <td>40884</td>\n",
       "      <td>&lt;-&gt;</td>\n",
       "      <td>147.32.80.9</td>\n",
       "      <td>53</td>\n",
       "      <td>CON</td>\n",
       "      <td>0.0</td>\n",
       "      <td>0.0</td>\n",
       "      <td>2.0</td>\n",
       "      <td>261.0</td>\n",
       "      <td>75.0</td>\n",
       "      <td>flow=From-Normal-V46-Stribrek</td>\n",
       "      <td>147.32.84.170</td>\n",
       "      <td>147.32.80.9</td>\n",
       "      <td>1499</td>\n",
       "    </tr>\n",
       "  </tbody>\n",
       "</table>\n",
       "<p>1500 rows × 18 columns</p>\n",
       "</div>"
      ],
      "text/plain": [
       "                         StartTime        Dur Proto         SrcAddr  Sport  \\\n",
       "80056   2011-08-15 17:01:05.514132   0.000798   udp  111.255.28.147  54172   \n",
       "11048   2011-08-15 16:45:09.512155   0.000481   udp    87.240.219.1  25614   \n",
       "129236  2011-08-15 17:13:16.392492   0.001632   udp    147.32.86.50  60876   \n",
       "67971   2011-08-15 16:58:10.530850   2.488998   tcp  211.101.37.115  51607   \n",
       "28386   2011-08-15 16:48:54.499351   0.000514   udp  216.185.73.130  62119   \n",
       "...                            ...        ...   ...             ...    ...   \n",
       "123621  2011-08-15 17:11:42.141884   0.159994   udp     81.90.162.3  14329   \n",
       "91688   2011-08-15 17:03:55.605044   0.001758   udp  74.104.118.124  13272   \n",
       "105890  2011-08-15 17:07:13.356378   0.000236   udp   147.32.84.138  43256   \n",
       "3868    2011-08-15 16:43:52.057938  43.145054   udp    41.230.241.2  16459   \n",
       "54118   2011-08-15 16:54:58.943987   0.000208   udp   147.32.84.170  40884   \n",
       "\n",
       "          Dir        DstAddr  Dport     State  sTos  dTos  TotPkts  TotBytes  \\\n",
       "80056     <->  147.32.84.229  13363       CON   0.0   0.0      2.0     313.0   \n",
       "11048     <->  147.32.84.229  13363       CON   0.0   0.0      2.0     242.0   \n",
       "129236    <->    147.32.80.9     53       CON   0.0   0.0      2.0     475.0   \n",
       "67971      ->    147.32.84.2     21  SRPA_SPA   0.0   0.0     14.0    1311.0   \n",
       "28386     <->  147.32.84.229  13363       CON   0.0   0.0      2.0     133.0   \n",
       "...       ...            ...    ...       ...   ...   ...      ...       ...   \n",
       "123621    <->  147.32.84.229  13363       CON   0.0   0.0      2.0     244.0   \n",
       "91688     <->  147.32.84.229  13363       CON   0.0   0.0      2.0     525.0   \n",
       "105890    <->    147.32.80.9     53       CON   0.0   0.0      2.0     214.0   \n",
       "3868      <->  147.32.84.229  13363       CON   0.0   0.0      6.0    1569.0   \n",
       "54118     <->    147.32.80.9     53       CON   0.0   0.0      2.0     261.0   \n",
       "\n",
       "        SrcBytes                                   Label         to_node  \\\n",
       "80056       64.0         flow=Background-UDP-Established  111.255.28.147   \n",
       "11048      180.0         flow=Background-UDP-Established    87.240.219.1   \n",
       "129236      81.0  flow=To-Background-UDP-CVUT-DNS-Server    147.32.86.50   \n",
       "67971      511.0         flow=Background-TCP-Established  211.101.37.115   \n",
       "28386       73.0         flow=Background-UDP-Established  216.185.73.130   \n",
       "...          ...                                     ...             ...   \n",
       "123621     171.0         flow=Background-UDP-Established     81.90.162.3   \n",
       "91688      465.0         flow=Background-UDP-Established  74.104.118.124   \n",
       "105890      81.0  flow=To-Background-UDP-CVUT-DNS-Server   147.32.84.138   \n",
       "3868      1389.0         flow=Background-UDP-Established    41.230.241.2   \n",
       "54118       75.0           flow=From-Normal-V46-Stribrek   147.32.84.170   \n",
       "\n",
       "            from_node  Node  \n",
       "80056   147.32.84.229     0  \n",
       "11048   147.32.84.229     1  \n",
       "129236    147.32.80.9     2  \n",
       "67971     147.32.84.2     3  \n",
       "28386   147.32.84.229     4  \n",
       "...               ...   ...  \n",
       "123621  147.32.84.229  1495  \n",
       "91688   147.32.84.229  1496  \n",
       "105890    147.32.80.9  1497  \n",
       "3868    147.32.84.229  1498  \n",
       "54118     147.32.80.9  1499  \n",
       "\n",
       "[1500 rows x 18 columns]"
      ]
     },
     "execution_count": 8,
     "metadata": {},
     "output_type": "execute_result"
    }
   ],
   "source": [
    "edf"
   ]
  },
  {
   "cell_type": "code",
   "execution_count": null,
   "id": "73ce707d",
   "metadata": {},
   "outputs": [],
   "source": []
  },
  {
   "cell_type": "code",
   "execution_count": 9,
   "id": "b430a6c7",
   "metadata": {},
   "outputs": [],
   "source": [
    "good_cols = ['Dur', 'Proto', 'Sport',\n",
    "       'Dport', 'State', 'TotPkts', 'TotBytes', 'SrcBytes',\n",
    "       'Label', 'to_node', 'from_node']\n",
    "\n",
    "good_cols_without_label = ['Dur', 'Proto', 'Sport',\n",
    "       'Dport', 'State', 'TotPkts', 'TotBytes', 'SrcBytes',\n",
    "        'to_node', 'from_node']\n",
    "\n",
    "good_cols_without_label_or_edges = ['Dur', 'Proto', 'Sport',\n",
    "       'Dport', 'State', 'TotPkts', 'TotBytes', 'SrcBytes']\n",
    "\n",
    "hover_cols = ['Proto', 'Label', 'to_node', 'from_node']"
   ]
  },
  {
   "cell_type": "code",
   "execution_count": 10,
   "id": "3940a784",
   "metadata": {},
   "outputs": [],
   "source": [
    "g = graphistry.edges(edf, src, dst)"
   ]
  },
  {
   "cell_type": "code",
   "execution_count": 11,
   "id": "764c0d17",
   "metadata": {
    "scrolled": true
   },
   "outputs": [
    {
     "name": "stderr",
     "output_type": "stream",
     "text": [
      "[feature_utils.py:861 - get_dataframe_columns() ]\n",
      "   returning DataFrame with columns `['Dur', 'Proto', 'Sport', 'Dport', 'State', 'TotPkts', 'TotBytes', 'SrcBytes', 'to_node', 'from_node']`\n",
      "\n",
      "[feature_utils.py:158 - check_target_not_in_features() ]\n",
      "   Removing [] columns from DataFrame\n",
      "\n",
      "[feature_utils.py:738 - process_edge_dataframes() ]\n",
      "   Encoding Edges using MultiLabelBinarizer\n",
      "\n",
      "[feature_utils.py:741 - process_edge_dataframes() ]\n",
      "   -Shape of Edge-2-Edge encoder (1500, 864)\n",
      "\n",
      "[feature_utils.py:744 - process_edge_dataframes() ]\n",
      "   -Rest of DataFrame has columns: Index(['Dur', 'Proto', 'Sport', 'Dport', 'State', 'TotPkts', 'TotBytes',\n",
      "       'SrcBytes'],\n",
      "      dtype='object') and is not empty\n",
      "\n",
      "[feature_utils.py:495 -  get_textual_columns() ]\n",
      "   No Textual Columns were found\n",
      "\n",
      "[feature_utils.py:653 - process_dirty_dataframes() ]\n",
      "   Encoding DataFrame might take a few minutes --------\n",
      "\n",
      "[feature_utils.py:659 - process_dirty_dataframes() ]\n",
      "   -Shape of data (1500, 135)\n",
      "\n",
      "\n",
      "[feature_utils.py:660 - process_dirty_dataframes() ]\n",
      "   -Transformers: \n",
      "[('low_card_cat', OneHotEncoder(), ['Proto']), ('high_card_cat', GapEncoder(n_components=42), ['Sport', 'Dport', 'State'])]\n",
      "\n",
      "\n",
      "[feature_utils.py:661 - process_dirty_dataframes() ]\n",
      "   -Transformed Columns: \n",
      "['Proto_arp', 'Proto_icmp', 'Proto_igmp', 'Proto_tcp', 'Proto_udp', 'Sport: 37979, 37966, 37983', 'Sport: 64784, 36899, 18684', 'Sport: 13363, 61363, 16133', 'Sport: 48586, 58648, 58589', 'Sport: 50555, 55541, 55547', 'Sport: 58080, 26826, 8026', 'Sport: 64996, 34964, 54967', 'Sport: 54113, 41413, 14134', 'Sport: 33569, 56569, 54335', 'Sport: 60330, 60995, 6031', 'Sport: 10100, 10186, 51012', 'Sport: 65279, 26527, 52792', 'Sport: 58921, 58924, 59253', 'Sport: 50771, 50719, 45070', 'Sport: 51246, 11247, 51294']...\n",
      "\n",
      "\n",
      "[feature_utils.py:662 - process_dirty_dataframes() ]\n",
      "   --Fitting on Data took 0.04 minutes\n",
      "\n",
      "\n",
      "[feature_utils.py:685 - process_dirty_dataframes() ]\n",
      "   -Fitting Targets --\n",
      "\n",
      "\n",
      "[feature_utils.py:697 - process_dirty_dataframes() ]\n",
      "   -Shape of target (1500, 26)\n",
      "\n",
      "[feature_utils.py:698 - process_dirty_dataframes() ]\n",
      "   -Target Transformers used: [('low_card_cat', OneHotEncoder(), ['Label'])]\n",
      "\n",
      "\n",
      "[feature_utils.py:699 - process_dirty_dataframes() ]\n",
      "   --Fitting SuperVectorizer on TARGET took 0.00 minutes\n",
      "\n",
      "\n",
      "[feature_utils.py:595 - process_textual_or_other_dataframes() ]\n",
      "   --The entire Textual and/or other encoding process took 0.12 minutes\n",
      "\n",
      "[feature_utils.py:269 - impute_and_scale_matrix() ]\n",
      "   Imputing Values using mean strategy\n",
      "\n",
      "[feature_utils.py:300 - impute_and_scale_matrix() ]\n",
      "   Applying minmax-Scaling\n",
      "\n",
      "[feature_utils.py:784 - process_edge_dataframes() ]\n",
      "   --Created an Edge feature matrix of size (1500, 999)\n",
      "\n",
      "[feature_utils.py:785 - process_edge_dataframes() ]\n",
      "   **The entire Edge encoding process took 0.13 minutes\n",
      "\n"
     ]
    }
   ],
   "source": [
    "g2 = g.featurize(kind='edges', \n",
    "                 y = pd.DataFrame({'Label': edf.Label.values}), \n",
    "                 use_columns=good_cols_without_label, \n",
    "                use_scaler='minmax') # need positive feature values\n",
    "\n",
    "#g2 = g.featurize(kind='edges', use_columns=good_cols_without_label)"
   ]
  },
  {
   "cell_type": "code",
   "execution_count": 12,
   "id": "d3477b76",
   "metadata": {},
   "outputs": [
    {
     "data": {
      "text/html": [
       "<div>\n",
       "<style scoped>\n",
       "    .dataframe tbody tr th:only-of-type {\n",
       "        vertical-align: middle;\n",
       "    }\n",
       "\n",
       "    .dataframe tbody tr th {\n",
       "        vertical-align: top;\n",
       "    }\n",
       "\n",
       "    .dataframe thead th {\n",
       "        text-align: right;\n",
       "    }\n",
       "</style>\n",
       "<table border=\"1\" class=\"dataframe\">\n",
       "  <thead>\n",
       "    <tr style=\"text-align: right;\">\n",
       "      <th></th>\n",
       "      <th>1.1.224.18</th>\n",
       "      <th>1.72.0.215</th>\n",
       "      <th>105.143.17.35</th>\n",
       "      <th>107.10.143.217</th>\n",
       "      <th>107.2.193.23</th>\n",
       "      <th>108.13.176.161</th>\n",
       "      <th>108.64.1.163</th>\n",
       "      <th>109.110.84.1</th>\n",
       "      <th>109.123.211.210</th>\n",
       "      <th>109.128.9.66</th>\n",
       "      <th>...</th>\n",
       "      <th>State: con, s_, eco</th>\n",
       "      <th>State: pa_rpa, pa_r, sa_r</th>\n",
       "      <th>State: con, s_, ra_</th>\n",
       "      <th>State: spa_srpa, spa_sra, pa_r</th>\n",
       "      <th>State: con, s_, eco</th>\n",
       "      <th>State: con, s_, ra_</th>\n",
       "      <th>Dur</th>\n",
       "      <th>TotPkts</th>\n",
       "      <th>TotBytes</th>\n",
       "      <th>SrcBytes</th>\n",
       "    </tr>\n",
       "  </thead>\n",
       "  <tbody>\n",
       "    <tr>\n",
       "      <th>0</th>\n",
       "      <td>0.0</td>\n",
       "      <td>0.0</td>\n",
       "      <td>0.0</td>\n",
       "      <td>0.0</td>\n",
       "      <td>0.0</td>\n",
       "      <td>0.0</td>\n",
       "      <td>0.0</td>\n",
       "      <td>0.0</td>\n",
       "      <td>0.0</td>\n",
       "      <td>0.0</td>\n",
       "      <td>...</td>\n",
       "      <td>1.00000</td>\n",
       "      <td>0.00528</td>\n",
       "      <td>1.00000</td>\n",
       "      <td>0.00333</td>\n",
       "      <td>1.00000</td>\n",
       "      <td>1.00000</td>\n",
       "      <td>0.00000</td>\n",
       "      <td>0.00024</td>\n",
       "      <td>0.00037</td>\n",
       "      <td>0.00021</td>\n",
       "    </tr>\n",
       "    <tr>\n",
       "      <th>1</th>\n",
       "      <td>0.0</td>\n",
       "      <td>0.0</td>\n",
       "      <td>0.0</td>\n",
       "      <td>0.0</td>\n",
       "      <td>0.0</td>\n",
       "      <td>0.0</td>\n",
       "      <td>0.0</td>\n",
       "      <td>0.0</td>\n",
       "      <td>0.0</td>\n",
       "      <td>0.0</td>\n",
       "      <td>...</td>\n",
       "      <td>1.00000</td>\n",
       "      <td>0.00528</td>\n",
       "      <td>1.00000</td>\n",
       "      <td>0.00333</td>\n",
       "      <td>1.00000</td>\n",
       "      <td>1.00000</td>\n",
       "      <td>0.00000</td>\n",
       "      <td>0.00024</td>\n",
       "      <td>0.00026</td>\n",
       "      <td>0.00058</td>\n",
       "    </tr>\n",
       "    <tr>\n",
       "      <th>2</th>\n",
       "      <td>0.0</td>\n",
       "      <td>0.0</td>\n",
       "      <td>0.0</td>\n",
       "      <td>0.0</td>\n",
       "      <td>0.0</td>\n",
       "      <td>0.0</td>\n",
       "      <td>0.0</td>\n",
       "      <td>0.0</td>\n",
       "      <td>0.0</td>\n",
       "      <td>0.0</td>\n",
       "      <td>...</td>\n",
       "      <td>1.00000</td>\n",
       "      <td>0.00528</td>\n",
       "      <td>1.00000</td>\n",
       "      <td>0.00333</td>\n",
       "      <td>1.00000</td>\n",
       "      <td>1.00000</td>\n",
       "      <td>0.00000</td>\n",
       "      <td>0.00024</td>\n",
       "      <td>0.00060</td>\n",
       "      <td>0.00026</td>\n",
       "    </tr>\n",
       "    <tr>\n",
       "      <th>3</th>\n",
       "      <td>0.0</td>\n",
       "      <td>0.0</td>\n",
       "      <td>0.0</td>\n",
       "      <td>0.0</td>\n",
       "      <td>0.0</td>\n",
       "      <td>0.0</td>\n",
       "      <td>0.0</td>\n",
       "      <td>0.0</td>\n",
       "      <td>0.0</td>\n",
       "      <td>0.0</td>\n",
       "      <td>...</td>\n",
       "      <td>0.00484</td>\n",
       "      <td>0.00189</td>\n",
       "      <td>0.08014</td>\n",
       "      <td>0.01209</td>\n",
       "      <td>0.00075</td>\n",
       "      <td>0.04115</td>\n",
       "      <td>0.00138</td>\n",
       "      <td>0.00313</td>\n",
       "      <td>0.00181</td>\n",
       "      <td>0.00164</td>\n",
       "    </tr>\n",
       "    <tr>\n",
       "      <th>4</th>\n",
       "      <td>0.0</td>\n",
       "      <td>0.0</td>\n",
       "      <td>0.0</td>\n",
       "      <td>0.0</td>\n",
       "      <td>0.0</td>\n",
       "      <td>0.0</td>\n",
       "      <td>0.0</td>\n",
       "      <td>0.0</td>\n",
       "      <td>0.0</td>\n",
       "      <td>0.0</td>\n",
       "      <td>...</td>\n",
       "      <td>1.00000</td>\n",
       "      <td>0.00528</td>\n",
       "      <td>1.00000</td>\n",
       "      <td>0.00333</td>\n",
       "      <td>1.00000</td>\n",
       "      <td>1.00000</td>\n",
       "      <td>0.00000</td>\n",
       "      <td>0.00024</td>\n",
       "      <td>0.00011</td>\n",
       "      <td>0.00023</td>\n",
       "    </tr>\n",
       "    <tr>\n",
       "      <th>...</th>\n",
       "      <td>...</td>\n",
       "      <td>...</td>\n",
       "      <td>...</td>\n",
       "      <td>...</td>\n",
       "      <td>...</td>\n",
       "      <td>...</td>\n",
       "      <td>...</td>\n",
       "      <td>...</td>\n",
       "      <td>...</td>\n",
       "      <td>...</td>\n",
       "      <td>...</td>\n",
       "      <td>...</td>\n",
       "      <td>...</td>\n",
       "      <td>...</td>\n",
       "      <td>...</td>\n",
       "      <td>...</td>\n",
       "      <td>...</td>\n",
       "      <td>...</td>\n",
       "      <td>...</td>\n",
       "      <td>...</td>\n",
       "      <td>...</td>\n",
       "    </tr>\n",
       "    <tr>\n",
       "      <th>1495</th>\n",
       "      <td>0.0</td>\n",
       "      <td>0.0</td>\n",
       "      <td>0.0</td>\n",
       "      <td>0.0</td>\n",
       "      <td>0.0</td>\n",
       "      <td>0.0</td>\n",
       "      <td>0.0</td>\n",
       "      <td>0.0</td>\n",
       "      <td>0.0</td>\n",
       "      <td>0.0</td>\n",
       "      <td>...</td>\n",
       "      <td>1.00000</td>\n",
       "      <td>0.00528</td>\n",
       "      <td>1.00000</td>\n",
       "      <td>0.00333</td>\n",
       "      <td>1.00000</td>\n",
       "      <td>1.00000</td>\n",
       "      <td>0.00009</td>\n",
       "      <td>0.00024</td>\n",
       "      <td>0.00027</td>\n",
       "      <td>0.00055</td>\n",
       "    </tr>\n",
       "    <tr>\n",
       "      <th>1496</th>\n",
       "      <td>0.0</td>\n",
       "      <td>0.0</td>\n",
       "      <td>0.0</td>\n",
       "      <td>0.0</td>\n",
       "      <td>0.0</td>\n",
       "      <td>0.0</td>\n",
       "      <td>0.0</td>\n",
       "      <td>0.0</td>\n",
       "      <td>0.0</td>\n",
       "      <td>0.0</td>\n",
       "      <td>...</td>\n",
       "      <td>1.00000</td>\n",
       "      <td>0.00528</td>\n",
       "      <td>1.00000</td>\n",
       "      <td>0.00333</td>\n",
       "      <td>1.00000</td>\n",
       "      <td>1.00000</td>\n",
       "      <td>0.00000</td>\n",
       "      <td>0.00024</td>\n",
       "      <td>0.00067</td>\n",
       "      <td>0.00149</td>\n",
       "    </tr>\n",
       "    <tr>\n",
       "      <th>1497</th>\n",
       "      <td>0.0</td>\n",
       "      <td>0.0</td>\n",
       "      <td>0.0</td>\n",
       "      <td>0.0</td>\n",
       "      <td>0.0</td>\n",
       "      <td>0.0</td>\n",
       "      <td>0.0</td>\n",
       "      <td>0.0</td>\n",
       "      <td>0.0</td>\n",
       "      <td>0.0</td>\n",
       "      <td>...</td>\n",
       "      <td>1.00000</td>\n",
       "      <td>0.00528</td>\n",
       "      <td>1.00000</td>\n",
       "      <td>0.00333</td>\n",
       "      <td>1.00000</td>\n",
       "      <td>1.00000</td>\n",
       "      <td>0.00000</td>\n",
       "      <td>0.00024</td>\n",
       "      <td>0.00022</td>\n",
       "      <td>0.00026</td>\n",
       "    </tr>\n",
       "    <tr>\n",
       "      <th>1498</th>\n",
       "      <td>0.0</td>\n",
       "      <td>0.0</td>\n",
       "      <td>0.0</td>\n",
       "      <td>0.0</td>\n",
       "      <td>0.0</td>\n",
       "      <td>0.0</td>\n",
       "      <td>0.0</td>\n",
       "      <td>0.0</td>\n",
       "      <td>0.0</td>\n",
       "      <td>0.0</td>\n",
       "      <td>...</td>\n",
       "      <td>1.00000</td>\n",
       "      <td>0.00528</td>\n",
       "      <td>1.00000</td>\n",
       "      <td>0.00333</td>\n",
       "      <td>1.00000</td>\n",
       "      <td>1.00000</td>\n",
       "      <td>0.02396</td>\n",
       "      <td>0.00120</td>\n",
       "      <td>0.00219</td>\n",
       "      <td>0.00446</td>\n",
       "    </tr>\n",
       "    <tr>\n",
       "      <th>1499</th>\n",
       "      <td>0.0</td>\n",
       "      <td>0.0</td>\n",
       "      <td>0.0</td>\n",
       "      <td>0.0</td>\n",
       "      <td>0.0</td>\n",
       "      <td>0.0</td>\n",
       "      <td>0.0</td>\n",
       "      <td>0.0</td>\n",
       "      <td>0.0</td>\n",
       "      <td>0.0</td>\n",
       "      <td>...</td>\n",
       "      <td>1.00000</td>\n",
       "      <td>0.00528</td>\n",
       "      <td>1.00000</td>\n",
       "      <td>0.00333</td>\n",
       "      <td>1.00000</td>\n",
       "      <td>1.00000</td>\n",
       "      <td>0.00000</td>\n",
       "      <td>0.00024</td>\n",
       "      <td>0.00029</td>\n",
       "      <td>0.00024</td>\n",
       "    </tr>\n",
       "  </tbody>\n",
       "</table>\n",
       "<p>1500 rows × 999 columns</p>\n",
       "</div>"
      ],
      "text/plain": [
       "      1.1.224.18  1.72.0.215  105.143.17.35  107.10.143.217  107.2.193.23  \\\n",
       "0            0.0         0.0            0.0             0.0           0.0   \n",
       "1            0.0         0.0            0.0             0.0           0.0   \n",
       "2            0.0         0.0            0.0             0.0           0.0   \n",
       "3            0.0         0.0            0.0             0.0           0.0   \n",
       "4            0.0         0.0            0.0             0.0           0.0   \n",
       "...          ...         ...            ...             ...           ...   \n",
       "1495         0.0         0.0            0.0             0.0           0.0   \n",
       "1496         0.0         0.0            0.0             0.0           0.0   \n",
       "1497         0.0         0.0            0.0             0.0           0.0   \n",
       "1498         0.0         0.0            0.0             0.0           0.0   \n",
       "1499         0.0         0.0            0.0             0.0           0.0   \n",
       "\n",
       "      108.13.176.161  108.64.1.163  109.110.84.1  109.123.211.210  \\\n",
       "0                0.0           0.0           0.0              0.0   \n",
       "1                0.0           0.0           0.0              0.0   \n",
       "2                0.0           0.0           0.0              0.0   \n",
       "3                0.0           0.0           0.0              0.0   \n",
       "4                0.0           0.0           0.0              0.0   \n",
       "...              ...           ...           ...              ...   \n",
       "1495             0.0           0.0           0.0              0.0   \n",
       "1496             0.0           0.0           0.0              0.0   \n",
       "1497             0.0           0.0           0.0              0.0   \n",
       "1498             0.0           0.0           0.0              0.0   \n",
       "1499             0.0           0.0           0.0              0.0   \n",
       "\n",
       "      109.128.9.66  ...  State: con, s_, eco  State: pa_rpa, pa_r, sa_r  \\\n",
       "0              0.0  ...              1.00000                    0.00528   \n",
       "1              0.0  ...              1.00000                    0.00528   \n",
       "2              0.0  ...              1.00000                    0.00528   \n",
       "3              0.0  ...              0.00484                    0.00189   \n",
       "4              0.0  ...              1.00000                    0.00528   \n",
       "...            ...  ...                  ...                        ...   \n",
       "1495           0.0  ...              1.00000                    0.00528   \n",
       "1496           0.0  ...              1.00000                    0.00528   \n",
       "1497           0.0  ...              1.00000                    0.00528   \n",
       "1498           0.0  ...              1.00000                    0.00528   \n",
       "1499           0.0  ...              1.00000                    0.00528   \n",
       "\n",
       "      State: con, s_, ra_  State: spa_srpa, spa_sra, pa_r  \\\n",
       "0                 1.00000                         0.00333   \n",
       "1                 1.00000                         0.00333   \n",
       "2                 1.00000                         0.00333   \n",
       "3                 0.08014                         0.01209   \n",
       "4                 1.00000                         0.00333   \n",
       "...                   ...                             ...   \n",
       "1495              1.00000                         0.00333   \n",
       "1496              1.00000                         0.00333   \n",
       "1497              1.00000                         0.00333   \n",
       "1498              1.00000                         0.00333   \n",
       "1499              1.00000                         0.00333   \n",
       "\n",
       "      State: con, s_, eco  State: con, s_, ra_      Dur  TotPkts  TotBytes  \\\n",
       "0                 1.00000              1.00000  0.00000  0.00024   0.00037   \n",
       "1                 1.00000              1.00000  0.00000  0.00024   0.00026   \n",
       "2                 1.00000              1.00000  0.00000  0.00024   0.00060   \n",
       "3                 0.00075              0.04115  0.00138  0.00313   0.00181   \n",
       "4                 1.00000              1.00000  0.00000  0.00024   0.00011   \n",
       "...                   ...                  ...      ...      ...       ...   \n",
       "1495              1.00000              1.00000  0.00009  0.00024   0.00027   \n",
       "1496              1.00000              1.00000  0.00000  0.00024   0.00067   \n",
       "1497              1.00000              1.00000  0.00000  0.00024   0.00022   \n",
       "1498              1.00000              1.00000  0.02396  0.00120   0.00219   \n",
       "1499              1.00000              1.00000  0.00000  0.00024   0.00029   \n",
       "\n",
       "      SrcBytes  \n",
       "0      0.00021  \n",
       "1      0.00058  \n",
       "2      0.00026  \n",
       "3      0.00164  \n",
       "4      0.00023  \n",
       "...        ...  \n",
       "1495   0.00055  \n",
       "1496   0.00149  \n",
       "1497   0.00026  \n",
       "1498   0.00446  \n",
       "1499   0.00024  \n",
       "\n",
       "[1500 rows x 999 columns]"
      ]
     },
     "execution_count": 12,
     "metadata": {},
     "output_type": "execute_result"
    }
   ],
   "source": [
    "g2.edge_features"
   ]
  },
  {
   "cell_type": "code",
   "execution_count": 47,
   "id": "46d7cb55",
   "metadata": {},
   "outputs": [
    {
     "data": {
      "text/html": [
       "\n",
       "            <iframe id=\"5b8f147f-0df5-4a1d-9e47-49f985ae72e8\" src=\"https://hub.graphistry.com/graph/graph.html?dataset=5f6908e0230943549cea6b74dfce50f4&type=arrow&viztoken=9681a307-7e21-4afc-a592-8a0737ca15b9&usertag=f680a57a-pygraphistry-0.20.5+90.gf4077ad24.dirty&splashAfter=1646372002&info=true\"\n",
       "                    allowfullscreen=\"true\" webkitallowfullscreen=\"true\" mozallowfullscreen=\"true\"\n",
       "                    oallowfullscreen=\"true\" msallowfullscreen=\"true\"\n",
       "                    style=\"width:100%; height:500px; border: 1px solid #DDD; overflow: hidden\"\n",
       "                    \n",
       "            >\n",
       "            </iframe>\n",
       "        \n",
       "            <script>\n",
       "                try {\n",
       "                  $(\"#5b8f147f-0df5-4a1d-9e47-49f985ae72e8\").bind('mousewheel', function(e) { e.preventDefault(); });\n",
       "                } catch (e) { console.error('exn catching scroll', e); }\n",
       "            </script>\n",
       "        "
      ],
      "text/plain": [
       "<IPython.core.display.HTML object>"
      ]
     },
     "execution_count": 47,
     "metadata": {},
     "output_type": "execute_result"
    }
   ],
   "source": [
    "g2.plot() # a big network topology graph"
   ]
  },
  {
   "cell_type": "markdown",
   "id": "49ec9b48",
   "metadata": {},
   "source": [
    "# After UMAP-ing, we get a pruned dataframe of implicit edges, below"
   ]
  },
  {
   "cell_type": "code",
   "execution_count": 14,
   "id": "de8541b5",
   "metadata": {},
   "outputs": [
    {
     "name": "stderr",
     "output_type": "stream",
     "text": [
      "[umap_utils.py:92 -                  fit() ]\n",
      "   Starting UMAP-ing data of shape (1500, 999)\n",
      "\n",
      "OMP: Info #273: omp_set_nested routine deprecated, please use omp_set_max_active_levels instead.\n",
      "[umap_utils.py:105 -      _edge_influence() ]\n",
      "   Calculating weighted adjacency (edge) DataFrame\n",
      "\n",
      "[umap_utils.py:96 -                  fit() ]\n",
      "   -UMAP-ing took 0.20 minutes total\n",
      "\n",
      "[umap_utils.py:97 -                  fit() ]\n",
      "    - or 7644.88 rows per minute\n",
      "\n",
      "[feature_utils.py:829 - prune_weighted_edges_df_and_relabel_nodes() ]\n",
      "   edge weights: mean(0.28), std(0.26), max(1.0), min(0.00), thresh(0.97)\n",
      "\n",
      "[feature_utils.py:835 - prune_weighted_edges_df_and_relabel_nodes() ]\n",
      "   Pruning weighted edge DataFrame from 37,700 to 2,434 edges.\n",
      "\n"
     ]
    }
   ],
   "source": [
    "g3 = g2.umap(kind='edges', metric='hellinger', n_neighbors=20, scale=0.1)"
   ]
  },
  {
   "cell_type": "code",
   "execution_count": 15,
   "id": "5284bf35",
   "metadata": {},
   "outputs": [
    {
     "data": {
      "text/html": [
       "\n",
       "            <iframe id=\"fdf56d78-1034-4cb8-8734-1ae2b6cd95dc\" src=\"https://hub.graphistry.com/graph/graph.html?dataset=bd71ef82405f42d09c53df6698b8dddd&type=arrow&viztoken=9a12a099-12da-4383-a54d-fb2c07cbc147&usertag=f680a57a-pygraphistry-0.20.5+90.gf4077ad24.dirty&splashAfter=1646340065&info=true\"\n",
       "                    allowfullscreen=\"true\" webkitallowfullscreen=\"true\" mozallowfullscreen=\"true\"\n",
       "                    oallowfullscreen=\"true\" msallowfullscreen=\"true\"\n",
       "                    style=\"width:100%; height:500px; border: 1px solid #DDD; overflow: hidden\"\n",
       "                    \n",
       "            >\n",
       "            </iframe>\n",
       "        \n",
       "            <script>\n",
       "                try {\n",
       "                  $(\"#fdf56d78-1034-4cb8-8734-1ae2b6cd95dc\").bind('mousewheel', function(e) { e.preventDefault(); });\n",
       "                } catch (e) { console.error('exn catching scroll', e); }\n",
       "            </script>\n",
       "        "
      ],
      "text/plain": [
       "<IPython.core.display.HTML object>"
      ]
     },
     "execution_count": 15,
     "metadata": {},
     "output_type": "execute_result"
    }
   ],
   "source": [
    "g3.plot()"
   ]
  },
  {
   "cell_type": "code",
   "execution_count": 16,
   "id": "ed4e7c5b",
   "metadata": {},
   "outputs": [],
   "source": [
    "wdf = g3.weighted_edges_df_from_edges"
   ]
  },
  {
   "cell_type": "code",
   "execution_count": 17,
   "id": "39098ffa",
   "metadata": {},
   "outputs": [],
   "source": [
    "coldict = dict(zip(range(len(g._edges)), g._edges['Label'].values))  # get the label dict per edge"
   ]
  },
  {
   "cell_type": "code",
   "execution_count": 18,
   "id": "b7e733f5",
   "metadata": {},
   "outputs": [],
   "source": [
    "cnt = Counter(g._edges['Label'])"
   ]
  },
  {
   "cell_type": "code",
   "execution_count": 19,
   "id": "a5197364",
   "metadata": {},
   "outputs": [
    {
     "data": {
      "text/plain": [
       "[('flow=To-Background-UDP-CVUT-DNS-Server', 589),\n",
       " ('flow=Background-UDP-Established', 448),\n",
       " ('flow=Background-TCP-Established', 164),\n",
       " ('flow=Background-Established-cmpgw-CVUT', 99),\n",
       " ('flow=Background', 40),\n",
       " ('flow=Background-UDP-Attempt', 36),\n",
       " ('flow=From-Normal-V46-Grill', 25),\n",
       " ('flow=From-Normal-V46-Stribrek', 23),\n",
       " ('flow=Background-TCP-Attempt', 20),\n",
       " ('flow=To-Background-CVUT-Proxy', 14),\n",
       " ('flow=From-Normal-V46-Jist', 12),\n",
       " ('flow=Background-Attempt-cmpgw-CVUT', 5),\n",
       " ('flow=From-Botnet-V46-TCP-Attempt', 4),\n",
       " ('flow=Background-UDP-NTP-Established-1', 4),\n",
       " ('flow=Background-google-analytics4', 3),\n",
       " ('flow=Background-google-analytics12', 2),\n",
       " ('flow=From-Background-CVUT-Proxy', 2),\n",
       " ('flow=Background-google-analytics1', 2),\n",
       " ('flow=To-Background-CVUT-WebServer', 1),\n",
       " ('flow=From-Botnet-V46-TCP-Not-Encrypted-SMTP-Private-Proxy-1', 1),\n",
       " ('flow=From-Botnet-V46-TCP-Established-HTTP-To-Microsoft-Live-1', 1),\n",
       " ('flow=Background-google-analytics15', 1),\n",
       " ('flow=From-Botnet-V46-TCP-Established-SPAM', 1),\n",
       " ('flow=Background-www.fel.cvut.cz', 1),\n",
       " ('flow=From-Botnet-V46-TCP-Attempt-SPAM', 1),\n",
       " ('flow=Background-google-analytics10', 1)]"
      ]
     },
     "execution_count": 19,
     "metadata": {},
     "output_type": "execute_result"
    }
   ],
   "source": [
    "cnt.most_common()"
   ]
  },
  {
   "cell_type": "code",
   "execution_count": 29,
   "id": "3014837c",
   "metadata": {},
   "outputs": [],
   "source": [
    "src, dst = config.SRC, config.DST"
   ]
  },
  {
   "cell_type": "code",
   "execution_count": 30,
   "id": "3431b94d",
   "metadata": {},
   "outputs": [],
   "source": [
    "wdf['src_label'] = wdf[src].apply(lambda x: coldict[x]) # map label for the given node as a sanity check\n",
    "wdf['dst_label'] = wdf[dst].apply(lambda x: coldict[x])"
   ]
  },
  {
   "cell_type": "code",
   "execution_count": 22,
   "id": "9f722051",
   "metadata": {},
   "outputs": [],
   "source": [
    "wdf = wdf.fillna('')"
   ]
  },
  {
   "cell_type": "code",
   "execution_count": 23,
   "id": "70f8fd12",
   "metadata": {},
   "outputs": [],
   "source": [
    "hover_data = pd.DataFrame(g._edges.values, index=range(len(g._edges)), columns=g._edges.columns)\n",
    "hover_data = hover_data.fillna('')"
   ]
  },
  {
   "cell_type": "code",
   "execution_count": 24,
   "id": "bb95c9d1",
   "metadata": {},
   "outputs": [],
   "source": [
    "hover_data = hover_data[hover_cols+ ['Node']]"
   ]
  },
  {
   "cell_type": "code",
   "execution_count": 25,
   "id": "212853e5",
   "metadata": {},
   "outputs": [
    {
     "data": {
      "text/html": [
       "<div>\n",
       "<style scoped>\n",
       "    .dataframe tbody tr th:only-of-type {\n",
       "        vertical-align: middle;\n",
       "    }\n",
       "\n",
       "    .dataframe tbody tr th {\n",
       "        vertical-align: top;\n",
       "    }\n",
       "\n",
       "    .dataframe thead th {\n",
       "        text-align: right;\n",
       "    }\n",
       "</style>\n",
       "<table border=\"1\" class=\"dataframe\">\n",
       "  <thead>\n",
       "    <tr style=\"text-align: right;\">\n",
       "      <th></th>\n",
       "      <th>Proto</th>\n",
       "      <th>Label</th>\n",
       "      <th>to_node</th>\n",
       "      <th>from_node</th>\n",
       "      <th>Node</th>\n",
       "    </tr>\n",
       "  </thead>\n",
       "  <tbody>\n",
       "    <tr>\n",
       "      <th>0</th>\n",
       "      <td>udp</td>\n",
       "      <td>flow=Background-UDP-Established</td>\n",
       "      <td>111.255.28.147</td>\n",
       "      <td>147.32.84.229</td>\n",
       "      <td>0</td>\n",
       "    </tr>\n",
       "    <tr>\n",
       "      <th>1</th>\n",
       "      <td>udp</td>\n",
       "      <td>flow=Background-UDP-Established</td>\n",
       "      <td>87.240.219.1</td>\n",
       "      <td>147.32.84.229</td>\n",
       "      <td>1</td>\n",
       "    </tr>\n",
       "    <tr>\n",
       "      <th>2</th>\n",
       "      <td>udp</td>\n",
       "      <td>flow=To-Background-UDP-CVUT-DNS-Server</td>\n",
       "      <td>147.32.86.50</td>\n",
       "      <td>147.32.80.9</td>\n",
       "      <td>2</td>\n",
       "    </tr>\n",
       "    <tr>\n",
       "      <th>3</th>\n",
       "      <td>tcp</td>\n",
       "      <td>flow=Background-TCP-Established</td>\n",
       "      <td>211.101.37.115</td>\n",
       "      <td>147.32.84.2</td>\n",
       "      <td>3</td>\n",
       "    </tr>\n",
       "    <tr>\n",
       "      <th>4</th>\n",
       "      <td>udp</td>\n",
       "      <td>flow=Background-UDP-Established</td>\n",
       "      <td>216.185.73.130</td>\n",
       "      <td>147.32.84.229</td>\n",
       "      <td>4</td>\n",
       "    </tr>\n",
       "    <tr>\n",
       "      <th>...</th>\n",
       "      <td>...</td>\n",
       "      <td>...</td>\n",
       "      <td>...</td>\n",
       "      <td>...</td>\n",
       "      <td>...</td>\n",
       "    </tr>\n",
       "    <tr>\n",
       "      <th>1495</th>\n",
       "      <td>udp</td>\n",
       "      <td>flow=Background-UDP-Established</td>\n",
       "      <td>81.90.162.3</td>\n",
       "      <td>147.32.84.229</td>\n",
       "      <td>1495</td>\n",
       "    </tr>\n",
       "    <tr>\n",
       "      <th>1496</th>\n",
       "      <td>udp</td>\n",
       "      <td>flow=Background-UDP-Established</td>\n",
       "      <td>74.104.118.124</td>\n",
       "      <td>147.32.84.229</td>\n",
       "      <td>1496</td>\n",
       "    </tr>\n",
       "    <tr>\n",
       "      <th>1497</th>\n",
       "      <td>udp</td>\n",
       "      <td>flow=To-Background-UDP-CVUT-DNS-Server</td>\n",
       "      <td>147.32.84.138</td>\n",
       "      <td>147.32.80.9</td>\n",
       "      <td>1497</td>\n",
       "    </tr>\n",
       "    <tr>\n",
       "      <th>1498</th>\n",
       "      <td>udp</td>\n",
       "      <td>flow=Background-UDP-Established</td>\n",
       "      <td>41.230.241.2</td>\n",
       "      <td>147.32.84.229</td>\n",
       "      <td>1498</td>\n",
       "    </tr>\n",
       "    <tr>\n",
       "      <th>1499</th>\n",
       "      <td>udp</td>\n",
       "      <td>flow=From-Normal-V46-Stribrek</td>\n",
       "      <td>147.32.84.170</td>\n",
       "      <td>147.32.80.9</td>\n",
       "      <td>1499</td>\n",
       "    </tr>\n",
       "  </tbody>\n",
       "</table>\n",
       "<p>1500 rows × 5 columns</p>\n",
       "</div>"
      ],
      "text/plain": [
       "     Proto                                   Label         to_node  \\\n",
       "0      udp         flow=Background-UDP-Established  111.255.28.147   \n",
       "1      udp         flow=Background-UDP-Established    87.240.219.1   \n",
       "2      udp  flow=To-Background-UDP-CVUT-DNS-Server    147.32.86.50   \n",
       "3      tcp         flow=Background-TCP-Established  211.101.37.115   \n",
       "4      udp         flow=Background-UDP-Established  216.185.73.130   \n",
       "...    ...                                     ...             ...   \n",
       "1495   udp         flow=Background-UDP-Established     81.90.162.3   \n",
       "1496   udp         flow=Background-UDP-Established  74.104.118.124   \n",
       "1497   udp  flow=To-Background-UDP-CVUT-DNS-Server   147.32.84.138   \n",
       "1498   udp         flow=Background-UDP-Established    41.230.241.2   \n",
       "1499   udp           flow=From-Normal-V46-Stribrek   147.32.84.170   \n",
       "\n",
       "          from_node  Node  \n",
       "0     147.32.84.229     0  \n",
       "1     147.32.84.229     1  \n",
       "2       147.32.80.9     2  \n",
       "3       147.32.84.2     3  \n",
       "4     147.32.84.229     4  \n",
       "...             ...   ...  \n",
       "1495  147.32.84.229  1495  \n",
       "1496  147.32.84.229  1496  \n",
       "1497    147.32.80.9  1497  \n",
       "1498  147.32.84.229  1498  \n",
       "1499    147.32.80.9  1499  \n",
       "\n",
       "[1500 rows x 5 columns]"
      ]
     },
     "execution_count": 25,
     "metadata": {},
     "output_type": "execute_result"
    }
   ],
   "source": [
    "hover_data"
   ]
  },
  {
   "cell_type": "code",
   "execution_count": 31,
   "id": "b966066b",
   "metadata": {
    "scrolled": false
   },
   "outputs": [
    {
     "data": {
      "text/html": [
       "\n",
       "            <iframe id=\"128a925a-e2a0-4d75-8c30-c690b18ba0db\" src=\"https://hub.graphistry.com/graph/graph.html?dataset=ae655fb0e4e94a819f4bd2994adaef76&type=arrow&viztoken=beabc9ec-8245-44e6-885b-392e5aac23fc&usertag=f680a57a-pygraphistry-0.20.5+90.gf4077ad24.dirty&splashAfter=1646340268&info=true\"\n",
       "                    allowfullscreen=\"true\" webkitallowfullscreen=\"true\" mozallowfullscreen=\"true\"\n",
       "                    oallowfullscreen=\"true\" msallowfullscreen=\"true\"\n",
       "                    style=\"width:100%; height:500px; border: 1px solid #DDD; overflow: hidden\"\n",
       "                    \n",
       "            >\n",
       "            </iframe>\n",
       "        \n",
       "            <script>\n",
       "                try {\n",
       "                  $(\"#128a925a-e2a0-4d75-8c30-c690b18ba0db\").bind('mousewheel', function(e) { e.preventDefault(); });\n",
       "                } catch (e) { console.error('exn catching scroll', e); }\n",
       "            </script>\n",
       "        "
      ],
      "text/plain": [
       "<IPython.core.display.HTML object>"
      ]
     },
     "execution_count": 31,
     "metadata": {},
     "output_type": "execute_result"
    }
   ],
   "source": [
    "g_2 = graphistry.edges(wdf, src, dst).nodes(hover_data, 'Node')\n",
    "g_2.plot()"
   ]
  },
  {
   "cell_type": "code",
   "execution_count": 32,
   "id": "49cf52d5",
   "metadata": {},
   "outputs": [
    {
     "data": {
      "text/html": [
       "\n",
       "    <div class=\"bk-root\">\n",
       "        <a href=\"https://bokeh.org\" target=\"_blank\" class=\"bk-logo bk-logo-small bk-logo-notebook\"></a>\n",
       "        <span id=\"1002\">Loading BokehJS ...</span>\n",
       "    </div>"
      ]
     },
     "metadata": {},
     "output_type": "display_data"
    },
    {
     "data": {
      "application/javascript": [
       "\n",
       "(function(root) {\n",
       "  function now() {\n",
       "    return new Date();\n",
       "  }\n",
       "\n",
       "  const force = true;\n",
       "\n",
       "  if (typeof root._bokeh_onload_callbacks === \"undefined\" || force === true) {\n",
       "    root._bokeh_onload_callbacks = [];\n",
       "    root._bokeh_is_loading = undefined;\n",
       "  }\n",
       "\n",
       "  const JS_MIME_TYPE = 'application/javascript';\n",
       "  const HTML_MIME_TYPE = 'text/html';\n",
       "  const EXEC_MIME_TYPE = 'application/vnd.bokehjs_exec.v0+json';\n",
       "  const CLASS_NAME = 'output_bokeh rendered_html';\n",
       "\n",
       "  /**\n",
       "   * Render data to the DOM node\n",
       "   */\n",
       "  function render(props, node) {\n",
       "    const script = document.createElement(\"script\");\n",
       "    node.appendChild(script);\n",
       "  }\n",
       "\n",
       "  /**\n",
       "   * Handle when an output is cleared or removed\n",
       "   */\n",
       "  function handleClearOutput(event, handle) {\n",
       "    const cell = handle.cell;\n",
       "\n",
       "    const id = cell.output_area._bokeh_element_id;\n",
       "    const server_id = cell.output_area._bokeh_server_id;\n",
       "    // Clean up Bokeh references\n",
       "    if (id != null && id in Bokeh.index) {\n",
       "      Bokeh.index[id].model.document.clear();\n",
       "      delete Bokeh.index[id];\n",
       "    }\n",
       "\n",
       "    if (server_id !== undefined) {\n",
       "      // Clean up Bokeh references\n",
       "      const cmd_clean = \"from bokeh.io.state import curstate; print(curstate().uuid_to_server['\" + server_id + \"'].get_sessions()[0].document.roots[0]._id)\";\n",
       "      cell.notebook.kernel.execute(cmd_clean, {\n",
       "        iopub: {\n",
       "          output: function(msg) {\n",
       "            const id = msg.content.text.trim();\n",
       "            if (id in Bokeh.index) {\n",
       "              Bokeh.index[id].model.document.clear();\n",
       "              delete Bokeh.index[id];\n",
       "            }\n",
       "          }\n",
       "        }\n",
       "      });\n",
       "      // Destroy server and session\n",
       "      const cmd_destroy = \"import bokeh.io.notebook as ion; ion.destroy_server('\" + server_id + \"')\";\n",
       "      cell.notebook.kernel.execute(cmd_destroy);\n",
       "    }\n",
       "  }\n",
       "\n",
       "  /**\n",
       "   * Handle when a new output is added\n",
       "   */\n",
       "  function handleAddOutput(event, handle) {\n",
       "    const output_area = handle.output_area;\n",
       "    const output = handle.output;\n",
       "\n",
       "    // limit handleAddOutput to display_data with EXEC_MIME_TYPE content only\n",
       "    if ((output.output_type != \"display_data\") || (!Object.prototype.hasOwnProperty.call(output.data, EXEC_MIME_TYPE))) {\n",
       "      return\n",
       "    }\n",
       "\n",
       "    const toinsert = output_area.element.find(\".\" + CLASS_NAME.split(' ')[0]);\n",
       "\n",
       "    if (output.metadata[EXEC_MIME_TYPE][\"id\"] !== undefined) {\n",
       "      toinsert[toinsert.length - 1].firstChild.textContent = output.data[JS_MIME_TYPE];\n",
       "      // store reference to embed id on output_area\n",
       "      output_area._bokeh_element_id = output.metadata[EXEC_MIME_TYPE][\"id\"];\n",
       "    }\n",
       "    if (output.metadata[EXEC_MIME_TYPE][\"server_id\"] !== undefined) {\n",
       "      const bk_div = document.createElement(\"div\");\n",
       "      bk_div.innerHTML = output.data[HTML_MIME_TYPE];\n",
       "      const script_attrs = bk_div.children[0].attributes;\n",
       "      for (let i = 0; i < script_attrs.length; i++) {\n",
       "        toinsert[toinsert.length - 1].firstChild.setAttribute(script_attrs[i].name, script_attrs[i].value);\n",
       "        toinsert[toinsert.length - 1].firstChild.textContent = bk_div.children[0].textContent\n",
       "      }\n",
       "      // store reference to server id on output_area\n",
       "      output_area._bokeh_server_id = output.metadata[EXEC_MIME_TYPE][\"server_id\"];\n",
       "    }\n",
       "  }\n",
       "\n",
       "  function register_renderer(events, OutputArea) {\n",
       "\n",
       "    function append_mime(data, metadata, element) {\n",
       "      // create a DOM node to render to\n",
       "      const toinsert = this.create_output_subarea(\n",
       "        metadata,\n",
       "        CLASS_NAME,\n",
       "        EXEC_MIME_TYPE\n",
       "      );\n",
       "      this.keyboard_manager.register_events(toinsert);\n",
       "      // Render to node\n",
       "      const props = {data: data, metadata: metadata[EXEC_MIME_TYPE]};\n",
       "      render(props, toinsert[toinsert.length - 1]);\n",
       "      element.append(toinsert);\n",
       "      return toinsert\n",
       "    }\n",
       "\n",
       "    /* Handle when an output is cleared or removed */\n",
       "    events.on('clear_output.CodeCell', handleClearOutput);\n",
       "    events.on('delete.Cell', handleClearOutput);\n",
       "\n",
       "    /* Handle when a new output is added */\n",
       "    events.on('output_added.OutputArea', handleAddOutput);\n",
       "\n",
       "    /**\n",
       "     * Register the mime type and append_mime function with output_area\n",
       "     */\n",
       "    OutputArea.prototype.register_mime_type(EXEC_MIME_TYPE, append_mime, {\n",
       "      /* Is output safe? */\n",
       "      safe: true,\n",
       "      /* Index of renderer in `output_area.display_order` */\n",
       "      index: 0\n",
       "    });\n",
       "  }\n",
       "\n",
       "  // register the mime type if in Jupyter Notebook environment and previously unregistered\n",
       "  if (root.Jupyter !== undefined) {\n",
       "    const events = require('base/js/events');\n",
       "    const OutputArea = require('notebook/js/outputarea').OutputArea;\n",
       "\n",
       "    if (OutputArea.prototype.mime_types().indexOf(EXEC_MIME_TYPE) == -1) {\n",
       "      register_renderer(events, OutputArea);\n",
       "    }\n",
       "  }\n",
       "\n",
       "  \n",
       "  if (typeof (root._bokeh_timeout) === \"undefined\" || force === true) {\n",
       "    root._bokeh_timeout = Date.now() + 5000;\n",
       "    root._bokeh_failed_load = false;\n",
       "  }\n",
       "\n",
       "  const NB_LOAD_WARNING = {'data': {'text/html':\n",
       "     \"<div style='background-color: #fdd'>\\n\"+\n",
       "     \"<p>\\n\"+\n",
       "     \"BokehJS does not appear to have successfully loaded. If loading BokehJS from CDN, this \\n\"+\n",
       "     \"may be due to a slow or bad network connection. Possible fixes:\\n\"+\n",
       "     \"</p>\\n\"+\n",
       "     \"<ul>\\n\"+\n",
       "     \"<li>re-rerun `output_notebook()` to attempt to load from CDN again, or</li>\\n\"+\n",
       "     \"<li>use INLINE resources instead, as so:</li>\\n\"+\n",
       "     \"</ul>\\n\"+\n",
       "     \"<code>\\n\"+\n",
       "     \"from bokeh.resources import INLINE\\n\"+\n",
       "     \"output_notebook(resources=INLINE)\\n\"+\n",
       "     \"</code>\\n\"+\n",
       "     \"</div>\"}};\n",
       "\n",
       "  function display_loaded() {\n",
       "    const el = document.getElementById(\"1002\");\n",
       "    if (el != null) {\n",
       "      el.textContent = \"BokehJS is loading...\";\n",
       "    }\n",
       "    if (root.Bokeh !== undefined) {\n",
       "      if (el != null) {\n",
       "        el.textContent = \"BokehJS \" + root.Bokeh.version + \" successfully loaded.\";\n",
       "      }\n",
       "    } else if (Date.now() < root._bokeh_timeout) {\n",
       "      setTimeout(display_loaded, 100)\n",
       "    }\n",
       "  }\n",
       "\n",
       "\n",
       "  function run_callbacks() {\n",
       "    try {\n",
       "      root._bokeh_onload_callbacks.forEach(function(callback) {\n",
       "        if (callback != null)\n",
       "          callback();\n",
       "      });\n",
       "    } finally {\n",
       "      delete root._bokeh_onload_callbacks\n",
       "    }\n",
       "    console.debug(\"Bokeh: all callbacks have finished\");\n",
       "  }\n",
       "\n",
       "  function load_libs(css_urls, js_urls, callback) {\n",
       "    if (css_urls == null) css_urls = [];\n",
       "    if (js_urls == null) js_urls = [];\n",
       "\n",
       "    root._bokeh_onload_callbacks.push(callback);\n",
       "    if (root._bokeh_is_loading > 0) {\n",
       "      console.debug(\"Bokeh: BokehJS is being loaded, scheduling callback at\", now());\n",
       "      return null;\n",
       "    }\n",
       "    if (js_urls == null || js_urls.length === 0) {\n",
       "      run_callbacks();\n",
       "      return null;\n",
       "    }\n",
       "    console.debug(\"Bokeh: BokehJS not loaded, scheduling load and callback at\", now());\n",
       "    root._bokeh_is_loading = css_urls.length + js_urls.length;\n",
       "\n",
       "    function on_load() {\n",
       "      root._bokeh_is_loading--;\n",
       "      if (root._bokeh_is_loading === 0) {\n",
       "        console.debug(\"Bokeh: all BokehJS libraries/stylesheets loaded\");\n",
       "        run_callbacks()\n",
       "      }\n",
       "    }\n",
       "\n",
       "    function on_error(url) {\n",
       "      console.error(\"failed to load \" + url);\n",
       "    }\n",
       "\n",
       "    for (let i = 0; i < css_urls.length; i++) {\n",
       "      const url = css_urls[i];\n",
       "      const element = document.createElement(\"link\");\n",
       "      element.onload = on_load;\n",
       "      element.onerror = on_error.bind(null, url);\n",
       "      element.rel = \"stylesheet\";\n",
       "      element.type = \"text/css\";\n",
       "      element.href = url;\n",
       "      console.debug(\"Bokeh: injecting link tag for BokehJS stylesheet: \", url);\n",
       "      document.body.appendChild(element);\n",
       "    }\n",
       "\n",
       "    for (let i = 0; i < js_urls.length; i++) {\n",
       "      const url = js_urls[i];\n",
       "      const element = document.createElement('script');\n",
       "      element.onload = on_load;\n",
       "      element.onerror = on_error.bind(null, url);\n",
       "      element.async = false;\n",
       "      element.src = url;\n",
       "      console.debug(\"Bokeh: injecting script tag for BokehJS library: \", url);\n",
       "      document.head.appendChild(element);\n",
       "    }\n",
       "  };\n",
       "\n",
       "  function inject_raw_css(css) {\n",
       "    const element = document.createElement(\"style\");\n",
       "    element.appendChild(document.createTextNode(css));\n",
       "    document.body.appendChild(element);\n",
       "  }\n",
       "\n",
       "  \n",
       "  const js_urls = [\"https://cdn.bokeh.org/bokeh/release/bokeh-2.4.2.min.js\", \"https://cdn.bokeh.org/bokeh/release/bokeh-gl-2.4.2.min.js\", \"https://cdn.bokeh.org/bokeh/release/bokeh-widgets-2.4.2.min.js\", \"https://cdn.bokeh.org/bokeh/release/bokeh-tables-2.4.2.min.js\", \"https://cdn.bokeh.org/bokeh/release/bokeh-mathjax-2.4.2.min.js\", \"https://unpkg.com/@holoviz/panel@0.12.6/dist/panel.min.js\"];\n",
       "  const css_urls = [];\n",
       "  \n",
       "\n",
       "  const inline_js = [\n",
       "    function(Bokeh) {\n",
       "      Bokeh.set_log_level(\"info\");\n",
       "    },\n",
       "    function(Bokeh) {\n",
       "    \n",
       "    \n",
       "    }\n",
       "  ];\n",
       "\n",
       "  function run_inline_js() {\n",
       "    \n",
       "    if (root.Bokeh !== undefined || force === true) {\n",
       "      \n",
       "    for (let i = 0; i < inline_js.length; i++) {\n",
       "      inline_js[i].call(root, root.Bokeh);\n",
       "    }\n",
       "    if (force === true) {\n",
       "        display_loaded();\n",
       "      }} else if (Date.now() < root._bokeh_timeout) {\n",
       "      setTimeout(run_inline_js, 100);\n",
       "    } else if (!root._bokeh_failed_load) {\n",
       "      console.log(\"Bokeh: BokehJS failed to load within specified timeout.\");\n",
       "      root._bokeh_failed_load = true;\n",
       "    } else if (force !== true) {\n",
       "      const cell = $(document.getElementById(\"1002\")).parents('.cell').data().cell;\n",
       "      cell.output_area.append_execute_result(NB_LOAD_WARNING)\n",
       "    }\n",
       "\n",
       "  }\n",
       "\n",
       "  if (root._bokeh_is_loading === 0) {\n",
       "    console.debug(\"Bokeh: BokehJS loaded, going straight to plotting\");\n",
       "    run_inline_js();\n",
       "  } else {\n",
       "    load_libs(css_urls, js_urls, function() {\n",
       "      console.debug(\"Bokeh: BokehJS plotting callback run at\", now());\n",
       "      run_inline_js();\n",
       "    });\n",
       "  }\n",
       "}(window));"
      ],
      "application/vnd.bokehjs_load.v0+json": "\n(function(root) {\n  function now() {\n    return new Date();\n  }\n\n  const force = true;\n\n  if (typeof root._bokeh_onload_callbacks === \"undefined\" || force === true) {\n    root._bokeh_onload_callbacks = [];\n    root._bokeh_is_loading = undefined;\n  }\n\n  \n\n  \n  if (typeof (root._bokeh_timeout) === \"undefined\" || force === true) {\n    root._bokeh_timeout = Date.now() + 5000;\n    root._bokeh_failed_load = false;\n  }\n\n  const NB_LOAD_WARNING = {'data': {'text/html':\n     \"<div style='background-color: #fdd'>\\n\"+\n     \"<p>\\n\"+\n     \"BokehJS does not appear to have successfully loaded. If loading BokehJS from CDN, this \\n\"+\n     \"may be due to a slow or bad network connection. Possible fixes:\\n\"+\n     \"</p>\\n\"+\n     \"<ul>\\n\"+\n     \"<li>re-rerun `output_notebook()` to attempt to load from CDN again, or</li>\\n\"+\n     \"<li>use INLINE resources instead, as so:</li>\\n\"+\n     \"</ul>\\n\"+\n     \"<code>\\n\"+\n     \"from bokeh.resources import INLINE\\n\"+\n     \"output_notebook(resources=INLINE)\\n\"+\n     \"</code>\\n\"+\n     \"</div>\"}};\n\n  function display_loaded() {\n    const el = document.getElementById(\"1002\");\n    if (el != null) {\n      el.textContent = \"BokehJS is loading...\";\n    }\n    if (root.Bokeh !== undefined) {\n      if (el != null) {\n        el.textContent = \"BokehJS \" + root.Bokeh.version + \" successfully loaded.\";\n      }\n    } else if (Date.now() < root._bokeh_timeout) {\n      setTimeout(display_loaded, 100)\n    }\n  }\n\n\n  function run_callbacks() {\n    try {\n      root._bokeh_onload_callbacks.forEach(function(callback) {\n        if (callback != null)\n          callback();\n      });\n    } finally {\n      delete root._bokeh_onload_callbacks\n    }\n    console.debug(\"Bokeh: all callbacks have finished\");\n  }\n\n  function load_libs(css_urls, js_urls, callback) {\n    if (css_urls == null) css_urls = [];\n    if (js_urls == null) js_urls = [];\n\n    root._bokeh_onload_callbacks.push(callback);\n    if (root._bokeh_is_loading > 0) {\n      console.debug(\"Bokeh: BokehJS is being loaded, scheduling callback at\", now());\n      return null;\n    }\n    if (js_urls == null || js_urls.length === 0) {\n      run_callbacks();\n      return null;\n    }\n    console.debug(\"Bokeh: BokehJS not loaded, scheduling load and callback at\", now());\n    root._bokeh_is_loading = css_urls.length + js_urls.length;\n\n    function on_load() {\n      root._bokeh_is_loading--;\n      if (root._bokeh_is_loading === 0) {\n        console.debug(\"Bokeh: all BokehJS libraries/stylesheets loaded\");\n        run_callbacks()\n      }\n    }\n\n    function on_error(url) {\n      console.error(\"failed to load \" + url);\n    }\n\n    for (let i = 0; i < css_urls.length; i++) {\n      const url = css_urls[i];\n      const element = document.createElement(\"link\");\n      element.onload = on_load;\n      element.onerror = on_error.bind(null, url);\n      element.rel = \"stylesheet\";\n      element.type = \"text/css\";\n      element.href = url;\n      console.debug(\"Bokeh: injecting link tag for BokehJS stylesheet: \", url);\n      document.body.appendChild(element);\n    }\n\n    for (let i = 0; i < js_urls.length; i++) {\n      const url = js_urls[i];\n      const element = document.createElement('script');\n      element.onload = on_load;\n      element.onerror = on_error.bind(null, url);\n      element.async = false;\n      element.src = url;\n      console.debug(\"Bokeh: injecting script tag for BokehJS library: \", url);\n      document.head.appendChild(element);\n    }\n  };\n\n  function inject_raw_css(css) {\n    const element = document.createElement(\"style\");\n    element.appendChild(document.createTextNode(css));\n    document.body.appendChild(element);\n  }\n\n  \n  const js_urls = [\"https://cdn.bokeh.org/bokeh/release/bokeh-2.4.2.min.js\", \"https://cdn.bokeh.org/bokeh/release/bokeh-gl-2.4.2.min.js\", \"https://cdn.bokeh.org/bokeh/release/bokeh-widgets-2.4.2.min.js\", \"https://cdn.bokeh.org/bokeh/release/bokeh-tables-2.4.2.min.js\", \"https://cdn.bokeh.org/bokeh/release/bokeh-mathjax-2.4.2.min.js\", \"https://unpkg.com/@holoviz/panel@0.12.6/dist/panel.min.js\"];\n  const css_urls = [];\n  \n\n  const inline_js = [\n    function(Bokeh) {\n      Bokeh.set_log_level(\"info\");\n    },\n    function(Bokeh) {\n    \n    \n    }\n  ];\n\n  function run_inline_js() {\n    \n    if (root.Bokeh !== undefined || force === true) {\n      \n    for (let i = 0; i < inline_js.length; i++) {\n      inline_js[i].call(root, root.Bokeh);\n    }\n    if (force === true) {\n        display_loaded();\n      }} else if (Date.now() < root._bokeh_timeout) {\n      setTimeout(run_inline_js, 100);\n    } else if (!root._bokeh_failed_load) {\n      console.log(\"Bokeh: BokehJS failed to load within specified timeout.\");\n      root._bokeh_failed_load = true;\n    } else if (force !== true) {\n      const cell = $(document.getElementById(\"1002\")).parents('.cell').data().cell;\n      cell.output_area.append_execute_result(NB_LOAD_WARNING)\n    }\n\n  }\n\n  if (root._bokeh_is_loading === 0) {\n    console.debug(\"Bokeh: BokehJS loaded, going straight to plotting\");\n    run_inline_js();\n  } else {\n    load_libs(css_urls, js_urls, function() {\n      console.debug(\"Bokeh: BokehJS plotting callback run at\", now());\n      run_inline_js();\n    });\n  }\n}(window));"
     },
     "metadata": {},
     "output_type": "display_data"
    }
   ],
   "source": [
    "umap.plot.output_notebook()"
   ]
  },
  {
   "cell_type": "code",
   "execution_count": 33,
   "id": "6611013f",
   "metadata": {},
   "outputs": [
    {
     "data": {
      "text/html": [
       "\n",
       "\n",
       "\n",
       "\n",
       "\n",
       "\n",
       "  <div class=\"bk-root\" id=\"c9331eae-f210-4a0a-adb4-495b66b0b686\" data-root-id=\"1004\"></div>\n"
      ]
     },
     "metadata": {},
     "output_type": "display_data"
    },
    {
     "data": {
      "application/javascript": [
       "(function(root) {\n",
       "  function embed_document(root) {\n",
       "    \n",
       "  const docs_json = {\"cc7a9e2b-2818-4ae8-9a22-9f75ae2af38a\":{\"defs\":[{\"extends\":null,\"module\":null,\"name\":\"ReactiveHTML1\",\"overrides\":[],\"properties\":[]},{\"extends\":null,\"module\":null,\"name\":\"FlexBox1\",\"overrides\":[],\"properties\":[{\"default\":\"flex-start\",\"kind\":null,\"name\":\"align_content\"},{\"default\":\"flex-start\",\"kind\":null,\"name\":\"align_items\"},{\"default\":\"row\",\"kind\":null,\"name\":\"flex_direction\"},{\"default\":\"wrap\",\"kind\":null,\"name\":\"flex_wrap\"},{\"default\":\"flex-start\",\"kind\":null,\"name\":\"justify_content\"}]},{\"extends\":null,\"module\":null,\"name\":\"TemplateActions1\",\"overrides\":[],\"properties\":[{\"default\":0,\"kind\":null,\"name\":\"open_modal\"},{\"default\":0,\"kind\":null,\"name\":\"close_modal\"}]},{\"extends\":null,\"module\":null,\"name\":\"MaterialTemplateActions1\",\"overrides\":[],\"properties\":[{\"default\":0,\"kind\":null,\"name\":\"open_modal\"},{\"default\":0,\"kind\":null,\"name\":\"close_modal\"}]}],\"roots\":{\"references\":[{\"attributes\":{\"background_fill_color\":\"black\",\"below\":[{\"id\":\"1013\"}],\"center\":[{\"id\":\"1016\"},{\"id\":\"1020\"}],\"height\":800,\"left\":[{\"id\":\"1017\"}],\"renderers\":[{\"id\":\"1041\"}],\"title\":{\"id\":\"1043\"},\"toolbar\":{\"id\":\"1029\"},\"width\":800,\"x_range\":{\"id\":\"1005\"},\"x_scale\":{\"id\":\"1009\"},\"y_range\":{\"id\":\"1007\"},\"y_scale\":{\"id\":\"1011\"}},\"id\":\"1004\",\"subtype\":\"Figure\",\"type\":\"Plot\"},{\"attributes\":{\"overlay\":{\"id\":\"1027\"}},\"id\":\"1023\",\"type\":\"BoxZoomTool\"},{\"attributes\":{},\"id\":\"1018\",\"type\":\"BasicTicker\"},{\"attributes\":{},\"id\":\"1024\",\"type\":\"SaveTool\"},{\"attributes\":{\"callback\":null,\"tooltips\":[[\"Proto\",\"@{Proto}\"],[\"Label\",\"@{Label}\"],[\"to_node\",\"@{to_node}\"],[\"from_node\",\"@{from_node}\"],[\"Node\",\"@{Node}\"]]},\"id\":\"1028\",\"type\":\"HoverTool\"},{\"attributes\":{},\"id\":\"1009\",\"type\":\"LinearScale\"},{\"attributes\":{},\"id\":\"1047\",\"type\":\"AllLabels\"},{\"attributes\":{},\"id\":\"1022\",\"type\":\"WheelZoomTool\"},{\"attributes\":{},\"id\":\"1025\",\"type\":\"ResetTool\"},{\"attributes\":{\"tools\":[{\"id\":\"1021\"},{\"id\":\"1022\"},{\"id\":\"1023\"},{\"id\":\"1024\"},{\"id\":\"1025\"},{\"id\":\"1026\"},{\"id\":\"1028\"}]},\"id\":\"1029\",\"type\":\"Toolbar\"},{\"attributes\":{\"fill_alpha\":{\"field\":\"alpha\"},\"fill_color\":{\"field\":\"color\"},\"hatch_alpha\":{\"field\":\"alpha\"},\"hatch_color\":{\"field\":\"color\"},\"line_alpha\":{\"field\":\"alpha\"},\"line_color\":{\"field\":\"color\"},\"size\":{\"value\":20},\"x\":{\"field\":\"x\"},\"y\":{\"field\":\"y\"}},\"id\":\"1038\",\"type\":\"Circle\"},{\"attributes\":{},\"id\":\"1026\",\"type\":\"HelpTool\"},{\"attributes\":{\"source\":{\"id\":\"1003\"}},\"id\":\"1042\",\"type\":\"CDSView\"},{\"attributes\":{},\"id\":\"1046\",\"type\":\"BasicTickFormatter\"},{\"attributes\":{},\"id\":\"1005\",\"type\":\"DataRange1d\"},{\"attributes\":{},\"id\":\"1021\",\"type\":\"PanTool\"},{\"attributes\":{\"axis\":{\"id\":\"1013\"},\"coordinates\":null,\"group\":null,\"ticker\":null,\"visible\":false},\"id\":\"1016\",\"type\":\"Grid\"},{\"attributes\":{},\"id\":\"1050\",\"type\":\"AllLabels\"},{\"attributes\":{},\"id\":\"1051\",\"type\":\"UnionRenderers\"},{\"attributes\":{\"axis\":{\"id\":\"1017\"},\"coordinates\":null,\"dimension\":1,\"group\":null,\"ticker\":null,\"visible\":false},\"id\":\"1020\",\"type\":\"Grid\"},{\"attributes\":{},\"id\":\"1052\",\"type\":\"Selection\"},{\"attributes\":{},\"id\":\"1014\",\"type\":\"BasicTicker\"},{\"attributes\":{\"bottom_units\":\"screen\",\"coordinates\":null,\"fill_alpha\":0.5,\"fill_color\":\"lightgrey\",\"group\":null,\"left_units\":\"screen\",\"level\":\"overlay\",\"line_alpha\":1.0,\"line_color\":\"black\",\"line_dash\":[4,4],\"line_width\":2,\"right_units\":\"screen\",\"syncable\":false,\"top_units\":\"screen\"},\"id\":\"1027\",\"type\":\"BoxAnnotation\"},{\"attributes\":{\"coordinates\":null,\"group\":null},\"id\":\"1043\",\"type\":\"Title\"},{\"attributes\":{},\"id\":\"1007\",\"type\":\"DataRange1d\"},{\"attributes\":{\"coordinates\":null,\"data_source\":{\"id\":\"1003\"},\"glyph\":{\"id\":\"1038\"},\"group\":null,\"hover_glyph\":null,\"muted_glyph\":{\"id\":\"1040\"},\"nonselection_glyph\":{\"id\":\"1039\"},\"view\":{\"id\":\"1042\"}},\"id\":\"1041\",\"type\":\"GlyphRenderer\"},{\"attributes\":{},\"id\":\"1049\",\"type\":\"BasicTickFormatter\"},{\"attributes\":{\"coordinates\":null,\"formatter\":{\"id\":\"1049\"},\"group\":null,\"major_label_policy\":{\"id\":\"1050\"},\"ticker\":{\"id\":\"1014\"},\"visible\":false},\"id\":\"1013\",\"type\":\"LinearAxis\"},{\"attributes\":{\"fill_alpha\":{\"value\":0.2},\"fill_color\":{\"field\":\"color\"},\"hatch_alpha\":{\"value\":0.2},\"hatch_color\":{\"field\":\"color\"},\"line_alpha\":{\"value\":0.2},\"line_color\":{\"field\":\"color\"},\"size\":{\"value\":20},\"x\":{\"field\":\"x\"},\"y\":{\"field\":\"y\"}},\"id\":\"1040\",\"type\":\"Circle\"},{\"attributes\":{\"coordinates\":null,\"formatter\":{\"id\":\"1046\"},\"group\":null,\"major_label_policy\":{\"id\":\"1047\"},\"ticker\":{\"id\":\"1018\"},\"visible\":false},\"id\":\"1017\",\"type\":\"LinearAxis\"},{\"attributes\":{\"data\":{\"Label\":[\"flow=Background-UDP-Established\",\"flow=Background-UDP-Established\",\"flow=To-Background-UDP-CVUT-DNS-Server\",\"flow=Background-TCP-Established\",\"flow=Background-UDP-Established\",\"flow=To-Background-UDP-CVUT-DNS-Server\",\"flow=Background-UDP-Established\",\"flow=Background-UDP-Established\",\"flow=To-Background-UDP-CVUT-DNS-Server\",\"flow=Background-UDP-Established\",\"flow=To-Background-UDP-CVUT-DNS-Server\",\"flow=Background-UDP-Established\",\"flow=To-Background-UDP-CVUT-DNS-Server\",\"flow=To-Background-UDP-CVUT-DNS-Server\",\"flow=Background-UDP-Established\",\"flow=Background-Established-cmpgw-CVUT\",\"flow=To-Background-UDP-CVUT-DNS-Server\",\"flow=Background-TCP-Established\",\"flow=From-Normal-V46-Grill\",\"flow=Background-Established-cmpgw-CVUT\",\"flow=To-Background-UDP-CVUT-DNS-Server\",\"flow=To-Background-UDP-CVUT-DNS-Server\",\"flow=Background-UDP-Established\",\"flow=To-Background-UDP-CVUT-DNS-Server\",\"flow=Background-UDP-Established\",\"flow=Background-UDP-Established\",\"flow=Background-Established-cmpgw-CVUT\",\"flow=To-Background-UDP-CVUT-DNS-Server\",\"flow=Background-UDP-Established\",\"flow=Background-google-analytics12\",\"flow=Background-UDP-Established\",\"flow=To-Background-CVUT-Proxy\",\"flow=To-Background-UDP-CVUT-DNS-Server\",\"flow=To-Background-UDP-CVUT-DNS-Server\",\"flow=To-Background-UDP-CVUT-DNS-Server\",\"flow=Background-UDP-Established\",\"flow=To-Background-UDP-CVUT-DNS-Server\",\"flow=From-Normal-V46-Jist\",\"flow=Background-TCP-Established\",\"flow=Background-TCP-Established\",\"flow=Background-Established-cmpgw-CVUT\",\"flow=Background-Established-cmpgw-CVUT\",\"flow=To-Background-UDP-CVUT-DNS-Server\",\"flow=Background-UDP-Established\",\"flow=Background\",\"flow=Background-TCP-Established\",\"flow=From-Normal-V46-Stribrek\",\"flow=Background-TCP-Established\",\"flow=Background-UDP-Established\",\"flow=To-Background-UDP-CVUT-DNS-Server\",\"flow=To-Background-UDP-CVUT-DNS-Server\",\"flow=To-Background-UDP-CVUT-DNS-Server\",\"flow=To-Background-UDP-CVUT-DNS-Server\",\"flow=Background-UDP-Established\",\"flow=To-Background-UDP-CVUT-DNS-Server\",\"flow=To-Background-UDP-CVUT-DNS-Server\",\"flow=Background-TCP-Established\",\"flow=To-Background-UDP-CVUT-DNS-Server\",\"flow=Background-UDP-Established\",\"flow=To-Background-UDP-CVUT-DNS-Server\",\"flow=To-Background-UDP-CVUT-DNS-Server\",\"flow=To-Background-UDP-CVUT-DNS-Server\",\"flow=Background-TCP-Established\",\"flow=To-Background-UDP-CVUT-DNS-Server\",\"flow=Background-UDP-Established\",\"flow=To-Background-UDP-CVUT-DNS-Server\",\"flow=Background\",\"flow=Background-Established-cmpgw-CVUT\",\"flow=To-Background-UDP-CVUT-DNS-Server\",\"flow=Background-TCP-Established\",\"flow=To-Background-UDP-CVUT-DNS-Server\",\"flow=Background-Established-cmpgw-CVUT\",\"flow=To-Background-UDP-CVUT-DNS-Server\",\"flow=Background-UDP-Established\",\"flow=Background-UDP-Established\",\"flow=To-Background-UDP-CVUT-DNS-Server\",\"flow=To-Background-UDP-CVUT-DNS-Server\",\"flow=To-Background-UDP-CVUT-DNS-Server\",\"flow=Background-UDP-Attempt\",\"flow=Background-UDP-Established\",\"flow=Background-UDP-Established\",\"flow=Background-UDP-Established\",\"flow=To-Background-UDP-CVUT-DNS-Server\",\"flow=Background-UDP-Established\",\"flow=To-Background-UDP-CVUT-DNS-Server\",\"flow=Background-UDP-Established\",\"flow=To-Background-UDP-CVUT-DNS-Server\",\"flow=To-Background-UDP-CVUT-DNS-Server\",\"flow=Background-UDP-Established\",\"flow=Background\",\"flow=Background-UDP-Established\",\"flow=Background-UDP-Established\",\"flow=Background-UDP-Established\",\"flow=To-Background-UDP-CVUT-DNS-Server\",\"flow=To-Background-UDP-CVUT-DNS-Server\",\"flow=To-Background-UDP-CVUT-DNS-Server\",\"flow=Background-UDP-Established\",\"flow=To-Background-UDP-CVUT-DNS-Server\",\"flow=Background-UDP-Established\",\"flow=To-Background-UDP-CVUT-DNS-Server\",\"flow=Background-UDP-Established\",\"flow=Background-TCP-Established\",\"flow=Background-TCP-Established\",\"flow=To-Background-UDP-CVUT-DNS-Server\",\"flow=To-Background-UDP-CVUT-DNS-Server\",\"flow=Background-UDP-Established\",\"flow=To-Background-UDP-CVUT-DNS-Server\",\"flow=To-Background-CVUT-Proxy\",\"flow=To-Background-UDP-CVUT-DNS-Server\",\"flow=Background\",\"flow=Background-UDP-Established\",\"flow=Background-UDP-Established\",\"flow=Background-TCP-Established\",\"flow=To-Background-UDP-CVUT-DNS-Server\",\"flow=To-Background-UDP-CVUT-DNS-Server\",\"flow=Background-TCP-Established\",\"flow=To-Background-UDP-CVUT-DNS-Server\",\"flow=To-Background-UDP-CVUT-DNS-Server\",\"flow=Background-TCP-Established\",\"flow=Background-UDP-Established\",\"flow=To-Background-UDP-CVUT-DNS-Server\",\"flow=Background-Established-cmpgw-CVUT\",\"flow=Background-UDP-Established\",\"flow=To-Background-UDP-CVUT-DNS-Server\",\"flow=To-Background-UDP-CVUT-DNS-Server\",\"flow=To-Background-UDP-CVUT-DNS-Server\",\"flow=Background-UDP-Established\",\"flow=Background-UDP-Established\",\"flow=To-Background-UDP-CVUT-DNS-Server\",\"flow=Background-UDP-Established\",\"flow=Background-UDP-Attempt\",\"flow=To-Background-UDP-CVUT-DNS-Server\",\"flow=Background-TCP-Established\",\"flow=To-Background-UDP-CVUT-DNS-Server\",\"flow=To-Background-UDP-CVUT-DNS-Server\",\"flow=Background\",\"flow=Background-UDP-Established\",\"flow=To-Background-UDP-CVUT-DNS-Server\",\"flow=Background-UDP-Established\",\"flow=To-Background-UDP-CVUT-DNS-Server\",\"flow=Background-TCP-Established\",\"flow=Background-UDP-Established\",\"flow=From-Normal-V46-Stribrek\",\"flow=To-Background-UDP-CVUT-DNS-Server\",\"flow=To-Background-UDP-CVUT-DNS-Server\",\"flow=Background-UDP-Attempt\",\"flow=Background-UDP-Established\",\"flow=Background-TCP-Attempt\",\"flow=To-Background-UDP-CVUT-DNS-Server\",\"flow=To-Background-UDP-CVUT-DNS-Server\",\"flow=Background-UDP-Established\",\"flow=To-Background-CVUT-Proxy\",\"flow=Background-UDP-Established\",\"flow=Background-TCP-Established\",\"flow=To-Background-UDP-CVUT-DNS-Server\",\"flow=To-Background-UDP-CVUT-DNS-Server\",\"flow=Background-TCP-Established\",\"flow=To-Background-UDP-CVUT-DNS-Server\",\"flow=To-Background-UDP-CVUT-DNS-Server\",\"flow=To-Background-UDP-CVUT-DNS-Server\",\"flow=Background-Attempt-cmpgw-CVUT\",\"flow=From-Normal-V46-Grill\",\"flow=To-Background-UDP-CVUT-DNS-Server\",\"flow=To-Background-UDP-CVUT-DNS-Server\",\"flow=To-Background-UDP-CVUT-DNS-Server\",\"flow=Background-UDP-Established\",\"flow=To-Background-UDP-CVUT-DNS-Server\",\"flow=From-Background-CVUT-Proxy\",\"flow=Background-TCP-Attempt\",\"flow=To-Background-UDP-CVUT-DNS-Server\",\"flow=To-Background-UDP-CVUT-DNS-Server\",\"flow=Background-UDP-Attempt\",\"flow=Background-Established-cmpgw-CVUT\",\"flow=To-Background-UDP-CVUT-DNS-Server\",\"flow=To-Background-UDP-CVUT-DNS-Server\",\"flow=To-Background-UDP-CVUT-DNS-Server\",\"flow=To-Background-UDP-CVUT-DNS-Server\",\"flow=Background-UDP-Established\",\"flow=Background-UDP-Established\",\"flow=Background-UDP-Established\",\"flow=To-Background-UDP-CVUT-DNS-Server\",\"flow=Background-TCP-Established\",\"flow=To-Background-UDP-CVUT-DNS-Server\",\"flow=Background-TCP-Attempt\",\"flow=Background-TCP-Established\",\"flow=Background-UDP-Established\",\"flow=To-Background-CVUT-WebServer\",\"flow=Background-UDP-Attempt\",\"flow=Background-TCP-Established\",\"flow=To-Background-UDP-CVUT-DNS-Server\",\"flow=To-Background-UDP-CVUT-DNS-Server\",\"flow=From-Normal-V46-Jist\",\"flow=To-Background-UDP-CVUT-DNS-Server\",\"flow=To-Background-UDP-CVUT-DNS-Server\",\"flow=To-Background-UDP-CVUT-DNS-Server\",\"flow=Background-TCP-Attempt\",\"flow=Background-TCP-Established\",\"flow=To-Background-UDP-CVUT-DNS-Server\",\"flow=To-Background-UDP-CVUT-DNS-Server\",\"flow=To-Background-UDP-CVUT-DNS-Server\",\"flow=Background-UDP-Attempt\",\"flow=Background\",\"flow=From-Normal-V46-Grill\",\"flow=Background-Established-cmpgw-CVUT\",\"flow=To-Background-UDP-CVUT-DNS-Server\",\"flow=Background-Established-cmpgw-CVUT\",\"flow=To-Background-UDP-CVUT-DNS-Server\",\"flow=To-Background-UDP-CVUT-DNS-Server\",\"flow=Background-TCP-Established\",\"flow=Background-TCP-Established\",\"flow=Background-TCP-Established\",\"flow=From-Normal-V46-Stribrek\",\"flow=To-Background-UDP-CVUT-DNS-Server\",\"flow=Background-UDP-Established\",\"flow=Background-UDP-Established\",\"flow=Background-UDP-Established\",\"flow=To-Background-UDP-CVUT-DNS-Server\",\"flow=Background-Established-cmpgw-CVUT\",\"flow=Background-UDP-Established\",\"flow=To-Background-UDP-CVUT-DNS-Server\",\"flow=To-Background-UDP-CVUT-DNS-Server\",\"flow=Background-UDP-Established\",\"flow=To-Background-UDP-CVUT-DNS-Server\",\"flow=To-Background-UDP-CVUT-DNS-Server\",\"flow=From-Normal-V46-Jist\",\"flow=Background-UDP-Established\",\"flow=To-Background-UDP-CVUT-DNS-Server\",\"flow=Background-UDP-Established\",\"flow=Background-UDP-Established\",\"flow=Background-UDP-Established\",\"flow=To-Background-UDP-CVUT-DNS-Server\",\"flow=To-Background-UDP-CVUT-DNS-Server\",\"flow=Background-TCP-Established\",\"flow=Background-Attempt-cmpgw-CVUT\",\"flow=Background-UDP-Established\",\"flow=Background-UDP-Established\",\"flow=Background-TCP-Established\",\"flow=To-Background-UDP-CVUT-DNS-Server\",\"flow=To-Background-UDP-CVUT-DNS-Server\",\"flow=To-Background-UDP-CVUT-DNS-Server\",\"flow=To-Background-UDP-CVUT-DNS-Server\",\"flow=To-Background-UDP-CVUT-DNS-Server\",\"flow=From-Normal-V46-Grill\",\"flow=Background-TCP-Established\",\"flow=To-Background-UDP-CVUT-DNS-Server\",\"flow=To-Background-UDP-CVUT-DNS-Server\",\"flow=To-Background-UDP-CVUT-DNS-Server\",\"flow=To-Background-UDP-CVUT-DNS-Server\",\"flow=Background-TCP-Established\",\"flow=To-Background-UDP-CVUT-DNS-Server\",\"flow=To-Background-UDP-CVUT-DNS-Server\",\"flow=Background-TCP-Established\",\"flow=To-Background-UDP-CVUT-DNS-Server\",\"flow=To-Background-UDP-CVUT-DNS-Server\",\"flow=Background-UDP-Established\",\"flow=To-Background-UDP-CVUT-DNS-Server\",\"flow=To-Background-UDP-CVUT-DNS-Server\",\"flow=Background-UDP-Established\",\"flow=To-Background-UDP-CVUT-DNS-Server\",\"flow=Background-TCP-Established\",\"flow=To-Background-UDP-CVUT-DNS-Server\",\"flow=Background-TCP-Established\",\"flow=To-Background-UDP-CVUT-DNS-Server\",\"flow=To-Background-UDP-CVUT-DNS-Server\",\"flow=To-Background-UDP-CVUT-DNS-Server\",\"flow=To-Background-UDP-CVUT-DNS-Server\",\"flow=Background-TCP-Established\",\"flow=To-Background-UDP-CVUT-DNS-Server\",\"flow=To-Background-UDP-CVUT-DNS-Server\",\"flow=To-Background-UDP-CVUT-DNS-Server\",\"flow=To-Background-UDP-CVUT-DNS-Server\",\"flow=To-Background-UDP-CVUT-DNS-Server\",\"flow=To-Background-UDP-CVUT-DNS-Server\",\"flow=Background-UDP-Established\",\"flow=Background-UDP-Established\",\"flow=Background-UDP-Established\",\"flow=Background-UDP-Established\",\"flow=Background-UDP-Established\",\"flow=Background-TCP-Established\",\"flow=Background-TCP-Attempt\",\"flow=To-Background-UDP-CVUT-DNS-Server\",\"flow=To-Background-UDP-CVUT-DNS-Server\",\"flow=To-Background-UDP-CVUT-DNS-Server\",\"flow=To-Background-UDP-CVUT-DNS-Server\",\"flow=Background-UDP-Established\",\"flow=To-Background-UDP-CVUT-DNS-Server\",\"flow=Background-UDP-Established\",\"flow=To-Background-UDP-CVUT-DNS-Server\",\"flow=Background-UDP-Established\",\"flow=To-Background-UDP-CVUT-DNS-Server\",\"flow=Background-UDP-Established\",\"flow=From-Normal-V46-Stribrek\",\"flow=To-Background-UDP-CVUT-DNS-Server\",\"flow=To-Background-UDP-CVUT-DNS-Server\",\"flow=Background-UDP-Attempt\",\"flow=To-Background-CVUT-Proxy\",\"flow=Background\",\"flow=Background-TCP-Attempt\",\"flow=To-Background-UDP-CVUT-DNS-Server\",\"flow=To-Background-UDP-CVUT-DNS-Server\",\"flow=To-Background-UDP-CVUT-DNS-Server\",\"flow=From-Botnet-V46-TCP-Attempt\",\"flow=Background-TCP-Established\",\"flow=Background-UDP-Established\",\"flow=From-Botnet-V46-TCP-Not-Encrypted-SMTP-Private-Proxy-1\",\"flow=Background-TCP-Established\",\"flow=Background-UDP-Established\",\"flow=Background-UDP-Established\",\"flow=Background-Established-cmpgw-CVUT\",\"flow=Background-TCP-Established\",\"flow=Background-UDP-Established\",\"flow=Background-TCP-Established\",\"flow=To-Background-UDP-CVUT-DNS-Server\",\"flow=Background-TCP-Established\",\"flow=To-Background-UDP-CVUT-DNS-Server\",\"flow=Background-UDP-Established\",\"flow=Background-TCP-Established\",\"flow=Background-UDP-Established\",\"flow=To-Background-UDP-CVUT-DNS-Server\",\"flow=Background-UDP-Established\",\"flow=To-Background-UDP-CVUT-DNS-Server\",\"flow=Background-UDP-Established\",\"flow=To-Background-UDP-CVUT-DNS-Server\",\"flow=To-Background-UDP-CVUT-DNS-Server\",\"flow=Background-UDP-Established\",\"flow=To-Background-UDP-CVUT-DNS-Server\",\"flow=To-Background-UDP-CVUT-DNS-Server\",\"flow=Background-UDP-Established\",\"flow=Background-TCP-Established\",\"flow=Background-UDP-Established\",\"flow=To-Background-UDP-CVUT-DNS-Server\",\"flow=To-Background-UDP-CVUT-DNS-Server\",\"flow=Background-UDP-Established\",\"flow=Background-TCP-Established\",\"flow=To-Background-UDP-CVUT-DNS-Server\",\"flow=Background-UDP-Established\",\"flow=Background-UDP-Established\",\"flow=To-Background-UDP-CVUT-DNS-Server\",\"flow=Background-UDP-Established\",\"flow=To-Background-UDP-CVUT-DNS-Server\",\"flow=To-Background-UDP-CVUT-DNS-Server\",\"flow=To-Background-UDP-CVUT-DNS-Server\",\"flow=To-Background-UDP-CVUT-DNS-Server\",\"flow=Background-UDP-Established\",\"flow=Background-TCP-Established\",\"flow=To-Background-UDP-CVUT-DNS-Server\",\"flow=Background\",\"flow=Background-TCP-Established\",\"flow=Background-Established-cmpgw-CVUT\",\"flow=Background-TCP-Established\",\"flow=Background-UDP-Established\",\"flow=To-Background-UDP-CVUT-DNS-Server\",\"flow=Background-UDP-Established\",\"flow=From-Normal-V46-Grill\",\"flow=To-Background-UDP-CVUT-DNS-Server\",\"flow=Background-UDP-Established\",\"flow=Background-UDP-Established\",\"flow=Background-UDP-Established\",\"flow=Background\",\"flow=Background-UDP-Established\",\"flow=Background-TCP-Established\",\"flow=To-Background-UDP-CVUT-DNS-Server\",\"flow=Background-UDP-Established\",\"flow=To-Background-UDP-CVUT-DNS-Server\",\"flow=To-Background-UDP-CVUT-DNS-Server\",\"flow=Background-UDP-Established\",\"flow=To-Background-UDP-CVUT-DNS-Server\",\"flow=Background-TCP-Attempt\",\"flow=To-Background-UDP-CVUT-DNS-Server\",\"flow=From-Normal-V46-Grill\",\"flow=Background-TCP-Established\",\"flow=Background\",\"flow=Background-UDP-Established\",\"flow=Background-UDP-Established\",\"flow=Background-TCP-Established\",\"flow=To-Background-UDP-CVUT-DNS-Server\",\"flow=Background\",\"flow=To-Background-UDP-CVUT-DNS-Server\",\"flow=Background-UDP-Established\",\"flow=Background-UDP-Attempt\",\"flow=To-Background-UDP-CVUT-DNS-Server\",\"flow=To-Background-UDP-CVUT-DNS-Server\",\"flow=Background-Established-cmpgw-CVUT\",\"flow=To-Background-UDP-CVUT-DNS-Server\",\"flow=To-Background-UDP-CVUT-DNS-Server\",\"flow=Background-UDP-Established\",\"flow=To-Background-UDP-CVUT-DNS-Server\",\"flow=Background-TCP-Established\",\"flow=To-Background-UDP-CVUT-DNS-Server\",\"flow=Background-UDP-Established\",\"flow=To-Background-UDP-CVUT-DNS-Server\",\"flow=Background-UDP-Established\",\"flow=To-Background-UDP-CVUT-DNS-Server\",\"flow=From-Normal-V46-Stribrek\",\"flow=To-Background-UDP-CVUT-DNS-Server\",\"flow=To-Background-UDP-CVUT-DNS-Server\",\"flow=Background-UDP-Established\",\"flow=To-Background-UDP-CVUT-DNS-Server\",\"flow=To-Background-UDP-CVUT-DNS-Server\",\"flow=To-Background-UDP-CVUT-DNS-Server\",\"flow=Background-TCP-Established\",\"flow=To-Background-UDP-CVUT-DNS-Server\",\"flow=Background-UDP-Established\",\"flow=Background-UDP-Established\",\"flow=Background-UDP-Established\",\"flow=To-Background-UDP-CVUT-DNS-Server\",\"flow=Background\",\"flow=To-Background-UDP-CVUT-DNS-Server\",\"flow=To-Background-UDP-CVUT-DNS-Server\",\"flow=Background\",\"flow=Background-Established-cmpgw-CVUT\",\"flow=To-Background-UDP-CVUT-DNS-Server\",\"flow=To-Background-UDP-CVUT-DNS-Server\",\"flow=Background-TCP-Attempt\",\"flow=To-Background-UDP-CVUT-DNS-Server\",\"flow=Background-UDP-Established\",\"flow=Background-UDP-Established\",\"flow=Background-UDP-Established\",\"flow=To-Background-UDP-CVUT-DNS-Server\",\"flow=Background-TCP-Established\",\"flow=Background\",\"flow=Background-UDP-Established\",\"flow=To-Background-UDP-CVUT-DNS-Server\",\"flow=To-Background-UDP-CVUT-DNS-Server\",\"flow=To-Background-UDP-CVUT-DNS-Server\",\"flow=Background-UDP-Attempt\",\"flow=Background-Established-cmpgw-CVUT\",\"flow=To-Background-UDP-CVUT-DNS-Server\",\"flow=To-Background-UDP-CVUT-DNS-Server\",\"flow=Background-UDP-Established\",\"flow=To-Background-UDP-CVUT-DNS-Server\",\"flow=Background-UDP-Established\",\"flow=Background-UDP-Established\",\"flow=To-Background-UDP-CVUT-DNS-Server\",\"flow=To-Background-UDP-CVUT-DNS-Server\",\"flow=To-Background-UDP-CVUT-DNS-Server\",\"flow=Background\",\"flow=Background-UDP-Established\",\"flow=Background-UDP-Established\",\"flow=To-Background-UDP-CVUT-DNS-Server\",\"flow=To-Background-UDP-CVUT-DNS-Server\",\"flow=To-Background-UDP-CVUT-DNS-Server\",\"flow=Background-UDP-Established\",\"flow=Background-UDP-Established\",\"flow=Background-UDP-Established\",\"flow=Background-UDP-Established\",\"flow=To-Background-UDP-CVUT-DNS-Server\",\"flow=To-Background-UDP-CVUT-DNS-Server\",\"flow=Background-UDP-Established\",\"flow=Background-TCP-Established\",\"flow=To-Background-UDP-CVUT-DNS-Server\",\"flow=Background-UDP-Established\",\"flow=Background-TCP-Established\",\"flow=Background-TCP-Established\",\"flow=Background-TCP-Established\",\"flow=From-Normal-V46-Stribrek\",\"flow=Background-UDP-Established\",\"flow=Background-UDP-Established\",\"flow=To-Background-UDP-CVUT-DNS-Server\",\"flow=Background-UDP-Attempt\",\"flow=To-Background-UDP-CVUT-DNS-Server\",\"flow=To-Background-UDP-CVUT-DNS-Server\",\"flow=Background-UDP-Established\",\"flow=Background-UDP-Established\",\"flow=To-Background-UDP-CVUT-DNS-Server\",\"flow=To-Background-UDP-CVUT-DNS-Server\",\"flow=Background-UDP-Established\",\"flow=Background-TCP-Established\",\"flow=To-Background-UDP-CVUT-DNS-Server\",\"flow=Background-Established-cmpgw-CVUT\",\"flow=Background-UDP-Established\",\"flow=Background-Established-cmpgw-CVUT\",\"flow=To-Background-UDP-CVUT-DNS-Server\",\"flow=To-Background-UDP-CVUT-DNS-Server\",\"flow=Background-UDP-Established\",\"flow=To-Background-UDP-CVUT-DNS-Server\",\"flow=Background-UDP-Established\",\"flow=From-Normal-V46-Grill\",\"flow=Background-UDP-Established\",\"flow=Background-TCP-Established\",\"flow=From-Normal-V46-Grill\",\"flow=To-Background-UDP-CVUT-DNS-Server\",\"flow=Background-UDP-Established\",\"flow=Background-UDP-Established\",\"flow=To-Background-UDP-CVUT-DNS-Server\",\"flow=Background-UDP-Established\",\"flow=Background-UDP-Established\",\"flow=To-Background-UDP-CVUT-DNS-Server\",\"flow=Background-UDP-Established\",\"flow=Background-TCP-Established\",\"flow=Background-UDP-Established\",\"flow=Background-TCP-Established\",\"flow=To-Background-UDP-CVUT-DNS-Server\",\"flow=To-Background-CVUT-Proxy\",\"flow=Background-TCP-Established\",\"flow=Background-UDP-Established\",\"flow=Background-UDP-Attempt\",\"flow=Background-UDP-Established\",\"flow=To-Background-UDP-CVUT-DNS-Server\",\"flow=Background-TCP-Established\",\"flow=Background-Established-cmpgw-CVUT\",\"flow=Background-TCP-Attempt\",\"flow=Background-TCP-Established\",\"flow=Background-Established-cmpgw-CVUT\",\"flow=Background\",\"flow=Background-TCP-Attempt\",\"flow=To-Background-UDP-CVUT-DNS-Server\",\"flow=Background-Established-cmpgw-CVUT\",\"flow=To-Background-UDP-CVUT-DNS-Server\",\"flow=Background-UDP-Attempt\",\"flow=Background-UDP-Established\",\"flow=To-Background-UDP-CVUT-DNS-Server\",\"flow=Background-UDP-Established\",\"flow=To-Background-UDP-CVUT-DNS-Server\",\"flow=Background-TCP-Established\",\"flow=To-Background-UDP-CVUT-DNS-Server\",\"flow=Background-UDP-Established\",\"flow=Background-UDP-Established\",\"flow=Background-UDP-Established\",\"flow=From-Normal-V46-Grill\",\"flow=Background-UDP-Established\",\"flow=To-Background-UDP-CVUT-DNS-Server\",\"flow=From-Normal-V46-Grill\",\"flow=Background-UDP-Established\",\"flow=Background-UDP-Established\",\"flow=Background-UDP-Established\",\"flow=Background-TCP-Established\",\"flow=Background-UDP-Established\",\"flow=Background-Established-cmpgw-CVUT\",\"flow=To-Background-UDP-CVUT-DNS-Server\",\"flow=Background\",\"flow=Background-UDP-Established\",\"flow=Background-TCP-Established\",\"flow=Background-UDP-Established\",\"flow=Background-UDP-Attempt\",\"flow=To-Background-UDP-CVUT-DNS-Server\",\"flow=To-Background-UDP-CVUT-DNS-Server\",\"flow=Background-TCP-Established\",\"flow=Background-UDP-Established\",\"flow=To-Background-UDP-CVUT-DNS-Server\",\"flow=To-Background-UDP-CVUT-DNS-Server\",\"flow=To-Background-UDP-CVUT-DNS-Server\",\"flow=Background-TCP-Established\",\"flow=Background-UDP-Established\",\"flow=Background-UDP-Established\",\"flow=Background-TCP-Attempt\",\"flow=Background-Established-cmpgw-CVUT\",\"flow=To-Background-UDP-CVUT-DNS-Server\",\"flow=To-Background-UDP-CVUT-DNS-Server\",\"flow=To-Background-UDP-CVUT-DNS-Server\",\"flow=Background-UDP-NTP-Established-1\",\"flow=From-Normal-V46-Stribrek\",\"flow=To-Background-UDP-CVUT-DNS-Server\",\"flow=Background-Established-cmpgw-CVUT\",\"flow=To-Background-UDP-CVUT-DNS-Server\",\"flow=Background-TCP-Established\",\"flow=To-Background-UDP-CVUT-DNS-Server\",\"flow=Background-UDP-Established\",\"flow=To-Background-UDP-CVUT-DNS-Server\",\"flow=To-Background-UDP-CVUT-DNS-Server\",\"flow=Background-Established-cmpgw-CVUT\",\"flow=From-Botnet-V46-TCP-Attempt\",\"flow=Background-UDP-Established\",\"flow=Background-UDP-Established\",\"flow=To-Background-UDP-CVUT-DNS-Server\",\"flow=Background-UDP-Established\",\"flow=From-Normal-V46-Grill\",\"flow=To-Background-UDP-CVUT-DNS-Server\",\"flow=To-Background-UDP-CVUT-DNS-Server\",\"flow=To-Background-UDP-CVUT-DNS-Server\",\"flow=To-Background-UDP-CVUT-DNS-Server\",\"flow=To-Background-UDP-CVUT-DNS-Server\",\"flow=To-Background-UDP-CVUT-DNS-Server\",\"flow=To-Background-UDP-CVUT-DNS-Server\",\"flow=From-Normal-V46-Jist\",\"flow=Background-TCP-Established\",\"flow=Background-UDP-Established\",\"flow=Background-UDP-Attempt\",\"flow=Background-TCP-Established\",\"flow=To-Background-UDP-CVUT-DNS-Server\",\"flow=To-Background-UDP-CVUT-DNS-Server\",\"flow=Background-UDP-Established\",\"flow=To-Background-UDP-CVUT-DNS-Server\",\"flow=Background-UDP-Attempt\",\"flow=Background-UDP-Established\",\"flow=Background-Established-cmpgw-CVUT\",\"flow=Background-Established-cmpgw-CVUT\",\"flow=To-Background-UDP-CVUT-DNS-Server\",\"flow=Background-UDP-Established\",\"flow=To-Background-UDP-CVUT-DNS-Server\",\"flow=To-Background-UDP-CVUT-DNS-Server\",\"flow=Background-Established-cmpgw-CVUT\",\"flow=Background-Established-cmpgw-CVUT\",\"flow=To-Background-UDP-CVUT-DNS-Server\",\"flow=Background-UDP-Established\",\"flow=From-Normal-V46-Stribrek\",\"flow=Background-UDP-Established\",\"flow=Background-UDP-Established\",\"flow=Background-Established-cmpgw-CVUT\",\"flow=Background-TCP-Established\",\"flow=To-Background-UDP-CVUT-DNS-Server\",\"flow=To-Background-UDP-CVUT-DNS-Server\",\"flow=Background-UDP-Established\",\"flow=Background-UDP-Established\",\"flow=Background-UDP-Established\",\"flow=Background-UDP-Established\",\"flow=From-Normal-V46-Grill\",\"flow=Background-UDP-Established\",\"flow=Background-UDP-Established\",\"flow=Background-UDP-Established\",\"flow=To-Background-UDP-CVUT-DNS-Server\",\"flow=Background\",\"flow=To-Background-UDP-CVUT-DNS-Server\",\"flow=To-Background-UDP-CVUT-DNS-Server\",\"flow=From-Normal-V46-Grill\",\"flow=Background-UDP-Attempt\",\"flow=To-Background-UDP-CVUT-DNS-Server\",\"flow=Background-UDP-Established\",\"flow=To-Background-UDP-CVUT-DNS-Server\",\"flow=Background-TCP-Established\",\"flow=To-Background-UDP-CVUT-DNS-Server\",\"flow=Background-UDP-Established\",\"flow=To-Background-UDP-CVUT-DNS-Server\",\"flow=To-Background-UDP-CVUT-DNS-Server\",\"flow=Background-UDP-Established\",\"flow=Background-UDP-Established\",\"flow=To-Background-UDP-CVUT-DNS-Server\",\"flow=To-Background-UDP-CVUT-DNS-Server\",\"flow=Background-TCP-Established\",\"flow=Background-UDP-NTP-Established-1\",\"flow=Background-UDP-Attempt\",\"flow=Background\",\"flow=To-Background-UDP-CVUT-DNS-Server\",\"flow=To-Background-UDP-CVUT-DNS-Server\",\"flow=Background-Established-cmpgw-CVUT\",\"flow=To-Background-UDP-CVUT-DNS-Server\",\"flow=Background-UDP-Established\",\"flow=Background-UDP-Established\",\"flow=Background-TCP-Established\",\"flow=Background-TCP-Established\",\"flow=To-Background-UDP-CVUT-DNS-Server\",\"flow=Background-UDP-Established\",\"flow=To-Background-UDP-CVUT-DNS-Server\",\"flow=Background-UDP-Established\",\"flow=Background-UDP-Established\",\"flow=To-Background-UDP-CVUT-DNS-Server\",\"flow=Background-Established-cmpgw-CVUT\",\"flow=Background-UDP-Established\",\"flow=To-Background-UDP-CVUT-DNS-Server\",\"flow=To-Background-UDP-CVUT-DNS-Server\",\"flow=Background-Established-cmpgw-CVUT\",\"flow=To-Background-UDP-CVUT-DNS-Server\",\"flow=To-Background-UDP-CVUT-DNS-Server\",\"flow=Background-TCP-Established\",\"flow=Background-UDP-Established\",\"flow=Background-UDP-Established\",\"flow=To-Background-UDP-CVUT-DNS-Server\",\"flow=To-Background-UDP-CVUT-DNS-Server\",\"flow=To-Background-UDP-CVUT-DNS-Server\",\"flow=To-Background-UDP-CVUT-DNS-Server\",\"flow=Background-TCP-Established\",\"flow=To-Background-UDP-CVUT-DNS-Server\",\"flow=Background-UDP-Established\",\"flow=Background-TCP-Established\",\"flow=To-Background-UDP-CVUT-DNS-Server\",\"flow=Background-TCP-Established\",\"flow=Background-UDP-Established\",\"flow=To-Background-UDP-CVUT-DNS-Server\",\"flow=From-Normal-V46-Grill\",\"flow=Background-UDP-Established\",\"flow=To-Background-UDP-CVUT-DNS-Server\",\"flow=Background-TCP-Established\",\"flow=Background-UDP-Established\",\"flow=To-Background-UDP-CVUT-DNS-Server\",\"flow=To-Background-UDP-CVUT-DNS-Server\",\"flow=To-Background-UDP-CVUT-DNS-Server\",\"flow=Background-UDP-Established\",\"flow=Background-UDP-Established\",\"flow=Background-UDP-Established\",\"flow=From-Botnet-V46-TCP-Established-HTTP-To-Microsoft-Live-1\",\"flow=To-Background-UDP-CVUT-DNS-Server\",\"flow=Background-UDP-Established\",\"flow=To-Background-UDP-CVUT-DNS-Server\",\"flow=Background-Established-cmpgw-CVUT\",\"flow=Background-Established-cmpgw-CVUT\",\"flow=Background-UDP-Established\",\"flow=To-Background-UDP-CVUT-DNS-Server\",\"flow=Background-UDP-Attempt\",\"flow=Background-TCP-Established\",\"flow=To-Background-UDP-CVUT-DNS-Server\",\"flow=To-Background-UDP-CVUT-DNS-Server\",\"flow=To-Background-UDP-CVUT-DNS-Server\",\"flow=To-Background-UDP-CVUT-DNS-Server\",\"flow=From-Normal-V46-Grill\",\"flow=To-Background-UDP-CVUT-DNS-Server\",\"flow=Background-UDP-Established\",\"flow=Background-UDP-Established\",\"flow=Background-TCP-Established\",\"flow=Background-UDP-Established\",\"flow=To-Background-UDP-CVUT-DNS-Server\",\"flow=To-Background-UDP-CVUT-DNS-Server\",\"flow=Background-TCP-Established\",\"flow=Background-Established-cmpgw-CVUT\",\"flow=To-Background-UDP-CVUT-DNS-Server\",\"flow=Background-UDP-Established\",\"flow=Background-UDP-Established\",\"flow=Background-UDP-Established\",\"flow=Background-TCP-Established\",\"flow=Background-google-analytics15\",\"flow=Background-UDP-Established\",\"flow=From-Normal-V46-Stribrek\",\"flow=To-Background-UDP-CVUT-DNS-Server\",\"flow=Background-UDP-Established\",\"flow=To-Background-UDP-CVUT-DNS-Server\",\"flow=From-Botnet-V46-TCP-Established-SPAM\",\"flow=Background-UDP-Established\",\"flow=Background-UDP-Established\",\"flow=Background\",\"flow=Background-UDP-Established\",\"flow=Background-UDP-Established\",\"flow=Background-UDP-Established\",\"flow=Background-UDP-Established\",\"flow=Background-UDP-Established\",\"flow=To-Background-UDP-CVUT-DNS-Server\",\"flow=Background-Established-cmpgw-CVUT\",\"flow=Background-TCP-Established\",\"flow=To-Background-UDP-CVUT-DNS-Server\",\"flow=Background-UDP-Established\",\"flow=To-Background-UDP-CVUT-DNS-Server\",\"flow=Background-Established-cmpgw-CVUT\",\"flow=From-Normal-V46-Stribrek\",\"flow=To-Background-UDP-CVUT-DNS-Server\",\"flow=Background-UDP-Established\",\"flow=Background-UDP-Established\",\"flow=Background-TCP-Established\",\"flow=To-Background-UDP-CVUT-DNS-Server\",\"flow=Background-UDP-Established\",\"flow=Background-Established-cmpgw-CVUT\",\"flow=Background-UDP-Established\",\"flow=Background-UDP-Established\",\"flow=Background-UDP-Established\",\"flow=Background-TCP-Established\",\"flow=To-Background-UDP-CVUT-DNS-Server\",\"flow=To-Background-UDP-CVUT-DNS-Server\",\"flow=From-Normal-V46-Jist\",\"flow=Background-UDP-Established\",\"flow=Background\",\"flow=To-Background-UDP-CVUT-DNS-Server\",\"flow=To-Background-UDP-CVUT-DNS-Server\",\"flow=Background-TCP-Established\",\"flow=To-Background-UDP-CVUT-DNS-Server\",\"flow=Background-google-analytics4\",\"flow=Background-TCP-Established\",\"flow=Background-UDP-Established\",\"flow=To-Background-UDP-CVUT-DNS-Server\",\"flow=To-Background-UDP-CVUT-DNS-Server\",\"flow=Background-UDP-Established\",\"flow=Background-UDP-Established\",\"flow=To-Background-UDP-CVUT-DNS-Server\",\"flow=To-Background-UDP-CVUT-DNS-Server\",\"flow=Background-UDP-Established\",\"flow=Background-UDP-Established\",\"flow=Background-TCP-Established\",\"flow=Background-Established-cmpgw-CVUT\",\"flow=To-Background-UDP-CVUT-DNS-Server\",\"flow=Background-UDP-Established\",\"flow=Background-UDP-Established\",\"flow=Background-TCP-Established\",\"flow=Background-TCP-Established\",\"flow=Background-UDP-Established\",\"flow=Background-UDP-Established\",\"flow=To-Background-UDP-CVUT-DNS-Server\",\"flow=Background-UDP-Established\",\"flow=To-Background-UDP-CVUT-DNS-Server\",\"flow=Background-UDP-Established\",\"flow=To-Background-UDP-CVUT-DNS-Server\",\"flow=To-Background-UDP-CVUT-DNS-Server\",\"flow=To-Background-UDP-CVUT-DNS-Server\",\"flow=Background-UDP-Established\",\"flow=Background-UDP-Established\",\"flow=To-Background-UDP-CVUT-DNS-Server\",\"flow=To-Background-UDP-CVUT-DNS-Server\",\"flow=To-Background-UDP-CVUT-DNS-Server\",\"flow=To-Background-UDP-CVUT-DNS-Server\",\"flow=To-Background-UDP-CVUT-DNS-Server\",\"flow=Background-UDP-Established\",\"flow=Background-UDP-Established\",\"flow=Background\",\"flow=To-Background-UDP-CVUT-DNS-Server\",\"flow=From-Botnet-V46-TCP-Attempt\",\"flow=To-Background-UDP-CVUT-DNS-Server\",\"flow=Background-UDP-Established\",\"flow=Background-TCP-Established\",\"flow=To-Background-UDP-CVUT-DNS-Server\",\"flow=To-Background-UDP-CVUT-DNS-Server\",\"flow=Background-TCP-Established\",\"flow=To-Background-UDP-CVUT-DNS-Server\",\"flow=To-Background-UDP-CVUT-DNS-Server\",\"flow=Background-UDP-Established\",\"flow=Background-UDP-Established\",\"flow=To-Background-UDP-CVUT-DNS-Server\",\"flow=Background-UDP-Established\",\"flow=To-Background-UDP-CVUT-DNS-Server\",\"flow=To-Background-UDP-CVUT-DNS-Server\",\"flow=Background-UDP-Established\",\"flow=Background-UDP-Established\",\"flow=Background-Established-cmpgw-CVUT\",\"flow=Background-UDP-Established\",\"flow=To-Background-CVUT-Proxy\",\"flow=Background-UDP-Established\",\"flow=Background-TCP-Established\",\"flow=Background-UDP-Established\",\"flow=Background-UDP-Established\",\"flow=Background-TCP-Attempt\",\"flow=Background-UDP-Established\",\"flow=To-Background-UDP-CVUT-DNS-Server\",\"flow=Background-UDP-Established\",\"flow=To-Background-UDP-CVUT-DNS-Server\",\"flow=Background-UDP-Established\",\"flow=Background-UDP-Established\",\"flow=To-Background-UDP-CVUT-DNS-Server\",\"flow=To-Background-UDP-CVUT-DNS-Server\",\"flow=To-Background-UDP-CVUT-DNS-Server\",\"flow=To-Background-UDP-CVUT-DNS-Server\",\"flow=Background-UDP-Established\",\"flow=To-Background-UDP-CVUT-DNS-Server\",\"flow=To-Background-UDP-CVUT-DNS-Server\",\"flow=To-Background-UDP-CVUT-DNS-Server\",\"flow=Background-UDP-Established\",\"flow=Background-UDP-Established\",\"flow=Background-Established-cmpgw-CVUT\",\"flow=Background-UDP-Established\",\"flow=Background-TCP-Established\",\"flow=To-Background-UDP-CVUT-DNS-Server\",\"flow=Background-UDP-Established\",\"flow=To-Background-UDP-CVUT-DNS-Server\",\"flow=Background-Established-cmpgw-CVUT\",\"flow=To-Background-UDP-CVUT-DNS-Server\",\"flow=To-Background-UDP-CVUT-DNS-Server\",\"flow=Background-Established-cmpgw-CVUT\",\"flow=Background-UDP-Established\",\"flow=To-Background-UDP-CVUT-DNS-Server\",\"flow=To-Background-UDP-CVUT-DNS-Server\",\"flow=To-Background-UDP-CVUT-DNS-Server\",\"flow=To-Background-UDP-CVUT-DNS-Server\",\"flow=To-Background-UDP-CVUT-DNS-Server\",\"flow=To-Background-UDP-CVUT-DNS-Server\",\"flow=To-Background-UDP-CVUT-DNS-Server\",\"flow=Background-UDP-Established\",\"flow=To-Background-CVUT-Proxy\",\"flow=Background-TCP-Established\",\"flow=To-Background-UDP-CVUT-DNS-Server\",\"flow=To-Background-UDP-CVUT-DNS-Server\",\"flow=Background-UDP-Established\",\"flow=To-Background-UDP-CVUT-DNS-Server\",\"flow=Background-UDP-Established\",\"flow=Background-UDP-Established\",\"flow=Background\",\"flow=Background-UDP-Established\",\"flow=To-Background-UDP-CVUT-DNS-Server\",\"flow=To-Background-UDP-CVUT-DNS-Server\",\"flow=To-Background-UDP-CVUT-DNS-Server\",\"flow=Background-google-analytics4\",\"flow=Background-UDP-Attempt\",\"flow=From-Normal-V46-Stribrek\",\"flow=To-Background-UDP-CVUT-DNS-Server\",\"flow=Background-UDP-Established\",\"flow=Background-UDP-Established\",\"flow=To-Background-UDP-CVUT-DNS-Server\",\"flow=Background-UDP-Attempt\",\"flow=Background-UDP-Attempt\",\"flow=To-Background-UDP-CVUT-DNS-Server\",\"flow=Background-Established-cmpgw-CVUT\",\"flow=To-Background-UDP-CVUT-DNS-Server\",\"flow=To-Background-UDP-CVUT-DNS-Server\",\"flow=Background-Established-cmpgw-CVUT\",\"flow=Background-UDP-Established\",\"flow=To-Background-UDP-CVUT-DNS-Server\",\"flow=To-Background-UDP-CVUT-DNS-Server\",\"flow=Background-Established-cmpgw-CVUT\",\"flow=Background-UDP-Established\",\"flow=Background-TCP-Established\",\"flow=Background-Established-cmpgw-CVUT\",\"flow=To-Background-UDP-CVUT-DNS-Server\",\"flow=Background-UDP-Established\",\"flow=To-Background-UDP-CVUT-DNS-Server\",\"flow=To-Background-UDP-CVUT-DNS-Server\",\"flow=Background-UDP-Established\",\"flow=Background-UDP-Established\",\"flow=Background\",\"flow=To-Background-UDP-CVUT-DNS-Server\",\"flow=Background-Established-cmpgw-CVUT\",\"flow=Background-Established-cmpgw-CVUT\",\"flow=To-Background-UDP-CVUT-DNS-Server\",\"flow=Background-UDP-Established\",\"flow=To-Background-UDP-CVUT-DNS-Server\",\"flow=Background-UDP-Established\",\"flow=To-Background-UDP-CVUT-DNS-Server\",\"flow=Background-UDP-Attempt\",\"flow=Background-UDP-Established\",\"flow=Background-UDP-Established\",\"flow=Background-UDP-Established\",\"flow=To-Background-UDP-CVUT-DNS-Server\",\"flow=To-Background-UDP-CVUT-DNS-Server\",\"flow=To-Background-UDP-CVUT-DNS-Server\",\"flow=To-Background-UDP-CVUT-DNS-Server\",\"flow=Background-google-analytics1\",\"flow=Background-UDP-Established\",\"flow=To-Background-UDP-CVUT-DNS-Server\",\"flow=Background-Established-cmpgw-CVUT\",\"flow=To-Background-UDP-CVUT-DNS-Server\",\"flow=To-Background-UDP-CVUT-DNS-Server\",\"flow=Background-TCP-Established\",\"flow=Background-UDP-Established\",\"flow=Background-UDP-Established\",\"flow=To-Background-UDP-CVUT-DNS-Server\",\"flow=Background-UDP-Established\",\"flow=Background-TCP-Established\",\"flow=Background-TCP-Established\",\"flow=Background-Established-cmpgw-CVUT\",\"flow=Background-TCP-Established\",\"flow=Background-UDP-Established\",\"flow=Background-TCP-Established\",\"flow=Background-Established-cmpgw-CVUT\",\"flow=Background-TCP-Established\",\"flow=To-Background-UDP-CVUT-DNS-Server\",\"flow=To-Background-UDP-CVUT-DNS-Server\",\"flow=From-Normal-V46-Jist\",\"flow=To-Background-UDP-CVUT-DNS-Server\",\"flow=From-Normal-V46-Grill\",\"flow=Background-Established-cmpgw-CVUT\",\"flow=Background-TCP-Established\",\"flow=Background-Established-cmpgw-CVUT\",\"flow=Background-UDP-Established\",\"flow=Background-UDP-Established\",\"flow=To-Background-UDP-CVUT-DNS-Server\",\"flow=From-Botnet-V46-TCP-Attempt\",\"flow=Background-UDP-Established\",\"flow=Background-Established-cmpgw-CVUT\",\"flow=To-Background-UDP-CVUT-DNS-Server\",\"flow=Background-UDP-Established\",\"flow=To-Background-UDP-CVUT-DNS-Server\",\"flow=Background-TCP-Established\",\"flow=To-Background-UDP-CVUT-DNS-Server\",\"flow=To-Background-UDP-CVUT-DNS-Server\",\"flow=Background\",\"flow=Background-UDP-Established\",\"flow=Background-Attempt-cmpgw-CVUT\",\"flow=Background-UDP-Established\",\"flow=To-Background-UDP-CVUT-DNS-Server\",\"flow=Background-TCP-Established\",\"flow=From-Normal-V46-Stribrek\",\"flow=Background-UDP-Established\",\"flow=To-Background-CVUT-Proxy\",\"flow=From-Normal-V46-Grill\",\"flow=To-Background-UDP-CVUT-DNS-Server\",\"flow=To-Background-UDP-CVUT-DNS-Server\",\"flow=Background-UDP-Established\",\"flow=Background-UDP-Established\",\"flow=Background-UDP-Established\",\"flow=From-Normal-V46-Stribrek\",\"flow=Background-Established-cmpgw-CVUT\",\"flow=Background-Established-cmpgw-CVUT\",\"flow=Background-UDP-Established\",\"flow=Background-TCP-Attempt\",\"flow=Background-UDP-Established\",\"flow=Background-google-analytics1\",\"flow=To-Background-UDP-CVUT-DNS-Server\",\"flow=Background-TCP-Attempt\",\"flow=Background-Established-cmpgw-CVUT\",\"flow=To-Background-UDP-CVUT-DNS-Server\",\"flow=To-Background-UDP-CVUT-DNS-Server\",\"flow=Background-TCP-Attempt\",\"flow=Background-UDP-Established\",\"flow=Background-UDP-Established\",\"flow=Background-UDP-Established\",\"flow=Background-TCP-Established\",\"flow=To-Background-CVUT-Proxy\",\"flow=Background-UDP-Established\",\"flow=Background-UDP-Established\",\"flow=To-Background-UDP-CVUT-DNS-Server\",\"flow=Background-UDP-Established\",\"flow=To-Background-UDP-CVUT-DNS-Server\",\"flow=Background-UDP-Established\",\"flow=Background-google-analytics12\",\"flow=Background-UDP-Established\",\"flow=To-Background-UDP-CVUT-DNS-Server\",\"flow=To-Background-UDP-CVUT-DNS-Server\",\"flow=Background-UDP-Established\",\"flow=Background-UDP-Established\",\"flow=To-Background-UDP-CVUT-DNS-Server\",\"flow=Background-Established-cmpgw-CVUT\",\"flow=Background-UDP-Established\",\"flow=Background-www.fel.cvut.cz\",\"flow=Background-TCP-Established\",\"flow=Background-UDP-Established\",\"flow=To-Background-UDP-CVUT-DNS-Server\",\"flow=From-Normal-V46-Grill\",\"flow=Background-Established-cmpgw-CVUT\",\"flow=Background-UDP-Established\",\"flow=Background\",\"flow=To-Background-UDP-CVUT-DNS-Server\",\"flow=To-Background-UDP-CVUT-DNS-Server\",\"flow=Background-Established-cmpgw-CVUT\",\"flow=Background-Established-cmpgw-CVUT\",\"flow=Background-UDP-Established\",\"flow=Background-UDP-Attempt\",\"flow=To-Background-UDP-CVUT-DNS-Server\",\"flow=To-Background-UDP-CVUT-DNS-Server\",\"flow=Background-TCP-Attempt\",\"flow=Background-Established-cmpgw-CVUT\",\"flow=Background-UDP-Established\",\"flow=To-Background-UDP-CVUT-DNS-Server\",\"flow=Background-TCP-Established\",\"flow=Background-TCP-Established\",\"flow=To-Background-UDP-CVUT-DNS-Server\",\"flow=From-Normal-V46-Stribrek\",\"flow=Background-UDP-Established\",\"flow=To-Background-UDP-CVUT-DNS-Server\",\"flow=Background-UDP-Established\",\"flow=To-Background-UDP-CVUT-DNS-Server\",\"flow=Background-UDP-Established\",\"flow=Background-UDP-Established\",\"flow=To-Background-UDP-CVUT-DNS-Server\",\"flow=To-Background-UDP-CVUT-DNS-Server\",\"flow=To-Background-UDP-CVUT-DNS-Server\",\"flow=Background-UDP-Established\",\"flow=Background-UDP-Established\",\"flow=Background-TCP-Established\",\"flow=Background-UDP-Established\",\"flow=From-Normal-V46-Stribrek\",\"flow=Background-TCP-Established\",\"flow=Background-UDP-Established\",\"flow=Background-UDP-Established\",\"flow=To-Background-UDP-CVUT-DNS-Server\",\"flow=Background-TCP-Established\",\"flow=To-Background-UDP-CVUT-DNS-Server\",\"flow=Background-TCP-Established\",\"flow=Background\",\"flow=Background\",\"flow=To-Background-UDP-CVUT-DNS-Server\",\"flow=Background-UDP-Established\",\"flow=Background-UDP-Established\",\"flow=Background-UDP-Established\",\"flow=Background-UDP-Established\",\"flow=Background-UDP-Established\",\"flow=Background-UDP-Established\",\"flow=To-Background-UDP-CVUT-DNS-Server\",\"flow=Background-UDP-Established\",\"flow=Background-UDP-Established\",\"flow=Background-UDP-Established\",\"flow=To-Background-UDP-CVUT-DNS-Server\",\"flow=Background-UDP-Established\",\"flow=To-Background-UDP-CVUT-DNS-Server\",\"flow=From-Normal-V46-Stribrek\",\"flow=To-Background-UDP-CVUT-DNS-Server\",\"flow=Background-UDP-Established\",\"flow=Background\",\"flow=From-Normal-V46-Stribrek\",\"flow=Background-UDP-Established\",\"flow=To-Background-UDP-CVUT-DNS-Server\",\"flow=To-Background-UDP-CVUT-DNS-Server\",\"flow=Background-UDP-Established\",\"flow=Background-UDP-Established\",\"flow=Background-UDP-Established\",\"flow=Background-UDP-Established\",\"flow=Background-TCP-Established\",\"flow=To-Background-UDP-CVUT-DNS-Server\",\"flow=Background-TCP-Established\",\"flow=Background\",\"flow=To-Background-UDP-CVUT-DNS-Server\",\"flow=To-Background-UDP-CVUT-DNS-Server\",\"flow=To-Background-UDP-CVUT-DNS-Server\",\"flow=To-Background-UDP-CVUT-DNS-Server\",\"flow=Background-google-analytics4\",\"flow=Background-UDP-Established\",\"flow=To-Background-UDP-CVUT-DNS-Server\",\"flow=Background-UDP-Established\",\"flow=Background-Established-cmpgw-CVUT\",\"flow=To-Background-UDP-CVUT-DNS-Server\",\"flow=Background-Established-cmpgw-CVUT\",\"flow=Background-UDP-Established\",\"flow=To-Background-UDP-CVUT-DNS-Server\",\"flow=Background-TCP-Established\",\"flow=Background-TCP-Established\",\"flow=To-Background-UDP-CVUT-DNS-Server\",\"flow=To-Background-UDP-CVUT-DNS-Server\",\"flow=To-Background-UDP-CVUT-DNS-Server\",\"flow=Background-UDP-Established\",\"flow=To-Background-UDP-CVUT-DNS-Server\",\"flow=To-Background-UDP-CVUT-DNS-Server\",\"flow=Background-UDP-Established\",\"flow=Background-TCP-Established\",\"flow=Background-UDP-Established\",\"flow=Background-TCP-Established\",\"flow=To-Background-UDP-CVUT-DNS-Server\",\"flow=To-Background-UDP-CVUT-DNS-Server\",\"flow=To-Background-UDP-CVUT-DNS-Server\",\"flow=To-Background-UDP-CVUT-DNS-Server\",\"flow=From-Normal-V46-Grill\",\"flow=Background-TCP-Established\",\"flow=Background-UDP-Established\",\"flow=Background-TCP-Attempt\",\"flow=Background-UDP-Established\",\"flow=To-Background-UDP-CVUT-DNS-Server\",\"flow=Background-TCP-Attempt\",\"flow=Background-UDP-Established\",\"flow=Background-UDP-Established\",\"flow=To-Background-UDP-CVUT-DNS-Server\",\"flow=Background-UDP-Established\",\"flow=Background-UDP-Established\",\"flow=To-Background-UDP-CVUT-DNS-Server\",\"flow=To-Background-UDP-CVUT-DNS-Server\",\"flow=Background-UDP-Established\",\"flow=To-Background-UDP-CVUT-DNS-Server\",\"flow=Background-UDP-Established\",\"flow=From-Normal-V46-Grill\",\"flow=Background-TCP-Established\",\"flow=Background-TCP-Established\",\"flow=To-Background-UDP-CVUT-DNS-Server\",\"flow=To-Background-UDP-CVUT-DNS-Server\",\"flow=Background-UDP-Established\",\"flow=To-Background-UDP-CVUT-DNS-Server\",\"flow=Background-UDP-Established\",\"flow=To-Background-UDP-CVUT-DNS-Server\",\"flow=To-Background-UDP-CVUT-DNS-Server\",\"flow=To-Background-UDP-CVUT-DNS-Server\",\"flow=Background-UDP-Established\",\"flow=From-Normal-V46-Jist\",\"flow=Background-TCP-Established\",\"flow=To-Background-UDP-CVUT-DNS-Server\",\"flow=Background\",\"flow=Background-UDP-Established\",\"flow=Background-UDP-Established\",\"flow=From-Normal-V46-Jist\",\"flow=To-Background-UDP-CVUT-DNS-Server\",\"flow=Background-Established-cmpgw-CVUT\",\"flow=Background-UDP-Established\",\"flow=Background-UDP-Established\",\"flow=Background-UDP-Attempt\",\"flow=From-Normal-V46-Grill\",\"flow=To-Background-UDP-CVUT-DNS-Server\",\"flow=Background-UDP-Established\",\"flow=To-Background-UDP-CVUT-DNS-Server\",\"flow=To-Background-UDP-CVUT-DNS-Server\",\"flow=Background-UDP-Established\",\"flow=Background-UDP-Established\",\"flow=Background-UDP-Established\",\"flow=Background-UDP-Established\",\"flow=Background-UDP-Established\",\"flow=Background-UDP-Established\",\"flow=Background-Attempt-cmpgw-CVUT\",\"flow=To-Background-UDP-CVUT-DNS-Server\",\"flow=To-Background-UDP-CVUT-DNS-Server\",\"flow=To-Background-UDP-CVUT-DNS-Server\",\"flow=Background-Established-cmpgw-CVUT\",\"flow=To-Background-CVUT-Proxy\",\"flow=To-Background-UDP-CVUT-DNS-Server\",\"flow=To-Background-UDP-CVUT-DNS-Server\",\"flow=To-Background-UDP-CVUT-DNS-Server\",\"flow=Background-UDP-Established\",\"flow=Background-UDP-Established\",\"flow=From-Normal-V46-Stribrek\",\"flow=To-Background-UDP-CVUT-DNS-Server\",\"flow=Background-UDP-Attempt\",\"flow=Background-UDP-Established\",\"flow=Background\",\"flow=To-Background-UDP-CVUT-DNS-Server\",\"flow=To-Background-UDP-CVUT-DNS-Server\",\"flow=Background-UDP-Established\",\"flow=Background-TCP-Established\",\"flow=To-Background-UDP-CVUT-DNS-Server\",\"flow=Background\",\"flow=To-Background-UDP-CVUT-DNS-Server\",\"flow=To-Background-UDP-CVUT-DNS-Server\",\"flow=To-Background-UDP-CVUT-DNS-Server\",\"flow=To-Background-UDP-CVUT-DNS-Server\",\"flow=To-Background-UDP-CVUT-DNS-Server\",\"flow=Background-Established-cmpgw-CVUT\",\"flow=Background-UDP-Attempt\",\"flow=From-Normal-V46-Jist\",\"flow=Background-UDP-Established\",\"flow=Background-UDP-Established\",\"flow=Background\",\"flow=To-Background-UDP-CVUT-DNS-Server\",\"flow=To-Background-UDP-CVUT-DNS-Server\",\"flow=Background-UDP-Established\",\"flow=To-Background-UDP-CVUT-DNS-Server\",\"flow=Background-UDP-Established\",\"flow=Background-UDP-Established\",\"flow=Background-UDP-Established\",\"flow=To-Background-UDP-CVUT-DNS-Server\",\"flow=Background-UDP-Established\",\"flow=Background-Established-cmpgw-CVUT\",\"flow=Background-TCP-Established\",\"flow=Background-Established-cmpgw-CVUT\",\"flow=Background\",\"flow=Background-UDP-Established\",\"flow=To-Background-UDP-CVUT-DNS-Server\",\"flow=Background\",\"flow=To-Background-UDP-CVUT-DNS-Server\",\"flow=To-Background-UDP-CVUT-DNS-Server\",\"flow=Background-Established-cmpgw-CVUT\",\"flow=To-Background-UDP-CVUT-DNS-Server\",\"flow=Background-UDP-Established\",\"flow=Background-UDP-Attempt\",\"flow=Background\",\"flow=Background-TCP-Established\",\"flow=Background-UDP-Established\",\"flow=To-Background-UDP-CVUT-DNS-Server\",\"flow=Background-UDP-Established\",\"flow=Background-TCP-Established\",\"flow=Background-UDP-Established\",\"flow=To-Background-UDP-CVUT-DNS-Server\",\"flow=To-Background-UDP-CVUT-DNS-Server\",\"flow=To-Background-UDP-CVUT-DNS-Server\",\"flow=To-Background-UDP-CVUT-DNS-Server\",\"flow=Background-UDP-Established\",\"flow=To-Background-UDP-CVUT-DNS-Server\",\"flow=Background-TCP-Established\",\"flow=From-Normal-V46-Stribrek\",\"flow=To-Background-UDP-CVUT-DNS-Server\",\"flow=Background-UDP-Established\",\"flow=Background-UDP-Established\",\"flow=Background-Established-cmpgw-CVUT\",\"flow=Background-TCP-Established\",\"flow=To-Background-UDP-CVUT-DNS-Server\",\"flow=Background-UDP-Established\",\"flow=Background-UDP-Attempt\",\"flow=Background-TCP-Established\",\"flow=To-Background-UDP-CVUT-DNS-Server\",\"flow=Background-UDP-Attempt\",\"flow=Background\",\"flow=Background-Established-cmpgw-CVUT\",\"flow=To-Background-CVUT-Proxy\",\"flow=Background-TCP-Established\",\"flow=Background-UDP-Established\",\"flow=To-Background-CVUT-Proxy\",\"flow=Background-UDP-Established\",\"flow=To-Background-UDP-CVUT-DNS-Server\",\"flow=Background-UDP-Established\",\"flow=Background-UDP-Established\",\"flow=Background-UDP-Established\",\"flow=Background-TCP-Attempt\",\"flow=To-Background-UDP-CVUT-DNS-Server\",\"flow=Background-TCP-Established\",\"flow=Background-UDP-Established\",\"flow=Background-UDP-Established\",\"flow=Background-TCP-Established\",\"flow=From-Normal-V46-Grill\",\"flow=Background-TCP-Established\",\"flow=Background-TCP-Established\",\"flow=To-Background-UDP-CVUT-DNS-Server\",\"flow=To-Background-UDP-CVUT-DNS-Server\",\"flow=From-Botnet-V46-TCP-Attempt-SPAM\",\"flow=Background-UDP-Established\",\"flow=Background-UDP-Established\",\"flow=Background-TCP-Established\",\"flow=To-Background-UDP-CVUT-DNS-Server\",\"flow=To-Background-UDP-CVUT-DNS-Server\",\"flow=To-Background-UDP-CVUT-DNS-Server\",\"flow=To-Background-UDP-CVUT-DNS-Server\",\"flow=To-Background-UDP-CVUT-DNS-Server\",\"flow=To-Background-UDP-CVUT-DNS-Server\",\"flow=Background-Established-cmpgw-CVUT\",\"flow=From-Normal-V46-Grill\",\"flow=From-Normal-V46-Stribrek\",\"flow=To-Background-UDP-CVUT-DNS-Server\",\"flow=To-Background-UDP-CVUT-DNS-Server\",\"flow=To-Background-UDP-CVUT-DNS-Server\",\"flow=Background-Established-cmpgw-CVUT\",\"flow=Background-UDP-Established\",\"flow=Background-UDP-Established\",\"flow=To-Background-UDP-CVUT-DNS-Server\",\"flow=Background-UDP-Established\",\"flow=To-Background-UDP-CVUT-DNS-Server\",\"flow=To-Background-UDP-CVUT-DNS-Server\",\"flow=To-Background-UDP-CVUT-DNS-Server\",\"flow=Background-UDP-Established\",\"flow=From-Normal-V46-Stribrek\",\"flow=To-Background-UDP-CVUT-DNS-Server\",\"flow=Background-TCP-Established\",\"flow=Background-UDP-Established\",\"flow=Background-UDP-Established\",\"flow=Background-UDP-Established\",\"flow=To-Background-UDP-CVUT-DNS-Server\",\"flow=To-Background-UDP-CVUT-DNS-Server\",\"flow=Background-Established-cmpgw-CVUT\",\"flow=Background-Attempt-cmpgw-CVUT\",\"flow=To-Background-UDP-CVUT-DNS-Server\",\"flow=To-Background-UDP-CVUT-DNS-Server\",\"flow=Background-UDP-Attempt\",\"flow=Background-UDP-Established\",\"flow=To-Background-UDP-CVUT-DNS-Server\",\"flow=To-Background-UDP-CVUT-DNS-Server\",\"flow=Background-UDP-Established\",\"flow=Background-TCP-Established\",\"flow=To-Background-UDP-CVUT-DNS-Server\",\"flow=Background-UDP-Attempt\",\"flow=To-Background-UDP-CVUT-DNS-Server\",\"flow=To-Background-UDP-CVUT-DNS-Server\",\"flow=Background-UDP-Established\",\"flow=To-Background-UDP-CVUT-DNS-Server\",\"flow=To-Background-UDP-CVUT-DNS-Server\",\"flow=Background-UDP-Established\",\"flow=To-Background-UDP-CVUT-DNS-Server\",\"flow=Background-UDP-Established\",\"flow=Background-TCP-Established\",\"flow=Background-TCP-Established\",\"flow=Background-UDP-Established\",\"flow=To-Background-UDP-CVUT-DNS-Server\",\"flow=To-Background-UDP-CVUT-DNS-Server\",\"flow=To-Background-UDP-CVUT-DNS-Server\",\"flow=Background-Established-cmpgw-CVUT\",\"flow=To-Background-UDP-CVUT-DNS-Server\",\"flow=Background-UDP-Established\",\"flow=Background-UDP-Established\",\"flow=To-Background-UDP-CVUT-DNS-Server\",\"flow=Background-UDP-Established\",\"flow=To-Background-UDP-CVUT-DNS-Server\",\"flow=To-Background-UDP-CVUT-DNS-Server\",\"flow=Background-UDP-Attempt\",\"flow=To-Background-UDP-CVUT-DNS-Server\",\"flow=Background-UDP-Established\",\"flow=Background-UDP-Established\",\"flow=Background\",\"flow=Background-Established-cmpgw-CVUT\",\"flow=To-Background-UDP-CVUT-DNS-Server\",\"flow=To-Background-UDP-CVUT-DNS-Server\",\"flow=To-Background-UDP-CVUT-DNS-Server\",\"flow=To-Background-UDP-CVUT-DNS-Server\",\"flow=To-Background-CVUT-Proxy\",\"flow=From-Background-CVUT-Proxy\",\"flow=To-Background-UDP-CVUT-DNS-Server\",\"flow=Background-TCP-Established\",\"flow=Background-Established-cmpgw-CVUT\",\"flow=To-Background-UDP-CVUT-DNS-Server\",\"flow=Background-TCP-Established\",\"flow=Background-TCP-Established\",\"flow=To-Background-UDP-CVUT-DNS-Server\",\"flow=Background-Established-cmpgw-CVUT\",\"flow=Background-UDP-Established\",\"flow=To-Background-UDP-CVUT-DNS-Server\",\"flow=Background-UDP-Established\",\"flow=To-Background-UDP-CVUT-DNS-Server\",\"flow=To-Background-UDP-CVUT-DNS-Server\",\"flow=From-Normal-V46-Grill\",\"flow=To-Background-UDP-CVUT-DNS-Server\",\"flow=Background-Established-cmpgw-CVUT\",\"flow=Background-UDP-Established\",\"flow=To-Background-UDP-CVUT-DNS-Server\",\"flow=Background-TCP-Established\",\"flow=Background-TCP-Established\",\"flow=Background-UDP-Established\",\"flow=Background-UDP-Established\",\"flow=To-Background-UDP-CVUT-DNS-Server\",\"flow=To-Background-UDP-CVUT-DNS-Server\",\"flow=To-Background-UDP-CVUT-DNS-Server\",\"flow=To-Background-UDP-CVUT-DNS-Server\",\"flow=To-Background-UDP-CVUT-DNS-Server\",\"flow=Background-Established-cmpgw-CVUT\",\"flow=To-Background-UDP-CVUT-DNS-Server\",\"flow=Background-UDP-Established\",\"flow=Background-UDP-Established\",\"flow=Background-UDP-Established\",\"flow=Background-UDP-Established\",\"flow=Background-UDP-Established\",\"flow=To-Background-UDP-CVUT-DNS-Server\",\"flow=To-Background-UDP-CVUT-DNS-Server\",\"flow=From-Normal-V46-Grill\",\"flow=Background-UDP-Established\",\"flow=Background-TCP-Established\",\"flow=Background-UDP-Established\",\"flow=To-Background-UDP-CVUT-DNS-Server\",\"flow=To-Background-UDP-CVUT-DNS-Server\",\"flow=To-Background-UDP-CVUT-DNS-Server\",\"flow=To-Background-UDP-CVUT-DNS-Server\",\"flow=To-Background-UDP-CVUT-DNS-Server\",\"flow=Background\",\"flow=To-Background-UDP-CVUT-DNS-Server\",\"flow=From-Normal-V46-Jist\",\"flow=To-Background-UDP-CVUT-DNS-Server\",\"flow=Background-UDP-Established\",\"flow=Background-google-analytics10\",\"flow=To-Background-CVUT-Proxy\",\"flow=To-Background-UDP-CVUT-DNS-Server\",\"flow=Background-UDP-Established\",\"flow=Background-UDP-Attempt\",\"flow=Background-UDP-NTP-Established-1\",\"flow=To-Background-UDP-CVUT-DNS-Server\",\"flow=Background-TCP-Established\",\"flow=Background-UDP-Established\",\"flow=Background-UDP-Established\",\"flow=To-Background-UDP-CVUT-DNS-Server\",\"flow=To-Background-UDP-CVUT-DNS-Server\",\"flow=Background-UDP-Established\",\"flow=Background-UDP-NTP-Established-1\",\"flow=To-Background-UDP-CVUT-DNS-Server\",\"flow=Background-Established-cmpgw-CVUT\",\"flow=To-Background-UDP-CVUT-DNS-Server\",\"flow=From-Normal-V46-Jist\",\"flow=Background-TCP-Established\",\"flow=Background-UDP-Attempt\",\"flow=Background-TCP-Established\",\"flow=Background-UDP-Established\",\"flow=To-Background-UDP-CVUT-DNS-Server\",\"flow=To-Background-UDP-CVUT-DNS-Server\",\"flow=Background-UDP-Established\",\"flow=Background-Established-cmpgw-CVUT\",\"flow=To-Background-UDP-CVUT-DNS-Server\",\"flow=Background-TCP-Established\",\"flow=Background-UDP-Established\",\"flow=To-Background-UDP-CVUT-DNS-Server\",\"flow=Background-Established-cmpgw-CVUT\",\"flow=To-Background-UDP-CVUT-DNS-Server\",\"flow=Background-UDP-Established\",\"flow=To-Background-UDP-CVUT-DNS-Server\",\"flow=Background-UDP-Established\",\"flow=Background-Established-cmpgw-CVUT\",\"flow=Background-Established-cmpgw-CVUT\",\"flow=Background-TCP-Established\",\"flow=Background-TCP-Established\",\"flow=To-Background-UDP-CVUT-DNS-Server\",\"flow=Background-UDP-Established\",\"flow=Background-UDP-Established\",\"flow=Background-Established-cmpgw-CVUT\",\"flow=Background-Established-cmpgw-CVUT\",\"flow=To-Background-UDP-CVUT-DNS-Server\",\"flow=To-Background-UDP-CVUT-DNS-Server\",\"flow=Background-UDP-Established\",\"flow=Background-UDP-Established\",\"flow=Background-Established-cmpgw-CVUT\",\"flow=Background-TCP-Established\",\"flow=To-Background-UDP-CVUT-DNS-Server\",\"flow=Background-TCP-Established\",\"flow=Background-UDP-Established\",\"flow=Background-UDP-Established\",\"flow=Background-UDP-Established\",\"flow=Background-UDP-Established\",\"flow=From-Normal-V46-Stribrek\",\"flow=To-Background-UDP-CVUT-DNS-Server\",\"flow=Background-UDP-Established\",\"flow=To-Background-UDP-CVUT-DNS-Server\",\"flow=To-Background-UDP-CVUT-DNS-Server\",\"flow=To-Background-UDP-CVUT-DNS-Server\",\"flow=Background-Established-cmpgw-CVUT\",\"flow=To-Background-UDP-CVUT-DNS-Server\",\"flow=Background-UDP-Established\",\"flow=Background-UDP-Established\",\"flow=Background-Established-cmpgw-CVUT\",\"flow=To-Background-UDP-CVUT-DNS-Server\",\"flow=Background-TCP-Established\",\"flow=Background-TCP-Established\",\"flow=Background-TCP-Established\",\"flow=To-Background-UDP-CVUT-DNS-Server\",\"flow=Background-TCP-Established\",\"flow=To-Background-UDP-CVUT-DNS-Server\",\"flow=To-Background-UDP-CVUT-DNS-Server\",\"flow=Background-UDP-Established\",\"flow=Background-TCP-Attempt\",\"flow=Background-UDP-Established\",\"flow=To-Background-UDP-CVUT-DNS-Server\",\"flow=Background-UDP-Attempt\",\"flow=Background-Established-cmpgw-CVUT\",\"flow=Background-UDP-Attempt\",\"flow=To-Background-UDP-CVUT-DNS-Server\",\"flow=Background-UDP-Established\",\"flow=To-Background-UDP-CVUT-DNS-Server\",\"flow=To-Background-UDP-CVUT-DNS-Server\",\"flow=Background-UDP-Established\",\"flow=To-Background-UDP-CVUT-DNS-Server\",\"flow=Background-TCP-Established\",\"flow=To-Background-UDP-CVUT-DNS-Server\",\"flow=To-Background-UDP-CVUT-DNS-Server\",\"flow=Background-Established-cmpgw-CVUT\",\"flow=To-Background-UDP-CVUT-DNS-Server\",\"flow=From-Normal-V46-Jist\",\"flow=Background-Established-cmpgw-CVUT\",\"flow=To-Background-UDP-CVUT-DNS-Server\",\"flow=Background-UDP-Established\",\"flow=Background-TCP-Established\",\"flow=Background-UDP-Established\",\"flow=Background-TCP-Established\",\"flow=To-Background-UDP-CVUT-DNS-Server\",\"flow=Background-UDP-Established\",\"flow=Background-Established-cmpgw-CVUT\",\"flow=To-Background-UDP-CVUT-DNS-Server\",\"flow=Background-TCP-Established\",\"flow=To-Background-UDP-CVUT-DNS-Server\",\"flow=Background-UDP-Established\",\"flow=Background-UDP-Established\",\"flow=To-Background-UDP-CVUT-DNS-Server\",\"flow=Background-UDP-Established\",\"flow=Background-UDP-Established\",\"flow=Background-Established-cmpgw-CVUT\",\"flow=Background-UDP-Established\",\"flow=Background-UDP-Established\",\"flow=To-Background-UDP-CVUT-DNS-Server\",\"flow=Background-UDP-Established\",\"flow=From-Normal-V46-Stribrek\"],\"Node\":[0,1,2,3,4,5,6,7,8,9,10,11,12,13,14,15,16,17,18,19,20,21,22,23,24,25,26,27,28,29,30,31,32,33,34,35,36,37,38,39,40,41,42,43,44,45,46,47,48,49,50,51,52,53,54,55,56,57,58,59,60,61,62,63,64,65,66,67,68,69,70,71,72,73,74,75,76,77,78,79,80,81,82,83,84,85,86,87,88,89,90,91,92,93,94,95,96,97,98,99,100,101,102,103,104,105,106,107,108,109,110,111,112,113,114,115,116,117,118,119,120,121,122,123,124,125,126,127,128,129,130,131,132,133,134,135,136,137,138,139,140,141,142,143,144,145,146,147,148,149,150,151,152,153,154,155,156,157,158,159,160,161,162,163,164,165,166,167,168,169,170,171,172,173,174,175,176,177,178,179,180,181,182,183,184,185,186,187,188,189,190,191,192,193,194,195,196,197,198,199,200,201,202,203,204,205,206,207,208,209,210,211,212,213,214,215,216,217,218,219,220,221,222,223,224,225,226,227,228,229,230,231,232,233,234,235,236,237,238,239,240,241,242,243,244,245,246,247,248,249,250,251,252,253,254,255,256,257,258,259,260,261,262,263,264,265,266,267,268,269,270,271,272,273,274,275,276,277,278,279,280,281,282,283,284,285,286,287,288,289,290,291,292,293,294,295,296,297,298,299,300,301,302,303,304,305,306,307,308,309,310,311,312,313,314,315,316,317,318,319,320,321,322,323,324,325,326,327,328,329,330,331,332,333,334,335,336,337,338,339,340,341,342,343,344,345,346,347,348,349,350,351,352,353,354,355,356,357,358,359,360,361,362,363,364,365,366,367,368,369,370,371,372,373,374,375,376,377,378,379,380,381,382,383,384,385,386,387,388,389,390,391,392,393,394,395,396,397,398,399,400,401,402,403,404,405,406,407,408,409,410,411,412,413,414,415,416,417,418,419,420,421,422,423,424,425,426,427,428,429,430,431,432,433,434,435,436,437,438,439,440,441,442,443,444,445,446,447,448,449,450,451,452,453,454,455,456,457,458,459,460,461,462,463,464,465,466,467,468,469,470,471,472,473,474,475,476,477,478,479,480,481,482,483,484,485,486,487,488,489,490,491,492,493,494,495,496,497,498,499,500,501,502,503,504,505,506,507,508,509,510,511,512,513,514,515,516,517,518,519,520,521,522,523,524,525,526,527,528,529,530,531,532,533,534,535,536,537,538,539,540,541,542,543,544,545,546,547,548,549,550,551,552,553,554,555,556,557,558,559,560,561,562,563,564,565,566,567,568,569,570,571,572,573,574,575,576,577,578,579,580,581,582,583,584,585,586,587,588,589,590,591,592,593,594,595,596,597,598,599,600,601,602,603,604,605,606,607,608,609,610,611,612,613,614,615,616,617,618,619,620,621,622,623,624,625,626,627,628,629,630,631,632,633,634,635,636,637,638,639,640,641,642,643,644,645,646,647,648,649,650,651,652,653,654,655,656,657,658,659,660,661,662,663,664,665,666,667,668,669,670,671,672,673,674,675,676,677,678,679,680,681,682,683,684,685,686,687,688,689,690,691,692,693,694,695,696,697,698,699,700,701,702,703,704,705,706,707,708,709,710,711,712,713,714,715,716,717,718,719,720,721,722,723,724,725,726,727,728,729,730,731,732,733,734,735,736,737,738,739,740,741,742,743,744,745,746,747,748,749,750,751,752,753,754,755,756,757,758,759,760,761,762,763,764,765,766,767,768,769,770,771,772,773,774,775,776,777,778,779,780,781,782,783,784,785,786,787,788,789,790,791,792,793,794,795,796,797,798,799,800,801,802,803,804,805,806,807,808,809,810,811,812,813,814,815,816,817,818,819,820,821,822,823,824,825,826,827,828,829,830,831,832,833,834,835,836,837,838,839,840,841,842,843,844,845,846,847,848,849,850,851,852,853,854,855,856,857,858,859,860,861,862,863,864,865,866,867,868,869,870,871,872,873,874,875,876,877,878,879,880,881,882,883,884,885,886,887,888,889,890,891,892,893,894,895,896,897,898,899,900,901,902,903,904,905,906,907,908,909,910,911,912,913,914,915,916,917,918,919,920,921,922,923,924,925,926,927,928,929,930,931,932,933,934,935,936,937,938,939,940,941,942,943,944,945,946,947,948,949,950,951,952,953,954,955,956,957,958,959,960,961,962,963,964,965,966,967,968,969,970,971,972,973,974,975,976,977,978,979,980,981,982,983,984,985,986,987,988,989,990,991,992,993,994,995,996,997,998,999,1000,1001,1002,1003,1004,1005,1006,1007,1008,1009,1010,1011,1012,1013,1014,1015,1016,1017,1018,1019,1020,1021,1022,1023,1024,1025,1026,1027,1028,1029,1030,1031,1032,1033,1034,1035,1036,1037,1038,1039,1040,1041,1042,1043,1044,1045,1046,1047,1048,1049,1050,1051,1052,1053,1054,1055,1056,1057,1058,1059,1060,1061,1062,1063,1064,1065,1066,1067,1068,1069,1070,1071,1072,1073,1074,1075,1076,1077,1078,1079,1080,1081,1082,1083,1084,1085,1086,1087,1088,1089,1090,1091,1092,1093,1094,1095,1096,1097,1098,1099,1100,1101,1102,1103,1104,1105,1106,1107,1108,1109,1110,1111,1112,1113,1114,1115,1116,1117,1118,1119,1120,1121,1122,1123,1124,1125,1126,1127,1128,1129,1130,1131,1132,1133,1134,1135,1136,1137,1138,1139,1140,1141,1142,1143,1144,1145,1146,1147,1148,1149,1150,1151,1152,1153,1154,1155,1156,1157,1158,1159,1160,1161,1162,1163,1164,1165,1166,1167,1168,1169,1170,1171,1172,1173,1174,1175,1176,1177,1178,1179,1180,1181,1182,1183,1184,1185,1186,1187,1188,1189,1190,1191,1192,1193,1194,1195,1196,1197,1198,1199,1200,1201,1202,1203,1204,1205,1206,1207,1208,1209,1210,1211,1212,1213,1214,1215,1216,1217,1218,1219,1220,1221,1222,1223,1224,1225,1226,1227,1228,1229,1230,1231,1232,1233,1234,1235,1236,1237,1238,1239,1240,1241,1242,1243,1244,1245,1246,1247,1248,1249,1250,1251,1252,1253,1254,1255,1256,1257,1258,1259,1260,1261,1262,1263,1264,1265,1266,1267,1268,1269,1270,1271,1272,1273,1274,1275,1276,1277,1278,1279,1280,1281,1282,1283,1284,1285,1286,1287,1288,1289,1290,1291,1292,1293,1294,1295,1296,1297,1298,1299,1300,1301,1302,1303,1304,1305,1306,1307,1308,1309,1310,1311,1312,1313,1314,1315,1316,1317,1318,1319,1320,1321,1322,1323,1324,1325,1326,1327,1328,1329,1330,1331,1332,1333,1334,1335,1336,1337,1338,1339,1340,1341,1342,1343,1344,1345,1346,1347,1348,1349,1350,1351,1352,1353,1354,1355,1356,1357,1358,1359,1360,1361,1362,1363,1364,1365,1366,1367,1368,1369,1370,1371,1372,1373,1374,1375,1376,1377,1378,1379,1380,1381,1382,1383,1384,1385,1386,1387,1388,1389,1390,1391,1392,1393,1394,1395,1396,1397,1398,1399,1400,1401,1402,1403,1404,1405,1406,1407,1408,1409,1410,1411,1412,1413,1414,1415,1416,1417,1418,1419,1420,1421,1422,1423,1424,1425,1426,1427,1428,1429,1430,1431,1432,1433,1434,1435,1436,1437,1438,1439,1440,1441,1442,1443,1444,1445,1446,1447,1448,1449,1450,1451,1452,1453,1454,1455,1456,1457,1458,1459,1460,1461,1462,1463,1464,1465,1466,1467,1468,1469,1470,1471,1472,1473,1474,1475,1476,1477,1478,1479,1480,1481,1482,1483,1484,1485,1486,1487,1488,1489,1490,1491,1492,1493,1494,1495,1496,1497,1498,1499],\"Proto\":[\"udp\",\"udp\",\"udp\",\"tcp\",\"udp\",\"udp\",\"udp\",\"udp\",\"udp\",\"udp\",\"udp\",\"udp\",\"udp\",\"udp\",\"udp\",\"tcp\",\"udp\",\"tcp\",\"udp\",\"tcp\",\"udp\",\"udp\",\"udp\",\"udp\",\"udp\",\"udp\",\"udp\",\"udp\",\"udp\",\"tcp\",\"udp\",\"tcp\",\"udp\",\"udp\",\"udp\",\"udp\",\"udp\",\"tcp\",\"tcp\",\"tcp\",\"tcp\",\"udp\",\"udp\",\"udp\",\"igmp\",\"tcp\",\"tcp\",\"tcp\",\"udp\",\"udp\",\"udp\",\"udp\",\"udp\",\"udp\",\"udp\",\"udp\",\"tcp\",\"udp\",\"udp\",\"udp\",\"udp\",\"udp\",\"tcp\",\"udp\",\"udp\",\"udp\",\"icmp\",\"tcp\",\"udp\",\"tcp\",\"udp\",\"tcp\",\"udp\",\"udp\",\"udp\",\"udp\",\"udp\",\"udp\",\"udp\",\"udp\",\"udp\",\"udp\",\"udp\",\"udp\",\"udp\",\"udp\",\"udp\",\"udp\",\"udp\",\"icmp\",\"udp\",\"udp\",\"udp\",\"udp\",\"udp\",\"udp\",\"udp\",\"udp\",\"udp\",\"udp\",\"udp\",\"tcp\",\"tcp\",\"udp\",\"udp\",\"udp\",\"udp\",\"tcp\",\"udp\",\"tcp\",\"udp\",\"udp\",\"tcp\",\"udp\",\"udp\",\"tcp\",\"udp\",\"udp\",\"tcp\",\"udp\",\"udp\",\"tcp\",\"udp\",\"udp\",\"udp\",\"udp\",\"udp\",\"udp\",\"udp\",\"udp\",\"udp\",\"udp\",\"tcp\",\"udp\",\"udp\",\"icmp\",\"udp\",\"udp\",\"udp\",\"udp\",\"tcp\",\"udp\",\"tcp\",\"udp\",\"udp\",\"udp\",\"udp\",\"tcp\",\"udp\",\"udp\",\"udp\",\"tcp\",\"udp\",\"tcp\",\"udp\",\"udp\",\"tcp\",\"udp\",\"udp\",\"udp\",\"udp\",\"udp\",\"udp\",\"udp\",\"udp\",\"udp\",\"udp\",\"tcp\",\"tcp\",\"udp\",\"udp\",\"udp\",\"tcp\",\"udp\",\"udp\",\"udp\",\"udp\",\"udp\",\"udp\",\"udp\",\"udp\",\"tcp\",\"udp\",\"tcp\",\"tcp\",\"udp\",\"tcp\",\"udp\",\"tcp\",\"udp\",\"udp\",\"tcp\",\"udp\",\"udp\",\"udp\",\"tcp\",\"tcp\",\"udp\",\"udp\",\"udp\",\"udp\",\"tcp\",\"tcp\",\"tcp\",\"udp\",\"tcp\",\"udp\",\"udp\",\"tcp\",\"tcp\",\"tcp\",\"udp\",\"udp\",\"udp\",\"udp\",\"udp\",\"udp\",\"tcp\",\"udp\",\"udp\",\"udp\",\"udp\",\"udp\",\"udp\",\"udp\",\"udp\",\"udp\",\"udp\",\"udp\",\"udp\",\"udp\",\"udp\",\"tcp\",\"tcp\",\"udp\",\"udp\",\"tcp\",\"udp\",\"udp\",\"udp\",\"udp\",\"udp\",\"udp\",\"tcp\",\"udp\",\"udp\",\"udp\",\"udp\",\"tcp\",\"udp\",\"udp\",\"tcp\",\"udp\",\"udp\",\"udp\",\"udp\",\"udp\",\"udp\",\"udp\",\"tcp\",\"udp\",\"tcp\",\"udp\",\"udp\",\"udp\",\"udp\",\"tcp\",\"udp\",\"udp\",\"udp\",\"udp\",\"udp\",\"udp\",\"udp\",\"udp\",\"udp\",\"udp\",\"udp\",\"tcp\",\"tcp\",\"udp\",\"udp\",\"udp\",\"udp\",\"udp\",\"udp\",\"udp\",\"udp\",\"udp\",\"udp\",\"udp\",\"tcp\",\"udp\",\"udp\",\"udp\",\"tcp\",\"icmp\",\"tcp\",\"udp\",\"udp\",\"udp\",\"tcp\",\"tcp\",\"udp\",\"tcp\",\"tcp\",\"udp\",\"udp\",\"tcp\",\"tcp\",\"udp\",\"tcp\",\"udp\",\"tcp\",\"udp\",\"udp\",\"tcp\",\"udp\",\"udp\",\"udp\",\"udp\",\"udp\",\"udp\",\"udp\",\"udp\",\"udp\",\"udp\",\"udp\",\"tcp\",\"udp\",\"udp\",\"udp\",\"udp\",\"tcp\",\"udp\",\"udp\",\"udp\",\"udp\",\"udp\",\"udp\",\"udp\",\"udp\",\"udp\",\"udp\",\"tcp\",\"udp\",\"tcp\",\"tcp\",\"tcp\",\"tcp\",\"udp\",\"udp\",\"udp\",\"udp\",\"udp\",\"udp\",\"udp\",\"udp\",\"igmp\",\"udp\",\"tcp\",\"udp\",\"udp\",\"udp\",\"udp\",\"udp\",\"udp\",\"tcp\",\"udp\",\"udp\",\"tcp\",\"tcp\",\"udp\",\"udp\",\"tcp\",\"udp\",\"tcp\",\"udp\",\"udp\",\"udp\",\"udp\",\"udp\",\"tcp\",\"udp\",\"udp\",\"udp\",\"udp\",\"tcp\",\"udp\",\"udp\",\"udp\",\"udp\",\"udp\",\"udp\",\"udp\",\"udp\",\"udp\",\"udp\",\"udp\",\"udp\",\"tcp\",\"udp\",\"udp\",\"udp\",\"udp\",\"udp\",\"tcp\",\"udp\",\"udp\",\"tcp\",\"tcp\",\"udp\",\"udp\",\"tcp\",\"udp\",\"udp\",\"udp\",\"udp\",\"udp\",\"tcp\",\"icmp\",\"udp\",\"udp\",\"udp\",\"udp\",\"udp\",\"tcp\",\"udp\",\"udp\",\"udp\",\"udp\",\"udp\",\"udp\",\"udp\",\"udp\",\"udp\",\"tcp\",\"udp\",\"udp\",\"udp\",\"udp\",\"udp\",\"udp\",\"udp\",\"udp\",\"udp\",\"udp\",\"udp\",\"udp\",\"tcp\",\"udp\",\"udp\",\"tcp\",\"tcp\",\"tcp\",\"tcp\",\"udp\",\"udp\",\"udp\",\"udp\",\"udp\",\"udp\",\"udp\",\"udp\",\"udp\",\"udp\",\"udp\",\"tcp\",\"udp\",\"tcp\",\"udp\",\"tcp\",\"udp\",\"udp\",\"udp\",\"udp\",\"udp\",\"udp\",\"udp\",\"tcp\",\"tcp\",\"udp\",\"udp\",\"udp\",\"udp\",\"udp\",\"udp\",\"udp\",\"udp\",\"tcp\",\"udp\",\"tcp\",\"udp\",\"tcp\",\"tcp\",\"udp\",\"udp\",\"udp\",\"udp\",\"tcp\",\"tcp\",\"tcp\",\"tcp\",\"tcp\",\"icmp\",\"tcp\",\"udp\",\"tcp\",\"udp\",\"udp\",\"udp\",\"udp\",\"udp\",\"udp\",\"tcp\",\"udp\",\"udp\",\"udp\",\"udp\",\"udp\",\"udp\",\"udp\",\"udp\",\"udp\",\"udp\",\"udp\",\"tcp\",\"udp\",\"udp\",\"udp\",\"tcp\",\"udp\",\"tcp\",\"udp\",\"udp\",\"udp\",\"udp\",\"tcp\",\"udp\",\"udp\",\"udp\",\"udp\",\"tcp\",\"udp\",\"udp\",\"tcp\",\"tcp\",\"udp\",\"udp\",\"udp\",\"udp\",\"udp\",\"udp\",\"tcp\",\"udp\",\"tcp\",\"udp\",\"udp\",\"udp\",\"udp\",\"tcp\",\"tcp\",\"udp\",\"udp\",\"udp\",\"udp\",\"udp\",\"udp\",\"udp\",\"udp\",\"udp\",\"udp\",\"udp\",\"udp\",\"tcp\",\"tcp\",\"udp\",\"udp\",\"tcp\",\"udp\",\"udp\",\"udp\",\"udp\",\"udp\",\"udp\",\"udp\",\"tcp\",\"udp\",\"udp\",\"udp\",\"udp\",\"tcp\",\"tcp\",\"udp\",\"udp\",\"tcp\",\"udp\",\"udp\",\"udp\",\"tcp\",\"udp\",\"udp\",\"udp\",\"udp\",\"udp\",\"udp\",\"udp\",\"udp\",\"udp\",\"udp\",\"udp\",\"tcp\",\"udp\",\"udp\",\"udp\",\"udp\",\"udp\",\"udp\",\"udp\",\"tcp\",\"udp\",\"udp\",\"udp\",\"udp\",\"udp\",\"udp\",\"udp\",\"udp\",\"tcp\",\"udp\",\"udp\",\"tcp\",\"udp\",\"udp\",\"tcp\",\"udp\",\"udp\",\"udp\",\"tcp\",\"tcp\",\"udp\",\"udp\",\"udp\",\"udp\",\"udp\",\"udp\",\"udp\",\"udp\",\"udp\",\"udp\",\"tcp\",\"udp\",\"udp\",\"tcp\",\"udp\",\"udp\",\"udp\",\"udp\",\"udp\",\"udp\",\"tcp\",\"udp\",\"udp\",\"tcp\",\"udp\",\"tcp\",\"udp\",\"udp\",\"tcp\",\"udp\",\"udp\",\"tcp\",\"udp\",\"udp\",\"udp\",\"udp\",\"udp\",\"udp\",\"udp\",\"tcp\",\"udp\",\"udp\",\"udp\",\"tcp\",\"tcp\",\"udp\",\"udp\",\"udp\",\"tcp\",\"udp\",\"udp\",\"udp\",\"udp\",\"udp\",\"udp\",\"udp\",\"udp\",\"tcp\",\"udp\",\"udp\",\"udp\",\"tcp\",\"icmp\",\"udp\",\"udp\",\"udp\",\"udp\",\"tcp\",\"tcp\",\"udp\",\"udp\",\"udp\",\"udp\",\"udp\",\"tcp\",\"udp\",\"udp\",\"icmp\",\"udp\",\"udp\",\"udp\",\"udp\",\"udp\",\"udp\",\"tcp\",\"tcp\",\"udp\",\"udp\",\"udp\",\"tcp\",\"tcp\",\"udp\",\"udp\",\"udp\",\"tcp\",\"udp\",\"udp\",\"tcp\",\"udp\",\"udp\",\"udp\",\"tcp\",\"udp\",\"udp\",\"udp\",\"udp\",\"icmp\",\"udp\",\"udp\",\"tcp\",\"udp\",\"tcp\",\"tcp\",\"udp\",\"udp\",\"udp\",\"udp\",\"udp\",\"udp\",\"udp\",\"udp\",\"udp\",\"tcp\",\"tcp\",\"udp\",\"udp\",\"udp\",\"tcp\",\"tcp\",\"udp\",\"udp\",\"udp\",\"udp\",\"udp\",\"udp\",\"udp\",\"udp\",\"udp\",\"udp\",\"udp\",\"udp\",\"udp\",\"udp\",\"udp\",\"udp\",\"udp\",\"udp\",\"icmp\",\"udp\",\"tcp\",\"udp\",\"udp\",\"tcp\",\"udp\",\"udp\",\"tcp\",\"udp\",\"udp\",\"udp\",\"udp\",\"udp\",\"udp\",\"udp\",\"udp\",\"udp\",\"udp\",\"udp\",\"udp\",\"tcp\",\"udp\",\"tcp\",\"udp\",\"udp\",\"tcp\",\"udp\",\"udp\",\"udp\",\"udp\",\"udp\",\"udp\",\"udp\",\"udp\",\"udp\",\"udp\",\"udp\",\"udp\",\"udp\",\"udp\",\"udp\",\"udp\",\"tcp\",\"udp\",\"tcp\",\"udp\",\"udp\",\"udp\",\"tcp\",\"udp\",\"udp\",\"tcp\",\"udp\",\"udp\",\"udp\",\"udp\",\"udp\",\"udp\",\"udp\",\"udp\",\"udp\",\"tcp\",\"tcp\",\"udp\",\"udp\",\"udp\",\"udp\",\"udp\",\"udp\",\"tcp\",\"udp\",\"udp\",\"udp\",\"udp\",\"tcp\",\"udp\",\"udp\",\"udp\",\"udp\",\"udp\",\"udp\",\"udp\",\"udp\",\"udp\",\"udp\",\"udp\",\"udp\",\"tcp\",\"udp\",\"udp\",\"udp\",\"tcp\",\"udp\",\"tcp\",\"tcp\",\"udp\",\"udp\",\"udp\",\"udp\",\"udp\",\"udp\",\"tcp\",\"udp\",\"tcp\",\"tcp\",\"udp\",\"udp\",\"udp\",\"udp\",\"udp\",\"udp\",\"udp\",\"udp\",\"udp\",\"udp\",\"udp\",\"udp\",\"udp\",\"tcp\",\"udp\",\"udp\",\"tcp\",\"udp\",\"udp\",\"tcp\",\"udp\",\"udp\",\"udp\",\"udp\",\"tcp\",\"tcp\",\"tcp\",\"tcp\",\"udp\",\"tcp\",\"tcp\",\"tcp\",\"udp\",\"udp\",\"tcp\",\"udp\",\"udp\",\"udp\",\"tcp\",\"tcp\",\"udp\",\"udp\",\"udp\",\"tcp\",\"udp\",\"tcp\",\"udp\",\"udp\",\"udp\",\"tcp\",\"udp\",\"udp\",\"icmp\",\"udp\",\"udp\",\"udp\",\"udp\",\"tcp\",\"udp\",\"udp\",\"tcp\",\"udp\",\"udp\",\"udp\",\"udp\",\"udp\",\"udp\",\"udp\",\"tcp\",\"tcp\",\"udp\",\"tcp\",\"udp\",\"tcp\",\"udp\",\"tcp\",\"tcp\",\"udp\",\"udp\",\"tcp\",\"udp\",\"udp\",\"udp\",\"tcp\",\"tcp\",\"udp\",\"udp\",\"udp\",\"udp\",\"udp\",\"udp\",\"tcp\",\"udp\",\"udp\",\"udp\",\"udp\",\"udp\",\"udp\",\"tcp\",\"udp\",\"tcp\",\"tcp\",\"udp\",\"udp\",\"udp\",\"tcp\",\"udp\",\"tcp\",\"udp\",\"udp\",\"tcp\",\"tcp\",\"udp\",\"udp\",\"udp\",\"udp\",\"tcp\",\"tcp\",\"udp\",\"udp\",\"tcp\",\"tcp\",\"udp\",\"udp\",\"udp\",\"udp\",\"udp\",\"udp\",\"udp\",\"udp\",\"udp\",\"udp\",\"udp\",\"udp\",\"udp\",\"tcp\",\"udp\",\"tcp\",\"tcp\",\"udp\",\"udp\",\"udp\",\"tcp\",\"udp\",\"tcp\",\"tcp\",\"arp\",\"udp\",\"udp\",\"udp\",\"udp\",\"udp\",\"udp\",\"udp\",\"udp\",\"udp\",\"udp\",\"udp\",\"udp\",\"udp\",\"udp\",\"udp\",\"udp\",\"udp\",\"tcp\",\"udp\",\"udp\",\"udp\",\"udp\",\"udp\",\"udp\",\"udp\",\"udp\",\"tcp\",\"udp\",\"tcp\",\"icmp\",\"udp\",\"udp\",\"udp\",\"udp\",\"tcp\",\"udp\",\"udp\",\"udp\",\"tcp\",\"udp\",\"tcp\",\"udp\",\"udp\",\"tcp\",\"tcp\",\"udp\",\"udp\",\"udp\",\"udp\",\"udp\",\"udp\",\"udp\",\"tcp\",\"udp\",\"tcp\",\"udp\",\"udp\",\"udp\",\"udp\",\"udp\",\"tcp\",\"udp\",\"tcp\",\"udp\",\"udp\",\"tcp\",\"udp\",\"udp\",\"udp\",\"udp\",\"udp\",\"udp\",\"udp\",\"udp\",\"udp\",\"udp\",\"tcp\",\"tcp\",\"tcp\",\"udp\",\"udp\",\"udp\",\"udp\",\"udp\",\"udp\",\"udp\",\"udp\",\"udp\",\"tcp\",\"tcp\",\"udp\",\"icmp\",\"udp\",\"udp\",\"tcp\",\"udp\",\"tcp\",\"udp\",\"udp\",\"udp\",\"udp\",\"udp\",\"udp\",\"udp\",\"udp\",\"udp\",\"udp\",\"udp\",\"udp\",\"udp\",\"udp\",\"icmp\",\"udp\",\"udp\",\"udp\",\"tcp\",\"tcp\",\"udp\",\"udp\",\"udp\",\"udp\",\"udp\",\"tcp\",\"udp\",\"udp\",\"udp\",\"icmp\",\"udp\",\"udp\",\"udp\",\"tcp\",\"udp\",\"tcp\",\"udp\",\"udp\",\"udp\",\"udp\",\"udp\",\"tcp\",\"udp\",\"udp\",\"udp\",\"udp\",\"tcp\",\"udp\",\"udp\",\"udp\",\"udp\",\"udp\",\"udp\",\"udp\",\"udp\",\"udp\",\"udp\",\"tcp\",\"tcp\",\"icmp\",\"udp\",\"udp\",\"icmp\",\"udp\",\"udp\",\"tcp\",\"udp\",\"udp\",\"udp\",\"icmp\",\"tcp\",\"udp\",\"udp\",\"udp\",\"tcp\",\"udp\",\"udp\",\"udp\",\"udp\",\"udp\",\"udp\",\"udp\",\"tcp\",\"udp\",\"udp\",\"udp\",\"udp\",\"tcp\",\"tcp\",\"udp\",\"udp\",\"udp\",\"tcp\",\"udp\",\"udp\",\"tcp\",\"tcp\",\"tcp\",\"tcp\",\"udp\",\"tcp\",\"udp\",\"udp\",\"udp\",\"udp\",\"udp\",\"tcp\",\"udp\",\"tcp\",\"udp\",\"udp\",\"tcp\",\"udp\",\"tcp\",\"tcp\",\"udp\",\"udp\",\"tcp\",\"udp\",\"udp\",\"tcp\",\"udp\",\"udp\",\"udp\",\"udp\",\"udp\",\"udp\",\"tcp\",\"udp\",\"udp\",\"udp\",\"udp\",\"udp\",\"tcp\",\"udp\",\"udp\",\"udp\",\"udp\",\"udp\",\"udp\",\"udp\",\"udp\",\"udp\",\"udp\",\"tcp\",\"udp\",\"udp\",\"udp\",\"udp\",\"udp\",\"udp\",\"tcp\",\"udp\",\"udp\",\"udp\",\"udp\",\"udp\",\"udp\",\"udp\",\"tcp\",\"udp\",\"udp\",\"udp\",\"udp\",\"udp\",\"udp\",\"udp\",\"udp\",\"udp\",\"udp\",\"tcp\",\"tcp\",\"udp\",\"udp\",\"udp\",\"udp\",\"tcp\",\"udp\",\"udp\",\"udp\",\"udp\",\"udp\",\"udp\",\"udp\",\"udp\",\"udp\",\"udp\",\"udp\",\"icmp\",\"tcp\",\"udp\",\"udp\",\"udp\",\"udp\",\"tcp\",\"tcp\",\"udp\",\"tcp\",\"tcp\",\"udp\",\"tcp\",\"tcp\",\"udp\",\"tcp\",\"udp\",\"udp\",\"udp\",\"udp\",\"udp\",\"udp\",\"udp\",\"tcp\",\"udp\",\"udp\",\"tcp\",\"tcp\",\"udp\",\"udp\",\"udp\",\"udp\",\"udp\",\"udp\",\"udp\",\"tcp\",\"udp\",\"udp\",\"udp\",\"udp\",\"udp\",\"udp\",\"udp\",\"udp\",\"udp\",\"udp\",\"tcp\",\"udp\",\"udp\",\"udp\",\"udp\",\"udp\",\"udp\",\"icmp\",\"udp\",\"udp\",\"udp\",\"udp\",\"tcp\",\"tcp\",\"udp\",\"udp\",\"udp\",\"udp\",\"udp\",\"tcp\",\"udp\",\"udp\",\"udp\",\"udp\",\"udp\",\"udp\",\"udp\",\"tcp\",\"udp\",\"tcp\",\"tcp\",\"udp\",\"tcp\",\"udp\",\"udp\",\"udp\",\"udp\",\"tcp\",\"udp\",\"tcp\",\"udp\",\"udp\",\"tcp\",\"udp\",\"udp\",\"udp\",\"udp\",\"tcp\",\"tcp\",\"tcp\",\"tcp\",\"udp\",\"udp\",\"udp\",\"tcp\",\"tcp\",\"udp\",\"udp\",\"udp\",\"udp\",\"udp\",\"tcp\",\"udp\",\"tcp\",\"udp\",\"udp\",\"udp\",\"udp\",\"tcp\",\"udp\",\"udp\",\"udp\",\"udp\",\"udp\",\"tcp\",\"udp\",\"udp\",\"udp\",\"tcp\",\"udp\",\"tcp\",\"tcp\",\"tcp\",\"udp\",\"tcp\",\"udp\",\"udp\",\"udp\",\"tcp\",\"udp\",\"udp\",\"udp\",\"tcp\",\"udp\",\"udp\",\"udp\",\"udp\",\"udp\",\"udp\",\"udp\",\"tcp\",\"udp\",\"udp\",\"tcp\",\"udp\",\"tcp\",\"tcp\",\"udp\",\"udp\",\"tcp\",\"udp\",\"tcp\",\"udp\",\"udp\",\"tcp\",\"udp\",\"tcp\",\"udp\",\"udp\",\"udp\",\"udp\",\"udp\",\"udp\",\"tcp\",\"udp\",\"udp\",\"udp\",\"udp\",\"udp\"],\"alpha\":[1,1,1,1,1,1,1,1,1,1,1,1,1,1,1,1,1,1,1,1,1,1,1,1,1,1,1,1,1,1,1,1,1,1,1,1,1,1,1,1,1,1,1,1,1,1,1,1,1,1,1,1,1,1,1,1,1,1,1,1,1,1,1,1,1,1,1,1,1,1,1,1,1,1,1,1,1,1,1,1,1,1,1,1,1,1,1,1,1,1,1,1,1,1,1,1,1,1,1,1,1,1,1,1,1,1,1,1,1,1,1,1,1,1,1,1,1,1,1,1,1,1,1,1,1,1,1,1,1,1,1,1,1,1,1,1,1,1,1,1,1,1,1,1,1,1,1,1,1,1,1,1,1,1,1,1,1,1,1,1,1,1,1,1,1,1,1,1,1,1,1,1,1,1,1,1,1,1,1,1,1,1,1,1,1,1,1,1,1,1,1,1,1,1,1,1,1,1,1,1,1,1,1,1,1,1,1,1,1,1,1,1,1,1,1,1,1,1,1,1,1,1,1,1,1,1,1,1,1,1,1,1,1,1,1,1,1,1,1,1,1,1,1,1,1,1,1,1,1,1,1,1,1,1,1,1,1,1,1,1,1,1,1,1,1,1,1,1,1,1,1,1,1,1,1,1,1,1,1,1,1,1,1,1,1,1,1,1,1,1,1,1,1,1,1,1,1,1,1,1,1,1,1,1,1,1,1,1,1,1,1,1,1,1,1,1,1,1,1,1,1,1,1,1,1,1,1,1,1,1,1,1,1,1,1,1,1,1,1,1,1,1,1,1,1,1,1,1,1,1,1,1,1,1,1,1,1,1,1,1,1,1,1,1,1,1,1,1,1,1,1,1,1,1,1,1,1,1,1,1,1,1,1,1,1,1,1,1,1,1,1,1,1,1,1,1,1,1,1,1,1,1,1,1,1,1,1,1,1,1,1,1,1,1,1,1,1,1,1,1,1,1,1,1,1,1,1,1,1,1,1,1,1,1,1,1,1,1,1,1,1,1,1,1,1,1,1,1,1,1,1,1,1,1,1,1,1,1,1,1,1,1,1,1,1,1,1,1,1,1,1,1,1,1,1,1,1,1,1,1,1,1,1,1,1,1,1,1,1,1,1,1,1,1,1,1,1,1,1,1,1,1,1,1,1,1,1,1,1,1,1,1,1,1,1,1,1,1,1,1,1,1,1,1,1,1,1,1,1,1,1,1,1,1,1,1,1,1,1,1,1,1,1,1,1,1,1,1,1,1,1,1,1,1,1,1,1,1,1,1,1,1,1,1,1,1,1,1,1,1,1,1,1,1,1,1,1,1,1,1,1,1,1,1,1,1,1,1,1,1,1,1,1,1,1,1,1,1,1,1,1,1,1,1,1,1,1,1,1,1,1,1,1,1,1,1,1,1,1,1,1,1,1,1,1,1,1,1,1,1,1,1,1,1,1,1,1,1,1,1,1,1,1,1,1,1,1,1,1,1,1,1,1,1,1,1,1,1,1,1,1,1,1,1,1,1,1,1,1,1,1,1,1,1,1,1,1,1,1,1,1,1,1,1,1,1,1,1,1,1,1,1,1,1,1,1,1,1,1,1,1,1,1,1,1,1,1,1,1,1,1,1,1,1,1,1,1,1,1,1,1,1,1,1,1,1,1,1,1,1,1,1,1,1,1,1,1,1,1,1,1,1,1,1,1,1,1,1,1,1,1,1,1,1,1,1,1,1,1,1,1,1,1,1,1,1,1,1,1,1,1,1,1,1,1,1,1,1,1,1,1,1,1,1,1,1,1,1,1,1,1,1,1,1,1,1,1,1,1,1,1,1,1,1,1,1,1,1,1,1,1,1,1,1,1,1,1,1,1,1,1,1,1,1,1,1,1,1,1,1,1,1,1,1,1,1,1,1,1,1,1,1,1,1,1,1,1,1,1,1,1,1,1,1,1,1,1,1,1,1,1,1,1,1,1,1,1,1,1,1,1,1,1,1,1,1,1,1,1,1,1,1,1,1,1,1,1,1,1,1,1,1,1,1,1,1,1,1,1,1,1,1,1,1,1,1,1,1,1,1,1,1,1,1,1,1,1,1,1,1,1,1,1,1,1,1,1,1,1,1,1,1,1,1,1,1,1,1,1,1,1,1,1,1,1,1,1,1,1,1,1,1,1,1,1,1,1,1,1,1,1,1,1,1,1,1,1,1,1,1,1,1,1,1,1,1,1,1,1,1,1,1,1,1,1,1,1,1,1,1,1,1,1,1,1,1,1,1,1,1,1,1,1,1,1,1,1,1,1,1,1,1,1,1,1,1,1,1,1,1,1,1,1,1,1,1,1,1,1,1,1,1,1,1,1,1,1,1,1,1,1,1,1,1,1,1,1,1,1,1,1,1,1,1,1,1,1,1,1,1,1,1,1,1,1,1,1,1,1,1,1,1,1,1,1,1,1,1,1,1,1,1,1,1,1,1,1,1,1,1,1,1,1,1,1,1,1,1,1,1,1,1,1,1,1,1,1,1,1,1,1,1,1,1,1,1,1,1,1,1,1,1,1,1,1,1,1,1,1,1,1,1,1,1,1,1,1,1,1,1,1,1,1,1,1,1,1,1,1,1,1,1,1,1,1,1,1,1,1,1,1,1,1,1,1,1,1,1,1,1,1,1,1,1,1,1,1,1,1,1,1,1,1,1,1,1,1,1,1,1,1,1,1,1,1,1,1,1,1,1,1,1,1,1,1,1,1,1,1,1,1,1,1,1,1,1,1,1,1,1,1,1,1,1,1,1,1,1,1,1,1,1,1,1,1,1,1,1,1,1,1,1,1,1,1,1,1,1,1,1,1,1,1,1,1,1,1,1,1,1,1,1,1,1,1,1,1,1,1,1,1,1,1,1,1,1,1,1,1,1,1,1,1,1,1,1,1,1,1,1,1,1,1,1,1,1,1,1,1,1,1,1,1,1,1,1,1,1,1,1,1,1,1,1,1,1,1,1,1,1,1,1,1,1,1,1,1,1,1,1,1,1,1,1,1,1,1,1,1,1,1,1,1,1,1,1,1,1,1,1,1,1,1,1,1,1,1,1,1,1,1,1,1,1,1,1,1,1,1,1,1,1,1,1,1,1,1,1,1,1,1,1,1,1,1,1,1,1,1,1,1,1,1,1,1,1,1,1,1,1,1,1,1,1,1,1,1,1,1,1,1,1,1,1,1,1,1,1,1,1,1,1,1,1,1,1,1,1,1,1,1,1,1,1,1,1,1,1,1,1,1,1,1,1,1,1,1,1,1,1,1,1,1,1,1,1,1,1,1,1,1,1,1,1,1,1,1,1,1,1,1,1,1,1,1,1,1,1,1,1,1,1,1,1,1,1,1,1,1,1,1,1,1,1,1,1,1,1,1,1],\"color\":[\"NaN\",\"NaN\",\"NaN\",\"NaN\",\"NaN\",\"NaN\",\"NaN\",\"NaN\",\"NaN\",\"NaN\",\"NaN\",\"NaN\",\"NaN\",\"NaN\",\"NaN\",\"NaN\",\"NaN\",\"NaN\",\"NaN\",\"NaN\",\"NaN\",\"NaN\",\"NaN\",\"NaN\",\"NaN\",\"NaN\",\"NaN\",\"NaN\",\"NaN\",\"NaN\",\"NaN\",\"NaN\",\"NaN\",\"NaN\",\"NaN\",\"NaN\",\"NaN\",\"NaN\",\"NaN\",\"NaN\",\"NaN\",\"#583efd\",\"NaN\",\"NaN\",\"NaN\",\"NaN\",\"NaN\",\"NaN\",\"NaN\",\"NaN\",\"NaN\",\"NaN\",\"NaN\",\"NaN\",\"NaN\",\"NaN\",\"NaN\",\"NaN\",\"NaN\",\"NaN\",\"NaN\",\"NaN\",\"NaN\",\"NaN\",\"NaN\",\"NaN\",\"NaN\",\"NaN\",\"NaN\",\"NaN\",\"NaN\",\"NaN\",\"NaN\",\"NaN\",\"NaN\",\"NaN\",\"NaN\",\"NaN\",\"NaN\",\"NaN\",\"NaN\",\"NaN\",\"NaN\",\"NaN\",\"NaN\",\"NaN\",\"NaN\",\"NaN\",\"NaN\",\"#8000ff\",\"NaN\",\"NaN\",\"NaN\",\"NaN\",\"NaN\",\"NaN\",\"NaN\",\"NaN\",\"NaN\",\"NaN\",\"NaN\",\"NaN\",\"NaN\",\"NaN\",\"NaN\",\"NaN\",\"NaN\",\"NaN\",\"NaN\",\"NaN\",\"NaN\",\"NaN\",\"NaN\",\"NaN\",\"NaN\",\"NaN\",\"NaN\",\"NaN\",\"NaN\",\"NaN\",\"NaN\",\"NaN\",\"NaN\",\"NaN\",\"NaN\",\"NaN\",\"NaN\",\"NaN\",\"NaN\",\"NaN\",\"NaN\",\"NaN\",\"NaN\",\"NaN\",\"NaN\",\"NaN\",\"NaN\",\"NaN\",\"NaN\",\"NaN\",\"NaN\",\"NaN\",\"NaN\",\"NaN\",\"NaN\",\"NaN\",\"NaN\",\"NaN\",\"NaN\",\"NaN\",\"NaN\",\"NaN\",\"NaN\",\"NaN\",\"#8000ff\",\"NaN\",\"NaN\",\"NaN\",\"NaN\",\"NaN\",\"NaN\",\"NaN\",\"NaN\",\"NaN\",\"NaN\",\"NaN\",\"NaN\",\"NaN\",\"NaN\",\"NaN\",\"NaN\",\"#8000ff\",\"NaN\",\"NaN\",\"NaN\",\"#3079f7\",\"NaN\",\"NaN\",\"NaN\",\"NaN\",\"NaN\",\"NaN\",\"NaN\",\"NaN\",\"NaN\",\"NaN\",\"NaN\",\"NaN\",\"NaN\",\"NaN\",\"NaN\",\"NaN\",\"NaN\",\"NaN\",\"NaN\",\"NaN\",\"NaN\",\"NaN\",\"NaN\",\"NaN\",\"NaN\",\"NaN\",\"NaN\",\"NaN\",\"NaN\",\"NaN\",\"NaN\",\"NaN\",\"NaN\",\"NaN\",\"NaN\",\"NaN\",\"NaN\",\"NaN\",\"NaN\",\"NaN\",\"NaN\",\"NaN\",\"NaN\",\"NaN\",\"NaN\",\"NaN\",\"NaN\",\"NaN\",\"NaN\",\"NaN\",\"NaN\",\"NaN\",\"NaN\",\"NaN\",\"NaN\",\"NaN\",\"NaN\",\"NaN\",\"NaN\",\"NaN\",\"NaN\",\"NaN\",\"NaN\",\"NaN\",\"NaN\",\"NaN\",\"NaN\",\"NaN\",\"NaN\",\"NaN\",\"NaN\",\"NaN\",\"NaN\",\"NaN\",\"NaN\",\"NaN\",\"NaN\",\"NaN\",\"NaN\",\"NaN\",\"NaN\",\"NaN\",\"NaN\",\"NaN\",\"NaN\",\"NaN\",\"NaN\",\"NaN\",\"NaN\",\"NaN\",\"NaN\",\"NaN\",\"NaN\",\"NaN\",\"NaN\",\"NaN\",\"NaN\",\"NaN\",\"NaN\",\"NaN\",\"NaN\",\"NaN\",\"NaN\",\"NaN\",\"NaN\",\"NaN\",\"NaN\",\"NaN\",\"NaN\",\"NaN\",\"NaN\",\"NaN\",\"NaN\",\"NaN\",\"NaN\",\"NaN\",\"NaN\",\"NaN\",\"NaN\",\"NaN\",\"NaN\",\"NaN\",\"NaN\",\"NaN\",\"NaN\",\"NaN\",\"NaN\",\"NaN\",\"NaN\",\"NaN\",\"NaN\",\"NaN\",\"NaN\",\"NaN\",\"NaN\",\"NaN\",\"NaN\",\"NaN\",\"NaN\",\"NaN\",\"NaN\",\"NaN\",\"NaN\",\"NaN\",\"NaN\",\"NaN\",\"NaN\",\"NaN\",\"NaN\",\"NaN\",\"NaN\",\"NaN\",\"NaN\",\"NaN\",\"NaN\",\"NaN\",\"NaN\",\"NaN\",\"NaN\",\"NaN\",\"NaN\",\"NaN\",\"NaN\",\"#8000ff\",\"NaN\",\"NaN\",\"NaN\",\"NaN\",\"NaN\",\"NaN\",\"NaN\",\"NaN\",\"NaN\",\"NaN\",\"NaN\",\"NaN\",\"NaN\",\"NaN\",\"NaN\",\"NaN\",\"NaN\",\"NaN\",\"NaN\",\"NaN\",\"NaN\",\"NaN\",\"NaN\",\"NaN\",\"NaN\",\"NaN\",\"NaN\",\"NaN\",\"NaN\",\"NaN\",\"NaN\",\"NaN\",\"NaN\",\"NaN\",\"NaN\",\"NaN\",\"NaN\",\"NaN\",\"NaN\",\"NaN\",\"NaN\",\"NaN\",\"NaN\",\"NaN\",\"NaN\",\"NaN\",\"NaN\",\"NaN\",\"NaN\",\"NaN\",\"NaN\",\"NaN\",\"NaN\",\"NaN\",\"NaN\",\"NaN\",\"NaN\",\"NaN\",\"NaN\",\"NaN\",\"NaN\",\"NaN\",\"NaN\",\"NaN\",\"NaN\",\"NaN\",\"NaN\",\"NaN\",\"NaN\",\"NaN\",\"NaN\",\"NaN\",\"NaN\",\"NaN\",\"NaN\",\"NaN\",\"NaN\",\"NaN\",\"NaN\",\"NaN\",\"NaN\",\"NaN\",\"NaN\",\"NaN\",\"NaN\",\"NaN\",\"NaN\",\"NaN\",\"NaN\",\"NaN\",\"NaN\",\"NaN\",\"NaN\",\"NaN\",\"NaN\",\"NaN\",\"NaN\",\"NaN\",\"NaN\",\"NaN\",\"NaN\",\"NaN\",\"NaN\",\"NaN\",\"NaN\",\"NaN\",\"NaN\",\"NaN\",\"NaN\",\"NaN\",\"NaN\",\"NaN\",\"NaN\",\"NaN\",\"NaN\",\"NaN\",\"NaN\",\"NaN\",\"NaN\",\"NaN\",\"NaN\",\"NaN\",\"NaN\",\"NaN\",\"NaN\",\"NaN\",\"NaN\",\"NaN\",\"#8000ff\",\"NaN\",\"NaN\",\"NaN\",\"NaN\",\"NaN\",\"NaN\",\"NaN\",\"NaN\",\"NaN\",\"NaN\",\"NaN\",\"NaN\",\"NaN\",\"NaN\",\"NaN\",\"NaN\",\"NaN\",\"NaN\",\"NaN\",\"NaN\",\"NaN\",\"NaN\",\"#8000ff\",\"NaN\",\"NaN\",\"NaN\",\"NaN\",\"NaN\",\"NaN\",\"NaN\",\"NaN\",\"NaN\",\"NaN\",\"NaN\",\"NaN\",\"NaN\",\"NaN\",\"NaN\",\"NaN\",\"NaN\",\"NaN\",\"NaN\",\"NaN\",\"NaN\",\"NaN\",\"NaN\",\"NaN\",\"NaN\",\"NaN\",\"NaN\",\"NaN\",\"NaN\",\"NaN\",\"NaN\",\"NaN\",\"NaN\",\"NaN\",\"NaN\",\"NaN\",\"NaN\",\"NaN\",\"#3079f7\",\"NaN\",\"NaN\",\"NaN\",\"NaN\",\"NaN\",\"NaN\",\"NaN\",\"NaN\",\"NaN\",\"NaN\",\"NaN\",\"NaN\",\"NaN\",\"NaN\",\"NaN\",\"NaN\",\"NaN\",\"NaN\",\"NaN\",\"NaN\",\"NaN\",\"NaN\",\"NaN\",\"NaN\",\"NaN\",\"NaN\",\"NaN\",\"NaN\",\"NaN\",\"NaN\",\"NaN\",\"NaN\",\"NaN\",\"NaN\",\"NaN\",\"NaN\",\"NaN\",\"NaN\",\"NaN\",\"NaN\",\"NaN\",\"NaN\",\"NaN\",\"#06aeed\",\"NaN\",\"NaN\",\"NaN\",\"NaN\",\"NaN\",\"NaN\",\"NaN\",\"NaN\",\"NaN\",\"NaN\",\"NaN\",\"NaN\",\"NaN\",\"NaN\",\"NaN\",\"NaN\",\"NaN\",\"NaN\",\"NaN\",\"NaN\",\"NaN\",\"NaN\",\"NaN\",\"NaN\",\"NaN\",\"NaN\",\"NaN\",\"NaN\",\"NaN\",\"NaN\",\"NaN\",\"NaN\",\"NaN\",\"NaN\",\"NaN\",\"NaN\",\"NaN\",\"NaN\",\"NaN\",\"NaN\",\"NaN\",\"NaN\",\"NaN\",\"NaN\",\"NaN\",\"NaN\",\"NaN\",\"NaN\",\"NaN\",\"NaN\",\"NaN\",\"NaN\",\"NaN\",\"NaN\",\"NaN\",\"NaN\",\"NaN\",\"NaN\",\"NaN\",\"NaN\",\"NaN\",\"NaN\",\"NaN\",\"NaN\",\"NaN\",\"NaN\",\"NaN\",\"NaN\",\"NaN\",\"NaN\",\"NaN\",\"NaN\",\"NaN\",\"NaN\",\"NaN\",\"NaN\",\"NaN\",\"NaN\",\"NaN\",\"NaN\",\"NaN\",\"NaN\",\"NaN\",\"NaN\",\"NaN\",\"NaN\",\"NaN\",\"NaN\",\"NaN\",\"NaN\",\"NaN\",\"#8000ff\",\"NaN\",\"NaN\",\"NaN\",\"NaN\",\"NaN\",\"NaN\",\"NaN\",\"NaN\",\"NaN\",\"NaN\",\"NaN\",\"NaN\",\"NaN\",\"NaN\",\"NaN\",\"NaN\",\"NaN\",\"NaN\",\"NaN\",\"NaN\",\"NaN\",\"NaN\",\"NaN\",\"NaN\",\"NaN\",\"NaN\",\"NaN\",\"NaN\",\"NaN\",\"NaN\",\"NaN\",\"NaN\",\"NaN\",\"NaN\",\"NaN\",\"NaN\",\"NaN\",\"NaN\",\"NaN\",\"NaN\",\"NaN\",\"NaN\",\"NaN\",\"NaN\",\"NaN\",\"NaN\",\"NaN\",\"NaN\",\"NaN\",\"NaN\",\"NaN\",\"NaN\",\"NaN\",\"NaN\",\"NaN\",\"NaN\",\"NaN\",\"NaN\",\"NaN\",\"NaN\",\"NaN\",\"NaN\",\"NaN\",\"NaN\",\"NaN\",\"NaN\",\"NaN\",\"NaN\",\"NaN\",\"NaN\",\"#ff0000\",\"NaN\",\"NaN\",\"NaN\",\"NaN\",\"NaN\",\"NaN\",\"NaN\",\"NaN\",\"NaN\",\"NaN\",\"NaN\",\"NaN\",\"NaN\",\"NaN\",\"NaN\",\"NaN\",\"NaN\",\"NaN\",\"NaN\",\"NaN\",\"NaN\",\"NaN\",\"NaN\",\"NaN\",\"NaN\",\"NaN\",\"NaN\",\"NaN\",\"NaN\",\"NaN\",\"NaN\",\"NaN\",\"NaN\",\"NaN\",\"NaN\",\"NaN\",\"NaN\",\"NaN\",\"NaN\",\"NaN\",\"NaN\",\"NaN\",\"NaN\",\"NaN\",\"NaN\",\"NaN\",\"NaN\",\"NaN\",\"NaN\",\"NaN\",\"NaN\",\"NaN\",\"NaN\",\"NaN\",\"NaN\",\"NaN\",\"NaN\",\"NaN\",\"NaN\",\"NaN\",\"NaN\",\"NaN\",\"NaN\",\"NaN\",\"NaN\",\"NaN\",\"NaN\",\"NaN\",\"NaN\",\"NaN\",\"NaN\",\"NaN\",\"NaN\",\"NaN\",\"NaN\",\"NaN\",\"NaN\",\"NaN\",\"NaN\",\"NaN\",\"NaN\",\"NaN\",\"NaN\",\"NaN\",\"NaN\",\"#06aeed\",\"NaN\",\"NaN\",\"NaN\",\"NaN\",\"NaN\",\"NaN\",\"NaN\",\"NaN\",\"NaN\",\"NaN\",\"NaN\",\"NaN\",\"NaN\",\"NaN\",\"NaN\",\"NaN\",\"NaN\",\"NaN\",\"NaN\",\"NaN\",\"NaN\",\"NaN\",\"NaN\",\"NaN\",\"NaN\",\"NaN\",\"NaN\",\"NaN\",\"NaN\",\"NaN\",\"NaN\",\"NaN\",\"NaN\",\"NaN\",\"NaN\",\"NaN\",\"NaN\",\"NaN\",\"NaN\",\"NaN\",\"NaN\",\"NaN\",\"NaN\",\"NaN\",\"NaN\",\"NaN\",\"NaN\",\"NaN\",\"NaN\",\"NaN\",\"NaN\",\"NaN\",\"NaN\",\"NaN\",\"NaN\",\"NaN\",\"NaN\",\"NaN\",\"NaN\",\"NaN\",\"NaN\",\"NaN\",\"NaN\",\"NaN\",\"NaN\",\"NaN\",\"NaN\",\"NaN\",\"NaN\",\"NaN\",\"NaN\",\"NaN\",\"NaN\",\"NaN\",\"NaN\",\"NaN\",\"NaN\",\"NaN\",\"NaN\",\"NaN\",\"NaN\",\"NaN\",\"NaN\",\"NaN\",\"NaN\",\"NaN\",\"NaN\",\"NaN\",\"NaN\",\"NaN\",\"NaN\",\"NaN\",\"NaN\",\"NaN\",\"NaN\",\"NaN\",\"NaN\",\"NaN\",\"NaN\",\"NaN\",\"NaN\",\"NaN\",\"NaN\",\"NaN\",\"NaN\",\"NaN\",\"NaN\",\"NaN\",\"NaN\",\"NaN\",\"NaN\",\"NaN\",\"NaN\",\"NaN\",\"NaN\",\"NaN\",\"NaN\",\"NaN\",\"NaN\",\"NaN\",\"NaN\",\"NaN\",\"NaN\",\"NaN\",\"NaN\",\"NaN\",\"NaN\",\"NaN\",\"NaN\",\"NaN\",\"NaN\",\"NaN\",\"NaN\",\"NaN\",\"NaN\",\"NaN\",\"NaN\",\"NaN\",\"NaN\",\"NaN\",\"NaN\",\"NaN\",\"NaN\",\"NaN\",\"NaN\",\"NaN\",\"NaN\",\"NaN\",\"NaN\",\"#06aeed\",\"NaN\",\"NaN\",\"NaN\",\"NaN\",\"NaN\",\"NaN\",\"NaN\",\"NaN\",\"NaN\",\"NaN\",\"NaN\",\"NaN\",\"NaN\",\"NaN\",\"NaN\",\"NaN\",\"NaN\",\"NaN\",\"NaN\",\"NaN\",\"NaN\",\"NaN\",\"NaN\",\"NaN\",\"NaN\",\"NaN\",\"NaN\",\"NaN\",\"NaN\",\"NaN\",\"NaN\",\"NaN\",\"NaN\",\"NaN\",\"NaN\",\"NaN\",\"NaN\",\"NaN\",\"NaN\",\"NaN\",\"NaN\",\"NaN\",\"NaN\",\"NaN\",\"NaN\",\"NaN\",\"NaN\",\"NaN\",\"NaN\",\"#06aeed\",\"NaN\",\"NaN\",\"NaN\",\"NaN\",\"NaN\",\"NaN\",\"NaN\",\"NaN\",\"NaN\",\"NaN\",\"NaN\",\"NaN\",\"NaN\",\"NaN\",\"NaN\",\"NaN\",\"NaN\",\"NaN\",\"NaN\",\"NaN\",\"NaN\",\"NaN\",\"NaN\",\"NaN\",\"NaN\",\"NaN\",\"NaN\",\"NaN\",\"NaN\",\"NaN\",\"NaN\",\"NaN\",\"NaN\",\"NaN\",\"NaN\",\"NaN\",\"NaN\",\"NaN\",\"NaN\",\"NaN\",\"NaN\",\"NaN\",\"NaN\",\"NaN\",\"NaN\",\"NaN\",\"NaN\",\"NaN\",\"NaN\",\"NaN\",\"NaN\",\"NaN\",\"NaN\",\"NaN\",\"NaN\",\"NaN\",\"NaN\",\"NaN\",\"NaN\",\"NaN\",\"NaN\",\"NaN\",\"NaN\",\"NaN\",\"NaN\",\"NaN\",\"NaN\",\"NaN\",\"NaN\",\"NaN\",\"NaN\",\"NaN\",\"NaN\",\"NaN\",\"NaN\",\"NaN\",\"NaN\",\"NaN\",\"NaN\",\"NaN\",\"NaN\",\"NaN\",\"NaN\",\"#06aeed\",\"NaN\",\"NaN\",\"NaN\",\"NaN\",\"NaN\",\"NaN\",\"NaN\",\"NaN\",\"NaN\",\"NaN\",\"NaN\",\"NaN\",\"NaN\",\"NaN\",\"NaN\",\"NaN\",\"NaN\",\"NaN\",\"NaN\",\"NaN\",\"NaN\",\"NaN\",\"NaN\",\"NaN\",\"NaN\",\"NaN\",\"NaN\",\"NaN\",\"NaN\",\"NaN\",\"NaN\",\"NaN\",\"NaN\",\"NaN\",\"NaN\",\"NaN\",\"NaN\",\"NaN\",\"NaN\",\"NaN\",\"NaN\",\"NaN\",\"NaN\",\"NaN\",\"NaN\",\"NaN\",\"NaN\",\"NaN\",\"NaN\",\"NaN\",\"NaN\",\"NaN\",\"NaN\",\"NaN\",\"NaN\",\"NaN\",\"NaN\",\"NaN\",\"NaN\",\"NaN\",\"NaN\",\"NaN\",\"NaN\",\"NaN\",\"NaN\",\"NaN\",\"NaN\",\"NaN\",\"NaN\",\"NaN\",\"#06aeed\",\"NaN\",\"NaN\",\"NaN\",\"NaN\",\"NaN\",\"NaN\",\"NaN\",\"NaN\",\"NaN\",\"NaN\",\"NaN\",\"NaN\",\"NaN\",\"NaN\",\"NaN\",\"NaN\",\"NaN\",\"NaN\",\"NaN\",\"NaN\",\"NaN\",\"NaN\",\"NaN\",\"NaN\",\"NaN\",\"NaN\",\"NaN\",\"NaN\",\"NaN\",\"NaN\",\"NaN\",\"NaN\",\"NaN\",\"NaN\",\"NaN\",\"NaN\",\"NaN\",\"NaN\",\"NaN\",\"NaN\",\"NaN\",\"NaN\",\"NaN\",\"NaN\",\"NaN\",\"NaN\",\"NaN\",\"NaN\",\"NaN\",\"NaN\",\"NaN\",\"NaN\",\"NaN\",\"NaN\",\"NaN\",\"NaN\",\"NaN\",\"NaN\",\"NaN\",\"NaN\",\"NaN\",\"NaN\",\"NaN\",\"NaN\",\"NaN\",\"NaN\",\"NaN\",\"NaN\",\"NaN\",\"NaN\",\"NaN\",\"NaN\",\"NaN\",\"NaN\",\"NaN\",\"NaN\",\"NaN\",\"NaN\",\"NaN\",\"NaN\",\"NaN\",\"NaN\",\"NaN\",\"NaN\",\"NaN\",\"NaN\",\"NaN\",\"NaN\",\"NaN\",\"NaN\",\"NaN\",\"NaN\",\"NaN\",\"NaN\",\"NaN\",\"NaN\",\"NaN\",\"NaN\",\"NaN\",\"NaN\",\"NaN\",\"NaN\",\"NaN\",\"NaN\",\"NaN\",\"NaN\",\"NaN\",\"NaN\",\"NaN\",\"NaN\",\"NaN\",\"NaN\",\"NaN\",\"NaN\",\"NaN\",\"NaN\",\"NaN\",\"NaN\",\"NaN\",\"NaN\",\"NaN\",\"NaN\",\"NaN\",\"NaN\",\"NaN\",\"NaN\",\"NaN\",\"NaN\",\"NaN\",\"NaN\",\"NaN\",\"NaN\",\"NaN\",\"NaN\",\"NaN\",\"NaN\",\"NaN\",\"NaN\",\"NaN\",\"NaN\",\"NaN\",\"NaN\",\"NaN\",\"NaN\",\"NaN\",\"NaN\",\"NaN\",\"NaN\",\"NaN\",\"NaN\",\"NaN\",\"NaN\",\"NaN\",\"NaN\",\"NaN\",\"NaN\",\"NaN\",\"NaN\",\"NaN\",\"NaN\",\"NaN\",\"NaN\",\"NaN\",\"NaN\",\"NaN\",\"NaN\",\"NaN\",\"NaN\",\"NaN\",\"NaN\",\"NaN\",\"NaN\",\"NaN\",\"NaN\",\"NaN\",\"NaN\",\"NaN\",\"NaN\",\"NaN\",\"NaN\",\"NaN\",\"NaN\",\"NaN\",\"NaN\",\"NaN\",\"NaN\",\"NaN\",\"NaN\",\"NaN\",\"NaN\",\"NaN\",\"NaN\",\"NaN\",\"NaN\",\"NaN\",\"NaN\",\"NaN\",\"NaN\",\"NaN\",\"NaN\",\"NaN\",\"NaN\",\"NaN\",\"NaN\",\"NaN\",\"NaN\",\"NaN\",\"NaN\",\"NaN\",\"NaN\",\"NaN\",\"NaN\",\"NaN\",\"NaN\",\"NaN\",\"NaN\",\"NaN\",\"NaN\",\"NaN\",\"NaN\",\"NaN\",\"NaN\",\"NaN\",\"NaN\",\"NaN\",\"NaN\",\"NaN\",\"NaN\",\"NaN\",\"NaN\",\"NaN\",\"NaN\",\"NaN\",\"NaN\",\"NaN\",\"NaN\",\"NaN\",\"NaN\",\"NaN\",\"NaN\",\"NaN\",\"NaN\",\"NaN\",\"NaN\",\"NaN\",\"NaN\",\"NaN\",\"NaN\",\"NaN\",\"NaN\",\"NaN\",\"NaN\",\"NaN\",\"NaN\",\"NaN\",\"NaN\",\"NaN\",\"NaN\",\"NaN\",\"NaN\",\"NaN\",\"NaN\",\"NaN\",\"NaN\",\"NaN\",\"NaN\",\"NaN\",\"NaN\",\"NaN\",\"NaN\",\"NaN\",\"NaN\",\"NaN\",\"NaN\",\"NaN\",\"NaN\",\"NaN\",\"NaN\",\"NaN\",\"NaN\",\"NaN\",\"NaN\",\"NaN\",\"NaN\",\"NaN\",\"NaN\",\"NaN\",\"NaN\",\"NaN\",\"NaN\",\"NaN\",\"NaN\",\"NaN\",\"NaN\",\"NaN\",\"NaN\",\"NaN\",\"NaN\",\"#06aeed\",\"NaN\",\"NaN\",\"NaN\",\"NaN\",\"NaN\",\"NaN\",\"NaN\",\"NaN\",\"NaN\",\"NaN\",\"NaN\",\"NaN\",\"NaN\",\"NaN\",\"NaN\",\"NaN\",\"NaN\",\"NaN\",\"NaN\",\"NaN\",\"NaN\",\"NaN\"],\"from_node\":[\"147.32.84.229\",\"147.32.84.229\",\"147.32.80.9\",\"147.32.84.2\",\"147.32.84.229\",\"147.32.80.9\",\"147.32.84.229\",\"147.32.84.229\",\"147.32.80.9\",\"147.32.84.229\",\"147.32.80.9\",\"147.32.84.229\",\"147.32.80.9\",\"147.32.80.9\",\"147.32.84.229\",\"174.121.79.174\",\"147.32.80.9\",\"147.32.85.56\",\"147.32.80.9\",\"198.151.161.137\",\"147.32.80.9\",\"147.32.80.9\",\"147.32.84.229\",\"147.32.80.9\",\"147.32.84.229\",\"147.32.84.229\",\"149.13.32.89\",\"147.32.80.9\",\"147.32.84.229\",\"74.125.232.203\",\"147.32.85.5\",\"147.32.80.13\",\"147.32.80.9\",\"147.32.80.9\",\"147.32.80.9\",\"147.32.84.229\",\"147.32.80.9\",\"78.24.14.16\",\"147.32.84.2\",\"74.125.232.216\",\"157.24.2.95\",\"130.126.119.135\",\"147.32.80.9\",\"84.245.205.25\",\"239.255.255.253\",\"147.32.84.130\",\"74.125.232.195\",\"195.113.232.75\",\"147.32.84.229\",\"147.32.80.9\",\"147.32.80.9\",\"147.32.80.9\",\"147.32.80.9\",\"77.73.47.124\",\"147.32.80.9\",\"147.32.80.9\",\"209.85.148.99\",\"147.32.80.9\",\"132.235.14.15\",\"147.32.80.9\",\"147.32.80.9\",\"147.32.80.9\",\"147.32.84.212\",\"147.32.80.9\",\"203.28.210.206\",\"147.32.80.9\",\"93.178.227.42\",\"95.168.214.66\",\"147.32.80.9\",\"87.98.230.229\",\"147.32.80.9\",\"46.243.48.90\",\"147.32.80.9\",\"147.32.84.229\",\"109.71.89.24\",\"147.32.80.9\",\"147.32.80.9\",\"147.32.80.9\",\"84.40.68.154\",\"147.32.84.229\",\"147.32.84.229\",\"114.27.89.246\",\"147.32.80.9\",\"147.32.84.229\",\"147.32.80.9\",\"147.32.84.229\",\"147.32.80.9\",\"147.32.80.9\",\"147.32.84.229\",\"213.29.198.144\",\"147.32.84.229\",\"147.32.84.229\",\"147.32.84.229\",\"147.32.80.9\",\"147.32.80.9\",\"147.32.80.9\",\"147.32.84.229\",\"147.32.80.9\",\"147.32.84.229\",\"147.32.80.9\",\"208.88.186.9\",\"147.32.87.44\",\"147.32.84.229\",\"147.32.80.9\",\"147.32.80.9\",\"118.22.238.107\",\"147.32.80.9\",\"147.32.80.13\",\"147.32.80.9\",\"147.32.84.118\",\"147.32.84.229\",\"147.32.84.229\",\"139.2.185.25\",\"147.32.80.9\",\"147.32.80.9\",\"147.32.86.121\",\"147.32.80.9\",\"147.32.80.9\",\"147.32.84.130\",\"147.32.84.229\",\"147.32.80.9\",\"70.94.196.223\",\"147.32.84.229\",\"147.32.80.9\",\"147.32.80.9\",\"147.32.80.9\",\"147.32.84.229\",\"147.32.84.229\",\"147.32.80.9\",\"147.32.84.229\",\"192.168.95.255\",\"147.32.80.9\",\"89.167.251.252\",\"147.32.80.9\",\"147.32.80.9\",\"147.32.84.229\",\"109.173.39.47\",\"147.32.80.9\",\"147.32.84.229\",\"147.32.80.9\",\"80.239.149.9\",\"147.32.84.229\",\"74.125.235.75\",\"147.32.80.9\",\"147.32.80.9\",\"62.245.71.112\",\"50.37.49.56\",\"147.32.86.114\",\"147.32.80.9\",\"147.32.80.9\",\"147.32.84.229\",\"147.32.80.13\",\"147.32.84.229\",\"147.32.87.41\",\"147.32.80.9\",\"147.32.80.9\",\"173.31.170.222\",\"147.32.80.9\",\"147.32.80.9\",\"147.32.80.9\",\"157.24.2.40\",\"147.32.80.9\",\"147.32.80.9\",\"147.32.80.9\",\"147.32.80.9\",\"147.32.84.229\",\"147.32.80.9\",\"147.32.84.19\",\"46.151.105.81\",\"147.32.80.9\",\"147.32.80.9\",\"147.32.87.48\",\"74.125.232.213\",\"147.32.80.9\",\"147.32.80.9\",\"147.32.80.9\",\"147.32.80.9\",\"147.32.84.229\",\"147.32.84.229\",\"147.32.84.229\",\"147.32.1.20\",\"147.32.87.54\",\"147.32.80.9\",\"147.32.86.58\",\"147.32.87.27\",\"212.233.194.244\",\"147.32.87.36\",\"187.85.211.127\",\"147.32.84.229\",\"147.32.80.9\",\"147.32.80.9\",\"109.123.211.210\",\"147.32.80.9\",\"147.32.80.9\",\"147.32.80.9\",\"192.168.1.1\",\"195.96.224.7\",\"147.32.80.9\",\"147.32.80.9\",\"147.32.80.9\",\"147.32.84.118\",\"209.85.148.106\",\"75.101.155.168\",\"89.187.147.72\",\"147.32.80.9\",\"138.108.6.20\",\"147.32.80.9\",\"147.32.80.9\",\"174.66.207.29\",\"82.208.28.249\",\"147.32.84.229\",\"147.32.80.9\",\"147.32.80.9\",\"147.32.84.229\",\"188.143.134.57\",\"147.32.84.229\",\"147.32.80.9\",\"76.13.114.90\",\"69.119.176.96\",\"147.32.80.9\",\"147.32.80.9\",\"88.192.191.39\",\"147.32.80.9\",\"147.32.80.9\",\"147.32.80.9\",\"147.32.84.229\",\"147.32.80.9\",\"147.32.84.229\",\"147.32.84.229\",\"147.32.84.229\",\"147.32.80.9\",\"147.32.80.9\",\"90.183.38.22\",\"157.24.2.136\",\"147.32.84.229\",\"147.32.84.229\",\"81.91.86.11\",\"147.32.80.9\",\"147.32.80.9\",\"147.32.80.9\",\"147.32.80.9\",\"147.32.80.9\",\"147.32.80.9\",\"209.85.148.103\",\"147.32.80.9\",\"147.32.80.9\",\"147.32.80.9\",\"147.32.80.9\",\"92.123.68.163\",\"147.32.80.9\",\"147.32.80.9\",\"77.75.76.69\",\"147.32.80.9\",\"147.32.80.9\",\"147.32.84.229\",\"147.32.80.9\",\"147.32.80.9\",\"24.50.150.184\",\"147.32.80.9\",\"147.32.84.229\",\"147.32.80.9\",\"147.32.85.109\",\"147.32.80.9\",\"147.32.80.9\",\"147.32.80.9\",\"147.32.80.9\",\"84.217.24.196\",\"147.32.80.9\",\"147.32.80.9\",\"147.32.80.9\",\"147.32.80.9\",\"147.32.80.9\",\"147.32.80.9\",\"147.32.84.229\",\"116.118.132.110\",\"147.32.84.229\",\"147.32.84.229\",\"147.32.84.229\",\"77.75.72.72\",\"82.236.18.48\",\"147.32.80.9\",\"147.32.80.9\",\"147.32.80.9\",\"147.32.80.9\",\"80.216.58.96\",\"147.32.80.9\",\"85.228.18.219\",\"147.32.80.9\",\"147.32.84.229\",\"147.32.80.9\",\"178.126.208.108\",\"89.167.251.252\",\"147.32.80.9\",\"147.32.80.9\",\"224.0.1.22\",\"147.32.80.13\",\"147.32.87.5\",\"147.32.84.118\",\"147.32.80.9\",\"147.32.80.9\",\"147.32.80.9\",\"46.4.36.120\",\"90.183.101.160\",\"147.32.84.229\",\"212.117.171.138\",\"212.161.99.172\",\"147.32.84.229\",\"147.32.84.229\",\"194.79.52.192\",\"209.85.148.147\",\"147.32.84.229\",\"147.32.84.2\",\"147.32.80.9\",\"217.31.52.14\",\"147.32.80.9\",\"147.32.84.229\",\"195.113.232.89\",\"178.122.150.210\",\"147.32.80.9\",\"68.58.176.190\",\"147.32.80.9\",\"147.32.84.229\",\"147.32.80.9\",\"147.32.80.9\",\"147.32.84.229\",\"147.32.1.20\",\"147.32.80.9\",\"147.32.84.229\",\"89.248.170.184\",\"217.120.222.77\",\"147.32.80.9\",\"147.32.80.9\",\"147.32.84.229\",\"67.202.66.205\",\"147.32.80.9\",\"109.184.214.43\",\"147.32.84.229\",\"147.32.80.9\",\"147.32.84.229\",\"147.32.80.9\",\"147.32.80.9\",\"147.32.80.9\",\"147.32.80.9\",\"147.32.84.229\",\"188.138.84.239\",\"147.32.80.9\",\"147.32.86.77\",\"147.32.87.54\",\"74.125.232.193\",\"195.96.224.7\",\"147.32.85.84\",\"147.32.80.9\",\"147.32.84.229\",\"147.32.80.9\",\"147.32.80.9\",\"147.32.84.229\",\"147.32.84.229\",\"147.32.84.229\",\"224.0.0.1\",\"147.32.84.229\",\"147.32.84.229\",\"147.32.80.9\",\"114.27.6.99\",\"147.32.80.9\",\"147.32.80.9\",\"147.32.84.229\",\"147.32.80.9\",\"93.105.54.116\",\"147.32.80.9\",\"147.32.80.9\",\"85.17.80.78\",\"109.224.9.12\",\"147.32.84.229\",\"147.32.84.229\",\"147.32.87.44\",\"147.32.80.9\",\"94.124.104.200\",\"147.32.80.9\",\"66.227.201.78\",\"147.32.86.237\",\"147.32.80.9\",\"147.32.80.9\",\"76.13.114.90\",\"147.32.80.9\",\"147.32.80.9\",\"147.32.84.229\",\"147.32.80.9\",\"147.32.84.188\",\"147.32.80.9\",\"147.32.84.229\",\"147.32.80.9\",\"147.32.84.229\",\"147.32.80.9\",\"147.32.80.9\",\"147.32.80.9\",\"147.32.80.9\",\"147.32.84.229\",\"147.32.80.9\",\"147.32.80.9\",\"147.32.80.9\",\"174.121.79.174\",\"147.32.80.9\",\"209.107.220.158\",\"147.32.84.229\",\"78.141.181.225\",\"147.32.80.9\",\"72.21.194.22\",\"147.32.80.9\",\"147.32.80.9\",\"195.113.232.90\",\"176.56.58.197\",\"147.32.80.9\",\"147.32.80.9\",\"151.54.192.187\",\"147.32.80.9\",\"183.182.82.29\",\"67.160.164.2\",\"80.90.238.21\",\"147.32.80.9\",\"147.32.87.238\",\"147.32.87.4\",\"147.32.84.229\",\"147.32.80.9\",\"147.32.80.9\",\"147.32.80.9\",\"89.204.66.27\",\"178.250.0.80\",\"147.32.80.9\",\"147.32.80.9\",\"125.232.81.33\",\"147.32.80.9\",\"147.32.84.229\",\"147.32.84.229\",\"147.32.80.9\",\"147.32.80.9\",\"147.32.80.9\",\"195.113.232.82\",\"147.32.84.229\",\"147.32.84.229\",\"147.32.80.9\",\"147.32.80.9\",\"147.32.80.9\",\"192.87.224.109\",\"147.32.84.229\",\"147.32.84.229\",\"147.32.84.229\",\"147.32.80.9\",\"147.32.80.9\",\"152.1.246.118\",\"195.96.224.7\",\"147.32.80.9\",\"147.32.84.229\",\"147.32.84.229\",\"38.107.110.11\",\"199.7.59.72\",\"69.59.128.228\",\"75.135.78.177\",\"94.156.162.232\",\"147.32.80.9\",\"ff02::1:3\",\"147.32.80.9\",\"147.32.80.9\",\"147.32.84.229\",\"147.32.84.229\",\"147.32.80.9\",\"147.32.80.9\",\"147.32.84.229\",\"74.125.232.215\",\"147.32.80.9\",\"78.138.112.61\",\"147.32.84.229\",\"209.85.148.99\",\"147.32.80.9\",\"147.32.80.9\",\"147.32.84.229\",\"147.32.80.9\",\"147.32.84.229\",\"147.32.80.9\",\"147.32.84.229\",\"147.32.84.188\",\"77.75.77.9\",\"147.32.80.9\",\"147.32.84.229\",\"147.32.84.229\",\"147.32.80.9\",\"147.32.84.229\",\"147.32.84.229\",\"147.32.80.9\",\"195.222.88.205\",\"147.32.84.188\",\"147.32.84.229\",\"72.233.127.217\",\"147.32.80.9\",\"147.32.80.13\",\"147.32.84.188\",\"24.95.45.236\",\"89.169.68.133\",\"147.32.84.229\",\"147.32.80.9\",\"77.75.77.9\",\"88.86.101.2\",\"147.32.84.118\",\"90.183.38.22\",\"74.125.232.213\",\"92.14.40.160\",\"87.250.115.178\",\"147.32.80.9\",\"74.113.233.133\",\"147.32.80.9\",\"124.80.39.35\",\"213.110.88.178\",\"147.32.80.9\",\"147.32.84.229\",\"147.32.80.9\",\"147.32.84.229\",\"147.32.80.9\",\"147.32.84.229\",\"147.32.84.229\",\"75.215.125.38\",\"147.32.80.9\",\"109.229.233.107\",\"147.32.80.9\",\"147.32.80.9\",\"147.32.84.229\",\"147.32.84.229\",\"84.215.173.178\",\"147.32.84.188\",\"147.32.84.229\",\"173.178.155.217\",\"147.32.80.9\",\"178.167.143.5\",\"147.32.84.229\",\"147.32.84.229\",\"147.32.84.229\",\"172.129.130.183\",\"147.32.80.9\",\"147.32.80.9\",\"147.32.87.238\",\"147.32.84.229\",\"147.32.80.9\",\"147.32.80.9\",\"147.32.80.9\",\"93.184.220.20\",\"147.32.84.229\",\"70.75.245.67\",\"86.49.87.107\",\"76.13.114.90\",\"147.32.80.9\",\"147.32.80.9\",\"147.32.80.9\",\"147.231.100.5\",\"147.32.80.9\",\"147.32.80.9\",\"82.208.7.102\",\"147.32.80.9\",\"80.64.63.169\",\"147.32.80.9\",\"147.32.84.229\",\"147.32.80.9\",\"147.32.80.9\",\"209.85.148.99\",\"46.4.36.120\",\"147.32.84.229\",\"147.32.84.229\",\"147.32.80.9\",\"147.32.84.229\",\"147.32.80.9\",\"147.32.80.9\",\"147.32.80.9\",\"147.32.80.9\",\"147.32.80.9\",\"147.32.80.9\",\"147.32.80.9\",\"147.32.80.9\",\"157.249.32.138\",\"147.32.84.2\",\"147.32.84.229\",\"46.0.30.250\",\"64.38.207.239\",\"147.32.80.9\",\"147.32.80.9\",\"147.32.84.229\",\"147.32.80.9\",\"84.73.133.172\",\"87.207.220.122\",\"89.41.14.89\",\"77.75.77.9\",\"147.32.80.9\",\"147.32.84.229\",\"147.32.80.9\",\"147.32.80.9\",\"66.220.147.14\",\"69.63.190.22\",\"147.32.80.9\",\"147.32.84.229\",\"209.85.148.106\",\"173.19.159.33\",\"147.32.84.229\",\"62.221.157.35\",\"80.239.149.32\",\"147.32.80.9\",\"147.32.80.9\",\"147.32.84.229\",\"149.5.45.7\",\"147.32.84.229\",\"147.32.84.229\",\"147.32.80.9\",\"147.32.84.229\",\"88.174.87.84\",\"147.32.84.229\",\"147.32.80.9\",\"69.171.242.13\",\"147.32.80.9\",\"147.32.80.9\",\"147.32.80.9\",\"178.172.141.48\",\"147.32.80.9\",\"147.32.84.229\",\"147.32.80.9\",\"195.113.232.96\",\"147.32.80.9\",\"147.32.84.229\",\"147.32.80.9\",\"147.32.80.9\",\"147.32.84.229\",\"147.32.84.229\",\"147.32.80.9\",\"147.32.80.9\",\"2.21.100.33\",\"89.187.142.41\",\"124.168.101.168\",\"147.32.87.27\",\"147.32.80.9\",\"147.32.80.9\",\"217.163.21.39\",\"147.32.80.9\",\"147.32.84.229\",\"147.32.84.229\",\"174.121.79.174\",\"147.32.84.2\",\"147.32.80.9\",\"147.32.84.229\",\"147.32.80.9\",\"147.32.84.229\",\"147.32.84.229\",\"147.32.80.9\",\"82.135.154.17\",\"147.32.84.229\",\"147.32.80.9\",\"147.32.80.9\",\"157.24.188.66\",\"147.32.80.9\",\"147.32.80.9\",\"147.32.3.39\",\"147.32.84.229\",\"147.32.84.229\",\"147.32.80.9\",\"147.32.80.9\",\"147.32.80.9\",\"147.32.80.9\",\"188.138.84.239\",\"147.32.80.9\",\"147.32.84.229\",\"74.52.16.50\",\"147.32.80.9\",\"77.238.161.231\",\"207.144.189.156\",\"147.32.80.9\",\"217.112.36.110\",\"147.32.84.229\",\"147.32.80.9\",\"77.75.72.68\",\"147.32.84.229\",\"147.32.80.9\",\"147.32.80.9\",\"147.32.80.9\",\"147.32.84.229\",\"147.32.84.229\",\"147.32.84.229\",\"94.245.116.9\",\"147.32.80.9\",\"147.32.84.229\",\"147.32.80.9\",\"193.149.47.98\",\"65.55.11.254\",\"147.32.84.229\",\"147.32.80.9\",\"92.225.164.98\",\"68.233.5.80\",\"147.32.80.9\",\"147.32.80.9\",\"147.32.80.9\",\"147.32.80.9\",\"147.32.80.9\",\"147.32.80.9\",\"213.219.173.98\",\"84.237.248.245\",\"38.107.110.11\",\"147.32.84.229\",\"147.32.80.9\",\"147.32.80.9\",\"217.31.52.14\",\"157.24.2.203\",\"147.32.80.9\",\"147.32.84.229\",\"147.32.84.229\",\"88.109.53.90\",\"147.32.84.242\",\"74.125.232.206\",\"147.32.87.238\",\"147.32.80.9\",\"147.32.80.9\",\"147.32.84.229\",\"147.32.80.9\",\"205.188.186.167\",\"147.32.84.229\",\"147.32.84.229\",\"147.32.84.229\",\"147.32.84.229\",\"208.88.187.38\",\"147.32.84.229\",\"128.59.104.240\",\"147.32.84.229\",\"147.32.80.9\",\"174.121.79.174\",\"74.125.232.220\",\"147.32.80.9\",\"147.32.84.229\",\"147.32.80.9\",\"80.239.149.19\",\"195.24.232.205\",\"147.32.80.9\",\"147.32.86.155\",\"173.176.207.11\",\"8.19.240.53\",\"147.32.80.9\",\"147.32.84.229\",\"76.13.114.90\",\"147.32.84.229\",\"147.32.84.229\",\"147.32.84.229\",\"209.85.149.189\",\"147.32.80.9\",\"147.32.80.9\",\"147.32.80.9\",\"91.55.57.174\",\"147.32.87.54\",\"147.32.80.9\",\"147.32.80.9\",\"147.32.84.229\",\"147.32.80.9\",\"74.125.232.195\",\"205.188.27.190\",\"147.32.84.229\",\"147.32.80.9\",\"147.32.80.9\",\"173.3.158.152\",\"147.32.84.229\",\"147.32.80.9\",\"147.32.80.9\",\"147.32.84.229\",\"147.32.84.229\",\"174.129.29.206\",\"62.168.44.116\",\"147.32.80.9\",\"114.39.239.5\",\"111.242.0.224\",\"147.32.84.2\",\"77.78.99.23\",\"147.32.84.229\",\"147.32.84.229\",\"147.32.80.9\",\"124.218.64.244\",\"147.32.80.9\",\"147.32.84.229\",\"147.32.80.9\",\"147.32.80.9\",\"147.32.80.9\",\"147.32.84.229\",\"147.32.84.229\",\"147.32.80.9\",\"147.32.80.9\",\"147.32.80.9\",\"147.32.80.9\",\"147.32.80.9\",\"147.32.85.84\",\"81.94.20.242\",\"147.32.87.44\",\"147.32.80.9\",\"61.28.22.201\",\"147.32.80.9\",\"79.136.95.132\",\"188.138.84.239\",\"147.32.80.9\",\"147.32.80.9\",\"147.32.86.16\",\"147.32.80.9\",\"147.32.80.9\",\"84.252.44.109\",\"84.209.61.169\",\"147.32.80.9\",\"195.206.113.161\",\"147.32.80.9\",\"147.32.80.9\",\"59.112.205.120\",\"147.32.84.229\",\"111.233.160.150\",\"24.8.213.255\",\"147.32.80.13\",\"147.32.84.229\",\"147.32.84.130\",\"147.32.84.229\",\"111.249.71.251\",\"147.32.85.100\",\"147.32.84.229\",\"147.32.80.9\",\"147.32.84.229\",\"147.32.80.9\",\"147.32.84.229\",\"147.32.84.229\",\"147.32.80.9\",\"147.32.80.9\",\"147.32.80.9\",\"147.32.80.9\",\"118.9.229.200\",\"147.32.80.9\",\"147.32.80.9\",\"147.32.80.9\",\"147.32.84.229\",\"147.32.84.229\",\"147.32.244.10\",\"75.130.67.228\",\"89.128.247.228\",\"147.32.80.9\",\"147.32.84.229\",\"147.32.80.9\",\"76.13.114.90\",\"147.32.80.9\",\"147.32.80.9\",\"66.220.153.19\",\"147.32.84.229\",\"147.32.80.9\",\"147.32.80.9\",\"147.32.80.9\",\"147.32.80.9\",\"147.32.80.9\",\"147.32.80.9\",\"147.32.80.9\",\"147.32.84.229\",\"147.32.80.13\",\"147.32.87.27\",\"147.32.80.9\",\"147.32.80.9\",\"147.32.84.229\",\"147.32.80.9\",\"147.32.84.229\",\"147.32.84.229\",\"213.146.189.237\",\"147.32.84.229\",\"147.32.80.9\",\"147.32.80.9\",\"147.32.80.9\",\"74.125.232.195\",\"80.78.216.199\",\"147.32.80.9\",\"147.32.80.9\",\"75.108.83.108\",\"218.50.135.187\",\"147.32.80.9\",\"91.127.20.201\",\"147.32.84.118\",\"147.32.80.9\",\"199.199.176.196\",\"147.32.80.9\",\"147.32.80.9\",\"74.125.232.200\",\"147.32.84.229\",\"147.32.80.9\",\"147.32.80.9\",\"68.233.5.80\",\"147.32.84.229\",\"147.32.84.2\",\"188.121.36.239\",\"147.32.80.9\",\"109.110.84.1\",\"147.32.80.9\",\"147.32.80.9\",\"147.32.84.229\",\"147.32.84.229\",\"147.32.84.118\",\"147.32.80.9\",\"76.13.114.90\",\"195.62.187.108\",\"147.32.80.9\",\"147.32.84.229\",\"147.32.80.9\",\"87.207.187.38\",\"147.32.80.9\",\"114.37.177.91\",\"147.32.84.229\",\"147.32.84.229\",\"147.32.84.229\",\"147.32.80.9\",\"147.32.80.9\",\"147.32.80.9\",\"147.32.80.9\",\"74.125.232.192\",\"147.32.84.229\",\"147.32.80.9\",\"147.32.84.59\",\"147.32.80.9\",\"147.32.80.9\",\"173.236.89.195\",\"147.32.84.229\",\"114.198.173.86\",\"147.32.80.9\",\"147.32.84.229\",\"89.255.4.68\",\"173.236.89.197\",\"195.113.232.82\",\"217.11.249.140\",\"147.32.84.229\",\"93.184.71.19\",\"77.75.77.9\",\"147.32.85.84\",\"147.32.80.9\",\"147.32.80.9\",\"74.125.232.198\",\"147.32.80.9\",\"147.32.80.9\",\"107.10.143.217\",\"46.4.161.227\",\"195.113.232.90\",\"147.32.84.229\",\"218.168.26.37\",\"147.32.80.9\",\"46.4.36.120\",\"91.203.39.113\",\"92.123.64.195\",\"147.32.80.9\",\"147.32.84.229\",\"147.32.80.9\",\"87.98.230.229\",\"147.32.80.9\",\"147.32.80.9\",\"213.29.198.144\",\"113.197.192.122\",\"147.32.84.59\",\"147.32.84.229\",\"147.32.80.9\",\"77.75.76.6\",\"147.32.80.9\",\"147.32.85.26\",\"147.32.80.13\",\"147.32.80.9\",\"147.32.80.9\",\"147.32.80.9\",\"147.32.84.229\",\"147.32.84.229\",\"147.32.84.229\",\"147.32.80.9\",\"77.75.76.22\",\"147.32.84.59\",\"147.32.84.229\",\"147.32.85.100\",\"147.32.84.229\",\"74.125.232.192\",\"147.32.80.9\",\"147.32.84.118\",\"217.198.115.56\",\"147.32.80.9\",\"147.32.80.9\",\"147.32.85.100\",\"147.229.147.170\",\"147.32.84.229\",\"147.32.84.229\",\"147.32.84.229\",\"147.32.80.13\",\"217.5.204.74\",\"176.65.110.226\",\"147.32.80.9\",\"78.90.49.247\",\"147.32.80.9\",\"147.32.84.229\",\"74.125.232.203\",\"111.253.73.102\",\"147.32.80.9\",\"147.32.80.9\",\"147.32.84.229\",\"94.74.249.3\",\"147.32.80.9\",\"74.125.232.223\",\"147.32.84.229\",\"147.32.192.13\",\"81.31.45.93\",\"147.32.84.229\",\"147.32.80.9\",\"147.32.80.9\",\"62.44.29.56\",\"118.166.167.104\",\"83.9.189.10\",\"147.32.80.9\",\"147.32.80.9\",\"174.121.79.174\",\"209.85.148.99\",\"147.32.84.229\",\"65.55.56.40\",\"147.32.80.9\",\"147.32.80.9\",\"147.32.85.123\",\"76.13.114.90\",\"123.240.71.5\",\"147.32.80.9\",\"174.121.79.174\",\"213.244.185.46\",\"147.32.80.9\",\"147.32.80.9\",\"95.239.110.160\",\"147.32.80.9\",\"147.32.84.229\",\"147.32.80.9\",\"147.32.84.229\",\"68.179.155.2\",\"147.32.80.9\",\"147.32.80.9\",\"147.32.80.9\",\"121.67.207.109\",\"114.40.73.172\",\"147.32.84.2\",\"147.32.84.229\",\"193.48.200.8\",\"147.32.84.229\",\"82.240.228.23\",\"147.32.84.111\",\"147.32.80.9\",\"174.129.243.52\",\"147.32.80.9\",\"95.173.214.101\",\"147.32.84.229\",\"147.32.87.8\",\"147.32.80.9\",\"147.32.84.229\",\"147.32.84.229\",\"75.64.80.83\",\"147.32.84.229\",\"147.32.84.229\",\"147.32.84.229\",\"147.32.80.9\",\"147.32.84.229\",\"147.32.84.229\",\"147.32.84.229\",\"147.32.80.9\",\"147.32.84.229\",\"147.32.80.9\",\"147.32.80.9\",\"147.32.80.9\",\"147.32.84.229\",\"109.43.27.137\",\"147.32.80.9\",\"147.32.84.229\",\"147.32.80.9\",\"147.32.80.9\",\"147.32.84.229\",\"147.32.84.229\",\"147.32.84.229\",\"147.32.84.229\",\"147.32.86.42\",\"147.32.80.9\",\"199.59.149.200\",\"147.32.87.3\",\"147.32.80.9\",\"147.32.80.9\",\"147.32.80.9\",\"147.32.80.9\",\"74.125.232.195\",\"147.32.84.229\",\"147.32.80.9\",\"147.32.84.229\",\"74.125.232.200\",\"147.32.80.9\",\"209.85.148.99\",\"84.236.125.155\",\"147.32.80.9\",\"77.75.73.254\",\"80.239.149.9\",\"147.32.80.9\",\"147.32.80.9\",\"147.32.80.9\",\"85.84.208.137\",\"147.32.80.9\",\"147.32.80.9\",\"147.32.84.229\",\"87.98.230.229\",\"149.5.45.253\",\"195.113.232.98\",\"147.32.80.9\",\"147.32.80.9\",\"147.32.80.9\",\"147.32.80.9\",\"147.32.80.9\",\"147.32.87.238\",\"147.32.84.229\",\"147.32.85.100\",\"125.228.250.59\",\"147.32.80.9\",\"95.81.246.116\",\"147.32.84.229\",\"147.32.84.229\",\"147.32.80.9\",\"147.32.84.229\",\"147.32.84.229\",\"147.32.80.9\",\"147.32.80.9\",\"147.32.84.229\",\"147.32.80.9\",\"147.32.84.229\",\"89.185.254.155\",\"69.163.188.190\",\"80.239.149.32\",\"147.32.80.9\",\"147.32.80.9\",\"147.32.84.229\",\"147.32.80.9\",\"63.131.206.141\",\"147.32.80.9\",\"147.32.80.9\",\"147.32.1.20\",\"147.32.84.229\",\"160.68.205.237\",\"89.255.4.68\",\"147.32.80.9\",\"147.32.87.2\",\"147.32.84.229\",\"147.32.84.229\",\"157.249.32.138\",\"147.32.80.9\",\"74.125.232.216\",\"147.32.84.229\",\"147.32.84.229\",\"111.252.223.77\",\"147.32.80.9\",\"147.32.80.9\",\"147.32.84.229\",\"147.32.80.9\",\"147.32.80.9\",\"147.32.84.229\",\"147.32.84.229\",\"147.32.84.229\",\"147.32.84.229\",\"147.32.84.229\",\"147.32.84.229\",\"147.32.80.9\",\"147.32.80.9\",\"147.32.80.9\",\"147.32.80.9\",\"93.184.220.39\",\"147.32.80.13\",\"147.32.80.9\",\"147.32.80.9\",\"147.32.80.9\",\"99.227.246.143\",\"147.32.84.229\",\"89.167.251.252\",\"147.32.80.9\",\"183.99.97.117\",\"147.32.84.229\",\"95.73.7.89\",\"147.32.80.9\",\"147.32.80.9\",\"46.17.100.2\",\"147.32.85.26\",\"147.32.80.9\",\"94.124.104.203\",\"147.32.80.9\",\"147.32.80.9\",\"147.32.1.20\",\"147.32.80.9\",\"147.32.80.9\",\"193.43.197.193\",\"85.250.166.31\",\"147.32.80.9\",\"147.32.84.229\",\"71.74.90.178\",\"213.146.189.236\",\"147.32.80.9\",\"147.32.80.9\",\"208.88.186.4\",\"147.32.80.9\",\"147.32.84.229\",\"147.32.84.229\",\"81.183.123.29\",\"147.32.80.9\",\"147.32.84.229\",\"173.212.102.150\",\"147.32.87.33\",\"209.85.148.104\",\"147.32.84.162\",\"152.19.66.158\",\"147.32.80.9\",\"147.32.84.229\",\"147.32.80.9\",\"147.32.80.9\",\"74.125.232.215\",\"147.32.80.9\",\"147.32.84.229\",\"178.66.165.32\",\"147.32.84.229\",\"85.139.143.138\",\"216.106.111.98\",\"147.32.80.9\",\"147.32.84.229\",\"147.32.87.54\",\"147.32.84.229\",\"147.32.80.9\",\"147.32.80.9\",\"147.32.80.9\",\"147.32.80.9\",\"147.32.84.229\",\"147.32.80.9\",\"195.113.232.82\",\"147.32.80.9\",\"147.32.80.9\",\"186.205.53.101\",\"147.32.87.238\",\"209.85.148.104\",\"95.168.214.66\",\"147.32.80.9\",\"147.32.84.229\",\"147.32.85.218\",\"81.31.45.93\",\"147.32.80.9\",\"147.32.84.118\",\"74.125.232.216\",\"62.168.44.117\",\"147.32.80.13\",\"209.85.148.147\",\"147.32.84.229\",\"147.32.80.13\",\"147.32.84.229\",\"147.32.80.9\",\"147.32.84.229\",\"87.198.31.8\",\"147.32.84.229\",\"147.32.84.118\",\"147.32.80.9\",\"147.32.84.229\",\"147.32.84.229\",\"147.32.84.229\",\"147.32.87.52\",\"147.32.80.9\",\"147.32.85.74\",\"76.74.254.126\",\"147.32.80.9\",\"147.32.80.9\",\"94.100.176.20\",\"24.14.198.21\",\"147.32.84.229\",\"195.113.232.96\",\"147.32.80.9\",\"147.32.80.9\",\"147.32.80.9\",\"147.32.80.9\",\"147.32.80.9\",\"147.32.80.9\",\"195.113.232.90\",\"147.32.80.9\",\"147.32.80.9\",\"147.32.80.9\",\"147.32.80.9\",\"147.32.80.9\",\"157.22.19.24\",\"115.165.239.180\",\"147.32.84.229\",\"147.32.80.9\",\"208.88.186.11\",\"147.32.80.9\",\"147.32.80.9\",\"147.32.80.9\",\"147.32.84.229\",\"147.32.80.9\",\"147.32.80.9\",\"147.32.84.2\",\"147.32.84.229\",\"147.32.84.229\",\"147.32.84.229\",\"147.32.80.9\",\"147.32.80.9\",\"147.229.135.159\",\"147.32.161.241\",\"147.32.80.9\",\"147.32.80.9\",\"89.23.182.73\",\"147.32.84.229\",\"147.32.80.9\",\"147.32.80.9\",\"147.32.84.229\",\"94.127.76.70\",\"147.32.80.9\",\"147.32.84.118\",\"147.32.80.9\",\"147.32.80.9\",\"147.32.84.229\",\"147.32.80.9\",\"147.32.80.9\",\"147.32.84.229\",\"147.32.80.9\",\"147.32.84.229\",\"188.138.84.239\",\"147.32.84.229\",\"147.32.84.229\",\"147.32.80.9\",\"147.32.80.9\",\"147.32.80.9\",\"209.85.149.132\",\"147.32.80.9\",\"59.126.53.65\",\"147.32.84.229\",\"147.32.80.9\",\"147.32.87.238\",\"147.32.80.9\",\"147.32.80.9\",\"147.32.84.118\",\"147.32.80.9\",\"147.32.84.229\",\"147.32.84.229\",\"195.113.232.90\",\"212.227.116.105\",\"147.32.80.9\",\"147.32.80.9\",\"147.32.80.9\",\"147.32.80.9\",\"147.32.80.13\",\"147.32.84.13\",\"147.32.80.9\",\"81.91.86.11\",\"95.168.206.111\",\"147.32.80.9\",\"164.8.253.158\",\"147.32.84.138\",\"147.32.80.9\",\"76.13.114.90\",\"99.254.108.139\",\"147.32.80.9\",\"147.32.84.229\",\"147.32.80.9\",\"147.32.80.9\",\"147.32.80.9\",\"147.32.80.9\",\"67.221.174.62\",\"147.32.84.229\",\"147.32.80.9\",\"89.185.242.107\",\"147.32.84.2\",\"147.32.84.229\",\"147.32.84.229\",\"147.32.80.9\",\"147.32.80.9\",\"147.32.80.9\",\"147.32.80.9\",\"147.32.80.9\",\"209.85.148.147\",\"147.32.80.9\",\"147.32.84.229\",\"147.32.84.229\",\"94.226.215.250\",\"71.10.75.81\",\"76.122.27.30\",\"147.32.80.9\",\"147.32.80.9\",\"147.32.80.9\",\"147.32.84.229\",\"147.32.84.229\",\"147.32.84.229\",\"147.32.80.9\",\"147.32.80.9\",\"147.32.80.9\",\"147.32.80.9\",\"147.32.80.9\",\"112.210.209.230\",\"147.32.80.9\",\"147.32.80.9\",\"147.32.80.9\",\"147.32.84.229\",\"74.125.232.201\",\"147.32.80.13\",\"147.32.80.9\",\"147.32.84.229\",\"239.255.255.253\",\"129.6.15.29\",\"147.32.80.9\",\"93.184.71.17\",\"94.243.241.99\",\"147.32.84.229\",\"147.32.80.9\",\"147.32.80.9\",\"147.32.84.229\",\"216.129.110.22\",\"147.32.80.9\",\"80.239.149.26\",\"147.32.80.9\",\"78.24.10.28\",\"147.32.84.130\",\"147.32.84.118\",\"194.79.52.194\",\"147.32.84.229\",\"147.32.80.9\",\"147.32.80.9\",\"147.32.84.229\",\"74.125.232.220\",\"147.32.80.9\",\"188.138.84.239\",\"147.32.84.229\",\"147.32.80.9\",\"195.71.93.141\",\"147.32.80.9\",\"147.32.84.229\",\"147.32.80.9\",\"147.32.84.229\",\"74.125.232.206\",\"77.75.73.9\",\"80.239.149.27\",\"12.129.199.110\",\"147.32.80.9\",\"66.183.232.125\",\"147.32.84.229\",\"74.125.232.200\",\"209.85.149.191\",\"147.32.80.9\",\"147.32.80.9\",\"147.32.84.229\",\"147.32.85.26\",\"206.197.161.242\",\"213.244.185.2\",\"147.32.80.9\",\"147.32.84.2\",\"147.32.84.229\",\"147.32.84.229\",\"69.120.43.165\",\"114.36.154.57\",\"209.85.148.104\",\"147.32.80.9\",\"147.32.84.229\",\"147.32.80.9\",\"147.32.80.9\",\"147.32.80.9\",\"76.13.114.90\",\"147.32.80.9\",\"68.111.80.95\",\"147.32.84.229\",\"95.100.181.29\",\"147.32.80.9\",\"184.82.253.156\",\"147.32.84.130\",\"147.32.84.229\",\"147.32.80.9\",\"147.32.85.84\",\"147.32.80.9\",\"147.32.80.9\",\"147.32.84.229\",\"89.128.247.228\",\"147.32.84.229\",\"147.32.80.9\",\"147.32.84.118\",\"72.21.211.176\",\"147.32.84.118\",\"147.32.80.9\",\"147.32.84.229\",\"147.32.80.9\",\"147.32.80.9\",\"147.32.84.229\",\"147.32.80.9\",\"95.172.94.29\",\"147.32.80.9\",\"147.32.80.9\",\"178.237.25.51\",\"147.32.80.9\",\"78.24.14.16\",\"74.63.47.82\",\"147.32.80.9\",\"93.75.234.34\",\"147.32.84.188\",\"147.32.84.229\",\"147.32.87.44\",\"147.32.80.9\",\"147.32.84.229\",\"76.13.114.90\",\"147.32.80.9\",\"147.32.85.69\",\"147.32.80.9\",\"147.32.84.229\",\"147.32.84.229\",\"147.32.80.9\",\"147.32.84.229\",\"147.32.84.229\",\"76.13.114.90\",\"147.32.84.229\",\"147.32.84.229\",\"147.32.80.9\",\"147.32.84.229\",\"147.32.80.9\"],\"index\":[0,1,2,3,4,5,6,7,8,9,10,11,12,13,14,15,16,17,18,19,20,21,22,23,24,25,26,27,28,29,30,31,32,33,34,35,36,37,38,39,40,41,42,43,44,45,46,47,48,49,50,51,52,53,54,55,56,57,58,59,60,61,62,63,64,65,66,67,68,69,70,71,72,73,74,75,76,77,78,79,80,81,82,83,84,85,86,87,88,89,90,91,92,93,94,95,96,97,98,99,100,101,102,103,104,105,106,107,108,109,110,111,112,113,114,115,116,117,118,119,120,121,122,123,124,125,126,127,128,129,130,131,132,133,134,135,136,137,138,139,140,141,142,143,144,145,146,147,148,149,150,151,152,153,154,155,156,157,158,159,160,161,162,163,164,165,166,167,168,169,170,171,172,173,174,175,176,177,178,179,180,181,182,183,184,185,186,187,188,189,190,191,192,193,194,195,196,197,198,199,200,201,202,203,204,205,206,207,208,209,210,211,212,213,214,215,216,217,218,219,220,221,222,223,224,225,226,227,228,229,230,231,232,233,234,235,236,237,238,239,240,241,242,243,244,245,246,247,248,249,250,251,252,253,254,255,256,257,258,259,260,261,262,263,264,265,266,267,268,269,270,271,272,273,274,275,276,277,278,279,280,281,282,283,284,285,286,287,288,289,290,291,292,293,294,295,296,297,298,299,300,301,302,303,304,305,306,307,308,309,310,311,312,313,314,315,316,317,318,319,320,321,322,323,324,325,326,327,328,329,330,331,332,333,334,335,336,337,338,339,340,341,342,343,344,345,346,347,348,349,350,351,352,353,354,355,356,357,358,359,360,361,362,363,364,365,366,367,368,369,370,371,372,373,374,375,376,377,378,379,380,381,382,383,384,385,386,387,388,389,390,391,392,393,394,395,396,397,398,399,400,401,402,403,404,405,406,407,408,409,410,411,412,413,414,415,416,417,418,419,420,421,422,423,424,425,426,427,428,429,430,431,432,433,434,435,436,437,438,439,440,441,442,443,444,445,446,447,448,449,450,451,452,453,454,455,456,457,458,459,460,461,462,463,464,465,466,467,468,469,470,471,472,473,474,475,476,477,478,479,480,481,482,483,484,485,486,487,488,489,490,491,492,493,494,495,496,497,498,499,500,501,502,503,504,505,506,507,508,509,510,511,512,513,514,515,516,517,518,519,520,521,522,523,524,525,526,527,528,529,530,531,532,533,534,535,536,537,538,539,540,541,542,543,544,545,546,547,548,549,550,551,552,553,554,555,556,557,558,559,560,561,562,563,564,565,566,567,568,569,570,571,572,573,574,575,576,577,578,579,580,581,582,583,584,585,586,587,588,589,590,591,592,593,594,595,596,597,598,599,600,601,602,603,604,605,606,607,608,609,610,611,612,613,614,615,616,617,618,619,620,621,622,623,624,625,626,627,628,629,630,631,632,633,634,635,636,637,638,639,640,641,642,643,644,645,646,647,648,649,650,651,652,653,654,655,656,657,658,659,660,661,662,663,664,665,666,667,668,669,670,671,672,673,674,675,676,677,678,679,680,681,682,683,684,685,686,687,688,689,690,691,692,693,694,695,696,697,698,699,700,701,702,703,704,705,706,707,708,709,710,711,712,713,714,715,716,717,718,719,720,721,722,723,724,725,726,727,728,729,730,731,732,733,734,735,736,737,738,739,740,741,742,743,744,745,746,747,748,749,750,751,752,753,754,755,756,757,758,759,760,761,762,763,764,765,766,767,768,769,770,771,772,773,774,775,776,777,778,779,780,781,782,783,784,785,786,787,788,789,790,791,792,793,794,795,796,797,798,799,800,801,802,803,804,805,806,807,808,809,810,811,812,813,814,815,816,817,818,819,820,821,822,823,824,825,826,827,828,829,830,831,832,833,834,835,836,837,838,839,840,841,842,843,844,845,846,847,848,849,850,851,852,853,854,855,856,857,858,859,860,861,862,863,864,865,866,867,868,869,870,871,872,873,874,875,876,877,878,879,880,881,882,883,884,885,886,887,888,889,890,891,892,893,894,895,896,897,898,899,900,901,902,903,904,905,906,907,908,909,910,911,912,913,914,915,916,917,918,919,920,921,922,923,924,925,926,927,928,929,930,931,932,933,934,935,936,937,938,939,940,941,942,943,944,945,946,947,948,949,950,951,952,953,954,955,956,957,958,959,960,961,962,963,964,965,966,967,968,969,970,971,972,973,974,975,976,977,978,979,980,981,982,983,984,985,986,987,988,989,990,991,992,993,994,995,996,997,998,999,1000,1001,1002,1003,1004,1005,1006,1007,1008,1009,1010,1011,1012,1013,1014,1015,1016,1017,1018,1019,1020,1021,1022,1023,1024,1025,1026,1027,1028,1029,1030,1031,1032,1033,1034,1035,1036,1037,1038,1039,1040,1041,1042,1043,1044,1045,1046,1047,1048,1049,1050,1051,1052,1053,1054,1055,1056,1057,1058,1059,1060,1061,1062,1063,1064,1065,1066,1067,1068,1069,1070,1071,1072,1073,1074,1075,1076,1077,1078,1079,1080,1081,1082,1083,1084,1085,1086,1087,1088,1089,1090,1091,1092,1093,1094,1095,1096,1097,1098,1099,1100,1101,1102,1103,1104,1105,1106,1107,1108,1109,1110,1111,1112,1113,1114,1115,1116,1117,1118,1119,1120,1121,1122,1123,1124,1125,1126,1127,1128,1129,1130,1131,1132,1133,1134,1135,1136,1137,1138,1139,1140,1141,1142,1143,1144,1145,1146,1147,1148,1149,1150,1151,1152,1153,1154,1155,1156,1157,1158,1159,1160,1161,1162,1163,1164,1165,1166,1167,1168,1169,1170,1171,1172,1173,1174,1175,1176,1177,1178,1179,1180,1181,1182,1183,1184,1185,1186,1187,1188,1189,1190,1191,1192,1193,1194,1195,1196,1197,1198,1199,1200,1201,1202,1203,1204,1205,1206,1207,1208,1209,1210,1211,1212,1213,1214,1215,1216,1217,1218,1219,1220,1221,1222,1223,1224,1225,1226,1227,1228,1229,1230,1231,1232,1233,1234,1235,1236,1237,1238,1239,1240,1241,1242,1243,1244,1245,1246,1247,1248,1249,1250,1251,1252,1253,1254,1255,1256,1257,1258,1259,1260,1261,1262,1263,1264,1265,1266,1267,1268,1269,1270,1271,1272,1273,1274,1275,1276,1277,1278,1279,1280,1281,1282,1283,1284,1285,1286,1287,1288,1289,1290,1291,1292,1293,1294,1295,1296,1297,1298,1299,1300,1301,1302,1303,1304,1305,1306,1307,1308,1309,1310,1311,1312,1313,1314,1315,1316,1317,1318,1319,1320,1321,1322,1323,1324,1325,1326,1327,1328,1329,1330,1331,1332,1333,1334,1335,1336,1337,1338,1339,1340,1341,1342,1343,1344,1345,1346,1347,1348,1349,1350,1351,1352,1353,1354,1355,1356,1357,1358,1359,1360,1361,1362,1363,1364,1365,1366,1367,1368,1369,1370,1371,1372,1373,1374,1375,1376,1377,1378,1379,1380,1381,1382,1383,1384,1385,1386,1387,1388,1389,1390,1391,1392,1393,1394,1395,1396,1397,1398,1399,1400,1401,1402,1403,1404,1405,1406,1407,1408,1409,1410,1411,1412,1413,1414,1415,1416,1417,1418,1419,1420,1421,1422,1423,1424,1425,1426,1427,1428,1429,1430,1431,1432,1433,1434,1435,1436,1437,1438,1439,1440,1441,1442,1443,1444,1445,1446,1447,1448,1449,1450,1451,1452,1453,1454,1455,1456,1457,1458,1459,1460,1461,1462,1463,1464,1465,1466,1467,1468,1469,1470,1471,1472,1473,1474,1475,1476,1477,1478,1479,1480,1481,1482,1483,1484,1485,1486,1487,1488,1489,1490,1491,1492,1493,1494,1495,1496,1497,1498,1499],\"label\":[\"NaN\",\"NaN\",\"NaN\",\"NaN\",\"NaN\",\"NaN\",\"NaN\",\"NaN\",\"NaN\",\"NaN\",\"NaN\",\"NaN\",\"NaN\",\"NaN\",\"NaN\",\"NaN\",\"NaN\",\"NaN\",\"NaN\",\"NaN\",\"NaN\",\"NaN\",\"NaN\",\"NaN\",\"NaN\",\"NaN\",\"NaN\",\"NaN\",\"NaN\",\"NaN\",\"NaN\",\"NaN\",\"NaN\",\"NaN\",\"NaN\",\"NaN\",\"NaN\",\"NaN\",\"NaN\",\"NaN\",\"NaN\",\"flow=Background-Established-cmpgw-CVUT\",\"NaN\",\"NaN\",\"NaN\",\"NaN\",\"NaN\",\"NaN\",\"NaN\",\"NaN\",\"NaN\",\"NaN\",\"NaN\",\"NaN\",\"NaN\",\"NaN\",\"NaN\",\"NaN\",\"NaN\",\"NaN\",\"NaN\",\"NaN\",\"NaN\",\"NaN\",\"NaN\",\"NaN\",\"NaN\",\"NaN\",\"NaN\",\"NaN\",\"NaN\",\"NaN\",\"NaN\",\"NaN\",\"NaN\",\"NaN\",\"NaN\",\"NaN\",\"NaN\",\"NaN\",\"NaN\",\"NaN\",\"NaN\",\"NaN\",\"NaN\",\"NaN\",\"NaN\",\"NaN\",\"NaN\",\"flow=Background\",\"NaN\",\"NaN\",\"NaN\",\"NaN\",\"NaN\",\"NaN\",\"NaN\",\"NaN\",\"NaN\",\"NaN\",\"NaN\",\"NaN\",\"NaN\",\"NaN\",\"NaN\",\"NaN\",\"NaN\",\"NaN\",\"NaN\",\"NaN\",\"NaN\",\"NaN\",\"NaN\",\"NaN\",\"NaN\",\"NaN\",\"NaN\",\"NaN\",\"NaN\",\"NaN\",\"NaN\",\"NaN\",\"NaN\",\"NaN\",\"NaN\",\"NaN\",\"NaN\",\"NaN\",\"NaN\",\"NaN\",\"NaN\",\"NaN\",\"NaN\",\"NaN\",\"NaN\",\"NaN\",\"NaN\",\"NaN\",\"NaN\",\"NaN\",\"NaN\",\"NaN\",\"NaN\",\"NaN\",\"NaN\",\"NaN\",\"NaN\",\"NaN\",\"NaN\",\"NaN\",\"NaN\",\"NaN\",\"NaN\",\"NaN\",\"flow=Background\",\"NaN\",\"NaN\",\"NaN\",\"NaN\",\"NaN\",\"NaN\",\"NaN\",\"NaN\",\"NaN\",\"NaN\",\"NaN\",\"NaN\",\"NaN\",\"NaN\",\"NaN\",\"NaN\",\"flow=Background\",\"NaN\",\"NaN\",\"NaN\",\"flow=Background-TCP-Established\",\"NaN\",\"NaN\",\"NaN\",\"NaN\",\"NaN\",\"NaN\",\"NaN\",\"NaN\",\"NaN\",\"NaN\",\"NaN\",\"NaN\",\"NaN\",\"NaN\",\"NaN\",\"NaN\",\"NaN\",\"NaN\",\"NaN\",\"NaN\",\"NaN\",\"NaN\",\"NaN\",\"NaN\",\"NaN\",\"NaN\",\"NaN\",\"NaN\",\"NaN\",\"NaN\",\"NaN\",\"NaN\",\"NaN\",\"NaN\",\"NaN\",\"NaN\",\"NaN\",\"NaN\",\"NaN\",\"NaN\",\"NaN\",\"NaN\",\"NaN\",\"NaN\",\"NaN\",\"NaN\",\"NaN\",\"NaN\",\"NaN\",\"NaN\",\"NaN\",\"NaN\",\"NaN\",\"NaN\",\"NaN\",\"NaN\",\"NaN\",\"NaN\",\"NaN\",\"NaN\",\"NaN\",\"NaN\",\"NaN\",\"NaN\",\"NaN\",\"NaN\",\"NaN\",\"NaN\",\"NaN\",\"NaN\",\"NaN\",\"NaN\",\"NaN\",\"NaN\",\"NaN\",\"NaN\",\"NaN\",\"NaN\",\"NaN\",\"NaN\",\"NaN\",\"NaN\",\"NaN\",\"NaN\",\"NaN\",\"NaN\",\"NaN\",\"NaN\",\"NaN\",\"NaN\",\"NaN\",\"NaN\",\"NaN\",\"NaN\",\"NaN\",\"NaN\",\"NaN\",\"NaN\",\"NaN\",\"NaN\",\"NaN\",\"NaN\",\"NaN\",\"NaN\",\"NaN\",\"NaN\",\"NaN\",\"NaN\",\"NaN\",\"NaN\",\"NaN\",\"NaN\",\"NaN\",\"NaN\",\"NaN\",\"NaN\",\"NaN\",\"NaN\",\"NaN\",\"NaN\",\"NaN\",\"NaN\",\"NaN\",\"NaN\",\"NaN\",\"NaN\",\"NaN\",\"NaN\",\"NaN\",\"NaN\",\"NaN\",\"NaN\",\"NaN\",\"NaN\",\"NaN\",\"NaN\",\"NaN\",\"NaN\",\"NaN\",\"NaN\",\"NaN\",\"NaN\",\"NaN\",\"NaN\",\"NaN\",\"NaN\",\"NaN\",\"NaN\",\"NaN\",\"NaN\",\"NaN\",\"NaN\",\"NaN\",\"NaN\",\"NaN\",\"NaN\",\"NaN\",\"NaN\",\"NaN\",\"NaN\",\"NaN\",\"NaN\",\"NaN\",\"flow=Background\",\"NaN\",\"NaN\",\"NaN\",\"NaN\",\"NaN\",\"NaN\",\"NaN\",\"NaN\",\"NaN\",\"NaN\",\"NaN\",\"NaN\",\"NaN\",\"NaN\",\"NaN\",\"NaN\",\"NaN\",\"NaN\",\"NaN\",\"NaN\",\"NaN\",\"NaN\",\"NaN\",\"NaN\",\"NaN\",\"NaN\",\"NaN\",\"NaN\",\"NaN\",\"NaN\",\"NaN\",\"NaN\",\"NaN\",\"NaN\",\"NaN\",\"NaN\",\"NaN\",\"NaN\",\"NaN\",\"NaN\",\"NaN\",\"NaN\",\"NaN\",\"NaN\",\"NaN\",\"NaN\",\"NaN\",\"NaN\",\"NaN\",\"NaN\",\"NaN\",\"NaN\",\"NaN\",\"NaN\",\"NaN\",\"NaN\",\"NaN\",\"NaN\",\"NaN\",\"NaN\",\"NaN\",\"NaN\",\"NaN\",\"NaN\",\"NaN\",\"NaN\",\"NaN\",\"NaN\",\"NaN\",\"NaN\",\"NaN\",\"NaN\",\"NaN\",\"NaN\",\"NaN\",\"NaN\",\"NaN\",\"NaN\",\"NaN\",\"NaN\",\"NaN\",\"NaN\",\"NaN\",\"NaN\",\"NaN\",\"NaN\",\"NaN\",\"NaN\",\"NaN\",\"NaN\",\"NaN\",\"NaN\",\"NaN\",\"NaN\",\"NaN\",\"NaN\",\"NaN\",\"NaN\",\"NaN\",\"NaN\",\"NaN\",\"NaN\",\"NaN\",\"NaN\",\"NaN\",\"NaN\",\"NaN\",\"NaN\",\"NaN\",\"NaN\",\"NaN\",\"NaN\",\"NaN\",\"NaN\",\"NaN\",\"NaN\",\"NaN\",\"NaN\",\"NaN\",\"NaN\",\"NaN\",\"NaN\",\"NaN\",\"NaN\",\"NaN\",\"NaN\",\"NaN\",\"NaN\",\"flow=Background\",\"NaN\",\"NaN\",\"NaN\",\"NaN\",\"NaN\",\"NaN\",\"NaN\",\"NaN\",\"NaN\",\"NaN\",\"NaN\",\"NaN\",\"NaN\",\"NaN\",\"NaN\",\"NaN\",\"NaN\",\"NaN\",\"NaN\",\"NaN\",\"NaN\",\"NaN\",\"flow=Background\",\"NaN\",\"NaN\",\"NaN\",\"NaN\",\"NaN\",\"NaN\",\"NaN\",\"NaN\",\"NaN\",\"NaN\",\"NaN\",\"NaN\",\"NaN\",\"NaN\",\"NaN\",\"NaN\",\"NaN\",\"NaN\",\"NaN\",\"NaN\",\"NaN\",\"NaN\",\"NaN\",\"NaN\",\"NaN\",\"NaN\",\"NaN\",\"NaN\",\"NaN\",\"NaN\",\"NaN\",\"NaN\",\"NaN\",\"NaN\",\"NaN\",\"NaN\",\"NaN\",\"NaN\",\"flow=Background-TCP-Established\",\"NaN\",\"NaN\",\"NaN\",\"NaN\",\"NaN\",\"NaN\",\"NaN\",\"NaN\",\"NaN\",\"NaN\",\"NaN\",\"NaN\",\"NaN\",\"NaN\",\"NaN\",\"NaN\",\"NaN\",\"NaN\",\"NaN\",\"NaN\",\"NaN\",\"NaN\",\"NaN\",\"NaN\",\"NaN\",\"NaN\",\"NaN\",\"NaN\",\"NaN\",\"NaN\",\"NaN\",\"NaN\",\"NaN\",\"NaN\",\"NaN\",\"NaN\",\"NaN\",\"NaN\",\"NaN\",\"NaN\",\"NaN\",\"NaN\",\"NaN\",\"flow=Background-UDP-Established\",\"NaN\",\"NaN\",\"NaN\",\"NaN\",\"NaN\",\"NaN\",\"NaN\",\"NaN\",\"NaN\",\"NaN\",\"NaN\",\"NaN\",\"NaN\",\"NaN\",\"NaN\",\"NaN\",\"NaN\",\"NaN\",\"NaN\",\"NaN\",\"NaN\",\"NaN\",\"NaN\",\"NaN\",\"NaN\",\"NaN\",\"NaN\",\"NaN\",\"NaN\",\"NaN\",\"NaN\",\"NaN\",\"NaN\",\"NaN\",\"NaN\",\"NaN\",\"NaN\",\"NaN\",\"NaN\",\"NaN\",\"NaN\",\"NaN\",\"NaN\",\"NaN\",\"NaN\",\"NaN\",\"NaN\",\"NaN\",\"NaN\",\"NaN\",\"NaN\",\"NaN\",\"NaN\",\"NaN\",\"NaN\",\"NaN\",\"NaN\",\"NaN\",\"NaN\",\"NaN\",\"NaN\",\"NaN\",\"NaN\",\"NaN\",\"NaN\",\"NaN\",\"NaN\",\"NaN\",\"NaN\",\"NaN\",\"NaN\",\"NaN\",\"NaN\",\"NaN\",\"NaN\",\"NaN\",\"NaN\",\"NaN\",\"NaN\",\"NaN\",\"NaN\",\"NaN\",\"NaN\",\"NaN\",\"NaN\",\"NaN\",\"NaN\",\"NaN\",\"NaN\",\"NaN\",\"NaN\",\"flow=Background\",\"NaN\",\"NaN\",\"NaN\",\"NaN\",\"NaN\",\"NaN\",\"NaN\",\"NaN\",\"NaN\",\"NaN\",\"NaN\",\"NaN\",\"NaN\",\"NaN\",\"NaN\",\"NaN\",\"NaN\",\"NaN\",\"NaN\",\"NaN\",\"NaN\",\"NaN\",\"NaN\",\"NaN\",\"NaN\",\"NaN\",\"NaN\",\"NaN\",\"NaN\",\"NaN\",\"NaN\",\"NaN\",\"NaN\",\"NaN\",\"NaN\",\"NaN\",\"NaN\",\"NaN\",\"NaN\",\"NaN\",\"NaN\",\"NaN\",\"NaN\",\"NaN\",\"NaN\",\"NaN\",\"NaN\",\"NaN\",\"NaN\",\"NaN\",\"NaN\",\"NaN\",\"NaN\",\"NaN\",\"NaN\",\"NaN\",\"NaN\",\"NaN\",\"NaN\",\"NaN\",\"NaN\",\"NaN\",\"NaN\",\"NaN\",\"NaN\",\"NaN\",\"NaN\",\"NaN\",\"NaN\",\"NaN\",\"flow=To-Background-UDP-CVUT-DNS-Server\",\"NaN\",\"NaN\",\"NaN\",\"NaN\",\"NaN\",\"NaN\",\"NaN\",\"NaN\",\"NaN\",\"NaN\",\"NaN\",\"NaN\",\"NaN\",\"NaN\",\"NaN\",\"NaN\",\"NaN\",\"NaN\",\"NaN\",\"NaN\",\"NaN\",\"NaN\",\"NaN\",\"NaN\",\"NaN\",\"NaN\",\"NaN\",\"NaN\",\"NaN\",\"NaN\",\"NaN\",\"NaN\",\"NaN\",\"NaN\",\"NaN\",\"NaN\",\"NaN\",\"NaN\",\"NaN\",\"NaN\",\"NaN\",\"NaN\",\"NaN\",\"NaN\",\"NaN\",\"NaN\",\"NaN\",\"NaN\",\"NaN\",\"NaN\",\"NaN\",\"NaN\",\"NaN\",\"NaN\",\"NaN\",\"NaN\",\"NaN\",\"NaN\",\"NaN\",\"NaN\",\"NaN\",\"NaN\",\"NaN\",\"NaN\",\"NaN\",\"NaN\",\"NaN\",\"NaN\",\"NaN\",\"NaN\",\"NaN\",\"NaN\",\"NaN\",\"NaN\",\"NaN\",\"NaN\",\"NaN\",\"NaN\",\"NaN\",\"NaN\",\"NaN\",\"NaN\",\"NaN\",\"NaN\",\"NaN\",\"flow=Background-UDP-Established\",\"NaN\",\"NaN\",\"NaN\",\"NaN\",\"NaN\",\"NaN\",\"NaN\",\"NaN\",\"NaN\",\"NaN\",\"NaN\",\"NaN\",\"NaN\",\"NaN\",\"NaN\",\"NaN\",\"NaN\",\"NaN\",\"NaN\",\"NaN\",\"NaN\",\"NaN\",\"NaN\",\"NaN\",\"NaN\",\"NaN\",\"NaN\",\"NaN\",\"NaN\",\"NaN\",\"NaN\",\"NaN\",\"NaN\",\"NaN\",\"NaN\",\"NaN\",\"NaN\",\"NaN\",\"NaN\",\"NaN\",\"NaN\",\"NaN\",\"NaN\",\"NaN\",\"NaN\",\"NaN\",\"NaN\",\"NaN\",\"NaN\",\"NaN\",\"NaN\",\"NaN\",\"NaN\",\"NaN\",\"NaN\",\"NaN\",\"NaN\",\"NaN\",\"NaN\",\"NaN\",\"NaN\",\"NaN\",\"NaN\",\"NaN\",\"NaN\",\"NaN\",\"NaN\",\"NaN\",\"NaN\",\"NaN\",\"NaN\",\"NaN\",\"NaN\",\"NaN\",\"NaN\",\"NaN\",\"NaN\",\"NaN\",\"NaN\",\"NaN\",\"NaN\",\"NaN\",\"NaN\",\"NaN\",\"NaN\",\"NaN\",\"NaN\",\"NaN\",\"NaN\",\"NaN\",\"NaN\",\"NaN\",\"NaN\",\"NaN\",\"NaN\",\"NaN\",\"NaN\",\"NaN\",\"NaN\",\"NaN\",\"NaN\",\"NaN\",\"NaN\",\"NaN\",\"NaN\",\"NaN\",\"NaN\",\"NaN\",\"NaN\",\"NaN\",\"NaN\",\"NaN\",\"NaN\",\"NaN\",\"NaN\",\"NaN\",\"NaN\",\"NaN\",\"NaN\",\"NaN\",\"NaN\",\"NaN\",\"NaN\",\"NaN\",\"NaN\",\"NaN\",\"NaN\",\"NaN\",\"NaN\",\"NaN\",\"NaN\",\"NaN\",\"NaN\",\"NaN\",\"NaN\",\"NaN\",\"NaN\",\"NaN\",\"NaN\",\"NaN\",\"NaN\",\"NaN\",\"NaN\",\"NaN\",\"NaN\",\"NaN\",\"NaN\",\"NaN\",\"NaN\",\"flow=Background-UDP-Established\",\"NaN\",\"NaN\",\"NaN\",\"NaN\",\"NaN\",\"NaN\",\"NaN\",\"NaN\",\"NaN\",\"NaN\",\"NaN\",\"NaN\",\"NaN\",\"NaN\",\"NaN\",\"NaN\",\"NaN\",\"NaN\",\"NaN\",\"NaN\",\"NaN\",\"NaN\",\"NaN\",\"NaN\",\"NaN\",\"NaN\",\"NaN\",\"NaN\",\"NaN\",\"NaN\",\"NaN\",\"NaN\",\"NaN\",\"NaN\",\"NaN\",\"NaN\",\"NaN\",\"NaN\",\"NaN\",\"NaN\",\"NaN\",\"NaN\",\"NaN\",\"NaN\",\"NaN\",\"NaN\",\"NaN\",\"NaN\",\"NaN\",\"flow=Background-UDP-Established\",\"NaN\",\"NaN\",\"NaN\",\"NaN\",\"NaN\",\"NaN\",\"NaN\",\"NaN\",\"NaN\",\"NaN\",\"NaN\",\"NaN\",\"NaN\",\"NaN\",\"NaN\",\"NaN\",\"NaN\",\"NaN\",\"NaN\",\"NaN\",\"NaN\",\"NaN\",\"NaN\",\"NaN\",\"NaN\",\"NaN\",\"NaN\",\"NaN\",\"NaN\",\"NaN\",\"NaN\",\"NaN\",\"NaN\",\"NaN\",\"NaN\",\"NaN\",\"NaN\",\"NaN\",\"NaN\",\"NaN\",\"NaN\",\"NaN\",\"NaN\",\"NaN\",\"NaN\",\"NaN\",\"NaN\",\"NaN\",\"NaN\",\"NaN\",\"NaN\",\"NaN\",\"NaN\",\"NaN\",\"NaN\",\"NaN\",\"NaN\",\"NaN\",\"NaN\",\"NaN\",\"NaN\",\"NaN\",\"NaN\",\"NaN\",\"NaN\",\"NaN\",\"NaN\",\"NaN\",\"NaN\",\"NaN\",\"NaN\",\"NaN\",\"NaN\",\"NaN\",\"NaN\",\"NaN\",\"NaN\",\"NaN\",\"NaN\",\"NaN\",\"NaN\",\"NaN\",\"NaN\",\"flow=Background-UDP-Established\",\"NaN\",\"NaN\",\"NaN\",\"NaN\",\"NaN\",\"NaN\",\"NaN\",\"NaN\",\"NaN\",\"NaN\",\"NaN\",\"NaN\",\"NaN\",\"NaN\",\"NaN\",\"NaN\",\"NaN\",\"NaN\",\"NaN\",\"NaN\",\"NaN\",\"NaN\",\"NaN\",\"NaN\",\"NaN\",\"NaN\",\"NaN\",\"NaN\",\"NaN\",\"NaN\",\"NaN\",\"NaN\",\"NaN\",\"NaN\",\"NaN\",\"NaN\",\"NaN\",\"NaN\",\"NaN\",\"NaN\",\"NaN\",\"NaN\",\"NaN\",\"NaN\",\"NaN\",\"NaN\",\"NaN\",\"NaN\",\"NaN\",\"NaN\",\"NaN\",\"NaN\",\"NaN\",\"NaN\",\"NaN\",\"NaN\",\"NaN\",\"NaN\",\"NaN\",\"NaN\",\"NaN\",\"NaN\",\"NaN\",\"NaN\",\"NaN\",\"NaN\",\"NaN\",\"NaN\",\"NaN\",\"NaN\",\"flow=Background-UDP-Established\",\"NaN\",\"NaN\",\"NaN\",\"NaN\",\"NaN\",\"NaN\",\"NaN\",\"NaN\",\"NaN\",\"NaN\",\"NaN\",\"NaN\",\"NaN\",\"NaN\",\"NaN\",\"NaN\",\"NaN\",\"NaN\",\"NaN\",\"NaN\",\"NaN\",\"NaN\",\"NaN\",\"NaN\",\"NaN\",\"NaN\",\"NaN\",\"NaN\",\"NaN\",\"NaN\",\"NaN\",\"NaN\",\"NaN\",\"NaN\",\"NaN\",\"NaN\",\"NaN\",\"NaN\",\"NaN\",\"NaN\",\"NaN\",\"NaN\",\"NaN\",\"NaN\",\"NaN\",\"NaN\",\"NaN\",\"NaN\",\"NaN\",\"NaN\",\"NaN\",\"NaN\",\"NaN\",\"NaN\",\"NaN\",\"NaN\",\"NaN\",\"NaN\",\"NaN\",\"NaN\",\"NaN\",\"NaN\",\"NaN\",\"NaN\",\"NaN\",\"NaN\",\"NaN\",\"NaN\",\"NaN\",\"NaN\",\"NaN\",\"NaN\",\"NaN\",\"NaN\",\"NaN\",\"NaN\",\"NaN\",\"NaN\",\"NaN\",\"NaN\",\"NaN\",\"NaN\",\"NaN\",\"NaN\",\"NaN\",\"NaN\",\"NaN\",\"NaN\",\"NaN\",\"NaN\",\"NaN\",\"NaN\",\"NaN\",\"NaN\",\"NaN\",\"NaN\",\"NaN\",\"NaN\",\"NaN\",\"NaN\",\"NaN\",\"NaN\",\"NaN\",\"NaN\",\"NaN\",\"NaN\",\"NaN\",\"NaN\",\"NaN\",\"NaN\",\"NaN\",\"NaN\",\"NaN\",\"NaN\",\"NaN\",\"NaN\",\"NaN\",\"NaN\",\"NaN\",\"NaN\",\"NaN\",\"NaN\",\"NaN\",\"NaN\",\"NaN\",\"NaN\",\"NaN\",\"NaN\",\"NaN\",\"NaN\",\"NaN\",\"NaN\",\"NaN\",\"NaN\",\"NaN\",\"NaN\",\"NaN\",\"NaN\",\"NaN\",\"NaN\",\"NaN\",\"NaN\",\"NaN\",\"NaN\",\"NaN\",\"NaN\",\"NaN\",\"NaN\",\"NaN\",\"NaN\",\"NaN\",\"NaN\",\"NaN\",\"NaN\",\"NaN\",\"NaN\",\"NaN\",\"NaN\",\"NaN\",\"NaN\",\"NaN\",\"NaN\",\"NaN\",\"NaN\",\"NaN\",\"NaN\",\"NaN\",\"NaN\",\"NaN\",\"NaN\",\"NaN\",\"NaN\",\"NaN\",\"NaN\",\"NaN\",\"NaN\",\"NaN\",\"NaN\",\"NaN\",\"NaN\",\"NaN\",\"NaN\",\"NaN\",\"NaN\",\"NaN\",\"NaN\",\"NaN\",\"NaN\",\"NaN\",\"NaN\",\"NaN\",\"NaN\",\"NaN\",\"NaN\",\"NaN\",\"NaN\",\"NaN\",\"NaN\",\"NaN\",\"NaN\",\"NaN\",\"NaN\",\"NaN\",\"NaN\",\"NaN\",\"NaN\",\"NaN\",\"NaN\",\"NaN\",\"NaN\",\"NaN\",\"NaN\",\"NaN\",\"NaN\",\"NaN\",\"NaN\",\"NaN\",\"NaN\",\"NaN\",\"NaN\",\"NaN\",\"NaN\",\"NaN\",\"NaN\",\"NaN\",\"NaN\",\"NaN\",\"NaN\",\"NaN\",\"NaN\",\"NaN\",\"NaN\",\"NaN\",\"NaN\",\"NaN\",\"NaN\",\"NaN\",\"NaN\",\"NaN\",\"NaN\",\"NaN\",\"NaN\",\"NaN\",\"NaN\",\"NaN\",\"NaN\",\"NaN\",\"NaN\",\"NaN\",\"NaN\",\"NaN\",\"NaN\",\"NaN\",\"NaN\",\"NaN\",\"NaN\",\"NaN\",\"NaN\",\"NaN\",\"NaN\",\"NaN\",\"NaN\",\"NaN\",\"NaN\",\"NaN\",\"NaN\",\"NaN\",\"NaN\",\"NaN\",\"NaN\",\"NaN\",\"NaN\",\"NaN\",\"NaN\",\"NaN\",\"NaN\",\"NaN\",\"NaN\",\"NaN\",\"NaN\",\"NaN\",\"NaN\",\"NaN\",\"NaN\",\"NaN\",\"NaN\",\"NaN\",\"NaN\",\"NaN\",\"NaN\",\"NaN\",\"NaN\",\"NaN\",\"NaN\",\"NaN\",\"NaN\",\"NaN\",\"NaN\",\"flow=Background-UDP-Established\",\"NaN\",\"NaN\",\"NaN\",\"NaN\",\"NaN\",\"NaN\",\"NaN\",\"NaN\",\"NaN\",\"NaN\",\"NaN\",\"NaN\",\"NaN\",\"NaN\",\"NaN\",\"NaN\",\"NaN\",\"NaN\",\"NaN\",\"NaN\",\"NaN\",\"NaN\"],\"to_node\":[\"111.255.28.147\",\"87.240.219.1\",\"147.32.86.50\",\"211.101.37.115\",\"216.185.73.130\",\"147.32.84.24\",\"98.90.58.7\",\"94.251.100.209\",\"147.32.85.25\",\"115.67.166.100\",\"147.32.85.87\",\"69.255.146.189\",\"147.32.85.34\",\"147.32.85.25\",\"24.90.207.157\",\"147.32.84.59\",\"147.32.84.138\",\"213.146.189.234\",\"147.32.84.164\",\"147.32.84.59\",\"147.32.85.89\",\"147.32.84.138\",\"85.113.41.98\",\"147.32.84.138\",\"84.112.46.231\",\"88.108.31.254\",\"147.32.84.59\",\"147.32.85.114\",\"88.218.143.21\",\"147.32.84.118\",\"124.214.166.101\",\"147.32.85.88\",\"147.32.84.59\",\"147.32.85.7\",\"147.32.84.138\",\"109.62.152.242\",\"147.32.85.87\",\"147.32.84.134\",\"66.194.55.249\",\"147.32.84.118\",\"147.32.84.59\",\"147.32.84.59\",\"147.32.84.138\",\"147.32.84.229\",\"147.32.87.15\",\"208.115.111.247\",\"147.32.84.170\",\"147.32.86.131\",\"41.131.228.121\",\"147.32.84.59\",\"147.32.84.138\",\"147.32.84.188\",\"147.32.84.59\",\"147.32.84.229\",\"147.32.84.138\",\"147.32.84.59\",\"147.32.85.26\",\"147.32.84.59\",\"147.32.84.229\",\"147.32.84.138\",\"147.32.84.138\",\"147.32.84.25\",\"66.249.72.214\",\"147.32.84.59\",\"147.32.84.229\",\"147.32.86.165\",\"147.32.84.118\",\"147.32.84.59\",\"147.32.84.138\",\"147.32.86.20\",\"147.32.84.2\",\"147.32.84.59\",\"147.32.84.138\",\"109.96.48.57\",\"147.32.86.155\",\"147.32.84.59\",\"147.32.84.138\",\"147.32.84.59\",\"147.32.84.229\",\"213.226.151.77\",\"109.182.89.168\",\"147.32.84.229\",\"147.32.84.59\",\"200.150.156.10\",\"147.32.85.26\",\"120.65.34.117\",\"147.32.84.138\",\"147.32.84.138\",\"46.237.109.232\",\"147.32.86.92\",\"107.2.193.23\",\"89.102.97.22\",\"137.224.238.79\",\"147.32.84.138\",\"147.32.84.138\",\"147.32.86.194\",\"72.183.105.207\",\"147.32.84.59\",\"24.201.158.2\",\"147.32.85.34\",\"147.32.84.229\",\"61.158.100.233\",\"94.144.63.10\",\"147.32.84.138\",\"147.32.85.25\",\"147.32.84.229\",\"147.32.85.7\",\"147.32.84.59\",\"147.32.84.171\",\"209.85.149.189\",\"195.34.115.66\",\"92.98.18.48\",\"147.32.86.102\",\"147.32.84.138\",\"147.32.84.138\",\"222.122.205.138\",\"147.32.84.138\",\"147.32.84.138\",\"147.32.89.133\",\"87.118.112.147\",\"147.32.85.87\",\"147.32.84.59\",\"81.25.56.16\",\"147.32.86.50\",\"147.32.84.59\",\"147.32.86.155\",\"98.119.207.11\",\"193.193.243.154\",\"147.32.85.25\",\"217.157.171.219\",\"192.168.88.173\",\"147.32.84.138\",\"147.32.84.138\",\"147.32.85.87\",\"147.32.85.7\",\"222.252.32.58\",\"147.32.84.229\",\"147.32.85.7\",\"108.64.1.163\",\"147.32.84.138\",\"147.32.85.7\",\"213.226.63.181\",\"147.32.84.170\",\"147.32.84.59\",\"147.32.84.138\",\"147.32.85.35\",\"147.32.84.229\",\"212.183.140.11\",\"147.32.85.34\",\"147.32.86.20\",\"84.108.113.112\",\"147.32.84.3\",\"115.176.14.62\",\"67.195.112.49\",\"147.32.84.138\",\"147.32.84.13\",\"147.32.84.118\",\"147.32.84.138\",\"147.32.85.25\",\"147.32.85.76\",\"147.32.84.59\",\"147.32.84.164\",\"147.32.84.138\",\"147.32.85.25\",\"147.32.84.138\",\"119.40.154.67\",\"147.32.84.59\",\"147.32.80.13\",\"147.32.84.118\",\"147.32.84.59\",\"147.32.84.59\",\"84.222.82.52\",\"147.32.84.59\",\"147.32.86.194\",\"147.32.84.138\",\"147.32.84.3\",\"147.32.84.138\",\"68.203.10.24\",\"81.164.85.143\",\"68.194.177.130\",\"147.32.86.194\",\"147.32.86.96\",\"147.32.85.34\",\"134.60.66.128\",\"90.183.39.17\",\"147.32.87.252\",\"66.249.66.10\",\"147.32.84.229\",\"94.153.35.7\",\"147.32.84.138\",\"147.32.84.25\",\"147.32.84.134\",\"147.32.84.59\",\"147.32.84.138\",\"147.32.84.138\",\"147.32.86.111\",\"147.32.85.40\",\"147.32.86.168\",\"147.32.84.171\",\"147.32.84.138\",\"68.198.85.107\",\"147.32.86.155\",\"147.32.84.164\",\"147.32.84.59\",\"147.32.84.138\",\"147.32.84.59\",\"147.32.85.25\",\"147.32.84.138\",\"147.32.84.118\",\"147.32.86.192\",\"119.160.126.105\",\"147.32.84.170\",\"147.32.85.7\",\"62.221.134.188\",\"147.32.84.111\",\"109.252.143.101\",\"147.32.84.138\",\"147.32.84.59\",\"147.32.84.229\",\"147.32.84.138\",\"147.32.84.138\",\"147.32.84.229\",\"147.32.84.59\",\"147.32.85.7\",\"147.32.84.134\",\"69.70.184.210\",\"147.32.84.138\",\"202.126.240.41\",\"84.237.156.73\",\"87.59.55.149\",\"147.32.84.138\",\"147.32.85.7\",\"147.32.85.114\",\"147.32.84.59\",\"119.25.21.225\",\"208.54.36.163\",\"147.32.85.26\",\"147.32.84.138\",\"147.32.84.138\",\"147.32.86.187\",\"147.32.84.59\",\"147.32.86.20\",\"147.32.84.164\",\"147.32.84.118\",\"147.32.84.59\",\"147.32.84.138\",\"147.32.84.138\",\"147.32.84.138\",\"147.32.84.179\",\"147.32.85.25\",\"147.32.84.138\",\"147.32.86.194\",\"147.32.84.59\",\"147.32.84.59\",\"113.161.161.159\",\"147.32.84.21\",\"147.32.84.138\",\"147.32.84.229\",\"147.32.84.138\",\"202.81.69.132\",\"147.32.85.34\",\"46.193.128.124\",\"147.32.84.138\",\"147.32.84.138\",\"147.32.84.59\",\"147.32.84.138\",\"147.32.84.118\",\"147.32.84.138\",\"147.32.84.138\",\"147.32.84.138\",\"147.32.84.59\",\"147.32.84.59\",\"147.32.84.59\",\"93.32.159.231\",\"147.32.84.229\",\"178.49.245.147\",\"77.85.164.49\",\"24.152.228.233\",\"147.32.86.194\",\"147.32.84.118\",\"147.32.84.138\",\"147.32.84.138\",\"147.32.84.138\",\"147.32.84.59\",\"147.32.87.238\",\"147.32.84.138\",\"147.32.84.229\",\"147.32.84.59\",\"176.32.131.142\",\"147.32.84.59\",\"147.32.84.229\",\"147.32.84.170\",\"147.32.84.138\",\"147.32.84.138\",\"195.113.36.251\",\"147.32.84.59\",\"147.32.86.96\",\"201.23.94.3\",\"147.32.85.87\",\"147.32.84.171\",\"147.32.84.138\",\"147.32.84.165\",\"147.32.86.179\",\"79.153.11.127\",\"147.32.84.165\",\"147.32.86.194\",\"151.37.36.126\",\"213.146.167.60\",\"147.32.84.59\",\"147.32.85.76\",\"125.131.64.85\",\"66.194.55.249\",\"147.32.84.59\",\"147.32.86.15\",\"147.32.84.138\",\"98.207.120.48\",\"147.32.86.50\",\"147.32.86.183\",\"147.32.85.25\",\"147.32.84.184\",\"147.32.85.7\",\"94.188.34.218\",\"147.32.84.118\",\"147.32.84.138\",\"212.154.2.1\",\"147.32.86.194\",\"147.32.84.59\",\"86.16.123.70\",\"147.32.85.76\",\"147.32.84.229\",\"147.32.85.25\",\"147.32.84.138\",\"58.180.172.5\",\"147.32.85.7\",\"147.32.84.138\",\"147.32.84.229\",\"89.246.21.78\",\"147.32.84.138\",\"59.120.243.182\",\"147.32.85.7\",\"147.32.84.59\",\"147.32.85.25\",\"147.32.84.59\",\"1.72.0.215\",\"147.32.86.20\",\"147.32.84.59\",\"66.220.151.92\",\"147.32.86.212\",\"147.32.84.59\",\"147.32.85.40\",\"95.79.0.114\",\"147.32.86.50\",\"85.218.176.53\",\"147.32.84.164\",\"147.32.84.59\",\"99.253.116.239\",\"200.13.46.30\",\"95.168.237.130\",\"147.32.87.1\",\"178.195.215.4\",\"213.52.8.65\",\"147.32.85.34\",\"147.32.84.229\",\"147.32.84.138\",\"147.32.84.59\",\"114.32.231.88\",\"147.32.84.138\",\"147.32.84.118\",\"147.32.86.131\",\"147.32.84.164\",\"147.32.85.76\",\"147.32.84.229\",\"83.69.34.193\",\"78.141.179.9\",\"61.158.100.233\",\"147.32.84.59\",\"147.32.86.176\",\"147.32.84.25\",\"147.32.84.229\",\"147.32.87.48\",\"147.32.84.138\",\"147.32.85.25\",\"147.32.84.59\",\"147.32.85.7\",\"147.32.84.59\",\"98.166.100.124\",\"147.32.84.59\",\"66.249.66.119\",\"147.32.84.59\",\"217.92.151.75\",\"147.32.84.138\",\"94.43.5.179\",\"147.32.84.59\",\"147.32.84.170\",\"147.32.84.138\",\"147.32.84.138\",\"87.14.81.230\",\"147.32.84.138\",\"147.32.84.138\",\"147.32.84.138\",\"147.32.84.68\",\"147.32.84.138\",\"147.32.86.176\",\"114.47.227.53\",\"147.32.84.229\",\"147.32.84.59\",\"192.168.88.124\",\"147.32.84.59\",\"147.32.85.87\",\"147.32.85.125\",\"147.32.84.59\",\"147.32.84.59\",\"147.32.85.87\",\"147.32.85.35\",\"147.32.85.34\",\"147.32.84.229\",\"147.32.84.229\",\"147.32.84.229\",\"147.32.84.138\",\"87.120.14.196\",\"147.32.86.96\",\"109.93.48.42\",\"147.32.84.138\",\"147.32.84.138\",\"147.32.84.59\",\"147.32.84.229\",\"147.32.84.59\",\"147.32.84.118\",\"147.32.84.138\",\"147.32.84.229\",\"147.32.84.138\",\"79.178.201.114\",\"77.236.207.26\",\"147.32.85.34\",\"147.32.84.138\",\"147.32.84.138\",\"147.32.85.76\",\"186.140.208.64\",\"78.141.181.225\",\"147.32.84.138\",\"147.32.84.138\",\"147.32.84.13\",\"147.32.84.229\",\"85.138.200.230\",\"87.246.17.124\",\"60.62.138.159\",\"147.32.84.138\",\"147.32.85.25\",\"147.32.84.229\",\"147.32.85.40\",\"147.32.86.194\",\"85.250.139.189\",\"41.208.29.222\",\"147.32.86.186\",\"147.32.85.76\",\"147.32.84.170\",\"147.32.84.229\",\"147.32.86.165\",\"147.32.85.25\",\"fe80::f180:4f5c:7d4a:bbd7\",\"147.32.84.138\",\"147.32.84.138\",\"186.2.8.65\",\"93.125.4.181\",\"147.32.84.59\",\"147.32.84.138\",\"84.24.228.208\",\"147.32.86.168\",\"147.32.84.59\",\"147.32.84.59\",\"81.57.142.128\",\"147.32.84.59\",\"147.32.84.138\",\"147.32.84.138\",\"113.197.177.147\",\"147.32.84.59\",\"189.51.154.99\",\"147.32.84.164\",\"77.89.163.162\",\"66.249.66.119\",\"147.32.84.164\",\"147.32.84.138\",\"202.183.196.3\",\"75.57.218.242\",\"147.32.85.25\",\"178.93.118.141\",\"217.118.81.19\",\"147.32.84.138\",\"147.32.84.229\",\"66.249.66.119\",\"94.181.200.60\",\"147.32.85.7\",\"147.32.86.20\",\"147.32.84.13\",\"66.249.66.119\",\"147.32.84.168\",\"147.32.84.229\",\"84.242.221.167\",\"147.32.84.138\",\"147.32.84.118\",\"147.32.84.59\",\"178.120.131.193\",\"147.32.85.114\",\"147.32.84.59\",\"147.32.84.118\",\"147.32.84.118\",\"147.32.84.59\",\"147.32.84.59\",\"147.32.85.89\",\"147.32.84.118\",\"147.32.84.229\",\"147.32.84.138\",\"95.88.255.115\",\"147.32.85.8\",\"98.213.96.251\",\"147.32.85.25\",\"84.112.1.233\",\"194.146.153.131\",\"147.32.84.229\",\"147.32.84.164\",\"147.32.84.118\",\"147.32.84.138\",\"147.32.84.164\",\"87.245.179.130\",\"77.78.215.26\",\"147.32.84.229\",\"66.249.72.215\",\"92.231.146.17\",\"147.32.84.59\",\"147.32.84.138\",\"147.32.84.229\",\"86.211.54.176\",\"94.160.187.0\",\"77.92.250.68\",\"147.32.84.229\",\"147.32.84.59\",\"147.32.84.138\",\"213.146.189.237\",\"99.13.21.244\",\"147.32.84.138\",\"147.32.85.25\",\"147.32.84.179\",\"147.32.85.7\",\"195.60.178.234\",\"147.32.86.176\",\"147.32.85.74\",\"147.32.84.59\",\"147.32.84.138\",\"147.32.84.138\",\"147.32.85.113\",\"147.32.84.149\",\"147.32.84.170\",\"147.32.84.59\",\"147.32.84.59\",\"147.32.84.138\",\"147.32.85.40\",\"147.32.85.34\",\"95.135.31.246\",\"147.32.84.138\",\"147.32.84.59\",\"147.32.84.59\",\"147.32.84.165\",\"125.58.88.87\",\"114.41.165.61\",\"147.32.84.59\",\"220.215.45.87\",\"147.32.84.164\",\"147.32.84.59\",\"147.32.84.59\",\"147.32.85.25\",\"147.32.84.138\",\"147.32.84.138\",\"147.32.84.138\",\"147.32.85.8\",\"147.32.84.134\",\"115.184.130.123\",\"84.201.228.5\",\"147.32.84.229\",\"147.32.85.7\",\"147.32.84.138\",\"147.32.84.138\",\"46.137.3.179\",\"147.32.84.138\",\"147.32.86.155\",\"147.32.84.118\",\"147.32.84.59\",\"147.32.84.59\",\"147.32.84.138\",\"85.176.154.213\",\"147.32.84.138\",\"147.32.84.59\",\"147.32.84.59\",\"147.32.84.59\",\"147.32.84.138\",\"217.31.36.248\",\"147.32.84.170\",\"147.32.84.229\",\"66.87.21.23\",\"147.32.84.59\",\"147.32.85.7\",\"147.32.86.20\",\"147.32.84.138\",\"58.153.250.110\",\"147.32.84.229\",\"217.85.238.147\",\"195.222.85.12\",\"147.32.84.164\",\"67.49.69.111\",\"147.32.84.229\",\"78.125.97.240\",\"147.32.84.138\",\"147.32.86.77\",\"147.32.84.171\",\"147.32.85.7\",\"147.32.84.164\",\"147.32.84.229\",\"147.32.84.2\",\"94.156.113.198\",\"147.32.84.138\",\"147.32.85.7\",\"147.32.84.59\",\"92.237.213.66\",\"147.32.85.25\",\"147.32.84.138\",\"76.16.16.66\",\"168.243.153.21\",\"147.32.85.34\",\"147.32.84.59\",\"147.32.84.21\",\"147.32.86.98\",\"147.32.84.229\",\"1.1.224.18\",\"147.32.84.138\",\"147.32.84.138\",\"147.32.84.59\",\"147.32.86.192\",\"95.222.228.178\",\"82.170.35.132\",\"147.32.84.68\",\"66.194.55.249\",\"147.32.84.59\",\"130.88.78.95\",\"147.32.84.138\",\"83.221.190.55\",\"91.124.27.2\",\"147.32.84.138\",\"147.32.84.59\",\"109.180.209.224\",\"147.32.86.168\",\"147.32.84.138\",\"147.32.84.59\",\"147.32.84.138\",\"147.32.84.138\",\"147.32.87.254\",\"89.22.6.3\",\"177.17.200.36\",\"147.32.84.138\",\"147.32.84.138\",\"147.32.84.59\",\"147.32.84.138\",\"147.32.86.20\",\"147.32.84.138\",\"94.50.148.168\",\"147.32.85.76\",\"147.32.84.138\",\"147.32.86.194\",\"147.32.86.179\",\"147.32.84.138\",\"147.32.84.164\",\"203.226.220.54\",\"147.32.84.59\",\"147.32.85.23\",\"143.248.173.64\",\"147.32.84.21\",\"147.32.85.25\",\"147.32.84.138\",\"68.8.95.224\",\"77.246.69.234\",\"89.216.224.243\",\"147.32.84.165\",\"147.32.84.138\",\"81.31.194.106\",\"147.32.84.59\",\"147.32.84.59\",\"147.32.84.59\",\"82.5.205.34\",\"147.32.85.25\",\"147.32.84.229\",\"147.32.84.68\",\"147.32.84.59\",\"147.32.84.59\",\"147.32.85.7\",\"147.32.84.59\",\"147.32.84.164\",\"147.32.84.138\",\"147.32.84.229\",\"147.32.84.111\",\"147.32.86.186\",\"197.128.80.141\",\"147.32.84.138\",\"147.32.84.59\",\"147.32.86.15\",\"147.32.84.59\",\"147.32.85.34\",\"95.68.99.27\",\"80.100.190.196\",\"147.32.84.229\",\"66.249.72.237\",\"147.32.86.187\",\"95.17.10.235\",\"147.32.84.170\",\"147.32.84.59\",\"50.131.134.208\",\"147.32.84.186\",\"147.32.84.165\",\"87.244.224.86\",\"109.128.9.66\",\"123.193.138.239\",\"195.174.205.194\",\"147.32.84.229\",\"124.184.232.1\",\"147.32.84.229\",\"85.248.57.50\",\"147.32.84.138\",\"147.32.84.59\",\"147.32.86.168\",\"147.32.84.59\",\"85.217.203.30\",\"147.32.86.183\",\"147.32.84.59\",\"147.32.84.170\",\"147.32.84.138\",\"116.76.194.132\",\"147.32.85.35\",\"147.32.84.118\",\"147.32.84.138\",\"128.164.150.87\",\"147.32.84.59\",\"77.161.63.246\",\"98.225.248.44\",\"109.165.140.202\",\"147.32.86.168\",\"147.32.85.34\",\"147.32.84.59\",\"147.32.84.134\",\"147.32.84.229\",\"147.32.87.1\",\"147.32.84.59\",\"147.32.84.118\",\"98.163.205.177\",\"147.32.84.138\",\"147.32.84.118\",\"147.32.85.26\",\"46.238.206.191\",\"147.32.84.59\",\"147.32.84.138\",\"147.32.84.229\",\"149.5.45.70\",\"147.32.84.59\",\"147.32.84.138\",\"67.60.88.29\",\"110.49.250.178\",\"147.32.86.194\",\"147.32.84.59\",\"147.32.84.138\",\"147.32.86.176\",\"147.32.84.229\",\"66.194.55.249\",\"147.32.86.165\",\"87.224.193.7\",\"98.165.14.141\",\"147.32.85.25\",\"147.32.84.229\",\"147.32.84.59\",\"75.40.255.57\",\"147.32.85.34\",\"147.32.84.59\",\"147.32.84.138\",\"87.120.112.61\",\"80.251.112.199\",\"147.32.85.8\",\"147.32.84.59\",\"147.32.84.138\",\"147.32.84.138\",\"147.32.85.34\",\"111.240.188.55\",\"147.32.84.111\",\"147.32.87.1\",\"147.32.85.34\",\"147.32.84.165\",\"147.32.85.34\",\"147.32.84.229\",\"147.32.86.20\",\"147.32.85.34\",\"147.32.84.138\",\"60.248.150.212\",\"147.32.84.59\",\"147.32.84.59\",\"147.32.84.229\",\"147.32.84.118\",\"147.32.85.25\",\"147.32.84.229\",\"147.32.84.138\",\"147.32.84.59\",\"147.32.84.229\",\"80.4.34.104\",\"147.32.84.59\",\"147.32.84.229\",\"147.32.85.88\",\"95.114.115.111\",\"147.251.13.2\",\"93.123.21.121\",\"147.32.84.229\",\"96.31.69.236\",\"91.196.196.142\",\"147.32.85.34\",\"88.83.173.69\",\"147.32.84.59\",\"78.108.153.1\",\"200.120.158.166\",\"147.32.84.138\",\"147.32.85.89\",\"147.32.84.138\",\"147.32.85.25\",\"147.32.85.26\",\"147.32.85.25\",\"147.32.84.138\",\"147.32.84.59\",\"89.200.214.154\",\"108.13.176.161\",\"147.32.84.59\",\"147.32.84.229\",\"147.32.84.118\",\"147.32.84.138\",\"105.143.17.35\",\"147.32.84.171\",\"147.32.84.59\",\"147.32.84.138\",\"147.32.84.59\",\"147.32.84.59\",\"77.121.166.140\",\"147.32.86.77\",\"147.32.84.59\",\"147.32.84.138\",\"147.32.84.59\",\"147.32.84.13\",\"147.32.84.59\",\"147.32.85.34\",\"68.195.225.218\",\"147.32.84.59\",\"66.249.66.165\",\"147.32.84.138\",\"147.32.84.59\",\"88.100.196.135\",\"147.32.84.59\",\"174.56.64.255\",\"202.70.39.254\",\"147.32.86.183\",\"62.2.142.202\",\"147.32.84.138\",\"147.32.84.59\",\"147.32.84.59\",\"147.32.84.118\",\"147.32.84.229\",\"147.32.84.170\",\"147.32.84.138\",\"147.32.84.229\",\"147.32.84.229\",\"147.32.84.138\",\"147.32.84.229\",\"180.194.226.168\",\"147.32.85.25\",\"147.32.84.59\",\"147.32.84.138\",\"147.32.84.138\",\"147.32.84.59\",\"188.134.38.78\",\"147.32.84.138\",\"147.32.84.138\",\"147.32.84.59\",\"205.177.179.58\",\"217.91.116.154\",\"147.32.84.59\",\"147.32.84.138\",\"147.32.84.229\",\"147.32.85.8\",\"147.32.84.138\",\"76.104.144.56\",\"94.202.229.201\",\"74.125.232.214\",\"147.32.84.138\",\"147.32.84.59\",\"147.32.84.59\",\"147.32.84.59\",\"74.176.185.71\",\"147.32.84.68\",\"147.32.84.229\",\"147.32.84.138\",\"147.32.84.229\",\"12.201.119.38\",\"76.102.194.81\",\"62.221.94.203\",\"147.32.84.25\",\"147.32.85.34\",\"147.32.84.59\",\"147.32.84.138\",\"147.32.84.118\",\"174.89.61.143\",\"147.32.84.59\",\"81.2.195.96\",\"147.32.84.138\",\"147.32.84.59\",\"147.32.85.76\",\"95.42.69.185\",\"147.32.86.155\",\"147.32.84.59\",\"156.35.107.28\",\"147.32.85.76\",\"147.32.85.76\",\"147.32.84.59\",\"147.32.85.47\",\"91.92.170.154\",\"147.32.87.54\",\"147.32.84.59\",\"85.70.0.239\",\"147.32.85.25\",\"147.32.84.138\",\"147.32.84.134\",\"147.32.85.7\",\"147.32.84.164\",\"147.32.84.59\",\"147.32.84.130\",\"147.32.84.59\",\"95.158.132.29\",\"147.32.84.229\",\"147.32.84.118\",\"147.32.84.165\",\"147.32.84.229\",\"147.32.84.59\",\"147.32.84.138\",\"125.202.64.133\",\"147.32.85.34\",\"147.32.86.20\",\"147.32.84.59\",\"147.32.84.138\",\"147.32.86.92\",\"147.32.84.229\",\"109.253.73.217\",\"83.244.253.106\",\"147.32.84.59\",\"147.32.85.76\",\"147.32.84.170\",\"109.64.235.26\",\"147.32.85.88\",\"147.32.84.164\",\"147.32.84.138\",\"147.32.84.138\",\"209.190.33.25\",\"78.56.140.67\",\"212.67.138.19\",\"147.32.84.170\",\"147.32.84.59\",\"76.13.114.90\",\"212.100.149.75\",\"87.236.141.103\",\"202.175.115.42\",\"147.32.85.76\",\"147.32.84.138\",\"78.8.125.36\",\"147.32.84.59\",\"147.32.84.138\",\"147.32.85.25\",\"109.236.80.122\",\"147.32.84.229\",\"82.20.46.127\",\"109.185.44.42\",\"202.81.69.132\",\"147.32.84.59\",\"147.32.84.229\",\"147.32.84.118\",\"147.32.85.7\",\"147.32.86.186\",\"147.32.85.25\",\"89.215.92.249\",\"147.32.84.118\",\"147.32.84.229\",\"147.32.85.7\",\"147.32.85.25\",\"112.135.84.139\",\"147.32.86.165\",\"147.32.84.138\",\"147.32.84.59\",\"188.115.154.191\",\"147.32.87.252\",\"147.32.84.21\",\"83.218.57.146\",\"147.32.84.59\",\"147.32.84.164\",\"147.32.84.59\",\"147.32.84.229\",\"147.32.85.84\",\"147.32.84.59\",\"147.32.85.87\",\"147.32.84.59\",\"147.32.84.59\",\"152.2.89.37\",\"147.32.85.26\",\"147.32.84.138\",\"147.32.84.138\",\"79.107.208.215\",\"147.32.84.59\",\"147.32.84.229\",\"147.32.86.187\",\"147.32.84.68\",\"147.32.86.123\",\"147.32.85.7\",\"147.32.84.170\",\"147.32.84.229\",\"147.32.84.138\",\"115.186.100.7\",\"147.32.84.138\",\"217.174.232.11\",\"147.32.84.229\",\"147.32.84.138\",\"147.32.86.20\",\"147.32.84.138\",\"147.32.84.229\",\"147.32.86.165\",\"66.194.55.249\",\"92.247.223.24\",\"147.32.84.170\",\"151.82.175.149\",\"147.32.84.229\",\"92.233.221.127\",\"147.32.84.138\",\"147.32.85.76\",\"147.32.84.21\",\"147.32.86.183\",\"94.36.93.142\",\"147.32.87.1\",\"147.32.84.171\",\"46.119.32.124\",\"86.89.213.120\",\"147.32.84.229\",\"75.67.60.239\",\"41.113.75.62\",\"190.9.100.238\",\"147.32.85.7\",\"123.220.103.224\",\"84.227.213.27\",\"196.218.177.203\",\"147.32.84.138\",\"129.132.78.225\",\"147.32.86.194\",\"147.32.84.170\",\"147.32.84.138\",\"89.22.6.3\",\"147.32.84.229\",\"147.32.84.170\",\"78.58.97.157\",\"147.32.86.141\",\"147.32.84.138\",\"173.176.194.120\",\"59.93.85.10\",\"87.110.116.23\",\"81.131.72.66\",\"222.122.205.138\",\"147.32.84.138\",\"147.32.84.184\",\"147.32.87.228\",\"147.32.84.216\",\"147.32.84.59\",\"147.32.85.7\",\"147.32.85.25\",\"147.32.84.118\",\"88.24.106.120\",\"147.32.84.138\",\"2.8.47.239\",\"147.32.84.59\",\"147.32.84.138\",\"147.32.84.59\",\"147.32.84.229\",\"147.32.84.59\",\"147.32.86.194\",\"147.32.85.7\",\"147.32.84.59\",\"147.32.85.7\",\"147.32.84.138\",\"147.32.86.183\",\"147.32.84.216\",\"147.32.84.138\",\"98.102.125.130\",\"147.32.86.20\",\"147.32.84.229\",\"147.32.85.76\",\"147.32.85.25\",\"147.32.84.59\",\"147.32.84.138\",\"147.32.84.59\",\"147.32.84.164\",\"93.116.204.162\",\"208.88.186.6\",\"65.52.227.217\",\"147.32.84.229\",\"147.32.86.192\",\"147.32.84.118\",\"151.21.103.219\",\"93.209.167.215\",\"147.32.84.138\",\"66.87.106.163\",\"109.252.148.219\",\"147.32.84.138\",\"147.32.84.59\",\"71.202.149.35\",\"147.32.84.59\",\"81.224.198.2\",\"147.32.84.164\",\"147.32.85.76\",\"147.32.85.7\",\"147.32.85.7\",\"147.32.84.138\",\"95.56.82.150\",\"147.32.84.138\",\"147.32.84.229\",\"147.32.84.59\",\"147.32.84.59\",\"147.32.86.194\",\"92.248.176.114\",\"147.32.84.134\",\"147.32.85.76\",\"147.32.84.138\",\"147.32.86.96\",\"220.122.105.106\",\"76.110.159.151\",\"147.32.84.134\",\"147.32.84.59\",\"147.32.84.59\",\"213.109.14.49\",\"85.71.111.92\",\"147.32.84.229\",\"147.32.84.164\",\"147.32.84.138\",\"189.2.62.132\",\"147.32.84.59\",\"147.32.84.59\",\"79.210.116.212\",\"59.105.82.95\",\"74.14.127.249\",\"65.6.204.2\",\"201.244.97.49\",\"197.128.64.60\",\"147.32.84.59\",\"147.32.85.25\",\"147.32.84.138\",\"147.32.84.138\",\"147.32.84.59\",\"147.32.84.68\",\"147.32.85.34\",\"147.32.84.138\",\"147.32.86.20\",\"147.32.84.229\",\"89.153.219.70\",\"147.32.84.170\",\"147.32.84.138\",\"147.32.84.229\",\"80.123.32.247\",\"147.32.84.118\",\"147.32.84.138\",\"147.32.84.59\",\"147.32.84.229\",\"193.225.215.130\",\"147.32.84.59\",\"147.32.86.176\",\"147.32.84.138\",\"147.32.84.138\",\"147.32.87.223\",\"147.32.84.138\",\"147.32.84.59\",\"147.32.84.59\",\"147.32.84.229\",\"147.32.84.134\",\"91.146.207.104\",\"147.32.84.168\",\"147.32.86.183\",\"147.32.84.138\",\"147.32.84.138\",\"147.32.84.229\",\"147.32.84.138\",\"87.245.75.168\",\"94.192.71.250\",\"147.32.84.118\",\"147.32.84.138\",\"123.136.1.56\",\"147.32.84.59\",\"222.122.205.138\",\"147.32.84.59\",\"195.113.235.89\",\"147.32.84.229\",\"147.32.84.138\",\"2.192.103.142\",\"147.32.84.59\",\"147.32.84.138\",\"147.32.84.59\",\"147.32.84.138\",\"113.162.242.164\",\"147.32.85.114\",\"95.158.210.170\",\"147.32.84.118\",\"147.32.84.229\",\"147.32.84.59\",\"87.58.125.68\",\"147.32.86.95\",\"109.229.57.13\",\"147.32.86.77\",\"147.32.84.59\",\"147.32.84.138\",\"147.32.84.138\",\"218.103.15.65\",\"147.32.84.59\",\"147.32.86.50\",\"147.32.84.170\",\"147.32.84.59\",\"147.32.84.118\",\"192.162.32.158\",\"147.32.84.59\",\"147.32.85.7\",\"147.32.84.59\",\"89.158.146.55\",\"83.149.3.116\",\"147.32.85.7\",\"147.32.85.25\",\"85.240.23.11\",\"147.32.86.110\",\"147.32.84.59\",\"147.32.84.13\",\"147.32.86.77\",\"94.190.193.82\",\"147.32.84.59\",\"85.71.215.38\",\"147.32.84.138\",\"109.53.96.105\",\"147.32.84.229\",\"84.223.85.252\",\"188.232.61.9\",\"147.32.85.25\",\"76.126.250.229\",\"116.71.34.179\",\"151.62.159.163\",\"147.32.86.96\",\"147.32.84.164\",\"98.126.223.2\",\"147.32.85.7\",\"147.32.84.59\",\"147.32.84.59\",\"147.32.84.165\",\"147.32.84.168\",\"84.236.231.157\",\"147.32.85.76\",\"147.32.86.165\",\"147.32.84.138\",\"147.32.84.59\",\"147.32.86.111\",\"147.32.84.59\",\"147.32.85.8\",\"147.32.84.59\",\"147.32.84.164\",\"147.32.84.170\",\"147.32.84.138\",\"147.32.84.138\",\"147.32.84.138\",\"147.32.84.59\",\"147.32.84.229\",\"84.94.67.180\",\"147.32.84.138\",\"147.32.84.229\",\"147.32.85.25\",\"147.32.85.7\",\"147.32.85.40\",\"88.146.225.41\",\"147.32.84.170\",\"147.32.86.20\",\"72.30.161.242\",\"201.19.71.146\",\"188.106.138.110\",\"78.111.152.196\",\"147.32.84.59\",\"147.32.85.25\",\"147.32.84.59\",\"147.32.84.59\",\"147.32.85.7\",\"147.32.84.59\",\"147.32.84.229\",\"197.195.141.160\",\"147.32.86.77\",\"147.32.84.138\",\"200.196.54.37\",\"147.32.85.7\",\"147.32.85.25\",\"118.210.63.65\",\"147.32.84.59\",\"147.32.84.138\",\"87.121.169.9\",\"147.32.84.168\",\"147.32.86.20\",\"208.88.186.10\",\"147.32.84.138\",\"213.87.130.238\",\"147.32.86.20\",\"178.124.111.212\",\"186.93.4.117\",\"147.32.84.138\",\"147.32.84.138\",\"147.32.86.192\",\"147.32.84.59\",\"147.32.85.76\",\"147.32.84.229\",\"78.141.179.10\",\"147.32.85.34\",\"88.195.102.80\",\"147.32.84.138\",\"147.32.84.138\",\"94.181.35.15\",\"147.32.84.168\",\"85.2.39.9\",\"24.137.166.95\",\"147.32.85.89\",\"147.32.84.59\",\"147.32.84.138\",\"147.32.85.34\",\"147.32.84.138\",\"147.32.84.138\",\"147.32.84.13\",\"147.32.80.13\",\"147.32.86.20\",\"147.32.85.26\",\"147.32.84.59\",\"147.32.84.138\",\"147.32.85.40\",\"194.108.204.18\",\"147.32.84.138\",\"147.32.84.59\",\"147.32.84.229\",\"147.32.85.7\",\"95.72.184.135\",\"147.32.85.8\",\"147.32.84.138\",\"147.32.84.164\",\"147.32.84.138\",\"147.32.84.59\",\"98.238.65.97\",\"147.32.84.59\",\"147.32.84.184\",\"208.68.138.5\",\"98.110.229.105\",\"130.75.119.244\",\"147.32.84.138\",\"147.32.85.76\",\"147.32.84.59\",\"147.32.85.25\",\"147.32.84.138\",\"147.32.84.59\",\"147.32.84.138\",\"88.0.178.35\",\"178.37.56.249\",\"147.32.84.229\",\"147.32.84.229\",\"147.32.84.229\",\"147.32.84.59\",\"147.32.84.138\",\"147.32.84.164\",\"79.12.190.29\",\"115.127.24.116\",\"126.121.103.220\",\"147.32.84.59\",\"147.32.84.138\",\"147.32.84.138\",\"147.32.84.138\",\"147.32.85.25\",\"147.32.84.171\",\"147.32.85.34\",\"147.32.84.134\",\"147.32.85.7\",\"66.167.61.236\",\"147.32.86.194\",\"147.32.84.13\",\"147.32.84.138\",\"94.243.37.176\",\"195.113.44.178\",\"147.32.87.254\",\"147.32.85.25\",\"147.32.87.54\",\"147.32.84.229\",\"195.243.58.141\",\"147.32.84.216\",\"147.32.84.138\",\"78.58.82.36\",\"147.32.87.33\",\"147.32.84.138\",\"147.32.84.59\",\"147.32.84.138\",\"147.32.84.134\",\"67.195.112.170\",\"222.164.170.20\",\"147.32.84.168\",\"68.33.11.90\",\"147.32.84.59\",\"147.32.86.187\",\"95.222.205.109\",\"147.32.84.59\",\"147.32.85.76\",\"147.32.86.20\",\"76.166.129.115\",\"147.32.84.59\",\"147.32.84.59\",\"147.32.87.27\",\"91.82.65.19\",\"147.32.85.7\",\"78.184.195.192\",\"147.32.84.59\",\"147.32.84.59\",\"147.32.85.7\",\"147.32.86.194\",\"147.32.85.34\",\"147.32.84.229\",\"115.140.136.54\",\"147.32.84.59\",\"147.32.84.59\",\"147.32.84.138\",\"147.32.84.138\",\"82.202.65.1\",\"219.187.147.40\",\"147.32.84.59\",\"147.32.86.123\",\"147.32.86.187\",\"66.194.55.249\",\"99.114.236.168\",\"109.165.89.113\",\"147.32.84.229\",\"147.32.85.35\",\"147.32.84.170\",\"147.32.84.59\",\"187.38.182.55\",\"147.32.84.138\",\"147.32.84.59\",\"147.32.85.25\",\"147.32.84.59\",\"147.32.84.138\",\"147.32.84.229\",\"213.160.255.1\",\"147.32.84.59\",\"147.32.85.25\",\"147.32.85.76\",\"147.32.82.164\",\"92.251.241.235\",\"147.32.84.138\",\"143.117.173.218\",\"147.32.85.34\",\"147.32.84.138\",\"84.54.191.227\",\"147.32.84.118\",\"91.197.16.195\",\"147.32.84.138\",\"121.228.200.44\",\"147.32.84.59\",\"84.85.107.25\",\"147.32.85.7\",\"85.224.167.194\",\"147.32.85.56\",\"147.32.84.138\",\"77.77.14.224\",\"147.32.84.138\",\"147.32.85.7\",\"147.32.85.25\",\"147.32.84.138\",\"147.32.84.59\",\"147.32.84.138\",\"147.32.84.134\",\"147.32.84.59\",\"147.32.84.59\",\"147.32.84.229\",\"66.249.66.119\",\"46.176.163.239\",\"61.158.100.233\",\"147.32.86.187\",\"189.111.12.95\",\"147.32.84.59\",\"147.32.84.138\",\"77.75.76.115\",\"147.32.84.19\",\"76.24.78.66\",\"212.50.83.59\",\"147.32.84.138\",\"126.123.228.126\",\"58.34.50.73\",\"147.32.84.59\",\"81.90.162.3\",\"74.104.118.124\",\"147.32.84.138\",\"41.230.241.2\",\"147.32.84.170\"],\"x\":{\"__ndarray__\":\"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\",\"dtype\":\"float32\",\"order\":\"little\",\"shape\":[1500]},\"y\":{\"__ndarray__\":\"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\",\"dtype\":\"float32\",\"order\":\"little\",\"shape\":[1500]}},\"selected\":{\"id\":\"1052\"},\"selection_policy\":{\"id\":\"1051\"}},\"id\":\"1003\",\"type\":\"ColumnDataSource\"},{\"attributes\":{\"fill_alpha\":{\"value\":0.1},\"fill_color\":{\"field\":\"color\"},\"hatch_alpha\":{\"value\":0.1},\"hatch_color\":{\"field\":\"color\"},\"line_alpha\":{\"value\":0.1},\"line_color\":{\"field\":\"color\"},\"size\":{\"value\":20},\"x\":{\"field\":\"x\"},\"y\":{\"field\":\"y\"}},\"id\":\"1039\",\"type\":\"Circle\"},{\"attributes\":{},\"id\":\"1011\",\"type\":\"LinearScale\"}],\"root_ids\":[\"1004\"]},\"title\":\"Bokeh Application\",\"version\":\"2.4.2\"}};\n",
       "  const render_items = [{\"docid\":\"cc7a9e2b-2818-4ae8-9a22-9f75ae2af38a\",\"root_ids\":[\"1004\"],\"roots\":{\"1004\":\"c9331eae-f210-4a0a-adb4-495b66b0b686\"}}];\n",
       "  root.Bokeh.embed.embed_items_notebook(docs_json, render_items);\n",
       "\n",
       "  }\n",
       "  if (root.Bokeh !== undefined) {\n",
       "    embed_document(root);\n",
       "  } else {\n",
       "    let attempts = 0;\n",
       "    const timer = setInterval(function(root) {\n",
       "      if (root.Bokeh !== undefined) {\n",
       "        clearInterval(timer);\n",
       "        embed_document(root);\n",
       "      } else {\n",
       "        attempts++;\n",
       "        if (attempts > 100) {\n",
       "          clearInterval(timer);\n",
       "          console.log(\"Bokeh: ERROR: Unable to run BokehJS code because BokehJS library is missing\");\n",
       "        }\n",
       "      }\n",
       "    }, 10, root)\n",
       "  }\n",
       "})(window);"
      ],
      "application/vnd.bokehjs_exec.v0+json": ""
     },
     "metadata": {
      "application/vnd.bokehjs_exec.v0+json": {
       "id": "1004"
      }
     },
     "output_type": "display_data"
    }
   ],
   "source": [
    "p = umap.plot.interactive(g3._umap, labels=edf['Label'], hover_data=hover_data, point_size=20, theme='fire')\n",
    "umap.plot.show(p)"
   ]
  },
  {
   "cell_type": "markdown",
   "id": "8c17a2bd",
   "metadata": {},
   "source": [
    "# Do we have a predictive model?"
   ]
  },
  {
   "cell_type": "code",
   "execution_count": 34,
   "id": "e909dcd0",
   "metadata": {},
   "outputs": [],
   "source": [
    "from sklearn.ensemble import RandomForestClassifier\n",
    "from sklearn.model_selection import train_test_split\n",
    "from imblearn.over_sampling import RandomOverSampler\n",
    "from imblearn.over_sampling import SMOTE\n",
    "# use the SMOTE/OverSampler to balance out the classes\n",
    "smote = SMOTE(random_state = 42)\n",
    "ros = RandomOverSampler(random_state=0)\n"
   ]
  },
  {
   "cell_type": "code",
   "execution_count": 35,
   "id": "8f58c903",
   "metadata": {},
   "outputs": [],
   "source": [
    "# let's turn the Label into a binary indicator to simplify things\n",
    "T = edf.Label.apply(lambda x: 1 if 'Botnet' in x else 0)"
   ]
  },
  {
   "cell_type": "code",
   "execution_count": 36,
   "id": "34e1f99b",
   "metadata": {},
   "outputs": [
    {
     "data": {
      "text/plain": [
       "80056     0\n",
       "11048     0\n",
       "129236    0\n",
       "67971     0\n",
       "28386     0\n",
       "         ..\n",
       "123621    0\n",
       "91688     0\n",
       "105890    0\n",
       "3868      0\n",
       "54118     0\n",
       "Name: Label, Length: 1500, dtype: int64"
      ]
     },
     "execution_count": 36,
     "metadata": {},
     "output_type": "execute_result"
    }
   ],
   "source": [
    "T"
   ]
  },
  {
   "cell_type": "code",
   "execution_count": 37,
   "id": "3ef5ce3e",
   "metadata": {},
   "outputs": [
    {
     "data": {
      "text/plain": [
       "0.005333333333333333"
      ]
     },
     "execution_count": 37,
     "metadata": {},
     "output_type": "execute_result"
    }
   ],
   "source": [
    "T.sum()/T.shape[0]  ## very sparse label"
   ]
  },
  {
   "cell_type": "code",
   "execution_count": 38,
   "id": "33e65c59",
   "metadata": {},
   "outputs": [],
   "source": [
    "clf = RandomForestClassifier()\n",
    "#X, y = ros.fit_resample(g.edge_features.values, T)\n",
    "X, y = smote.fit_resample(g2.edge_features.values, T)"
   ]
  },
  {
   "cell_type": "code",
   "execution_count": 39,
   "id": "537d8c62",
   "metadata": {},
   "outputs": [
    {
     "data": {
      "text/plain": [
       "OrderedDict([(1, 1484)])"
      ]
     },
     "execution_count": 39,
     "metadata": {},
     "output_type": "execute_result"
    }
   ],
   "source": [
    "smote.sampling_strategy_"
   ]
  },
  {
   "cell_type": "code",
   "execution_count": 40,
   "id": "46d47f29",
   "metadata": {},
   "outputs": [
    {
     "data": {
      "text/plain": [
       "((2984, 999), (2984,))"
      ]
     },
     "execution_count": 40,
     "metadata": {},
     "output_type": "execute_result"
    }
   ],
   "source": [
    "X.shape, y.shape"
   ]
  },
  {
   "cell_type": "code",
   "execution_count": 41,
   "id": "cef1bdb5",
   "metadata": {},
   "outputs": [
    {
     "data": {
      "text/plain": [
       "0.5"
      ]
     },
     "execution_count": 41,
     "metadata": {},
     "output_type": "execute_result"
    }
   ],
   "source": [
    "y.sum()/y.shape[0] ## lots more data points from sampler"
   ]
  },
  {
   "cell_type": "code",
   "execution_count": 42,
   "id": "1590fdfe",
   "metadata": {},
   "outputs": [],
   "source": [
    "X_train, x_test, y_train, y_test = train_test_split(X, y) # standard splits"
   ]
  },
  {
   "cell_type": "code",
   "execution_count": 43,
   "id": "2fbefb5f",
   "metadata": {},
   "outputs": [
    {
     "data": {
      "text/plain": [
       "0.9986595174262735"
      ]
     },
     "execution_count": 43,
     "metadata": {},
     "output_type": "execute_result"
    }
   ],
   "source": [
    "clf.fit(X_train, y_train)\n",
    "clf.score(x_test, y_test) # huh? perfect ... likely due to it learning a single feature, like IP address"
   ]
  },
  {
   "cell_type": "code",
   "execution_count": 44,
   "id": "85c6fd0b",
   "metadata": {},
   "outputs": [],
   "source": [
    "fi = clf.feature_importances_.argsort()[::-1][:10]"
   ]
  },
  {
   "cell_type": "code",
   "execution_count": 45,
   "id": "cc807c4b",
   "metadata": {},
   "outputs": [],
   "source": [
    "mlb = g2.edge_encoders[0]"
   ]
  },
  {
   "cell_type": "code",
   "execution_count": 46,
   "id": "47b1d504",
   "metadata": {},
   "outputs": [
    {
     "ename": "IndexError",
     "evalue": "index 941 is out of bounds for axis 0 with size 864",
     "output_type": "error",
     "traceback": [
      "\u001b[0;31m---------------------------------------------------------------------------\u001b[0m",
      "\u001b[0;31mIndexError\u001b[0m                                Traceback (most recent call last)",
      "Input \u001b[0;32mIn [46]\u001b[0m, in \u001b[0;36m<cell line: 1>\u001b[0;34m()\u001b[0m\n\u001b[0;32m----> 1\u001b[0m mlb\u001b[38;5;241m.\u001b[39mclasses_[fi[\u001b[38;5;241m0\u001b[39m]]\n",
      "\u001b[0;31mIndexError\u001b[0m: index 941 is out of bounds for axis 0 with size 864"
     ]
    }
   ],
   "source": [
    "mlb.classes_[fi[0]] # so as expected, it has learned the IP address of the bot .. not any real predictive capacity"
   ]
  },
  {
   "cell_type": "code",
   "execution_count": null,
   "id": "067be51a",
   "metadata": {},
   "outputs": [],
   "source": [
    "n=len(mlb.classes_) # should be equal to total number of IP addresses\n",
    "n"
   ]
  },
  {
   "cell_type": "code",
   "execution_count": null,
   "id": "220e3665",
   "metadata": {},
   "outputs": [],
   "source": [
    "dc = g2.edge_encoders[1]\n",
    "feats = dc.get_feature_names_out()"
   ]
  },
  {
   "cell_type": "code",
   "execution_count": null,
   "id": "4c05300a",
   "metadata": {},
   "outputs": [],
   "source": [
    "# most important features to predict target botnet...\n",
    "[(feats[k-len(mlb.classes_)], clf.feature_importances_[k]) if k > n else (mlb.classes_[k], clf.feature_importances_[k]) for k in clf.feature_importances_.argsort()[::-1][:12]]"
   ]
  },
  {
   "cell_type": "markdown",
   "id": "d309dd5e",
   "metadata": {},
   "source": [
    "# Lets remove edges and see if there is a model of just 'common features' (ie no edges)"
   ]
  },
  {
   "cell_type": "code",
   "execution_count": null,
   "id": "2770e0aa",
   "metadata": {},
   "outputs": [],
   "source": [
    "# treat edf as ndf to featurize without specifying edges\n",
    "g2 = g.nodes(edf).featurize(kind='nodes', use_columns=good_cols_without_label_or_edges, use_scaler='minmax') "
   ]
  },
  {
   "cell_type": "code",
   "execution_count": null,
   "id": "388a54a4",
   "metadata": {},
   "outputs": [],
   "source": [
    "X = g2.node_features"
   ]
  },
  {
   "cell_type": "code",
   "execution_count": null,
   "id": "3afcbf84",
   "metadata": {},
   "outputs": [],
   "source": [
    "use_cols = ['Proto', 'Sport']"
   ]
  },
  {
   "cell_type": "code",
   "execution_count": null,
   "id": "12e9b8d1",
   "metadata": {},
   "outputs": [],
   "source": [
    "X"
   ]
  },
  {
   "cell_type": "code",
   "execution_count": null,
   "id": "dafbc089",
   "metadata": {},
   "outputs": [],
   "source": [
    "cols = X.columns.values"
   ]
  },
  {
   "cell_type": "code",
   "execution_count": null,
   "id": "43173c4b",
   "metadata": {},
   "outputs": [],
   "source": [
    "X.shape, T.shape"
   ]
  },
  {
   "cell_type": "code",
   "execution_count": null,
   "id": "7a120a26",
   "metadata": {},
   "outputs": [],
   "source": [
    "Xp, yp = smote.fit_resample(X.values, T)"
   ]
  },
  {
   "cell_type": "code",
   "execution_count": null,
   "id": "30b86c66",
   "metadata": {},
   "outputs": [],
   "source": [
    "yp.sum()/yp.shape[0]  # half the data is in class bot"
   ]
  },
  {
   "cell_type": "code",
   "execution_count": null,
   "id": "d0de391e",
   "metadata": {},
   "outputs": [],
   "source": [
    "d = Xp[yp==1].std(0)/Xp[yp==0].std(0) + Xp[yp==1].mean(0)/Xp[yp==0].mean(0)\n",
    "show = d > d.mean() + d.std()\n",
    "fig = plt.figure(figsize=(10,5))\n",
    "plt.plot(d)\n",
    "z = plt.xticks(np.arange(len(d))[show], cols[show], rotation = 45)"
   ]
  },
  {
   "cell_type": "code",
   "execution_count": null,
   "id": "2bc08765",
   "metadata": {},
   "outputs": [],
   "source": []
  },
  {
   "cell_type": "code",
   "execution_count": null,
   "id": "7b8d015b",
   "metadata": {},
   "outputs": [],
   "source": [
    "X_train, x_test, y_train, y_test = train_test_split(Xp, yp)"
   ]
  },
  {
   "cell_type": "code",
   "execution_count": null,
   "id": "9e802c8a",
   "metadata": {},
   "outputs": [],
   "source": [
    "clf.fit(X_train, y_train).score(x_test, y_test)  # so it def has figured something out that might be overfit..."
   ]
  },
  {
   "cell_type": "code",
   "execution_count": null,
   "id": "44abc5f4",
   "metadata": {},
   "outputs": [],
   "source": [
    "feats = g2.node_encoder.get_feature_names_out()"
   ]
  },
  {
   "cell_type": "code",
   "execution_count": null,
   "id": "fdf2ef00",
   "metadata": {},
   "outputs": [],
   "source": [
    "thresh = clf.feature_importances_.mean() + 2* clf.feature_importances_.std()\n",
    "thresh"
   ]
  },
  {
   "cell_type": "code",
   "execution_count": null,
   "id": "5085dbb6",
   "metadata": {},
   "outputs": [],
   "source": [
    "# let's see what most important features are?\n",
    "[(feats[k], clf.feature_importances_[k]) for k in clf.feature_importances_.argsort()[::-1] if clf.feature_importances_[k]> thresh]"
   ]
  },
  {
   "cell_type": "code",
   "execution_count": null,
   "id": "bcf36422",
   "metadata": {},
   "outputs": [],
   "source": [
    "res = [(feats[k], clf.feature_importances_[k]) for k in clf.feature_importances_.argsort()[::-1] if clf.feature_importances_[k]> thresh]"
   ]
  },
  {
   "cell_type": "code",
   "execution_count": null,
   "id": "11fe9100",
   "metadata": {},
   "outputs": [],
   "source": [
    "fts = [k[0] for k in res]\n",
    "fts"
   ]
  },
  {
   "cell_type": "code",
   "execution_count": null,
   "id": "f6d2fd8f",
   "metadata": {},
   "outputs": [],
   "source": [
    "X = g2.node_features"
   ]
  },
  {
   "cell_type": "code",
   "execution_count": null,
   "id": "b0f4fe41",
   "metadata": {},
   "outputs": [],
   "source": [
    "X[T.values ==1][fts].describe() # bot features"
   ]
  },
  {
   "cell_type": "code",
   "execution_count": null,
   "id": "01aa51ab",
   "metadata": {},
   "outputs": [],
   "source": [
    "X[T.values ==0][fts].describe() # non bot mean features"
   ]
  },
  {
   "cell_type": "code",
   "execution_count": null,
   "id": "aff6cfbe",
   "metadata": {},
   "outputs": [],
   "source": [
    "X.columns"
   ]
  },
  {
   "cell_type": "markdown",
   "id": "09ef6f98",
   "metadata": {},
   "source": [
    "## Shows a clear signature difference between bot and nonbot features"
   ]
  },
  {
   "cell_type": "code",
   "execution_count": null,
   "id": "0277bae9",
   "metadata": {},
   "outputs": [],
   "source": [
    "nonBot = X[T.values ==0][fts].describe()\n",
    "bot = X[T.values ==1][fts].describe()"
   ]
  },
  {
   "cell_type": "code",
   "execution_count": null,
   "id": "2af1f5fd",
   "metadata": {},
   "outputs": [],
   "source": [
    "nonBot.loc['mean']/bot.loc['mean']"
   ]
  },
  {
   "cell_type": "markdown",
   "id": "5e1d756e",
   "metadata": {},
   "source": [
    "## We see that SrcBytes and Proto_tcp has much high means than the non bot traffic, likewise Proto_UDP and Duration are much lower than expected"
   ]
  },
  {
   "cell_type": "code",
   "execution_count": null,
   "id": "b3b5de37",
   "metadata": {},
   "outputs": [],
   "source": [
    "bot.loc['mean']/nonBot.loc['mean']"
   ]
  },
  {
   "cell_type": "markdown",
   "id": "595b532b",
   "metadata": {},
   "source": [
    "# Hence we see that including just common features clusters botnet traffic together under featurization and UMAP"
   ]
  },
  {
   "cell_type": "code",
   "execution_count": null,
   "id": "bd6ca3f6",
   "metadata": {},
   "outputs": [],
   "source": [
    "good_cols_without_label_or_edges # these are the features"
   ]
  },
  {
   "cell_type": "code",
   "execution_count": null,
   "id": "c0579865",
   "metadata": {
    "scrolled": false
   },
   "outputs": [],
   "source": [
    "g4 = g2.umap(kind='nodes', scale = 1)"
   ]
  },
  {
   "cell_type": "code",
   "execution_count": null,
   "id": "31e1ce77",
   "metadata": {},
   "outputs": [],
   "source": [
    "g4.filter_edges(scale=2, inplace=True)"
   ]
  },
  {
   "cell_type": "code",
   "execution_count": null,
   "id": "0a79d1cb",
   "metadata": {},
   "outputs": [],
   "source": [
    "wdf = g4.weighted_edges_df_from_nodes"
   ]
  },
  {
   "cell_type": "code",
   "execution_count": null,
   "id": "325cae6a",
   "metadata": {},
   "outputs": [],
   "source": [
    "wdf"
   ]
  },
  {
   "cell_type": "code",
   "execution_count": null,
   "id": "7d4454c2",
   "metadata": {
    "scrolled": false
   },
   "outputs": [],
   "source": [
    "g6 = graphistry.edges(wdf, '_src', '_dst').nodes(hover_data, 'Node')\n",
    "g6.plot()"
   ]
  },
  {
   "cell_type": "markdown",
   "id": "96902113",
   "metadata": {},
   "source": [
    "# Let's encode the graph as a DGL graph for use in Machine Learning"
   ]
  },
  {
   "cell_type": "code",
   "execution_count": null,
   "id": "3ec33a8b",
   "metadata": {
    "scrolled": true
   },
   "outputs": [],
   "source": [
    "src, dst = 'from_node', 'to_node'\n",
    "node_column = 'Node'\n",
    "\n",
    "# we instantiate a new feature mixin that also builds DGL graphs\n",
    "#graph = DGLGraphMixin()"
   ]
  },
  {
   "cell_type": "code",
   "execution_count": null,
   "id": "15d7d85d",
   "metadata": {},
   "outputs": [],
   "source": [
    "# we can make an effective node_df using edf \n",
    "tdf = edf.groupby(['to_node'], as_index=False).mean().assign(ip=lambda x: x.to_node)\n",
    "fdf = edf.groupby(['from_node'], as_index=False).mean().assign(ip=lambda x: x.from_node)\n",
    "ndf = pd.concat([tdf, fdf], axis=0)\n",
    "ndf = ndf.fillna(0)\n",
    "\n",
    "node_cols = ['Dur', 'TotPkts', 'TotBytes', 'SrcBytes', 'ip']#, 'sTos', 'dTos']\n",
    "use_cols = ['Dur', 'TotPkts', 'TotBytes', 'SrcBytes']\n",
    "ndf = ndf[node_cols]\n",
    "ndf = ndf.drop_duplicates(subset=['ip'])"
   ]
  },
  {
   "cell_type": "code",
   "execution_count": null,
   "id": "f882d463",
   "metadata": {},
   "outputs": [],
   "source": [
    "len(ndf.ip.unique())"
   ]
  },
  {
   "cell_type": "code",
   "execution_count": null,
   "id": "b60777c2",
   "metadata": {},
   "outputs": [],
   "source": [
    "ndf"
   ]
  },
  {
   "cell_type": "code",
   "execution_count": null,
   "id": "51c3f72d",
   "metadata": {},
   "outputs": [],
   "source": [
    "assert len(ndf.ip.unique()) == len(ndf)"
   ]
  },
  {
   "cell_type": "code",
   "execution_count": null,
   "id": "dab1aeec",
   "metadata": {},
   "outputs": [],
   "source": [
    "y_edges=pd.DataFrame({'Label': edf.Label.values}, index=edf.index) # must include index or g._MASK will through error"
   ]
  },
  {
   "cell_type": "code",
   "execution_count": null,
   "id": "d13db089",
   "metadata": {},
   "outputs": [],
   "source": [
    "#TT = edf.Label.apply(lambda x: 'bot' if 'Botnet' in x else 'normal')\n",
    "#y_edges = pd.DataFrame({'Label': TT}, index=edf.index)"
   ]
  },
  {
   "cell_type": "code",
   "execution_count": null,
   "id": "4d0fa20b",
   "metadata": {},
   "outputs": [],
   "source": [
    "# now we can build the DGL graph with real data\n",
    "g = graphistry.edges(edf, src, dst).nodes(ndf, 'ip')"
   ]
  },
  {
   "cell_type": "code",
   "execution_count": null,
   "id": "76bd8f56",
   "metadata": {
    "scrolled": false
   },
   "outputs": [],
   "source": [
    "# g2=g.build_dgl_graph('ip', use_edge_columns=[src, dst], y_edges=y_edges, use_node_columns=node_cols)\n",
    "# since we need the label\n",
    "g2=g.build_dgl_graph('ip', \n",
    "                     use_edge_columns=good_cols_without_label, \n",
    "                     y_edges=y_edges, \n",
    "                     use_node_columns=use_cols, \n",
    "                    use_node_scaler='zscale', \n",
    "                    use_edge_scaler='minmax')\n",
    "#g2=g.build_dgl_graph('ip', use_edge_columns=good_cols_without_label, use_node_columns=node_cols)"
   ]
  },
  {
   "cell_type": "code",
   "execution_count": null,
   "id": "fb3233f8",
   "metadata": {},
   "outputs": [],
   "source": [
    "# now we have a DGL graph with ndata and edata built via our featurization tools\n",
    "g2.DGL_graph"
   ]
  },
  {
   "cell_type": "code",
   "execution_count": null,
   "id": "d95fa8e2",
   "metadata": {},
   "outputs": [],
   "source": [
    "g.DGL_graph"
   ]
  },
  {
   "cell_type": "code",
   "execution_count": null,
   "id": "b3a51184",
   "metadata": {},
   "outputs": [],
   "source": [
    "labels = None # in case we ran it without the label\n",
    "if g2.edge_target is not None: # depends if we run line two above\n",
    "    y_target=g2.edge_target.values.argmax(1)\n",
    "    labels = y_target"
   ]
  },
  {
   "cell_type": "code",
   "execution_count": null,
   "id": "49ba6992",
   "metadata": {},
   "outputs": [],
   "source": [
    "g5 = g2.umap(kind='edges', y=labels, scale=0.1)"
   ]
  },
  {
   "cell_type": "code",
   "execution_count": null,
   "id": "8c319ccd",
   "metadata": {
    "scrolled": false
   },
   "outputs": [],
   "source": [
    "umap.plot.points(g5._umap, labels=labels, theme='fire')"
   ]
  },
  {
   "cell_type": "code",
   "execution_count": null,
   "id": "6dc1b32b",
   "metadata": {
    "scrolled": false
   },
   "outputs": [],
   "source": [
    "p = umap.plot.interactive(g5._umap, labels=labels, hover_data=hover_data, point_size=20, theme='fire')\n",
    "umap.plot.show(p)  "
   ]
  },
  {
   "cell_type": "markdown",
   "id": "7940d9d8",
   "metadata": {},
   "source": [
    "# Now that we have this in hand, we can train a model"
   ]
  },
  {
   "cell_type": "code",
   "execution_count": null,
   "id": "eefa47af",
   "metadata": {},
   "outputs": [],
   "source": [
    "from graphistry.networks import LinkPredModelMultiOutput"
   ]
  },
  {
   "cell_type": "code",
   "execution_count": null,
   "id": "364200f6",
   "metadata": {},
   "outputs": [],
   "source": [
    "# get the DGL graph object\n",
    "G = g.DGL_graph"
   ]
  },
  {
   "cell_type": "code",
   "execution_count": null,
   "id": "7aceed04",
   "metadata": {},
   "outputs": [],
   "source": [
    "G"
   ]
  },
  {
   "cell_type": "code",
   "execution_count": null,
   "id": "8d288c3a",
   "metadata": {},
   "outputs": [],
   "source": [
    "# we have to allow self loops if it gives error below, but seems to work without!\n",
    "# G = dgl.add_self_loop(G)"
   ]
  },
  {
   "cell_type": "code",
   "execution_count": null,
   "id": "6e6160ee",
   "metadata": {},
   "outputs": [],
   "source": [
    "# to get a sense of the different parts in training loop above\n",
    "features = G.ndata['feature']\n",
    "labels = G.edata['target']\n",
    "#labels = torch.tensor(T.values, dtype=torch.float)\n",
    "train_mask = G.edata['train_mask']\n",
    "test_mask = G.edata['test_mask']\n",
    "targets = labels.argmax(1)"
   ]
  },
  {
   "cell_type": "code",
   "execution_count": null,
   "id": "18fa04e5",
   "metadata": {},
   "outputs": [],
   "source": [
    "targets"
   ]
  },
  {
   "cell_type": "code",
   "execution_count": null,
   "id": "762a600d",
   "metadata": {},
   "outputs": [],
   "source": [
    "labels"
   ]
  },
  {
   "cell_type": "code",
   "execution_count": null,
   "id": "ec5b002a",
   "metadata": {},
   "outputs": [],
   "source": [
    "np.array(labels)"
   ]
  },
  {
   "cell_type": "markdown",
   "id": "28dd9b01",
   "metadata": {},
   "source": [
    "# Define the Model "
   ]
  },
  {
   "cell_type": "code",
   "execution_count": null,
   "id": "5532c3f6",
   "metadata": {},
   "outputs": [],
   "source": [
    "n_feat = G.ndata['feature'].shape[1]\n",
    "latent_dim = 32\n",
    "n_output_feats = 16 # this is equal to the latent dim output of the SAGE net, not n_targets\n",
    "\n",
    "node_features = G.ndata['feature'].float()\n",
    "edge_label = G.edata['target']\n",
    "\n",
    "n_targets = edge_label.shape[1]\n",
    "targets = edge_label.argmax(1)\n",
    "\n",
    "train_mask = G.edata['train_mask']"
   ]
  },
  {
   "cell_type": "code",
   "execution_count": null,
   "id": "33003fdf",
   "metadata": {},
   "outputs": [],
   "source": [
    "# instantiate model\n",
    "model = LinkPredModelMultiOutput(n_feat, latent_dim, n_output_feats, n_targets) # 1) #LinkPredModel(n_feat, latent_dim, n_output_feats)\n",
    "\n",
    "pred = model(G, node_features)\n",
    "\n",
    "print(f'output of model should have same length as the number of edges: {pred.shape[0]}')\n",
    "print(f'number of edges: {G.num_edges()}')\n",
    "assert G.num_edges() == pred.shape[0], 'something went wrong'"
   ]
  },
  {
   "cell_type": "code",
   "execution_count": null,
   "id": "669b659e",
   "metadata": {},
   "outputs": [],
   "source": [
    "pred # untrained predictor"
   ]
  },
  {
   "cell_type": "markdown",
   "id": "8c41ae14",
   "metadata": {},
   "source": [
    "## Train the Model"
   ]
  },
  {
   "cell_type": "code",
   "execution_count": null,
   "id": "2aff48a4",
   "metadata": {},
   "outputs": [],
   "source": [
    "import torch\n",
    "import torch.nn.functional as F"
   ]
  },
  {
   "cell_type": "code",
   "execution_count": null,
   "id": "e4c9e568",
   "metadata": {},
   "outputs": [],
   "source": [
    "# the optimizer does all the backprop\n",
    "opt = torch.optim.Adam(model.parameters())\n",
    "\n",
    "use_cross_entropy_loss = True\n",
    "\n",
    "for epoch in range(2000):\n",
    "    logits = model(G, node_features)\n",
    "    \n",
    "    if use_cross_entropy_loss:    \n",
    "        loss = F.cross_entropy(logits[train_mask], edge_label[train_mask])\n",
    "    else:\n",
    "        loss = ((logits[train_mask] - edge_label[train_mask]) ** 2).mean()\n",
    "\n",
    "    opt.zero_grad()\n",
    "    loss.backward()\n",
    "    opt.step()\n",
    "    if epoch%100==0:\n",
    "        print(loss.item())"
   ]
  },
  {
   "cell_type": "code",
   "execution_count": null,
   "id": "21df2604",
   "metadata": {},
   "outputs": [],
   "source": [
    "# trained comparison\n",
    "logits = model(G, node_features)\n",
    "pred = logits.argmax(1)\n",
    "\n",
    "accuracy = sum(pred[test_mask] == targets[test_mask])/len(pred[test_mask]) # does well! \n",
    "print(f'Accuracy: {100*accuracy:.2f}%')\n",
    "# this should not impress us too much as most of the labels are from one 'category'"
   ]
  },
  {
   "cell_type": "code",
   "execution_count": null,
   "id": "3f7509bd",
   "metadata": {},
   "outputs": [],
   "source": [
    "pred[targets!=58]"
   ]
  },
  {
   "cell_type": "code",
   "execution_count": null,
   "id": "35b33381",
   "metadata": {},
   "outputs": [],
   "source": [
    "targets[targets!=58]"
   ]
  },
  {
   "cell_type": "code",
   "execution_count": null,
   "id": "b93996cf",
   "metadata": {},
   "outputs": [],
   "source": [
    "accuracy = sum(pred[targets!=58] == targets[targets!=58])/len(pred[targets!=58]) # does well! \n",
    "print(f'Accuracy: {100*accuracy:.2f}%')\n",
    "# this should not impress us too much as most of the labels are from one 'category'"
   ]
  },
  {
   "cell_type": "code",
   "execution_count": null,
   "id": "4a41b0b3",
   "metadata": {},
   "outputs": [],
   "source": [
    "from sklearn.metrics import confusion_matrix, plot_confusion_matrix\n",
    "\n",
    "M = confusion_matrix(pred, targets)"
   ]
  },
  {
   "cell_type": "code",
   "execution_count": null,
   "id": "14e5c4b8",
   "metadata": {},
   "outputs": [],
   "source": [
    "from sklearn.metrics import ConfusionMatrixDisplay"
   ]
  },
  {
   "cell_type": "code",
   "execution_count": null,
   "id": "6abf2c01",
   "metadata": {},
   "outputs": [],
   "source": [
    "# so we see that the imbalance classes aren't doing great in this example. Should we be surprised? \n",
    "# Most of the labels are in the first three classes below"
   ]
  },
  {
   "cell_type": "code",
   "execution_count": null,
   "id": "149848d3",
   "metadata": {},
   "outputs": [],
   "source": [
    "cnt = Counter(list(pred.tolist()))\n",
    "cnt.most_common()[:10]"
   ]
  },
  {
   "cell_type": "code",
   "execution_count": null,
   "id": "a6f6a4a6",
   "metadata": {},
   "outputs": [],
   "source": [
    "## here are the botnet labels in the GNN, very few considering how big the dataset is\n",
    "np.array(targets)[T==1]"
   ]
  },
  {
   "cell_type": "code",
   "execution_count": null,
   "id": "21892df6",
   "metadata": {},
   "outputs": [],
   "source": [
    "np.array(pred)[T==1] # the model does a good job at finding botnet..."
   ]
  },
  {
   "cell_type": "code",
   "execution_count": null,
   "id": "3ab7b2e5",
   "metadata": {},
   "outputs": [],
   "source": [
    "# however, the model does a good job at finding botnet...but we shouldn't be surprised given the graph structure.\n",
    "ConfusionMatrixDisplay.from_predictions(np.array(pred)[(T==1) & np.array(test_mask)], np.array(targets)[(T==1) & np.array(test_mask)])\n",
    "\n"
   ]
  },
  {
   "cell_type": "code",
   "execution_count": null,
   "id": "90490e85",
   "metadata": {},
   "outputs": [],
   "source": [
    "ConfusionMatrixDisplay.from_predictions(np.array(pred)[T==1], np.array(targets)[T==1])"
   ]
  },
  {
   "cell_type": "code",
   "execution_count": null,
   "id": "faa355bb",
   "metadata": {},
   "outputs": [],
   "source": [
    "from sklearn.metrics import classification_report"
   ]
  },
  {
   "cell_type": "code",
   "execution_count": null,
   "id": "280b5c7d",
   "metadata": {},
   "outputs": [],
   "source": [
    "from pprint import pprint"
   ]
  },
  {
   "cell_type": "code",
   "execution_count": null,
   "id": "f7bd3abb",
   "metadata": {},
   "outputs": [],
   "source": [
    "named_labels = [g]"
   ]
  },
  {
   "cell_type": "code",
   "execution_count": null,
   "id": "1db074b9",
   "metadata": {},
   "outputs": [],
   "source": [
    "print(classification_report(targets, pred, target_names=labels))"
   ]
  },
  {
   "cell_type": "code",
   "execution_count": null,
   "id": "3629bfe1",
   "metadata": {},
   "outputs": [],
   "source": []
  },
  {
   "cell_type": "markdown",
   "id": "74c3967d",
   "metadata": {},
   "source": [
    "# Now we can inspect the different layer activations"
   ]
  },
  {
   "cell_type": "code",
   "execution_count": null,
   "id": "34cffa57",
   "metadata": {},
   "outputs": [],
   "source": [
    "# To get forward activations \n",
    "activation = {}\n",
    "def get_activation(name):\n",
    "    def hook(model, input, output):\n",
    "        activation[name] = output.detach()\n",
    "    return hook"
   ]
  },
  {
   "cell_type": "code",
   "execution_count": null,
   "id": "2e226472",
   "metadata": {},
   "outputs": [],
   "source": [
    "model.sage.conv1.register_forward_hook(get_activation('conv1'))\n",
    "model.sage.conv2.register_forward_hook(get_activation('conv2'))\n",
    "model.pred.W.register_forward_hook(get_activation('W'))\n",
    "# now you call model \n",
    "logits = model(G, features.float())\n",
    "# this will load the dictionary\n",
    "print(activation['conv1'])\n",
    "print(activation['conv2'])\n",
    "print(activation['W'])"
   ]
  },
  {
   "cell_type": "code",
   "execution_count": null,
   "id": "281a8caa",
   "metadata": {},
   "outputs": [],
   "source": [
    "activation['conv1'].shape  # same as number of nodes!"
   ]
  },
  {
   "cell_type": "code",
   "execution_count": null,
   "id": "ea8d071b",
   "metadata": {
    "scrolled": true
   },
   "outputs": [],
   "source": [
    "activation['conv2'].shape"
   ]
  },
  {
   "cell_type": "code",
   "execution_count": null,
   "id": "4b52e032",
   "metadata": {},
   "outputs": [],
   "source": [
    "activation['W'].shape"
   ]
  },
  {
   "cell_type": "code",
   "execution_count": null,
   "id": "7b7153b5",
   "metadata": {
    "scrolled": true
   },
   "outputs": [],
   "source": [
    "plt.figure(); plt.imshow(activation['conv2'], aspect='auto',  cmap=plt.get_cmap('plasma'))"
   ]
  },
  {
   "cell_type": "code",
   "execution_count": null,
   "id": "daf4b502",
   "metadata": {},
   "outputs": [],
   "source": [
    "# Now we can use the activations from the SAGE conv as node features"
   ]
  },
  {
   "cell_type": "code",
   "execution_count": null,
   "id": "19d3bffc",
   "metadata": {},
   "outputs": [],
   "source": [
    "enc_features = np.array(activation['conv2'])"
   ]
  },
  {
   "cell_type": "code",
   "execution_count": null,
   "id": "fa8afbce",
   "metadata": {},
   "outputs": [],
   "source": [
    "enc_features.shape"
   ]
  },
  {
   "cell_type": "code",
   "execution_count": null,
   "id": "37eb5413",
   "metadata": {},
   "outputs": [],
   "source": [
    "# Can we go from edge target (botnet) backwards to node features??"
   ]
  },
  {
   "cell_type": "code",
   "execution_count": null,
   "id": "993f85b4",
   "metadata": {},
   "outputs": [],
   "source": [
    "botedf = edf.loc[T==1]"
   ]
  },
  {
   "cell_type": "code",
   "execution_count": null,
   "id": "d9582bff",
   "metadata": {},
   "outputs": [],
   "source": [
    "botedf.to_node.unique() # the bad IP address"
   ]
  },
  {
   "cell_type": "code",
   "execution_count": null,
   "id": "a0a84621",
   "metadata": {},
   "outputs": [],
   "source": [
    "botedf.from_node.unique() # the affected devices"
   ]
  },
  {
   "cell_type": "code",
   "execution_count": null,
   "id": "ddcdf047",
   "metadata": {},
   "outputs": [],
   "source": [
    "ndf[ndf.ip=='147.32.84.165'].mean()"
   ]
  },
  {
   "cell_type": "code",
   "execution_count": null,
   "id": "8880b588",
   "metadata": {},
   "outputs": [],
   "source": [
    "ndf[ndf.ip!='147.32.84.165'].mean()"
   ]
  },
  {
   "cell_type": "code",
   "execution_count": null,
   "id": "24315531",
   "metadata": {},
   "outputs": [],
   "source": [
    "ndf[ndf.ip.isin(botedf.from_node.unique())].mean()/ndf.mean()"
   ]
  },
  {
   "cell_type": "code",
   "execution_count": null,
   "id": "82be7bf3",
   "metadata": {},
   "outputs": [],
   "source": [
    "ndf[ndf.ip.isin(botedf.to_node.unique())].mean()/ndf.mean()"
   ]
  },
  {
   "cell_type": "code",
   "execution_count": null,
   "id": "6cfcaac4",
   "metadata": {},
   "outputs": [],
   "source": [
    "bot = enc_features[ndf.ip=='147.32.84.165']"
   ]
  },
  {
   "cell_type": "code",
   "execution_count": null,
   "id": "b2b4e8e2",
   "metadata": {},
   "outputs": [],
   "source": [
    "notbot = enc_features[ndf.ip!='147.32.84.165'].mean(0)"
   ]
  },
  {
   "cell_type": "code",
   "execution_count": null,
   "id": "f865c982",
   "metadata": {},
   "outputs": [],
   "source": [
    " # needles in logstacks ?"
   ]
  },
  {
   "cell_type": "code",
   "execution_count": null,
   "id": "51845395",
   "metadata": {},
   "outputs": [],
   "source": [
    "plt.plot(bot[0])\n",
    "plt.plot(notbot)"
   ]
  },
  {
   "cell_type": "code",
   "execution_count": null,
   "id": "4ae60b37",
   "metadata": {
    "scrolled": true
   },
   "outputs": [],
   "source": [
    "g8 = g.umap(X=enc_features, kind='nodes')"
   ]
  },
  {
   "cell_type": "code",
   "execution_count": null,
   "id": "8b00f6e0",
   "metadata": {},
   "outputs": [],
   "source": [
    "g8.node_embedding"
   ]
  },
  {
   "cell_type": "code",
   "execution_count": null,
   "id": "27d857cb",
   "metadata": {},
   "outputs": [],
   "source": [
    "g8.node_embedding.shape"
   ]
  },
  {
   "cell_type": "code",
   "execution_count": null,
   "id": "818b5d1c",
   "metadata": {},
   "outputs": [],
   "source": [
    "labels2 = np.zeros(len(ndf))\n",
    "labels2[ndf.ip=='147.32.84.165'] = 1 "
   ]
  },
  {
   "cell_type": "code",
   "execution_count": null,
   "id": "1c61adc2",
   "metadata": {},
   "outputs": [],
   "source": [
    "g._edges.shape"
   ]
  },
  {
   "cell_type": "code",
   "execution_count": null,
   "id": "a2d74f72",
   "metadata": {},
   "outputs": [],
   "source": [
    "sum(labels2==1)"
   ]
  },
  {
   "cell_type": "code",
   "execution_count": null,
   "id": "88bd0765",
   "metadata": {},
   "outputs": [],
   "source": [
    "p = umap.plot.interactive(g8._umap, labels=labels2, hover_data=hover_data, point_size=20, theme='fire')\n",
    "umap.plot.show(p)  "
   ]
  },
  {
   "cell_type": "code",
   "execution_count": null,
   "id": "9810e57f",
   "metadata": {},
   "outputs": [],
   "source": []
  }
 ],
 "metadata": {
  "kernelspec": {
   "display_name": "Python 3 (ipykernel)",
   "language": "python",
   "name": "python3"
  },
  "language_info": {
   "codemirror_mode": {
    "name": "ipython",
    "version": 3
   },
   "file_extension": ".py",
   "mimetype": "text/x-python",
   "name": "python",
   "nbconvert_exporter": "python",
   "pygments_lexer": "ipython3",
   "version": "3.8.9"
  }
 },
 "nbformat": 4,
 "nbformat_minor": 5
}
